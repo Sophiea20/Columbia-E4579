{
  "nbformat": 4,
  "nbformat_minor": 0,
  "metadata": {
    "colab": {
      "provenance": []
    },
    "kernelspec": {
      "name": "python3",
      "display_name": "Python 3"
    },
    "language_info": {
      "name": "python"
    },
    "widgets": {
      "application/vnd.jupyter.widget-state+json": {
        "f9d9bc3473894a10aca75378fb7e7dbf": {
          "model_module": "@jupyter-widgets/controls",
          "model_name": "HBoxModel",
          "model_module_version": "1.5.0",
          "state": {
            "_dom_classes": [],
            "_model_module": "@jupyter-widgets/controls",
            "_model_module_version": "1.5.0",
            "_model_name": "HBoxModel",
            "_view_count": null,
            "_view_module": "@jupyter-widgets/controls",
            "_view_module_version": "1.5.0",
            "_view_name": "HBoxView",
            "box_style": "",
            "children": [
              "IPY_MODEL_3c3c2ac3c54c4e27bd7c8e0e56c5ed32",
              "IPY_MODEL_9dce35e358214061a64b9e090afad36d",
              "IPY_MODEL_8717e17066e74e94bb4d58cc52d7019b"
            ],
            "layout": "IPY_MODEL_84c48984c5554937bb53e9f3c14d62a8"
          }
        },
        "3c3c2ac3c54c4e27bd7c8e0e56c5ed32": {
          "model_module": "@jupyter-widgets/controls",
          "model_name": "HTMLModel",
          "model_module_version": "1.5.0",
          "state": {
            "_dom_classes": [],
            "_model_module": "@jupyter-widgets/controls",
            "_model_module_version": "1.5.0",
            "_model_name": "HTMLModel",
            "_view_count": null,
            "_view_module": "@jupyter-widgets/controls",
            "_view_module_version": "1.5.0",
            "_view_name": "HTMLView",
            "description": "",
            "description_tooltip": null,
            "layout": "IPY_MODEL_87a966cc9400475785652275562c895d",
            "placeholder": "​",
            "style": "IPY_MODEL_1ee6b8100b1b42fd80bfb85278e8bf6e",
            "value": "100%"
          }
        },
        "9dce35e358214061a64b9e090afad36d": {
          "model_module": "@jupyter-widgets/controls",
          "model_name": "FloatProgressModel",
          "model_module_version": "1.5.0",
          "state": {
            "_dom_classes": [],
            "_model_module": "@jupyter-widgets/controls",
            "_model_module_version": "1.5.0",
            "_model_name": "FloatProgressModel",
            "_view_count": null,
            "_view_module": "@jupyter-widgets/controls",
            "_view_module_version": "1.5.0",
            "_view_name": "ProgressView",
            "bar_style": "success",
            "description": "",
            "description_tooltip": null,
            "layout": "IPY_MODEL_2aef6aa155bf4e4ca764bfba98e3cf32",
            "max": 10,
            "min": 0,
            "orientation": "horizontal",
            "style": "IPY_MODEL_f46f1e0fa43149d2a86d6ae8937bf857",
            "value": 10
          }
        },
        "8717e17066e74e94bb4d58cc52d7019b": {
          "model_module": "@jupyter-widgets/controls",
          "model_name": "HTMLModel",
          "model_module_version": "1.5.0",
          "state": {
            "_dom_classes": [],
            "_model_module": "@jupyter-widgets/controls",
            "_model_module_version": "1.5.0",
            "_model_name": "HTMLModel",
            "_view_count": null,
            "_view_module": "@jupyter-widgets/controls",
            "_view_module_version": "1.5.0",
            "_view_name": "HTMLView",
            "description": "",
            "description_tooltip": null,
            "layout": "IPY_MODEL_c5534b8263e54368ba110958e9132592",
            "placeholder": "​",
            "style": "IPY_MODEL_5bd44fc648be4ff6acef8e5026e656d3",
            "value": " 10/10 [00:23&lt;00:00,  2.21s/it]"
          }
        },
        "84c48984c5554937bb53e9f3c14d62a8": {
          "model_module": "@jupyter-widgets/base",
          "model_name": "LayoutModel",
          "model_module_version": "1.2.0",
          "state": {
            "_model_module": "@jupyter-widgets/base",
            "_model_module_version": "1.2.0",
            "_model_name": "LayoutModel",
            "_view_count": null,
            "_view_module": "@jupyter-widgets/base",
            "_view_module_version": "1.2.0",
            "_view_name": "LayoutView",
            "align_content": null,
            "align_items": null,
            "align_self": null,
            "border": null,
            "bottom": null,
            "display": null,
            "flex": null,
            "flex_flow": null,
            "grid_area": null,
            "grid_auto_columns": null,
            "grid_auto_flow": null,
            "grid_auto_rows": null,
            "grid_column": null,
            "grid_gap": null,
            "grid_row": null,
            "grid_template_areas": null,
            "grid_template_columns": null,
            "grid_template_rows": null,
            "height": null,
            "justify_content": null,
            "justify_items": null,
            "left": null,
            "margin": null,
            "max_height": null,
            "max_width": null,
            "min_height": null,
            "min_width": null,
            "object_fit": null,
            "object_position": null,
            "order": null,
            "overflow": null,
            "overflow_x": null,
            "overflow_y": null,
            "padding": null,
            "right": null,
            "top": null,
            "visibility": null,
            "width": null
          }
        },
        "87a966cc9400475785652275562c895d": {
          "model_module": "@jupyter-widgets/base",
          "model_name": "LayoutModel",
          "model_module_version": "1.2.0",
          "state": {
            "_model_module": "@jupyter-widgets/base",
            "_model_module_version": "1.2.0",
            "_model_name": "LayoutModel",
            "_view_count": null,
            "_view_module": "@jupyter-widgets/base",
            "_view_module_version": "1.2.0",
            "_view_name": "LayoutView",
            "align_content": null,
            "align_items": null,
            "align_self": null,
            "border": null,
            "bottom": null,
            "display": null,
            "flex": null,
            "flex_flow": null,
            "grid_area": null,
            "grid_auto_columns": null,
            "grid_auto_flow": null,
            "grid_auto_rows": null,
            "grid_column": null,
            "grid_gap": null,
            "grid_row": null,
            "grid_template_areas": null,
            "grid_template_columns": null,
            "grid_template_rows": null,
            "height": null,
            "justify_content": null,
            "justify_items": null,
            "left": null,
            "margin": null,
            "max_height": null,
            "max_width": null,
            "min_height": null,
            "min_width": null,
            "object_fit": null,
            "object_position": null,
            "order": null,
            "overflow": null,
            "overflow_x": null,
            "overflow_y": null,
            "padding": null,
            "right": null,
            "top": null,
            "visibility": null,
            "width": null
          }
        },
        "1ee6b8100b1b42fd80bfb85278e8bf6e": {
          "model_module": "@jupyter-widgets/controls",
          "model_name": "DescriptionStyleModel",
          "model_module_version": "1.5.0",
          "state": {
            "_model_module": "@jupyter-widgets/controls",
            "_model_module_version": "1.5.0",
            "_model_name": "DescriptionStyleModel",
            "_view_count": null,
            "_view_module": "@jupyter-widgets/base",
            "_view_module_version": "1.2.0",
            "_view_name": "StyleView",
            "description_width": ""
          }
        },
        "2aef6aa155bf4e4ca764bfba98e3cf32": {
          "model_module": "@jupyter-widgets/base",
          "model_name": "LayoutModel",
          "model_module_version": "1.2.0",
          "state": {
            "_model_module": "@jupyter-widgets/base",
            "_model_module_version": "1.2.0",
            "_model_name": "LayoutModel",
            "_view_count": null,
            "_view_module": "@jupyter-widgets/base",
            "_view_module_version": "1.2.0",
            "_view_name": "LayoutView",
            "align_content": null,
            "align_items": null,
            "align_self": null,
            "border": null,
            "bottom": null,
            "display": null,
            "flex": null,
            "flex_flow": null,
            "grid_area": null,
            "grid_auto_columns": null,
            "grid_auto_flow": null,
            "grid_auto_rows": null,
            "grid_column": null,
            "grid_gap": null,
            "grid_row": null,
            "grid_template_areas": null,
            "grid_template_columns": null,
            "grid_template_rows": null,
            "height": null,
            "justify_content": null,
            "justify_items": null,
            "left": null,
            "margin": null,
            "max_height": null,
            "max_width": null,
            "min_height": null,
            "min_width": null,
            "object_fit": null,
            "object_position": null,
            "order": null,
            "overflow": null,
            "overflow_x": null,
            "overflow_y": null,
            "padding": null,
            "right": null,
            "top": null,
            "visibility": null,
            "width": null
          }
        },
        "f46f1e0fa43149d2a86d6ae8937bf857": {
          "model_module": "@jupyter-widgets/controls",
          "model_name": "ProgressStyleModel",
          "model_module_version": "1.5.0",
          "state": {
            "_model_module": "@jupyter-widgets/controls",
            "_model_module_version": "1.5.0",
            "_model_name": "ProgressStyleModel",
            "_view_count": null,
            "_view_module": "@jupyter-widgets/base",
            "_view_module_version": "1.2.0",
            "_view_name": "StyleView",
            "bar_color": null,
            "description_width": ""
          }
        },
        "c5534b8263e54368ba110958e9132592": {
          "model_module": "@jupyter-widgets/base",
          "model_name": "LayoutModel",
          "model_module_version": "1.2.0",
          "state": {
            "_model_module": "@jupyter-widgets/base",
            "_model_module_version": "1.2.0",
            "_model_name": "LayoutModel",
            "_view_count": null,
            "_view_module": "@jupyter-widgets/base",
            "_view_module_version": "1.2.0",
            "_view_name": "LayoutView",
            "align_content": null,
            "align_items": null,
            "align_self": null,
            "border": null,
            "bottom": null,
            "display": null,
            "flex": null,
            "flex_flow": null,
            "grid_area": null,
            "grid_auto_columns": null,
            "grid_auto_flow": null,
            "grid_auto_rows": null,
            "grid_column": null,
            "grid_gap": null,
            "grid_row": null,
            "grid_template_areas": null,
            "grid_template_columns": null,
            "grid_template_rows": null,
            "height": null,
            "justify_content": null,
            "justify_items": null,
            "left": null,
            "margin": null,
            "max_height": null,
            "max_width": null,
            "min_height": null,
            "min_width": null,
            "object_fit": null,
            "object_position": null,
            "order": null,
            "overflow": null,
            "overflow_x": null,
            "overflow_y": null,
            "padding": null,
            "right": null,
            "top": null,
            "visibility": null,
            "width": null
          }
        },
        "5bd44fc648be4ff6acef8e5026e656d3": {
          "model_module": "@jupyter-widgets/controls",
          "model_name": "DescriptionStyleModel",
          "model_module_version": "1.5.0",
          "state": {
            "_model_module": "@jupyter-widgets/controls",
            "_model_module_version": "1.5.0",
            "_model_name": "DescriptionStyleModel",
            "_view_count": null,
            "_view_module": "@jupyter-widgets/base",
            "_view_module_version": "1.2.0",
            "_view_name": "StyleView",
            "description_width": ""
          }
        },
        "51a9c61186f84797a526491879e54762": {
          "model_module": "@jupyter-widgets/controls",
          "model_name": "HBoxModel",
          "model_module_version": "1.5.0",
          "state": {
            "_dom_classes": [],
            "_model_module": "@jupyter-widgets/controls",
            "_model_module_version": "1.5.0",
            "_model_name": "HBoxModel",
            "_view_count": null,
            "_view_module": "@jupyter-widgets/controls",
            "_view_module_version": "1.5.0",
            "_view_name": "HBoxView",
            "box_style": "",
            "children": [
              "IPY_MODEL_85a0fff9e33d4b2781af1ef71befca5e",
              "IPY_MODEL_cbf6309dba724a7495cba27b0aa53aca",
              "IPY_MODEL_752db98b4f1148da80737cf89498327f"
            ],
            "layout": "IPY_MODEL_c59d0b5a000249259516ab7d82be1494"
          }
        },
        "85a0fff9e33d4b2781af1ef71befca5e": {
          "model_module": "@jupyter-widgets/controls",
          "model_name": "HTMLModel",
          "model_module_version": "1.5.0",
          "state": {
            "_dom_classes": [],
            "_model_module": "@jupyter-widgets/controls",
            "_model_module_version": "1.5.0",
            "_model_name": "HTMLModel",
            "_view_count": null,
            "_view_module": "@jupyter-widgets/controls",
            "_view_module_version": "1.5.0",
            "_view_name": "HTMLView",
            "description": "",
            "description_tooltip": null,
            "layout": "IPY_MODEL_3c077bf8797e46c7a9bd6016851b4da3",
            "placeholder": "​",
            "style": "IPY_MODEL_7ba6d309f1e946aca0383ceca789cf08",
            "value": "100%"
          }
        },
        "cbf6309dba724a7495cba27b0aa53aca": {
          "model_module": "@jupyter-widgets/controls",
          "model_name": "FloatProgressModel",
          "model_module_version": "1.5.0",
          "state": {
            "_dom_classes": [],
            "_model_module": "@jupyter-widgets/controls",
            "_model_module_version": "1.5.0",
            "_model_name": "FloatProgressModel",
            "_view_count": null,
            "_view_module": "@jupyter-widgets/controls",
            "_view_module_version": "1.5.0",
            "_view_name": "ProgressView",
            "bar_style": "success",
            "description": "",
            "description_tooltip": null,
            "layout": "IPY_MODEL_3af07922c610418cb44bfe4b508d8400",
            "max": 10,
            "min": 0,
            "orientation": "horizontal",
            "style": "IPY_MODEL_5f1b155079a841bda875f462e2d69738",
            "value": 10
          }
        },
        "752db98b4f1148da80737cf89498327f": {
          "model_module": "@jupyter-widgets/controls",
          "model_name": "HTMLModel",
          "model_module_version": "1.5.0",
          "state": {
            "_dom_classes": [],
            "_model_module": "@jupyter-widgets/controls",
            "_model_module_version": "1.5.0",
            "_model_name": "HTMLModel",
            "_view_count": null,
            "_view_module": "@jupyter-widgets/controls",
            "_view_module_version": "1.5.0",
            "_view_name": "HTMLView",
            "description": "",
            "description_tooltip": null,
            "layout": "IPY_MODEL_2a22543d711b48ff9452de6568c926a2",
            "placeholder": "​",
            "style": "IPY_MODEL_6d76e96949154982ab0ffa5d71584e66",
            "value": " 10/10 [00:09&lt;00:00,  1.11it/s]"
          }
        },
        "c59d0b5a000249259516ab7d82be1494": {
          "model_module": "@jupyter-widgets/base",
          "model_name": "LayoutModel",
          "model_module_version": "1.2.0",
          "state": {
            "_model_module": "@jupyter-widgets/base",
            "_model_module_version": "1.2.0",
            "_model_name": "LayoutModel",
            "_view_count": null,
            "_view_module": "@jupyter-widgets/base",
            "_view_module_version": "1.2.0",
            "_view_name": "LayoutView",
            "align_content": null,
            "align_items": null,
            "align_self": null,
            "border": null,
            "bottom": null,
            "display": null,
            "flex": null,
            "flex_flow": null,
            "grid_area": null,
            "grid_auto_columns": null,
            "grid_auto_flow": null,
            "grid_auto_rows": null,
            "grid_column": null,
            "grid_gap": null,
            "grid_row": null,
            "grid_template_areas": null,
            "grid_template_columns": null,
            "grid_template_rows": null,
            "height": null,
            "justify_content": null,
            "justify_items": null,
            "left": null,
            "margin": null,
            "max_height": null,
            "max_width": null,
            "min_height": null,
            "min_width": null,
            "object_fit": null,
            "object_position": null,
            "order": null,
            "overflow": null,
            "overflow_x": null,
            "overflow_y": null,
            "padding": null,
            "right": null,
            "top": null,
            "visibility": null,
            "width": null
          }
        },
        "3c077bf8797e46c7a9bd6016851b4da3": {
          "model_module": "@jupyter-widgets/base",
          "model_name": "LayoutModel",
          "model_module_version": "1.2.0",
          "state": {
            "_model_module": "@jupyter-widgets/base",
            "_model_module_version": "1.2.0",
            "_model_name": "LayoutModel",
            "_view_count": null,
            "_view_module": "@jupyter-widgets/base",
            "_view_module_version": "1.2.0",
            "_view_name": "LayoutView",
            "align_content": null,
            "align_items": null,
            "align_self": null,
            "border": null,
            "bottom": null,
            "display": null,
            "flex": null,
            "flex_flow": null,
            "grid_area": null,
            "grid_auto_columns": null,
            "grid_auto_flow": null,
            "grid_auto_rows": null,
            "grid_column": null,
            "grid_gap": null,
            "grid_row": null,
            "grid_template_areas": null,
            "grid_template_columns": null,
            "grid_template_rows": null,
            "height": null,
            "justify_content": null,
            "justify_items": null,
            "left": null,
            "margin": null,
            "max_height": null,
            "max_width": null,
            "min_height": null,
            "min_width": null,
            "object_fit": null,
            "object_position": null,
            "order": null,
            "overflow": null,
            "overflow_x": null,
            "overflow_y": null,
            "padding": null,
            "right": null,
            "top": null,
            "visibility": null,
            "width": null
          }
        },
        "7ba6d309f1e946aca0383ceca789cf08": {
          "model_module": "@jupyter-widgets/controls",
          "model_name": "DescriptionStyleModel",
          "model_module_version": "1.5.0",
          "state": {
            "_model_module": "@jupyter-widgets/controls",
            "_model_module_version": "1.5.0",
            "_model_name": "DescriptionStyleModel",
            "_view_count": null,
            "_view_module": "@jupyter-widgets/base",
            "_view_module_version": "1.2.0",
            "_view_name": "StyleView",
            "description_width": ""
          }
        },
        "3af07922c610418cb44bfe4b508d8400": {
          "model_module": "@jupyter-widgets/base",
          "model_name": "LayoutModel",
          "model_module_version": "1.2.0",
          "state": {
            "_model_module": "@jupyter-widgets/base",
            "_model_module_version": "1.2.0",
            "_model_name": "LayoutModel",
            "_view_count": null,
            "_view_module": "@jupyter-widgets/base",
            "_view_module_version": "1.2.0",
            "_view_name": "LayoutView",
            "align_content": null,
            "align_items": null,
            "align_self": null,
            "border": null,
            "bottom": null,
            "display": null,
            "flex": null,
            "flex_flow": null,
            "grid_area": null,
            "grid_auto_columns": null,
            "grid_auto_flow": null,
            "grid_auto_rows": null,
            "grid_column": null,
            "grid_gap": null,
            "grid_row": null,
            "grid_template_areas": null,
            "grid_template_columns": null,
            "grid_template_rows": null,
            "height": null,
            "justify_content": null,
            "justify_items": null,
            "left": null,
            "margin": null,
            "max_height": null,
            "max_width": null,
            "min_height": null,
            "min_width": null,
            "object_fit": null,
            "object_position": null,
            "order": null,
            "overflow": null,
            "overflow_x": null,
            "overflow_y": null,
            "padding": null,
            "right": null,
            "top": null,
            "visibility": null,
            "width": null
          }
        },
        "5f1b155079a841bda875f462e2d69738": {
          "model_module": "@jupyter-widgets/controls",
          "model_name": "ProgressStyleModel",
          "model_module_version": "1.5.0",
          "state": {
            "_model_module": "@jupyter-widgets/controls",
            "_model_module_version": "1.5.0",
            "_model_name": "ProgressStyleModel",
            "_view_count": null,
            "_view_module": "@jupyter-widgets/base",
            "_view_module_version": "1.2.0",
            "_view_name": "StyleView",
            "bar_color": null,
            "description_width": ""
          }
        },
        "2a22543d711b48ff9452de6568c926a2": {
          "model_module": "@jupyter-widgets/base",
          "model_name": "LayoutModel",
          "model_module_version": "1.2.0",
          "state": {
            "_model_module": "@jupyter-widgets/base",
            "_model_module_version": "1.2.0",
            "_model_name": "LayoutModel",
            "_view_count": null,
            "_view_module": "@jupyter-widgets/base",
            "_view_module_version": "1.2.0",
            "_view_name": "LayoutView",
            "align_content": null,
            "align_items": null,
            "align_self": null,
            "border": null,
            "bottom": null,
            "display": null,
            "flex": null,
            "flex_flow": null,
            "grid_area": null,
            "grid_auto_columns": null,
            "grid_auto_flow": null,
            "grid_auto_rows": null,
            "grid_column": null,
            "grid_gap": null,
            "grid_row": null,
            "grid_template_areas": null,
            "grid_template_columns": null,
            "grid_template_rows": null,
            "height": null,
            "justify_content": null,
            "justify_items": null,
            "left": null,
            "margin": null,
            "max_height": null,
            "max_width": null,
            "min_height": null,
            "min_width": null,
            "object_fit": null,
            "object_position": null,
            "order": null,
            "overflow": null,
            "overflow_x": null,
            "overflow_y": null,
            "padding": null,
            "right": null,
            "top": null,
            "visibility": null,
            "width": null
          }
        },
        "6d76e96949154982ab0ffa5d71584e66": {
          "model_module": "@jupyter-widgets/controls",
          "model_name": "DescriptionStyleModel",
          "model_module_version": "1.5.0",
          "state": {
            "_model_module": "@jupyter-widgets/controls",
            "_model_module_version": "1.5.0",
            "_model_name": "DescriptionStyleModel",
            "_view_count": null,
            "_view_module": "@jupyter-widgets/base",
            "_view_module_version": "1.2.0",
            "_view_name": "StyleView",
            "description_width": ""
          }
        },
        "1e439b246c2d4878be0590938f63f38d": {
          "model_module": "@jupyter-widgets/controls",
          "model_name": "HBoxModel",
          "model_module_version": "1.5.0",
          "state": {
            "_dom_classes": [],
            "_model_module": "@jupyter-widgets/controls",
            "_model_module_version": "1.5.0",
            "_model_name": "HBoxModel",
            "_view_count": null,
            "_view_module": "@jupyter-widgets/controls",
            "_view_module_version": "1.5.0",
            "_view_name": "HBoxView",
            "box_style": "",
            "children": [
              "IPY_MODEL_c0d9fbc5626e4e7fb1abc2c6e16f07a8",
              "IPY_MODEL_a054757dc3e146738759677ed00c090d",
              "IPY_MODEL_2bd77a82d6494c6b81c689d60ca26aa6"
            ],
            "layout": "IPY_MODEL_90ceef2f019e47c4a7450c54b7a23ef8"
          }
        },
        "c0d9fbc5626e4e7fb1abc2c6e16f07a8": {
          "model_module": "@jupyter-widgets/controls",
          "model_name": "HTMLModel",
          "model_module_version": "1.5.0",
          "state": {
            "_dom_classes": [],
            "_model_module": "@jupyter-widgets/controls",
            "_model_module_version": "1.5.0",
            "_model_name": "HTMLModel",
            "_view_count": null,
            "_view_module": "@jupyter-widgets/controls",
            "_view_module_version": "1.5.0",
            "_view_name": "HTMLView",
            "description": "",
            "description_tooltip": null,
            "layout": "IPY_MODEL_aac73b067d5c4de69a1445e23f98d74d",
            "placeholder": "​",
            "style": "IPY_MODEL_fc0df0ab5f0545ce97c30126d703b5c4",
            "value": "100%"
          }
        },
        "a054757dc3e146738759677ed00c090d": {
          "model_module": "@jupyter-widgets/controls",
          "model_name": "FloatProgressModel",
          "model_module_version": "1.5.0",
          "state": {
            "_dom_classes": [],
            "_model_module": "@jupyter-widgets/controls",
            "_model_module_version": "1.5.0",
            "_model_name": "FloatProgressModel",
            "_view_count": null,
            "_view_module": "@jupyter-widgets/controls",
            "_view_module_version": "1.5.0",
            "_view_name": "ProgressView",
            "bar_style": "success",
            "description": "",
            "description_tooltip": null,
            "layout": "IPY_MODEL_2e723dcf301848ea8c3ae9f075fe671e",
            "max": 10,
            "min": 0,
            "orientation": "horizontal",
            "style": "IPY_MODEL_983ec187d642462fbc1876a3c35f9c36",
            "value": 10
          }
        },
        "2bd77a82d6494c6b81c689d60ca26aa6": {
          "model_module": "@jupyter-widgets/controls",
          "model_name": "HTMLModel",
          "model_module_version": "1.5.0",
          "state": {
            "_dom_classes": [],
            "_model_module": "@jupyter-widgets/controls",
            "_model_module_version": "1.5.0",
            "_model_name": "HTMLModel",
            "_view_count": null,
            "_view_module": "@jupyter-widgets/controls",
            "_view_module_version": "1.5.0",
            "_view_name": "HTMLView",
            "description": "",
            "description_tooltip": null,
            "layout": "IPY_MODEL_f01bf535f1454403b4310412937e8b37",
            "placeholder": "​",
            "style": "IPY_MODEL_232ea2957bf5443c88d50ce476c0ed31",
            "value": " 10/10 [00:27&lt;00:00,  2.84s/it]"
          }
        },
        "90ceef2f019e47c4a7450c54b7a23ef8": {
          "model_module": "@jupyter-widgets/base",
          "model_name": "LayoutModel",
          "model_module_version": "1.2.0",
          "state": {
            "_model_module": "@jupyter-widgets/base",
            "_model_module_version": "1.2.0",
            "_model_name": "LayoutModel",
            "_view_count": null,
            "_view_module": "@jupyter-widgets/base",
            "_view_module_version": "1.2.0",
            "_view_name": "LayoutView",
            "align_content": null,
            "align_items": null,
            "align_self": null,
            "border": null,
            "bottom": null,
            "display": null,
            "flex": null,
            "flex_flow": null,
            "grid_area": null,
            "grid_auto_columns": null,
            "grid_auto_flow": null,
            "grid_auto_rows": null,
            "grid_column": null,
            "grid_gap": null,
            "grid_row": null,
            "grid_template_areas": null,
            "grid_template_columns": null,
            "grid_template_rows": null,
            "height": null,
            "justify_content": null,
            "justify_items": null,
            "left": null,
            "margin": null,
            "max_height": null,
            "max_width": null,
            "min_height": null,
            "min_width": null,
            "object_fit": null,
            "object_position": null,
            "order": null,
            "overflow": null,
            "overflow_x": null,
            "overflow_y": null,
            "padding": null,
            "right": null,
            "top": null,
            "visibility": null,
            "width": null
          }
        },
        "aac73b067d5c4de69a1445e23f98d74d": {
          "model_module": "@jupyter-widgets/base",
          "model_name": "LayoutModel",
          "model_module_version": "1.2.0",
          "state": {
            "_model_module": "@jupyter-widgets/base",
            "_model_module_version": "1.2.0",
            "_model_name": "LayoutModel",
            "_view_count": null,
            "_view_module": "@jupyter-widgets/base",
            "_view_module_version": "1.2.0",
            "_view_name": "LayoutView",
            "align_content": null,
            "align_items": null,
            "align_self": null,
            "border": null,
            "bottom": null,
            "display": null,
            "flex": null,
            "flex_flow": null,
            "grid_area": null,
            "grid_auto_columns": null,
            "grid_auto_flow": null,
            "grid_auto_rows": null,
            "grid_column": null,
            "grid_gap": null,
            "grid_row": null,
            "grid_template_areas": null,
            "grid_template_columns": null,
            "grid_template_rows": null,
            "height": null,
            "justify_content": null,
            "justify_items": null,
            "left": null,
            "margin": null,
            "max_height": null,
            "max_width": null,
            "min_height": null,
            "min_width": null,
            "object_fit": null,
            "object_position": null,
            "order": null,
            "overflow": null,
            "overflow_x": null,
            "overflow_y": null,
            "padding": null,
            "right": null,
            "top": null,
            "visibility": null,
            "width": null
          }
        },
        "fc0df0ab5f0545ce97c30126d703b5c4": {
          "model_module": "@jupyter-widgets/controls",
          "model_name": "DescriptionStyleModel",
          "model_module_version": "1.5.0",
          "state": {
            "_model_module": "@jupyter-widgets/controls",
            "_model_module_version": "1.5.0",
            "_model_name": "DescriptionStyleModel",
            "_view_count": null,
            "_view_module": "@jupyter-widgets/base",
            "_view_module_version": "1.2.0",
            "_view_name": "StyleView",
            "description_width": ""
          }
        },
        "2e723dcf301848ea8c3ae9f075fe671e": {
          "model_module": "@jupyter-widgets/base",
          "model_name": "LayoutModel",
          "model_module_version": "1.2.0",
          "state": {
            "_model_module": "@jupyter-widgets/base",
            "_model_module_version": "1.2.0",
            "_model_name": "LayoutModel",
            "_view_count": null,
            "_view_module": "@jupyter-widgets/base",
            "_view_module_version": "1.2.0",
            "_view_name": "LayoutView",
            "align_content": null,
            "align_items": null,
            "align_self": null,
            "border": null,
            "bottom": null,
            "display": null,
            "flex": null,
            "flex_flow": null,
            "grid_area": null,
            "grid_auto_columns": null,
            "grid_auto_flow": null,
            "grid_auto_rows": null,
            "grid_column": null,
            "grid_gap": null,
            "grid_row": null,
            "grid_template_areas": null,
            "grid_template_columns": null,
            "grid_template_rows": null,
            "height": null,
            "justify_content": null,
            "justify_items": null,
            "left": null,
            "margin": null,
            "max_height": null,
            "max_width": null,
            "min_height": null,
            "min_width": null,
            "object_fit": null,
            "object_position": null,
            "order": null,
            "overflow": null,
            "overflow_x": null,
            "overflow_y": null,
            "padding": null,
            "right": null,
            "top": null,
            "visibility": null,
            "width": null
          }
        },
        "983ec187d642462fbc1876a3c35f9c36": {
          "model_module": "@jupyter-widgets/controls",
          "model_name": "ProgressStyleModel",
          "model_module_version": "1.5.0",
          "state": {
            "_model_module": "@jupyter-widgets/controls",
            "_model_module_version": "1.5.0",
            "_model_name": "ProgressStyleModel",
            "_view_count": null,
            "_view_module": "@jupyter-widgets/base",
            "_view_module_version": "1.2.0",
            "_view_name": "StyleView",
            "bar_color": null,
            "description_width": ""
          }
        },
        "f01bf535f1454403b4310412937e8b37": {
          "model_module": "@jupyter-widgets/base",
          "model_name": "LayoutModel",
          "model_module_version": "1.2.0",
          "state": {
            "_model_module": "@jupyter-widgets/base",
            "_model_module_version": "1.2.0",
            "_model_name": "LayoutModel",
            "_view_count": null,
            "_view_module": "@jupyter-widgets/base",
            "_view_module_version": "1.2.0",
            "_view_name": "LayoutView",
            "align_content": null,
            "align_items": null,
            "align_self": null,
            "border": null,
            "bottom": null,
            "display": null,
            "flex": null,
            "flex_flow": null,
            "grid_area": null,
            "grid_auto_columns": null,
            "grid_auto_flow": null,
            "grid_auto_rows": null,
            "grid_column": null,
            "grid_gap": null,
            "grid_row": null,
            "grid_template_areas": null,
            "grid_template_columns": null,
            "grid_template_rows": null,
            "height": null,
            "justify_content": null,
            "justify_items": null,
            "left": null,
            "margin": null,
            "max_height": null,
            "max_width": null,
            "min_height": null,
            "min_width": null,
            "object_fit": null,
            "object_position": null,
            "order": null,
            "overflow": null,
            "overflow_x": null,
            "overflow_y": null,
            "padding": null,
            "right": null,
            "top": null,
            "visibility": null,
            "width": null
          }
        },
        "232ea2957bf5443c88d50ce476c0ed31": {
          "model_module": "@jupyter-widgets/controls",
          "model_name": "DescriptionStyleModel",
          "model_module_version": "1.5.0",
          "state": {
            "_model_module": "@jupyter-widgets/controls",
            "_model_module_version": "1.5.0",
            "_model_name": "DescriptionStyleModel",
            "_view_count": null,
            "_view_module": "@jupyter-widgets/base",
            "_view_module_version": "1.2.0",
            "_view_name": "StyleView",
            "description_width": ""
          }
        },
        "a74fc55689554e21aafc6378a2e66dde": {
          "model_module": "@jupyter-widgets/controls",
          "model_name": "HBoxModel",
          "model_module_version": "1.5.0",
          "state": {
            "_dom_classes": [],
            "_model_module": "@jupyter-widgets/controls",
            "_model_module_version": "1.5.0",
            "_model_name": "HBoxModel",
            "_view_count": null,
            "_view_module": "@jupyter-widgets/controls",
            "_view_module_version": "1.5.0",
            "_view_name": "HBoxView",
            "box_style": "",
            "children": [
              "IPY_MODEL_607c8dcb66da4be58aa8cb1d33921e38",
              "IPY_MODEL_3433fc244f0744179333e07d28b33784",
              "IPY_MODEL_b30f2a7a40434a689e16ee256c3185a8"
            ],
            "layout": "IPY_MODEL_2b54fb4d8d574523a06772c7e3f6c6bb"
          }
        },
        "607c8dcb66da4be58aa8cb1d33921e38": {
          "model_module": "@jupyter-widgets/controls",
          "model_name": "HTMLModel",
          "model_module_version": "1.5.0",
          "state": {
            "_dom_classes": [],
            "_model_module": "@jupyter-widgets/controls",
            "_model_module_version": "1.5.0",
            "_model_name": "HTMLModel",
            "_view_count": null,
            "_view_module": "@jupyter-widgets/controls",
            "_view_module_version": "1.5.0",
            "_view_name": "HTMLView",
            "description": "",
            "description_tooltip": null,
            "layout": "IPY_MODEL_ac621482a4934c63a167380d73253e19",
            "placeholder": "​",
            "style": "IPY_MODEL_46a8cd9642f34bd698a38348f465dd65",
            "value": "100%"
          }
        },
        "3433fc244f0744179333e07d28b33784": {
          "model_module": "@jupyter-widgets/controls",
          "model_name": "FloatProgressModel",
          "model_module_version": "1.5.0",
          "state": {
            "_dom_classes": [],
            "_model_module": "@jupyter-widgets/controls",
            "_model_module_version": "1.5.0",
            "_model_name": "FloatProgressModel",
            "_view_count": null,
            "_view_module": "@jupyter-widgets/controls",
            "_view_module_version": "1.5.0",
            "_view_name": "ProgressView",
            "bar_style": "success",
            "description": "",
            "description_tooltip": null,
            "layout": "IPY_MODEL_6462c91c6b9845188fab329832a066f5",
            "max": 10,
            "min": 0,
            "orientation": "horizontal",
            "style": "IPY_MODEL_1004b68784d040dfb7bf2155d3ba72bd",
            "value": 10
          }
        },
        "b30f2a7a40434a689e16ee256c3185a8": {
          "model_module": "@jupyter-widgets/controls",
          "model_name": "HTMLModel",
          "model_module_version": "1.5.0",
          "state": {
            "_dom_classes": [],
            "_model_module": "@jupyter-widgets/controls",
            "_model_module_version": "1.5.0",
            "_model_name": "HTMLModel",
            "_view_count": null,
            "_view_module": "@jupyter-widgets/controls",
            "_view_module_version": "1.5.0",
            "_view_name": "HTMLView",
            "description": "",
            "description_tooltip": null,
            "layout": "IPY_MODEL_4d33f41b5c1443e1942c74cb70ef8089",
            "placeholder": "​",
            "style": "IPY_MODEL_79cfefd45dab49ab864d8da9e05fcc3e",
            "value": " 10/10 [00:53&lt;00:00,  5.22s/it]"
          }
        },
        "2b54fb4d8d574523a06772c7e3f6c6bb": {
          "model_module": "@jupyter-widgets/base",
          "model_name": "LayoutModel",
          "model_module_version": "1.2.0",
          "state": {
            "_model_module": "@jupyter-widgets/base",
            "_model_module_version": "1.2.0",
            "_model_name": "LayoutModel",
            "_view_count": null,
            "_view_module": "@jupyter-widgets/base",
            "_view_module_version": "1.2.0",
            "_view_name": "LayoutView",
            "align_content": null,
            "align_items": null,
            "align_self": null,
            "border": null,
            "bottom": null,
            "display": null,
            "flex": null,
            "flex_flow": null,
            "grid_area": null,
            "grid_auto_columns": null,
            "grid_auto_flow": null,
            "grid_auto_rows": null,
            "grid_column": null,
            "grid_gap": null,
            "grid_row": null,
            "grid_template_areas": null,
            "grid_template_columns": null,
            "grid_template_rows": null,
            "height": null,
            "justify_content": null,
            "justify_items": null,
            "left": null,
            "margin": null,
            "max_height": null,
            "max_width": null,
            "min_height": null,
            "min_width": null,
            "object_fit": null,
            "object_position": null,
            "order": null,
            "overflow": null,
            "overflow_x": null,
            "overflow_y": null,
            "padding": null,
            "right": null,
            "top": null,
            "visibility": null,
            "width": null
          }
        },
        "ac621482a4934c63a167380d73253e19": {
          "model_module": "@jupyter-widgets/base",
          "model_name": "LayoutModel",
          "model_module_version": "1.2.0",
          "state": {
            "_model_module": "@jupyter-widgets/base",
            "_model_module_version": "1.2.0",
            "_model_name": "LayoutModel",
            "_view_count": null,
            "_view_module": "@jupyter-widgets/base",
            "_view_module_version": "1.2.0",
            "_view_name": "LayoutView",
            "align_content": null,
            "align_items": null,
            "align_self": null,
            "border": null,
            "bottom": null,
            "display": null,
            "flex": null,
            "flex_flow": null,
            "grid_area": null,
            "grid_auto_columns": null,
            "grid_auto_flow": null,
            "grid_auto_rows": null,
            "grid_column": null,
            "grid_gap": null,
            "grid_row": null,
            "grid_template_areas": null,
            "grid_template_columns": null,
            "grid_template_rows": null,
            "height": null,
            "justify_content": null,
            "justify_items": null,
            "left": null,
            "margin": null,
            "max_height": null,
            "max_width": null,
            "min_height": null,
            "min_width": null,
            "object_fit": null,
            "object_position": null,
            "order": null,
            "overflow": null,
            "overflow_x": null,
            "overflow_y": null,
            "padding": null,
            "right": null,
            "top": null,
            "visibility": null,
            "width": null
          }
        },
        "46a8cd9642f34bd698a38348f465dd65": {
          "model_module": "@jupyter-widgets/controls",
          "model_name": "DescriptionStyleModel",
          "model_module_version": "1.5.0",
          "state": {
            "_model_module": "@jupyter-widgets/controls",
            "_model_module_version": "1.5.0",
            "_model_name": "DescriptionStyleModel",
            "_view_count": null,
            "_view_module": "@jupyter-widgets/base",
            "_view_module_version": "1.2.0",
            "_view_name": "StyleView",
            "description_width": ""
          }
        },
        "6462c91c6b9845188fab329832a066f5": {
          "model_module": "@jupyter-widgets/base",
          "model_name": "LayoutModel",
          "model_module_version": "1.2.0",
          "state": {
            "_model_module": "@jupyter-widgets/base",
            "_model_module_version": "1.2.0",
            "_model_name": "LayoutModel",
            "_view_count": null,
            "_view_module": "@jupyter-widgets/base",
            "_view_module_version": "1.2.0",
            "_view_name": "LayoutView",
            "align_content": null,
            "align_items": null,
            "align_self": null,
            "border": null,
            "bottom": null,
            "display": null,
            "flex": null,
            "flex_flow": null,
            "grid_area": null,
            "grid_auto_columns": null,
            "grid_auto_flow": null,
            "grid_auto_rows": null,
            "grid_column": null,
            "grid_gap": null,
            "grid_row": null,
            "grid_template_areas": null,
            "grid_template_columns": null,
            "grid_template_rows": null,
            "height": null,
            "justify_content": null,
            "justify_items": null,
            "left": null,
            "margin": null,
            "max_height": null,
            "max_width": null,
            "min_height": null,
            "min_width": null,
            "object_fit": null,
            "object_position": null,
            "order": null,
            "overflow": null,
            "overflow_x": null,
            "overflow_y": null,
            "padding": null,
            "right": null,
            "top": null,
            "visibility": null,
            "width": null
          }
        },
        "1004b68784d040dfb7bf2155d3ba72bd": {
          "model_module": "@jupyter-widgets/controls",
          "model_name": "ProgressStyleModel",
          "model_module_version": "1.5.0",
          "state": {
            "_model_module": "@jupyter-widgets/controls",
            "_model_module_version": "1.5.0",
            "_model_name": "ProgressStyleModel",
            "_view_count": null,
            "_view_module": "@jupyter-widgets/base",
            "_view_module_version": "1.2.0",
            "_view_name": "StyleView",
            "bar_color": null,
            "description_width": ""
          }
        },
        "4d33f41b5c1443e1942c74cb70ef8089": {
          "model_module": "@jupyter-widgets/base",
          "model_name": "LayoutModel",
          "model_module_version": "1.2.0",
          "state": {
            "_model_module": "@jupyter-widgets/base",
            "_model_module_version": "1.2.0",
            "_model_name": "LayoutModel",
            "_view_count": null,
            "_view_module": "@jupyter-widgets/base",
            "_view_module_version": "1.2.0",
            "_view_name": "LayoutView",
            "align_content": null,
            "align_items": null,
            "align_self": null,
            "border": null,
            "bottom": null,
            "display": null,
            "flex": null,
            "flex_flow": null,
            "grid_area": null,
            "grid_auto_columns": null,
            "grid_auto_flow": null,
            "grid_auto_rows": null,
            "grid_column": null,
            "grid_gap": null,
            "grid_row": null,
            "grid_template_areas": null,
            "grid_template_columns": null,
            "grid_template_rows": null,
            "height": null,
            "justify_content": null,
            "justify_items": null,
            "left": null,
            "margin": null,
            "max_height": null,
            "max_width": null,
            "min_height": null,
            "min_width": null,
            "object_fit": null,
            "object_position": null,
            "order": null,
            "overflow": null,
            "overflow_x": null,
            "overflow_y": null,
            "padding": null,
            "right": null,
            "top": null,
            "visibility": null,
            "width": null
          }
        },
        "79cfefd45dab49ab864d8da9e05fcc3e": {
          "model_module": "@jupyter-widgets/controls",
          "model_name": "DescriptionStyleModel",
          "model_module_version": "1.5.0",
          "state": {
            "_model_module": "@jupyter-widgets/controls",
            "_model_module_version": "1.5.0",
            "_model_name": "DescriptionStyleModel",
            "_view_count": null,
            "_view_module": "@jupyter-widgets/base",
            "_view_module_version": "1.2.0",
            "_view_name": "StyleView",
            "description_width": ""
          }
        }
      }
    }
  },
  "cells": [
    {
      "cell_type": "markdown",
      "source": [
        "NOTE (what we need to do):\n",
        "1. Copy all the coefficients generated by the linear regression model to the DataCollectorAlpha class\n",
        "2. Find the sweetspot of the threshold, by looking at the y_pred distributions. So far we got 1165 if we set the threshold to 1.5, while we got 192 if the threshold is 5.\n",
        "\n",
        "Optional future work:\n",
        "1. Refactor map_engagement_value\n",
        "2. Rework on the linear regression, doing parameter tuning and/or variable selection, etc."
      ],
      "metadata": {
        "id": "tNl7wp2rLV6A"
      }
    },
    {
      "cell_type": "markdown",
      "source": [
        "# Imports"
      ],
      "metadata": {
        "id": "KBiX1FEG1nXj"
      }
    },
    {
      "cell_type": "code",
      "execution_count": null,
      "metadata": {
        "id": "NkuqgSAjwlnY"
      },
      "outputs": [],
      "source": [
        "import pandas as pd\n",
        "import numpy as np\n",
        "from typing import Tuple\n",
        "from google.colab import drive\n",
        "\n",
        "from sklearn.linear_model import LogisticRegression"
      ]
    },
    {
      "cell_type": "code",
      "source": [
        "# mounting ggdrive regardless of who's running the code\n",
        "from google.colab import drive\n",
        "drive.mount('/content/drive')\n",
        "\n",
        "# custom data paths - each person should add their own path to their documents folder if they want to use ggcolab :D\n",
        "paths = {'jack': '/content/drive/MyDrive/recomsys assignment 2/',\n",
        "         'ivan': '',\n",
        "         'luqman': '/content/drive/MyDrive/recomsys assignment 2/',\n",
        "         'ritesh': '',\n",
        "         'max': '/content/drive/MyDrive/1_Fall 2023/2_MRS/assignment 2/sample_data/'\n",
        "         }\n",
        "\n",
        "# setting os chdir\n",
        "import os\n",
        "runner = input(\"Who's running the notebook? \")\n",
        "os.chdir(paths[runner])\n",
        "print(\"Drive mounted for %s!\" %runner)"
      ],
      "metadata": {
        "colab": {
          "base_uri": "https://localhost:8080/"
        },
        "id": "YjfSpjRl12xh",
        "outputId": "f8d18e93-8d44-4c32-db36-65e1ba92b9c6"
      },
      "execution_count": null,
      "outputs": [
        {
          "output_type": "stream",
          "name": "stdout",
          "text": [
            "Mounted at /content/drive\n",
            "Who's running the notebook? jack\n",
            "Drive mounted for jack!\n"
          ]
        }
      ]
    },
    {
      "cell_type": "markdown",
      "source": [
        "### HELPER FUNCTION: to create dummy value for one-hot's coefficient"
      ],
      "metadata": {
        "id": "LEs_9dIUMtBM"
      }
    },
    {
      "cell_type": "code",
      "source": [
        "import random\n",
        "\n",
        "def generate_numbers(n):\n",
        "    numbers = [random.uniform(-1, 1) for _ in range(n - 1)]\n",
        "    last_number = -sum(numbers)\n",
        "\n",
        "    if -1 <= last_number <= 1:\n",
        "        numbers.append(last_number)\n",
        "        random.shuffle(numbers)\n",
        "        return numbers\n",
        "    else:\n",
        "        return generate_numbers(n)\n"
      ],
      "metadata": {
        "id": "lc9OeY6AzKaq"
      },
      "execution_count": null,
      "outputs": []
    },
    {
      "cell_type": "markdown",
      "source": [
        "# DataCollector - Do Not Modify"
      ],
      "metadata": {
        "id": "pSXqZ70o1omv"
      }
    },
    {
      "cell_type": "code",
      "source": [
        "from sqlalchemy.sql.schema import ScalarElementColumnDefault\n",
        "import pandas as pd\n",
        "from sklearn.preprocessing import OneHotEncoder\n",
        "import numpy as np\n",
        "\n",
        "class DataCollector:\n",
        "    def artist_styles_one_hot(self):\n",
        "        raise NotImplementedError(\n",
        "            \"you need to implement this, needs to be two lists, one for string one for coefficient, coefficient list is one larger to account for 'other'\"\n",
        "            \"Coefficient is from the model after training, so to prepare training data, you can put dummy number first, then replace it later after model has been trained\"\n",
        "        )\n",
        "\n",
        "    def sources_one_hot(self):\n",
        "        raise NotImplementedError(\n",
        "            \"you need to implement this, needs to be two lists, one for string one for coefficient, coefficient list is one larger to account for 'other'\"\n",
        "            \"Coefficient is from the model after training, so to prepare training data, you can put dummy number first, then replace it later after model has been trained\"\n",
        "        )\n",
        "\n",
        "    def num_inference_steps_one_hot(self):\n",
        "        raise NotImplementedError(\n",
        "            \"you need to implement this, needs to be two lists, one for string one for coefficient, coefficient list is one larger to account for 'other'\"\n",
        "            \"Coefficient is from the model after training, so to prepare training data, you can put dummy number first, then replace it later after model has been trained\"\n",
        "        )\n",
        "\n",
        "    def one_hot_encoding_functions(self):\n",
        "        return zip(\n",
        "            [self.artist_styles_one_hot(), self.sources_one_hot(), self.num_inference_steps_one_hot()],\n",
        "            ['artist_style', 'source', 'num_inference_steps']\n",
        "        )\n",
        "\n",
        "    def custom_aggregation(self, prefix, data):\n",
        "        result = {\n",
        "            f'{prefix}_likes': np.sum((data['engagement_type'] == 'Like') & (data['engagement_value'] == 1)),\n",
        "            f'{prefix}_dislikes': np.sum((data['engagement_type'] == 'Like') & (data['engagement_value'] == -1)),\n",
        "            f'{prefix}_engagement_time_avg': data[data['engagement_type'] == 'MillisecondsEngagedWith']['engagement_value'].mean(),\n",
        "        }\n",
        "        return pd.Series(result)\n",
        "\n",
        "    def feature_generation_user(self):\n",
        "        return self.user_data.groupby('user_id').apply(lambda data: self.custom_aggregation('user', data)).reset_index()\n",
        "\n",
        "    def feature_generation_content_one_hot_encoding(self):\n",
        "        for (categories, _coefficient), col_name in self.one_hot_encoding_functions():\n",
        "            self.generated_content_metadata_data[col_name] = self.generated_content_metadata_data[col_name].apply(lambda x: x if x in categories else 'other')\n",
        "            encoder = OneHotEncoder(categories=[categories + ['other']], sparse=False)\n",
        "            encoded_data = encoder.fit_transform(self.generated_content_metadata_data[[col_name]])\n",
        "            encoded_df = pd.DataFrame(encoded_data, columns=encoder.get_feature_names_out([col_name]))\n",
        "            for col in encoded_df.columns:\n",
        "              self.generated_content_metadata_data[col] = encoded_df[col]\n",
        "        return self.generated_content_metadata_data\n",
        "\n",
        "    def feature_generation_content_engagement_value(self):\n",
        "        return self.engagement_data.groupby('content_id').apply(\n",
        "            lambda data: self.custom_aggregation('content', data)\n",
        "        ).reset_index()\n",
        "\n",
        "    def feature_generation(self):\n",
        "      self.feature_generation_user()\n",
        "      self.feature_generation_content_one_hot_encoding()\n",
        "      self.feature_generation_content_engagement_value()\n",
        "\n",
        "    def get_engagement_data(self, content_ids):\n",
        "      df = pd.read_csv('engagement.csv', sep=\"\\t\")\n",
        "      return df[df['content_id'].isin(content_ids)]\n",
        "\n",
        "    def get_generated_content_metadata_data(self, content_ids):\n",
        "      df = pd.read_csv('generated_content_metadata.csv', sep=\"\\t\")\n",
        "      return df[df['content_id'].isin(content_ids)]\n",
        "\n",
        "    def get_user_data(self, user_id):\n",
        "      df = pd.read_csv('engagement.csv', sep=\"\\t\")\n",
        "      return df[df['user_id'] == user_id]\n",
        "\n",
        "    def gather_data(self, user_id, content_ids):\n",
        "      self.engagement_data = self.get_engagement_data(content_ids)\n",
        "      self.generated_content_metadata_data = self.get_generated_content_metadata_data(content_ids)\n",
        "      self.user_data = self.get_user_data(user_id)\n",
        "\n",
        "    def gather_training_data(self):\n",
        "      self.engagement_data = pd.read_csv('engagement.csv', sep=\"\\t\")\n",
        "      self.generated_content_metadata_data = pd.read_csv('generated_content_metadata.csv', sep=\"\\t\")\n",
        "      self.user_data = pd.read_csv('engagement.csv', sep=\"\\t\")\n",
        "\n",
        "    def feature_eng_training(self):\n",
        "      user_attr = self.feature_generation_user()\n",
        "      content_engagement_features = self.feature_generation_content_engagement_value()\n",
        "      generated_content_features = self.feature_generation_content_one_hot_encoding()\n",
        "\n",
        "      interaction_pairs = self.engagement_data[\n",
        "          ['user_id', 'content_id']].drop_duplicates()\n",
        "\n",
        "      self.training_results = pd.merge(\n",
        "          interaction_pairs,\n",
        "          user_attr,\n",
        "          on='user_id',\n",
        "          how='left'\n",
        "      ).fillna(0)\n",
        "\n",
        "      content_results = pd.merge(\n",
        "          generated_content_features,\n",
        "          content_engagement_features,\n",
        "          on='content_id',\n",
        "          how='left'\n",
        "      ).fillna(0)\n",
        "\n",
        "      self.training_results = pd.merge(\n",
        "          self.training_results,\n",
        "          content_results,\n",
        "          on='content_id',\n",
        "          how='left'\n",
        "      ).fillna(0)\n",
        "\n",
        "      return self.training_results\n",
        "\n",
        "    def feature_eng(self):\n",
        "      user_attr = self.feature_generation_user()\n",
        "      content_engagement_features = self.feature_generation_content_engagement_value()\n",
        "      generated_content_features = self.feature_generation_content_one_hot_encoding()\n",
        "      self.results = pd.merge(\n",
        "          generated_content_features,\n",
        "          content_engagement_features,\n",
        "          on='content_id',\n",
        "          how='left'\n",
        "      ).fillna(0)\n",
        "      self.results['user_id'] = user_attr['user_id'].iloc[0]\n",
        "      self.results = pd.merge(\n",
        "          self.results,\n",
        "          user_attr,\n",
        "          on='user_id'\n",
        "      )\n",
        "\n",
        "    def threshold(self):\n",
        "        raise NotImplementedError(\"you need to implement\")\n",
        "\n",
        "    def coefficients(self):\n",
        "        return {\n",
        "            'content_likes': 0.0,\n",
        "            'content_dislikes': 0.0,\n",
        "            'content_engagement_time_avg': 0.0,\n",
        "\n",
        "            'user_likes': 0.0,\n",
        "            'user_dislikes': 0.0,\n",
        "            'user_engagement_time_avg': 0.0,\n",
        "        }\n",
        "\n",
        "    def get_columns(self):\n",
        "      cols = list(self.coefficients().keys())\n",
        "      for (categories, _coefficients), col_name in self.one_hot_encoding_functions():\n",
        "          for category, coefficient in zip(categories + ['other'], _coefficients):\n",
        "            cols.append(col_name + \"_\" + str(category))\n",
        "      return cols\n",
        "\n",
        "    def run_linear_model(self):\n",
        "        coeffs = self.coefficients()\n",
        "        for (categories, _coefficients), col_name in self.one_hot_encoding_functions():\n",
        "          for category, coefficient in zip(categories + ['other'], _coefficients):\n",
        "            coeffs[col_name + \"_\" + str(category)] = coefficient\n",
        "\n",
        "        self.results['linear_output'] = 0.0\n",
        "        for col_name, _coefficient in coeffs.items():\n",
        "            self.results['linear_output'] += self.results[col_name] * _coefficient\n",
        "        return self.results[self.results['linear_output'] >= self.threshold()]['content_id'].values\n",
        "\n",
        "    def filter_content_ids(self, user_id, content_ids):\n",
        "      self.gather_data(user_id, content_ids)\n",
        "      self.feature_eng()\n",
        "      return self.run_linear_model()"
      ],
      "metadata": {
        "id": "4CMmBKnre2Hv"
      },
      "execution_count": null,
      "outputs": []
    },
    {
      "cell_type": "markdown",
      "source": [
        "# EDA\n",
        "\n",
        "### Objective: to find out what the best variable combinations would be\n",
        "### For Ivan, Max, Ritesh: place the EDA here. Jack did his initial EDA to get the grasp on what matter the most to the model"
      ],
      "metadata": {
        "id": "lOejF_XR36eh"
      }
    },
    {
      "cell_type": "code",
      "source": [
        "# import generated content metadata\n",
        "df_content = pd.read_csv('generated_content_metadata.csv', sep=\"\\t\")\n",
        "df_engagement = pd.read_csv('engagement.csv', sep=\"\\t\")"
      ],
      "metadata": {
        "id": "JD_R_c3coKJa"
      },
      "execution_count": null,
      "outputs": []
    },
    {
      "cell_type": "markdown",
      "source": [
        "Data Exploration:"
      ],
      "metadata": {
        "id": "wRBDKL-OmrVM"
      }
    },
    {
      "cell_type": "code",
      "source": [
        "df_vote = df_engagement[df_engagement['engagement_type']!='MillisecondsEngagedWith']\n",
        "top_content = df_vote.groupby(['content_id']).agg({'engagement_value': sum}).sort_values(by='engagement_value', ascending = False)\n",
        "top_content.reset_index(inplace=True)\n",
        "\n",
        "df_top_content = df_content[df_content['content_id'].isin(top_content['content_id'])]\n",
        "df_top_content['rank'] = df_top_content['content_id'].apply(lambda x: np.where(top_content['content_id']==x))\n",
        "df_top_content.sort_values(by='rank', inplace=True)\n",
        "\n",
        "#Grouping all movie based iages together for the EDA\n",
        "df_top_content['mod_artist_style'] = df_top_content['artist_style'].apply(lambda x: 'movie' if 'movie' in str(x) else x)\n",
        "df_top_content['mod_source'] = df_top_content[['artist_style','source']].apply(lambda x: 'movie' if 'movie' in str(x['artist_style']) else x['source'], axis=1)"
      ],
      "metadata": {
        "id": "ZO-ElCksmpBB",
        "colab": {
          "base_uri": "https://localhost:8080/"
        },
        "outputId": "abbf5ce5-f648-4ae6-e10d-c3c89cdcdf0e"
      },
      "execution_count": null,
      "outputs": [
        {
          "output_type": "stream",
          "name": "stderr",
          "text": [
            "<ipython-input-8-2f1edbddb2b0>:6: SettingWithCopyWarning: \n",
            "A value is trying to be set on a copy of a slice from a DataFrame.\n",
            "Try using .loc[row_indexer,col_indexer] = value instead\n",
            "\n",
            "See the caveats in the documentation: https://pandas.pydata.org/pandas-docs/stable/user_guide/indexing.html#returning-a-view-versus-a-copy\n",
            "  df_top_content['rank'] = df_top_content['content_id'].apply(lambda x: np.where(top_content['content_id']==x))\n",
            "<ipython-input-8-2f1edbddb2b0>:7: SettingWithCopyWarning: \n",
            "A value is trying to be set on a copy of a slice from a DataFrame\n",
            "\n",
            "See the caveats in the documentation: https://pandas.pydata.org/pandas-docs/stable/user_guide/indexing.html#returning-a-view-versus-a-copy\n",
            "  df_top_content.sort_values(by='rank', inplace=True)\n",
            "<ipython-input-8-2f1edbddb2b0>:10: SettingWithCopyWarning: \n",
            "A value is trying to be set on a copy of a slice from a DataFrame.\n",
            "Try using .loc[row_indexer,col_indexer] = value instead\n",
            "\n",
            "See the caveats in the documentation: https://pandas.pydata.org/pandas-docs/stable/user_guide/indexing.html#returning-a-view-versus-a-copy\n",
            "  df_top_content['mod_artist_style'] = df_top_content['artist_style'].apply(lambda x: 'movie' if 'movie' in str(x) else x)\n",
            "<ipython-input-8-2f1edbddb2b0>:11: SettingWithCopyWarning: \n",
            "A value is trying to be set on a copy of a slice from a DataFrame.\n",
            "Try using .loc[row_indexer,col_indexer] = value instead\n",
            "\n",
            "See the caveats in the documentation: https://pandas.pydata.org/pandas-docs/stable/user_guide/indexing.html#returning-a-view-versus-a-copy\n",
            "  df_top_content['mod_source'] = df_top_content[['artist_style','source']].apply(lambda x: 'movie' if 'movie' in str(x['artist_style']) else x['source'], axis=1)\n"
          ]
        }
      ]
    },
    {
      "cell_type": "code",
      "source": [
        "df_temp = pd.DataFrame(df_top_content['mod_artist_style'].head(1000).value_counts())\n",
        "df_temp['total_count'] = 0\n",
        "df_temp.reset_index(inplace=True)\n",
        "\n",
        "for i, row in df_temp.iterrows():\n",
        "  df_temp.at[i, 'total_count'] = df_content['content_id'][df_content['mod_artist_style']==row['index']].count()\n",
        "\n",
        "df_temp = df_temp[df_temp['total_count']>100]\n",
        "\n",
        "#Calculating the fraction of images in top 1000 against total population of each artist style in content df\n",
        "df_temp['frac'] = df_temp['mod_artist_style']/df_temp['total_count']\n",
        "df_temp.sort_values(by='frac', ascending = False, inplace=True)\n",
        "\n",
        "top_10_artist_style = df_temp['index'].iloc[:10].values\n",
        "\n",
        "df_temp2 = pd.DataFrame(df_top_content['mod_artist_style'].iloc[-1000:].value_counts())\n",
        "df_temp2['total_count'] = 0\n",
        "df_temp2.reset_index(inplace=True)\n",
        "\n",
        "for i, row in df_temp2.iterrows():\n",
        "  df_temp2.at[i, 'total_count'] = df_content['content_id'][df_content['mod_artist_style']==row['index']].count()\n",
        "\n",
        "df_temp2 = df_temp2[df_temp2['total_count']>100]\n",
        "\n",
        "#Calculating the fraction of images in bottom 1000 against total population of each artist style in content df\n",
        "df_temp2['frac'] = df_temp2['mod_artist_style']/df_temp2['total_count']\n",
        "df_temp2.sort_values(by='frac', ascending = False, inplace=True)\n",
        "\n",
        "bottom_10_artist_style = df_temp2['index'].iloc[:10].values\n",
        "\n",
        "print(\"Top 10 artist styles\\n\",top_10_artist_style)\n",
        "print(\"Bottom 10 artist styles\\n\",bottom_10_artist_style)"
      ],
      "metadata": {
        "id": "aqq5ujxqmxOd",
        "colab": {
          "base_uri": "https://localhost:8080/",
          "height": 524
        },
        "outputId": "34c84110-e794-4d62-9bc7-88ac7407dbbe"
      },
      "execution_count": null,
      "outputs": [
        {
          "output_type": "error",
          "ename": "KeyError",
          "evalue": "ignored",
          "traceback": [
            "\u001b[0;31m---------------------------------------------------------------------------\u001b[0m",
            "\u001b[0;31mKeyError\u001b[0m                                  Traceback (most recent call last)",
            "\u001b[0;32m/usr/local/lib/python3.10/dist-packages/pandas/core/indexes/base.py\u001b[0m in \u001b[0;36mget_loc\u001b[0;34m(self, key, method, tolerance)\u001b[0m\n\u001b[1;32m   3801\u001b[0m             \u001b[0;32mtry\u001b[0m\u001b[0;34m:\u001b[0m\u001b[0;34m\u001b[0m\u001b[0;34m\u001b[0m\u001b[0m\n\u001b[0;32m-> 3802\u001b[0;31m                 \u001b[0;32mreturn\u001b[0m \u001b[0mself\u001b[0m\u001b[0;34m.\u001b[0m\u001b[0m_engine\u001b[0m\u001b[0;34m.\u001b[0m\u001b[0mget_loc\u001b[0m\u001b[0;34m(\u001b[0m\u001b[0mcasted_key\u001b[0m\u001b[0;34m)\u001b[0m\u001b[0;34m\u001b[0m\u001b[0;34m\u001b[0m\u001b[0m\n\u001b[0m\u001b[1;32m   3803\u001b[0m             \u001b[0;32mexcept\u001b[0m \u001b[0mKeyError\u001b[0m \u001b[0;32mas\u001b[0m \u001b[0merr\u001b[0m\u001b[0;34m:\u001b[0m\u001b[0;34m\u001b[0m\u001b[0;34m\u001b[0m\u001b[0m\n",
            "\u001b[0;32m/usr/local/lib/python3.10/dist-packages/pandas/_libs/index.pyx\u001b[0m in \u001b[0;36mpandas._libs.index.IndexEngine.get_loc\u001b[0;34m()\u001b[0m\n",
            "\u001b[0;32m/usr/local/lib/python3.10/dist-packages/pandas/_libs/index.pyx\u001b[0m in \u001b[0;36mpandas._libs.index.IndexEngine.get_loc\u001b[0;34m()\u001b[0m\n",
            "\u001b[0;32mpandas/_libs/hashtable_class_helper.pxi\u001b[0m in \u001b[0;36mpandas._libs.hashtable.PyObjectHashTable.get_item\u001b[0;34m()\u001b[0m\n",
            "\u001b[0;32mpandas/_libs/hashtable_class_helper.pxi\u001b[0m in \u001b[0;36mpandas._libs.hashtable.PyObjectHashTable.get_item\u001b[0;34m()\u001b[0m\n",
            "\u001b[0;31mKeyError\u001b[0m: 'mod_artist_style'",
            "\nThe above exception was the direct cause of the following exception:\n",
            "\u001b[0;31mKeyError\u001b[0m                                  Traceback (most recent call last)",
            "\u001b[0;32m<ipython-input-9-e6588de6694d>\u001b[0m in \u001b[0;36m<cell line: 5>\u001b[0;34m()\u001b[0m\n\u001b[1;32m      4\u001b[0m \u001b[0;34m\u001b[0m\u001b[0m\n\u001b[1;32m      5\u001b[0m \u001b[0;32mfor\u001b[0m \u001b[0mi\u001b[0m\u001b[0;34m,\u001b[0m \u001b[0mrow\u001b[0m \u001b[0;32min\u001b[0m \u001b[0mdf_temp\u001b[0m\u001b[0;34m.\u001b[0m\u001b[0miterrows\u001b[0m\u001b[0;34m(\u001b[0m\u001b[0;34m)\u001b[0m\u001b[0;34m:\u001b[0m\u001b[0;34m\u001b[0m\u001b[0;34m\u001b[0m\u001b[0m\n\u001b[0;32m----> 6\u001b[0;31m   \u001b[0mdf_temp\u001b[0m\u001b[0;34m.\u001b[0m\u001b[0mat\u001b[0m\u001b[0;34m[\u001b[0m\u001b[0mi\u001b[0m\u001b[0;34m,\u001b[0m \u001b[0;34m'total_count'\u001b[0m\u001b[0;34m]\u001b[0m \u001b[0;34m=\u001b[0m \u001b[0mdf_content\u001b[0m\u001b[0;34m[\u001b[0m\u001b[0;34m'content_id'\u001b[0m\u001b[0;34m]\u001b[0m\u001b[0;34m[\u001b[0m\u001b[0mdf_content\u001b[0m\u001b[0;34m[\u001b[0m\u001b[0;34m'mod_artist_style'\u001b[0m\u001b[0;34m]\u001b[0m\u001b[0;34m==\u001b[0m\u001b[0mrow\u001b[0m\u001b[0;34m[\u001b[0m\u001b[0;34m'index'\u001b[0m\u001b[0;34m]\u001b[0m\u001b[0;34m]\u001b[0m\u001b[0;34m.\u001b[0m\u001b[0mcount\u001b[0m\u001b[0;34m(\u001b[0m\u001b[0;34m)\u001b[0m\u001b[0;34m\u001b[0m\u001b[0;34m\u001b[0m\u001b[0m\n\u001b[0m\u001b[1;32m      7\u001b[0m \u001b[0;34m\u001b[0m\u001b[0m\n\u001b[1;32m      8\u001b[0m \u001b[0mdf_temp\u001b[0m \u001b[0;34m=\u001b[0m \u001b[0mdf_temp\u001b[0m\u001b[0;34m[\u001b[0m\u001b[0mdf_temp\u001b[0m\u001b[0;34m[\u001b[0m\u001b[0;34m'total_count'\u001b[0m\u001b[0;34m]\u001b[0m\u001b[0;34m>\u001b[0m\u001b[0;36m100\u001b[0m\u001b[0;34m]\u001b[0m\u001b[0;34m\u001b[0m\u001b[0;34m\u001b[0m\u001b[0m\n",
            "\u001b[0;32m/usr/local/lib/python3.10/dist-packages/pandas/core/frame.py\u001b[0m in \u001b[0;36m__getitem__\u001b[0;34m(self, key)\u001b[0m\n\u001b[1;32m   3805\u001b[0m             \u001b[0;32mif\u001b[0m \u001b[0mself\u001b[0m\u001b[0;34m.\u001b[0m\u001b[0mcolumns\u001b[0m\u001b[0;34m.\u001b[0m\u001b[0mnlevels\u001b[0m \u001b[0;34m>\u001b[0m \u001b[0;36m1\u001b[0m\u001b[0;34m:\u001b[0m\u001b[0;34m\u001b[0m\u001b[0;34m\u001b[0m\u001b[0m\n\u001b[1;32m   3806\u001b[0m                 \u001b[0;32mreturn\u001b[0m \u001b[0mself\u001b[0m\u001b[0;34m.\u001b[0m\u001b[0m_getitem_multilevel\u001b[0m\u001b[0;34m(\u001b[0m\u001b[0mkey\u001b[0m\u001b[0;34m)\u001b[0m\u001b[0;34m\u001b[0m\u001b[0;34m\u001b[0m\u001b[0m\n\u001b[0;32m-> 3807\u001b[0;31m             \u001b[0mindexer\u001b[0m \u001b[0;34m=\u001b[0m \u001b[0mself\u001b[0m\u001b[0;34m.\u001b[0m\u001b[0mcolumns\u001b[0m\u001b[0;34m.\u001b[0m\u001b[0mget_loc\u001b[0m\u001b[0;34m(\u001b[0m\u001b[0mkey\u001b[0m\u001b[0;34m)\u001b[0m\u001b[0;34m\u001b[0m\u001b[0;34m\u001b[0m\u001b[0m\n\u001b[0m\u001b[1;32m   3808\u001b[0m             \u001b[0;32mif\u001b[0m \u001b[0mis_integer\u001b[0m\u001b[0;34m(\u001b[0m\u001b[0mindexer\u001b[0m\u001b[0;34m)\u001b[0m\u001b[0;34m:\u001b[0m\u001b[0;34m\u001b[0m\u001b[0;34m\u001b[0m\u001b[0m\n\u001b[1;32m   3809\u001b[0m                 \u001b[0mindexer\u001b[0m \u001b[0;34m=\u001b[0m \u001b[0;34m[\u001b[0m\u001b[0mindexer\u001b[0m\u001b[0;34m]\u001b[0m\u001b[0;34m\u001b[0m\u001b[0;34m\u001b[0m\u001b[0m\n",
            "\u001b[0;32m/usr/local/lib/python3.10/dist-packages/pandas/core/indexes/base.py\u001b[0m in \u001b[0;36mget_loc\u001b[0;34m(self, key, method, tolerance)\u001b[0m\n\u001b[1;32m   3802\u001b[0m                 \u001b[0;32mreturn\u001b[0m \u001b[0mself\u001b[0m\u001b[0;34m.\u001b[0m\u001b[0m_engine\u001b[0m\u001b[0;34m.\u001b[0m\u001b[0mget_loc\u001b[0m\u001b[0;34m(\u001b[0m\u001b[0mcasted_key\u001b[0m\u001b[0;34m)\u001b[0m\u001b[0;34m\u001b[0m\u001b[0;34m\u001b[0m\u001b[0m\n\u001b[1;32m   3803\u001b[0m             \u001b[0;32mexcept\u001b[0m \u001b[0mKeyError\u001b[0m \u001b[0;32mas\u001b[0m \u001b[0merr\u001b[0m\u001b[0;34m:\u001b[0m\u001b[0;34m\u001b[0m\u001b[0;34m\u001b[0m\u001b[0m\n\u001b[0;32m-> 3804\u001b[0;31m                 \u001b[0;32mraise\u001b[0m \u001b[0mKeyError\u001b[0m\u001b[0;34m(\u001b[0m\u001b[0mkey\u001b[0m\u001b[0;34m)\u001b[0m \u001b[0;32mfrom\u001b[0m \u001b[0merr\u001b[0m\u001b[0;34m\u001b[0m\u001b[0;34m\u001b[0m\u001b[0m\n\u001b[0m\u001b[1;32m   3805\u001b[0m             \u001b[0;32mexcept\u001b[0m \u001b[0mTypeError\u001b[0m\u001b[0;34m:\u001b[0m\u001b[0;34m\u001b[0m\u001b[0;34m\u001b[0m\u001b[0m\n\u001b[1;32m   3806\u001b[0m                 \u001b[0;31m# If we have a listlike key, _check_indexing_error will raise\u001b[0m\u001b[0;34m\u001b[0m\u001b[0;34m\u001b[0m\u001b[0m\n",
            "\u001b[0;31mKeyError\u001b[0m: 'mod_artist_style'"
          ]
        }
      ]
    },
    {
      "cell_type": "markdown",
      "source": [
        "Shows how medieval, anime and studio are some of the top most like artist styles, while movies are way at the bottom (with only 105 appearances in the top 1000 images despite their overhwelming majority in the dataset)"
      ],
      "metadata": {
        "id": "9xbH84FFmAHp"
      }
    },
    {
      "cell_type": "code",
      "source": [
        "df_temp.head(10)"
      ],
      "metadata": {
        "colab": {
          "base_uri": "https://localhost:8080/",
          "height": 363
        },
        "id": "bFFgiuyZlkGG",
        "outputId": "a3a4d722-e0b8-45cb-fbb2-12df3bc5eb88"
      },
      "execution_count": null,
      "outputs": [
        {
          "output_type": "execute_result",
          "data": {
            "text/plain": [
              "               index  mod_artist_style  total_count\n",
              "0              movie               106            0\n",
              "1           medieval                66            0\n",
              "2              anime                37            0\n",
              "3             studio                31            0\n",
              "4      oil_on_canvas                21            0\n",
              "5      unreal_engine                18            0\n",
              "6      edward_hopper                17            0\n",
              "7          ma_jir_bo                15            0\n",
              "8     shepard_fairey                14            0\n",
              "9  ibrahim_el_salahi                13            0"
            ],
            "text/html": [
              "\n",
              "  <div id=\"df-30685ac9-b5b1-4a8f-ab1d-fcbce3348aa5\" class=\"colab-df-container\">\n",
              "    <div>\n",
              "<style scoped>\n",
              "    .dataframe tbody tr th:only-of-type {\n",
              "        vertical-align: middle;\n",
              "    }\n",
              "\n",
              "    .dataframe tbody tr th {\n",
              "        vertical-align: top;\n",
              "    }\n",
              "\n",
              "    .dataframe thead th {\n",
              "        text-align: right;\n",
              "    }\n",
              "</style>\n",
              "<table border=\"1\" class=\"dataframe\">\n",
              "  <thead>\n",
              "    <tr style=\"text-align: right;\">\n",
              "      <th></th>\n",
              "      <th>index</th>\n",
              "      <th>mod_artist_style</th>\n",
              "      <th>total_count</th>\n",
              "    </tr>\n",
              "  </thead>\n",
              "  <tbody>\n",
              "    <tr>\n",
              "      <th>0</th>\n",
              "      <td>movie</td>\n",
              "      <td>106</td>\n",
              "      <td>0</td>\n",
              "    </tr>\n",
              "    <tr>\n",
              "      <th>1</th>\n",
              "      <td>medieval</td>\n",
              "      <td>66</td>\n",
              "      <td>0</td>\n",
              "    </tr>\n",
              "    <tr>\n",
              "      <th>2</th>\n",
              "      <td>anime</td>\n",
              "      <td>37</td>\n",
              "      <td>0</td>\n",
              "    </tr>\n",
              "    <tr>\n",
              "      <th>3</th>\n",
              "      <td>studio</td>\n",
              "      <td>31</td>\n",
              "      <td>0</td>\n",
              "    </tr>\n",
              "    <tr>\n",
              "      <th>4</th>\n",
              "      <td>oil_on_canvas</td>\n",
              "      <td>21</td>\n",
              "      <td>0</td>\n",
              "    </tr>\n",
              "    <tr>\n",
              "      <th>5</th>\n",
              "      <td>unreal_engine</td>\n",
              "      <td>18</td>\n",
              "      <td>0</td>\n",
              "    </tr>\n",
              "    <tr>\n",
              "      <th>6</th>\n",
              "      <td>edward_hopper</td>\n",
              "      <td>17</td>\n",
              "      <td>0</td>\n",
              "    </tr>\n",
              "    <tr>\n",
              "      <th>7</th>\n",
              "      <td>ma_jir_bo</td>\n",
              "      <td>15</td>\n",
              "      <td>0</td>\n",
              "    </tr>\n",
              "    <tr>\n",
              "      <th>8</th>\n",
              "      <td>shepard_fairey</td>\n",
              "      <td>14</td>\n",
              "      <td>0</td>\n",
              "    </tr>\n",
              "    <tr>\n",
              "      <th>9</th>\n",
              "      <td>ibrahim_el_salahi</td>\n",
              "      <td>13</td>\n",
              "      <td>0</td>\n",
              "    </tr>\n",
              "  </tbody>\n",
              "</table>\n",
              "</div>\n",
              "    <div class=\"colab-df-buttons\">\n",
              "\n",
              "  <div class=\"colab-df-container\">\n",
              "    <button class=\"colab-df-convert\" onclick=\"convertToInteractive('df-30685ac9-b5b1-4a8f-ab1d-fcbce3348aa5')\"\n",
              "            title=\"Convert this dataframe to an interactive table.\"\n",
              "            style=\"display:none;\">\n",
              "\n",
              "  <svg xmlns=\"http://www.w3.org/2000/svg\" height=\"24px\" viewBox=\"0 -960 960 960\">\n",
              "    <path d=\"M120-120v-720h720v720H120Zm60-500h600v-160H180v160Zm220 220h160v-160H400v160Zm0 220h160v-160H400v160ZM180-400h160v-160H180v160Zm440 0h160v-160H620v160ZM180-180h160v-160H180v160Zm440 0h160v-160H620v160Z\"/>\n",
              "  </svg>\n",
              "    </button>\n",
              "\n",
              "  <style>\n",
              "    .colab-df-container {\n",
              "      display:flex;\n",
              "      gap: 12px;\n",
              "    }\n",
              "\n",
              "    .colab-df-convert {\n",
              "      background-color: #E8F0FE;\n",
              "      border: none;\n",
              "      border-radius: 50%;\n",
              "      cursor: pointer;\n",
              "      display: none;\n",
              "      fill: #1967D2;\n",
              "      height: 32px;\n",
              "      padding: 0 0 0 0;\n",
              "      width: 32px;\n",
              "    }\n",
              "\n",
              "    .colab-df-convert:hover {\n",
              "      background-color: #E2EBFA;\n",
              "      box-shadow: 0px 1px 2px rgba(60, 64, 67, 0.3), 0px 1px 3px 1px rgba(60, 64, 67, 0.15);\n",
              "      fill: #174EA6;\n",
              "    }\n",
              "\n",
              "    .colab-df-buttons div {\n",
              "      margin-bottom: 4px;\n",
              "    }\n",
              "\n",
              "    [theme=dark] .colab-df-convert {\n",
              "      background-color: #3B4455;\n",
              "      fill: #D2E3FC;\n",
              "    }\n",
              "\n",
              "    [theme=dark] .colab-df-convert:hover {\n",
              "      background-color: #434B5C;\n",
              "      box-shadow: 0px 1px 3px 1px rgba(0, 0, 0, 0.15);\n",
              "      filter: drop-shadow(0px 1px 2px rgba(0, 0, 0, 0.3));\n",
              "      fill: #FFFFFF;\n",
              "    }\n",
              "  </style>\n",
              "\n",
              "    <script>\n",
              "      const buttonEl =\n",
              "        document.querySelector('#df-30685ac9-b5b1-4a8f-ab1d-fcbce3348aa5 button.colab-df-convert');\n",
              "      buttonEl.style.display =\n",
              "        google.colab.kernel.accessAllowed ? 'block' : 'none';\n",
              "\n",
              "      async function convertToInteractive(key) {\n",
              "        const element = document.querySelector('#df-30685ac9-b5b1-4a8f-ab1d-fcbce3348aa5');\n",
              "        const dataTable =\n",
              "          await google.colab.kernel.invokeFunction('convertToInteractive',\n",
              "                                                    [key], {});\n",
              "        if (!dataTable) return;\n",
              "\n",
              "        const docLinkHtml = 'Like what you see? Visit the ' +\n",
              "          '<a target=\"_blank\" href=https://colab.research.google.com/notebooks/data_table.ipynb>data table notebook</a>'\n",
              "          + ' to learn more about interactive tables.';\n",
              "        element.innerHTML = '';\n",
              "        dataTable['output_type'] = 'display_data';\n",
              "        await google.colab.output.renderOutput(dataTable, element);\n",
              "        const docLink = document.createElement('div');\n",
              "        docLink.innerHTML = docLinkHtml;\n",
              "        element.appendChild(docLink);\n",
              "      }\n",
              "    </script>\n",
              "  </div>\n",
              "\n",
              "\n",
              "<div id=\"df-521ef171-837a-4468-bb7d-3784d34834e7\">\n",
              "  <button class=\"colab-df-quickchart\" onclick=\"quickchart('df-521ef171-837a-4468-bb7d-3784d34834e7')\"\n",
              "            title=\"Suggest charts.\"\n",
              "            style=\"display:none;\">\n",
              "\n",
              "<svg xmlns=\"http://www.w3.org/2000/svg\" height=\"24px\"viewBox=\"0 0 24 24\"\n",
              "     width=\"24px\">\n",
              "    <g>\n",
              "        <path d=\"M19 3H5c-1.1 0-2 .9-2 2v14c0 1.1.9 2 2 2h14c1.1 0 2-.9 2-2V5c0-1.1-.9-2-2-2zM9 17H7v-7h2v7zm4 0h-2V7h2v10zm4 0h-2v-4h2v4z\"/>\n",
              "    </g>\n",
              "</svg>\n",
              "  </button>\n",
              "\n",
              "<style>\n",
              "  .colab-df-quickchart {\n",
              "      --bg-color: #E8F0FE;\n",
              "      --fill-color: #1967D2;\n",
              "      --hover-bg-color: #E2EBFA;\n",
              "      --hover-fill-color: #174EA6;\n",
              "      --disabled-fill-color: #AAA;\n",
              "      --disabled-bg-color: #DDD;\n",
              "  }\n",
              "\n",
              "  [theme=dark] .colab-df-quickchart {\n",
              "      --bg-color: #3B4455;\n",
              "      --fill-color: #D2E3FC;\n",
              "      --hover-bg-color: #434B5C;\n",
              "      --hover-fill-color: #FFFFFF;\n",
              "      --disabled-bg-color: #3B4455;\n",
              "      --disabled-fill-color: #666;\n",
              "  }\n",
              "\n",
              "  .colab-df-quickchart {\n",
              "    background-color: var(--bg-color);\n",
              "    border: none;\n",
              "    border-radius: 50%;\n",
              "    cursor: pointer;\n",
              "    display: none;\n",
              "    fill: var(--fill-color);\n",
              "    height: 32px;\n",
              "    padding: 0;\n",
              "    width: 32px;\n",
              "  }\n",
              "\n",
              "  .colab-df-quickchart:hover {\n",
              "    background-color: var(--hover-bg-color);\n",
              "    box-shadow: 0 1px 2px rgba(60, 64, 67, 0.3), 0 1px 3px 1px rgba(60, 64, 67, 0.15);\n",
              "    fill: var(--button-hover-fill-color);\n",
              "  }\n",
              "\n",
              "  .colab-df-quickchart-complete:disabled,\n",
              "  .colab-df-quickchart-complete:disabled:hover {\n",
              "    background-color: var(--disabled-bg-color);\n",
              "    fill: var(--disabled-fill-color);\n",
              "    box-shadow: none;\n",
              "  }\n",
              "\n",
              "  .colab-df-spinner {\n",
              "    border: 2px solid var(--fill-color);\n",
              "    border-color: transparent;\n",
              "    border-bottom-color: var(--fill-color);\n",
              "    animation:\n",
              "      spin 1s steps(1) infinite;\n",
              "  }\n",
              "\n",
              "  @keyframes spin {\n",
              "    0% {\n",
              "      border-color: transparent;\n",
              "      border-bottom-color: var(--fill-color);\n",
              "      border-left-color: var(--fill-color);\n",
              "    }\n",
              "    20% {\n",
              "      border-color: transparent;\n",
              "      border-left-color: var(--fill-color);\n",
              "      border-top-color: var(--fill-color);\n",
              "    }\n",
              "    30% {\n",
              "      border-color: transparent;\n",
              "      border-left-color: var(--fill-color);\n",
              "      border-top-color: var(--fill-color);\n",
              "      border-right-color: var(--fill-color);\n",
              "    }\n",
              "    40% {\n",
              "      border-color: transparent;\n",
              "      border-right-color: var(--fill-color);\n",
              "      border-top-color: var(--fill-color);\n",
              "    }\n",
              "    60% {\n",
              "      border-color: transparent;\n",
              "      border-right-color: var(--fill-color);\n",
              "    }\n",
              "    80% {\n",
              "      border-color: transparent;\n",
              "      border-right-color: var(--fill-color);\n",
              "      border-bottom-color: var(--fill-color);\n",
              "    }\n",
              "    90% {\n",
              "      border-color: transparent;\n",
              "      border-bottom-color: var(--fill-color);\n",
              "    }\n",
              "  }\n",
              "</style>\n",
              "\n",
              "  <script>\n",
              "    async function quickchart(key) {\n",
              "      const quickchartButtonEl =\n",
              "        document.querySelector('#' + key + ' button');\n",
              "      quickchartButtonEl.disabled = true;  // To prevent multiple clicks.\n",
              "      quickchartButtonEl.classList.add('colab-df-spinner');\n",
              "      try {\n",
              "        const charts = await google.colab.kernel.invokeFunction(\n",
              "            'suggestCharts', [key], {});\n",
              "      } catch (error) {\n",
              "        console.error('Error during call to suggestCharts:', error);\n",
              "      }\n",
              "      quickchartButtonEl.classList.remove('colab-df-spinner');\n",
              "      quickchartButtonEl.classList.add('colab-df-quickchart-complete');\n",
              "    }\n",
              "    (() => {\n",
              "      let quickchartButtonEl =\n",
              "        document.querySelector('#df-521ef171-837a-4468-bb7d-3784d34834e7 button');\n",
              "      quickchartButtonEl.style.display =\n",
              "        google.colab.kernel.accessAllowed ? 'block' : 'none';\n",
              "    })();\n",
              "  </script>\n",
              "</div>\n",
              "    </div>\n",
              "  </div>\n"
            ]
          },
          "metadata": {},
          "execution_count": 10
        }
      ]
    },
    {
      "cell_type": "markdown",
      "source": [
        "As seen below, movies make up ~800 of the bottom 1000 images. This makes up much of our motivation for the policy filters applied later in the notebook"
      ],
      "metadata": {
        "id": "ExDL-oZnmSoF"
      }
    },
    {
      "cell_type": "code",
      "source": [
        "df_temp2.head(10)"
      ],
      "metadata": {
        "colab": {
          "base_uri": "https://localhost:8080/",
          "height": 179
        },
        "id": "qw4jJegglhpC",
        "outputId": "2ac43723-d3b6-4f33-af9d-dc2b3c06cb1d"
      },
      "execution_count": null,
      "outputs": [
        {
          "output_type": "error",
          "ename": "NameError",
          "evalue": "ignored",
          "traceback": [
            "\u001b[0;31m---------------------------------------------------------------------------\u001b[0m",
            "\u001b[0;31mNameError\u001b[0m                                 Traceback (most recent call last)",
            "\u001b[0;32m<ipython-input-11-20b562b7adcc>\u001b[0m in \u001b[0;36m<cell line: 1>\u001b[0;34m()\u001b[0m\n\u001b[0;32m----> 1\u001b[0;31m \u001b[0mdf_temp2\u001b[0m\u001b[0;34m.\u001b[0m\u001b[0mhead\u001b[0m\u001b[0;34m(\u001b[0m\u001b[0;36m10\u001b[0m\u001b[0;34m)\u001b[0m\u001b[0;34m\u001b[0m\u001b[0;34m\u001b[0m\u001b[0m\n\u001b[0m",
            "\u001b[0;31mNameError\u001b[0m: name 'df_temp2' is not defined"
          ]
        }
      ]
    },
    {
      "cell_type": "code",
      "source": [
        "#Numerical characteristics of top 5000 images\n",
        "df_top_content.head(5000).hist()"
      ],
      "metadata": {
        "id": "gnfB3GlAm-j8",
        "colab": {
          "base_uri": "https://localhost:8080/",
          "height": 523
        },
        "outputId": "d8bcd87a-ea20-41f9-cc15-19d0da89784d"
      },
      "execution_count": null,
      "outputs": [
        {
          "output_type": "execute_result",
          "data": {
            "text/plain": [
              "array([[<Axes: title={'center': 'content_id'}>,\n",
              "        <Axes: title={'center': 'guidance_scale'}>],\n",
              "       [<Axes: title={'center': 'num_inference_steps'}>, <Axes: >]],\n",
              "      dtype=object)"
            ]
          },
          "metadata": {},
          "execution_count": 12
        },
        {
          "output_type": "display_data",
          "data": {
            "text/plain": [
              "<Figure size 640x480 with 4 Axes>"
            ],
            "image/png": "[encoded data removed]"
          },
          "metadata": {}
        }
      ]
    },
    {
      "cell_type": "code",
      "source": [
        "#Numerical characteristics of bottom 5000 images\n",
        "df_top_content.tail(5000).hist()"
      ],
      "metadata": {
        "id": "2cQIIehfnNMh",
        "colab": {
          "base_uri": "https://localhost:8080/",
          "height": 523
        },
        "outputId": "c8a9e457-2276-4d52-e9a2-ec61b5f831bf"
      },
      "execution_count": null,
      "outputs": [
        {
          "output_type": "execute_result",
          "data": {
            "text/plain": [
              "array([[<Axes: title={'center': 'content_id'}>,\n",
              "        <Axes: title={'center': 'guidance_scale'}>],\n",
              "       [<Axes: title={'center': 'num_inference_steps'}>, <Axes: >]],\n",
              "      dtype=object)"
            ]
          },
          "metadata": {},
          "execution_count": 13
        },
        {
          "output_type": "display_data",
          "data": {
            "text/plain": [
              "<Figure size 640x480 with 4 Axes>"
            ],
            "image/png": "[encoded data removed]"
          },
          "metadata": {}
        }
      ]
    },
    {
      "cell_type": "markdown",
      "source": [
        "### Investigate artist_style"
      ],
      "metadata": {
        "id": "n2UlsNX64Yci"
      }
    },
    {
      "cell_type": "code",
      "source": [
        "df_artist_style = df_content['artist_style'].value_counts()\n",
        "df_artist_style"
      ],
      "metadata": {
        "id": "MtqjpX5LoKgm",
        "colab": {
          "base_uri": "https://localhost:8080/"
        },
        "outputId": "8ac0ac17-13fd-4e46-b205-fd84f9351d1a"
      },
      "execution_count": null,
      "outputs": [
        {
          "output_type": "execute_result",
          "data": {
            "text/plain": [
              "van_gogh                                      1097\n",
              "jean-michel_basquiat                          1083\n",
              "detailed_portrait                             1073\n",
              "kerry_james_marshall                          1042\n",
              "medieval                                      1040\n",
              "                                              ... \n",
              "movie: The-Corruptor                             1\n",
              "movie: Scandal-Early-Pilot-1-TV-Script-PDF       1\n",
              "movie: Star-Wars-Attack-of-the-Clones            1\n",
              "movie: 2001-A-Space-Odyssey                      1\n",
              "movie: Room-The                                  1\n",
              "Name: artist_style, Length: 1429, dtype: int64"
            ]
          },
          "metadata": {},
          "execution_count": 14
        }
      ]
    },
    {
      "cell_type": "code",
      "source": [
        "# We set the cut off would be \"juan_gris\"\n",
        "df_artist_style[df_artist_style > 100]"
      ],
      "metadata": {
        "id": "lC7e1NEXpdjE",
        "colab": {
          "base_uri": "https://localhost:8080/"
        },
        "outputId": "ba6856fc-84af-432f-bf2a-98d68498b655"
      },
      "execution_count": null,
      "outputs": [
        {
          "output_type": "execute_result",
          "data": {
            "text/plain": [
              "van_gogh                                            1097\n",
              "jean-michel_basquiat                                1083\n",
              "detailed_portrait                                   1073\n",
              "kerry_james_marshall                                1042\n",
              "medieval                                            1040\n",
              "studio                                              1019\n",
              "edward_hopper                                       1008\n",
              "takashi_murakami                                    1001\n",
              "anime                                                998\n",
              "leonardo_da_vinci                                    995\n",
              "laura_wheeler_waring                                 993\n",
              "ma_jir_bo                                            987\n",
              "jackson_pollock                                      985\n",
              "shepard_fairey                                       973\n",
              "unreal_engine                                        968\n",
              "face_and_lighting                                    963\n",
              "keith_haring                                         962\n",
              "marta_minujín                                        960\n",
              "franck_slama                                         960\n",
              "oil_on_canvas                                        953\n",
              "scifi                                                947\n",
              "gta_v                                                928\n",
              "louise bourgeois                                     924\n",
              "salvador_dali                                        914\n",
              "ibrahim_el_salahi                                    894\n",
              "juan_gris                                            889\n",
              "movie: Star-Wars-Episode-III-Revenge-of-the-Sith     123\n",
              "movie: Man-Who-Knew-Too-Much-The                     109\n",
              "movie: Jennifer-Eight                                101\n",
              "Name: artist_style, dtype: int64"
            ]
          },
          "metadata": {},
          "execution_count": 15
        }
      ]
    },
    {
      "cell_type": "code",
      "source": [
        "# Setting the cut-off to Juan Gris\n",
        "df_artist_style[df_artist_style > 500].index"
      ],
      "metadata": {
        "colab": {
          "base_uri": "https://localhost:8080/"
        },
        "id": "VCwo4Su7D2T1",
        "outputId": "fd8178c5-16b7-40cc-ff08-7ecf988a714d"
      },
      "execution_count": null,
      "outputs": [
        {
          "output_type": "execute_result",
          "data": {
            "text/plain": [
              "Index(['van_gogh', 'jean-michel_basquiat', 'detailed_portrait',\n",
              "       'kerry_james_marshall', 'medieval', 'studio', 'edward_hopper',\n",
              "       'takashi_murakami', 'anime', 'leonardo_da_vinci',\n",
              "       'laura_wheeler_waring', 'ma_jir_bo', 'jackson_pollock',\n",
              "       'shepard_fairey', 'unreal_engine', 'face_and_lighting', 'keith_haring',\n",
              "       'marta_minujín', 'franck_slama', 'oil_on_canvas', 'scifi', 'gta_v',\n",
              "       'louise bourgeois', 'salvador_dali', 'ibrahim_el_salahi', 'juan_gris'],\n",
              "      dtype='object')"
            ]
          },
          "metadata": {},
          "execution_count": 16
        }
      ]
    },
    {
      "cell_type": "markdown",
      "source": [
        "### Investigate Source"
      ],
      "metadata": {
        "id": "EOHNrXWSCqum"
      }
    },
    {
      "cell_type": "code",
      "source": [
        "df_source = df_content['source'].value_counts()\n",
        "df_source"
      ],
      "metadata": {
        "id": "nnliWbtypowW",
        "colab": {
          "base_uri": "https://localhost:8080/"
        },
        "outputId": "0764e7b8-2b17-438d-ed09-5b3873ddc1c1"
      },
      "execution_count": null,
      "outputs": [
        {
          "output_type": "execute_result",
          "data": {
            "text/plain": [
              "human_prompts                                                          26179\n",
              "r/Showerthoughts                                                        4419\n",
              "r/EarthPorn                                                             2159\n",
              "r/scifi                                                                 1792\n",
              "r/pics                                                                  1534\n",
              "                                                                       ...  \n",
              "Dr-Strangelove                                                             1\n",
              "Flower God, God Of The Spring by Robert Louis Stevenson                    1\n",
              "Star-Wars-IV-A-New-Hope                                                    1\n",
              "Finding-Nemo                                                               1\n",
              "Fragment: 'I Faint, I Perish With My Love!' by Percy Bysshe Shelley        1\n",
              "Name: source, Length: 3845, dtype: int64"
            ]
          },
          "metadata": {},
          "execution_count": 13
        }
      ]
    },
    {
      "cell_type": "code",
      "source": [
        "# We set the cut off would be \"r/SimplePrompts\"\n",
        "df_source[df_source > 500]"
      ],
      "metadata": {
        "id": "A6i6O2ivq0q3",
        "colab": {
          "base_uri": "https://localhost:8080/"
        },
        "outputId": "edd471d2-d833-4293-c47c-c40d89eb0070"
      },
      "execution_count": null,
      "outputs": [
        {
          "output_type": "execute_result",
          "data": {
            "text/plain": [
              "human_prompts             26179\n",
              "r/Showerthoughts           4419\n",
              "r/EarthPorn                2159\n",
              "r/scifi                    1792\n",
              "r/pics                     1534\n",
              "r/Damnthatsinteresting     1206\n",
              "r/MadeMeSmile              1125\n",
              "r/educationalgifs           958\n",
              "r/SimplePrompts             778\n",
              "Name: source, dtype: int64"
            ]
          },
          "metadata": {},
          "execution_count": 14
        }
      ]
    },
    {
      "cell_type": "code",
      "source": [
        "df_source[df_source > 500].index"
      ],
      "metadata": {
        "colab": {
          "base_uri": "https://localhost:8080/"
        },
        "id": "jmZEzZm9EAFb",
        "outputId": "ecab19d9-bfdb-4782-fd43-b87e1f1f84cf"
      },
      "execution_count": null,
      "outputs": [
        {
          "output_type": "execute_result",
          "data": {
            "text/plain": [
              "Index(['human_prompts', 'r/Showerthoughts', 'r/EarthPorn', 'r/scifi', 'r/pics',\n",
              "       'r/Damnthatsinteresting', 'r/MadeMeSmile', 'r/educationalgifs',\n",
              "       'r/SimplePrompts'],\n",
              "      dtype='object')"
            ]
          },
          "metadata": {},
          "execution_count": 15
        }
      ]
    },
    {
      "cell_type": "markdown",
      "source": [
        "### Investigate num_inference_steps"
      ],
      "metadata": {
        "id": "OCaAahtvDFfj"
      }
    },
    {
      "cell_type": "code",
      "source": [
        "# Ideally we will pick 75, but every time we went with it, it returned error. we think that there were bugs, so we picked 100 as a baseline for now\n",
        "df_inference_steps = df_content['num_inference_steps'].value_counts()\n",
        "df_inference_steps"
      ],
      "metadata": {
        "id": "Gz85sKbHq58C",
        "colab": {
          "base_uri": "https://localhost:8080/"
        },
        "outputId": "b6e7e050-3de2-4a66-837c-20c03767f67a"
      },
      "execution_count": null,
      "outputs": [
        {
          "output_type": "execute_result",
          "data": {
            "text/plain": [
              "75     82004\n",
              "20     14476\n",
              "50      8411\n",
              "100     2814\n",
              "Name: num_inference_steps, dtype: int64"
            ]
          },
          "metadata": {},
          "execution_count": 16
        }
      ]
    },
    {
      "cell_type": "markdown",
      "source": [
        "# Working Process -- not for submission\n",
        "### Please refer to the cell [FOR SUBMISSION] at the bottom of this notebook"
      ],
      "metadata": {
        "id": "DA9SBLao1s4f"
      }
    },
    {
      "cell_type": "code",
      "source": [
        "# To generate coeficients, fill with dummy numbers now.\n",
        "class DataCollectorAlpha(DataCollector): #Changed the class name here, might need to adjust based on the convention\n",
        "  def artist_styles_one_hot(self):\n",
        "    return [\n",
        "        'van_gogh', 'jean-michel_basquiat', 'detailed_portrait',\n",
        "       'kerry_james_marshall', 'medieval', 'studio', 'edward_hopper',\n",
        "       'takashi_murakami', 'anime', 'leonardo_da_vinci',\n",
        "       'laura_wheeler_waring', 'ma_jir_bo', 'jackson_pollock',\n",
        "       'shepard_fairey', 'unreal_engine', 'face_and_lighting', 'keith_haring',\n",
        "       'marta_minujín', 'franck_slama', 'oil_on_canvas', 'scifi', 'gta_v',\n",
        "       'louise bourgeois', 'salvador_dali', 'ibrahim_el_salahi', 'juan_gris'\n",
        "    ],  generate_numbers(26)\n",
        "  def sources_one_hot(self):\n",
        "    return [\n",
        "        'human_prompts', 'r/Showerthoughts', 'r/EarthPorn', 'r/scifi', 'r/pics',\n",
        "       'r/Damnthatsinteresting', 'r/MadeMeSmile', 'r/educationalgifs',\n",
        "       'r/SimplePrompts'\n",
        "    ],  generate_numbers(9)\n",
        "\n",
        "  def num_inference_steps_one_hot(self):\n",
        "    return [\n",
        "        100\n",
        "    ], [\n",
        "        0.535, -0.535\n",
        "    ]\n",
        "\n",
        "  def one_hot_encoding_functions(self):\n",
        "    return zip(\n",
        "        [self.artist_styles_one_hot(), self.sources_one_hot(), self.num_inference_steps_one_hot()],\n",
        "        ['artist_style', 'source', 'num_inference_steps']\n",
        "    )\n",
        "\n",
        "  def threshold(self):\n",
        "    return 1.5 #NOTE to alpha team. setting 1.5 yields 1165 filtered contents; while 5 yields 192\n",
        "\n",
        "  def coefficients(self):\n",
        "        return {\n",
        "            'content_likes': 0.411,\n",
        "            'content_dislikes': -1.25,\n",
        "            'content_engagement_time_avg': -7.0458305856391235e-09,\n",
        "\n",
        "            'user_likes': 0.00327,\n",
        "            'user_dislikes': -0.0029,\n",
        "            'user_engagement_time_avg': 1.6684465996563702e-06,\n",
        "        }"
      ],
      "metadata": {
        "id": "Px6gs6Dmr0y_"
      },
      "execution_count": null,
      "outputs": []
    },
    {
      "cell_type": "markdown",
      "source": [
        "# Working Process -- not for submission\n",
        "### Please refer to the cell [FOR SUBMISSION] at the bottom of this notebook"
      ],
      "metadata": {
        "id": "AjbyuksB1zBB"
      }
    },
    {
      "cell_type": "code",
      "source": [
        "data_collector = DataCollectorAlpha()\n",
        "random_content_ids = pd.read_csv('generated_content_metadata.csv', sep=\"\\t\")['content_id'].values\n",
        "filtered_contents = data_collector.filter_content_ids(1, random_content_ids)"
      ],
      "metadata": {
        "id": "mye5Pgzee6Bw",
        "colab": {
          "base_uri": "https://localhost:8080/"
        },
        "outputId": "9c959fbb-7975-4dc5-b1a6-f507d04d5572"
      },
      "execution_count": null,
      "outputs": [
        {
          "output_type": "stream",
          "name": "stderr",
          "text": [
            "/usr/local/lib/python3.10/dist-packages/sklearn/preprocessing/_encoders.py:868: FutureWarning: `sparse` was renamed to `sparse_output` in version 1.2 and will be removed in 1.4. `sparse_output` is ignored unless you leave `sparse` to its default value.\n",
            "  warnings.warn(\n",
            "/usr/local/lib/python3.10/dist-packages/sklearn/preprocessing/_encoders.py:868: FutureWarning: `sparse` was renamed to `sparse_output` in version 1.2 and will be removed in 1.4. `sparse_output` is ignored unless you leave `sparse` to its default value.\n",
            "  warnings.warn(\n",
            "/usr/local/lib/python3.10/dist-packages/sklearn/preprocessing/_encoders.py:868: FutureWarning: `sparse` was renamed to `sparse_output` in version 1.2 and will be removed in 1.4. `sparse_output` is ignored unless you leave `sparse` to its default value.\n",
            "  warnings.warn(\n"
          ]
        }
      ]
    },
    {
      "cell_type": "markdown",
      "source": [
        "# Training"
      ],
      "metadata": {
        "id": "LMev-xwJ11d5"
      }
    },
    {
      "cell_type": "code",
      "source": [
        "#@title get training data\n",
        "data_collector = DataCollectorAlpha()\n",
        "data_collector.gather_training_data()\n",
        "training_data = data_collector.feature_eng_training()"
      ],
      "metadata": {
        "id": "yvMO4tMXe9io",
        "colab": {
          "base_uri": "https://localhost:8080/"
        },
        "outputId": "24a12006-2df0-4ee5-f0f8-fc764c922f5b"
      },
      "execution_count": null,
      "outputs": [
        {
          "output_type": "stream",
          "name": "stderr",
          "text": [
            "/usr/local/lib/python3.10/dist-packages/sklearn/preprocessing/_encoders.py:868: FutureWarning: `sparse` was renamed to `sparse_output` in version 1.2 and will be removed in 1.4. `sparse_output` is ignored unless you leave `sparse` to its default value.\n",
            "  warnings.warn(\n",
            "/usr/local/lib/python3.10/dist-packages/sklearn/preprocessing/_encoders.py:868: FutureWarning: `sparse` was renamed to `sparse_output` in version 1.2 and will be removed in 1.4. `sparse_output` is ignored unless you leave `sparse` to its default value.\n",
            "  warnings.warn(\n",
            "/usr/local/lib/python3.10/dist-packages/sklearn/preprocessing/_encoders.py:868: FutureWarning: `sparse` was renamed to `sparse_output` in version 1.2 and will be removed in 1.4. `sparse_output` is ignored unless you leave `sparse` to its default value.\n",
            "  warnings.warn(\n"
          ]
        }
      ]
    },
    {
      "cell_type": "code",
      "source": [
        "#@title code to implement\n",
        "def get_Y(engagement_data: pd.DataFrame) -> pd.DataFrame:\n",
        "    \"\"\"Engineers taget variable.\n",
        "    Args\n",
        "      data (pd.DataFrame): Engagement data.\n",
        "    Returns\n",
        "      pd.DataFrame: Dataframe of 3 columns; 'user_id', 'content_id', 'score',\n",
        "        where 'score' being the target variable that you want to predict.\n",
        "    \"\"\"\n",
        "    # Dummy target dataframe. Your output dataframe should have 3 columns; 'user_id', 'content_id', 'score'\n",
        "    # Where 'score' being the target variable that you want to predict.\n",
        "\n",
        "    def map_engagement_value(row, min, max):\n",
        "        if str(row['engagement_type']) == 'Like':\n",
        "            return row['engagement_value'] * 10\n",
        "        elif str(row['engagement_type']) == 'MillisecondsEngagedWith':\n",
        "            return (row['engagement_value'] - min) / (max-min)\n",
        "        else:\n",
        "            return None  # Handle other cases if needed\n",
        "\n",
        "    engagement_time = engagement_data.loc[engagement_data['engagement_type'] == 'MillisecondsEngagedWith',['engagement_value']]\n",
        "    max = engagement_time.max()\n",
        "    min = engagement_time.min()\n",
        "\n",
        "    engagement_data[\"engagement_value\"] = engagement_data.apply(map_engagement_value, args=(min,max), axis=1)\n",
        "\n",
        "    target_df = engagement_data.groupby(\n",
        "        ['user_id', 'content_id']\n",
        "        )['engagement_value'].sum().rename('score',\n",
        "                                           inplace=True\n",
        "                                           ).to_frame().reset_index()\n",
        "\n",
        "    # DO NOT CHANGE THIS. This step ensures that each row of the target variable (X)\n",
        "    # corresponds to the correct row of features (y).\n",
        "    target_df = pd.merge(\n",
        "          training_data[['user_id', 'content_id']],\n",
        "          target_df,\n",
        "          on=['user_id', 'content_id'],\n",
        "          how='left'\n",
        "      )\n",
        "\n",
        "    return target_df['score']\n",
        "\n",
        "engagement_data = pd.read_csv('engagement.csv', sep=\"\\t\")\n",
        "X = training_data[data_collector.get_columns()]\n",
        "y = get_Y(engagement_data)"
      ],
      "metadata": {
        "id": "923Jz78HK1Yx"
      },
      "execution_count": null,
      "outputs": []
    },
    {
      "cell_type": "code",
      "source": [
        "y"
      ],
      "metadata": {
        "id": "p3UCbkvwF7DC",
        "colab": {
          "base_uri": "https://localhost:8080/"
        },
        "outputId": "b6affba5-ad1e-4131-8544-68518a1c6c8e"
      },
      "execution_count": null,
      "outputs": [
        {
          "output_type": "execute_result",
          "data": {
            "text/plain": [
              "0         0.000005\n",
              "1         0.000004\n",
              "2         0.000007\n",
              "3         0.000007\n",
              "4         0.000003\n",
              "            ...   \n",
              "161523   -9.999978\n",
              "161524    0.000007\n",
              "161525   -9.999994\n",
              "161526   -9.999993\n",
              "161527    0.000005\n",
              "Name: score, Length: 161528, dtype: float64"
            ]
          },
          "metadata": {},
          "execution_count": 20
        }
      ]
    },
    {
      "cell_type": "code",
      "source": [
        "# training\n",
        "from sklearn.model_selection import train_test_split\n",
        "from sklearn.linear_model import LinearRegression\n",
        "from sklearn.metrics import accuracy_score\n",
        "\n",
        "# Split data into train and test: Add/change  other parametersas you wish\n",
        "# Also, feel free to use cross validation\n",
        "X_train, X_test, y_train, y_test = train_test_split(X, y)\n",
        "\n",
        "# Depending on what your target variable y looks like, you have to choose a suitable model.\n",
        "# Here, I assume y is binary, and so I use Logistic Regression.\n",
        "model = LinearRegression()\n",
        "model.fit(X_train, y_train)"
      ],
      "metadata": {
        "id": "foPA5J9-yiOO",
        "colab": {
          "base_uri": "https://localhost:8080/",
          "height": 75
        },
        "outputId": "ae7235b2-2a86-4cb0-c71e-12a219a55ecb"
      },
      "execution_count": null,
      "outputs": [
        {
          "output_type": "execute_result",
          "data": {
            "text/plain": [
              "LinearRegression()"
            ],
            "text/html": [
              "<style>#sk-container-id-1 {color: black;background-color: white;}#sk-container-id-1 pre{padding: 0;}#sk-container-id-1 div.sk-toggleable {background-color: white;}#sk-container-id-1 label.sk-toggleable__label {cursor: pointer;display: block;width: 100%;margin-bottom: 0;padding: 0.3em;box-sizing: border-box;text-align: center;}#sk-container-id-1 label.sk-toggleable__label-arrow:before {content: \"▸\";float: left;margin-right: 0.25em;color: #696969;}#sk-container-id-1 label.sk-toggleable__label-arrow:hover:before {color: black;}#sk-container-id-1 div.sk-estimator:hover label.sk-toggleable__label-arrow:before {color: black;}#sk-container-id-1 div.sk-toggleable__content {max-height: 0;max-width: 0;overflow: hidden;text-align: left;background-color: #f0f8ff;}#sk-container-id-1 div.sk-toggleable__content pre {margin: 0.2em;color: black;border-radius: 0.25em;background-color: #f0f8ff;}#sk-container-id-1 input.sk-toggleable__control:checked~div.sk-toggleable__content {max-height: 200px;max-width: 100%;overflow: auto;}#sk-container-id-1 input.sk-toggleable__control:checked~label.sk-toggleable__label-arrow:before {content: \"▾\";}#sk-container-id-1 div.sk-estimator input.sk-toggleable__control:checked~label.sk-toggleable__label {background-color: #d4ebff;}#sk-container-id-1 div.sk-label input.sk-toggleable__control:checked~label.sk-toggleable__label {background-color: #d4ebff;}#sk-container-id-1 input.sk-hidden--visually {border: 0;clip: rect(1px 1px 1px 1px);clip: rect(1px, 1px, 1px, 1px);height: 1px;margin: -1px;overflow: hidden;padding: 0;position: absolute;width: 1px;}#sk-container-id-1 div.sk-estimator {font-family: monospace;background-color: #f0f8ff;border: 1px dotted black;border-radius: 0.25em;box-sizing: border-box;margin-bottom: 0.5em;}#sk-container-id-1 div.sk-estimator:hover {background-color: #d4ebff;}#sk-container-id-1 div.sk-parallel-item::after {content: \"\";width: 100%;border-bottom: 1px solid gray;flex-grow: 1;}#sk-container-id-1 div.sk-label:hover label.sk-toggleable__label {background-color: #d4ebff;}#sk-container-id-1 div.sk-serial::before {content: \"\";position: absolute;border-left: 1px solid gray;box-sizing: border-box;top: 0;bottom: 0;left: 50%;z-index: 0;}#sk-container-id-1 div.sk-serial {display: flex;flex-direction: column;align-items: center;background-color: white;padding-right: 0.2em;padding-left: 0.2em;position: relative;}#sk-container-id-1 div.sk-item {position: relative;z-index: 1;}#sk-container-id-1 div.sk-parallel {display: flex;align-items: stretch;justify-content: center;background-color: white;position: relative;}#sk-container-id-1 div.sk-item::before, #sk-container-id-1 div.sk-parallel-item::before {content: \"\";position: absolute;border-left: 1px solid gray;box-sizing: border-box;top: 0;bottom: 0;left: 50%;z-index: -1;}#sk-container-id-1 div.sk-parallel-item {display: flex;flex-direction: column;z-index: 1;position: relative;background-color: white;}#sk-container-id-1 div.sk-parallel-item:first-child::after {align-self: flex-end;width: 50%;}#sk-container-id-1 div.sk-parallel-item:last-child::after {align-self: flex-start;width: 50%;}#sk-container-id-1 div.sk-parallel-item:only-child::after {width: 0;}#sk-container-id-1 div.sk-dashed-wrapped {border: 1px dashed gray;margin: 0 0.4em 0.5em 0.4em;box-sizing: border-box;padding-bottom: 0.4em;background-color: white;}#sk-container-id-1 div.sk-label label {font-family: monospace;font-weight: bold;display: inline-block;line-height: 1.2em;}#sk-container-id-1 div.sk-label-container {text-align: center;}#sk-container-id-1 div.sk-container {/* jupyter's `normalize.less` sets `[hidden] { display: none; }` but bootstrap.min.css set `[hidden] { display: none !important; }` so we also need the `!important` here to be able to override the default hidden behavior on the sphinx rendered scikit-learn.org. See: https://github.com/scikit-learn/scikit-learn/issues/21755 */display: inline-block !important;position: relative;}#sk-container-id-1 div.sk-text-repr-fallback {display: none;}</style><div id=\"sk-container-id-1\" class=\"sk-top-container\"><div class=\"sk-text-repr-fallback\"><pre>LinearRegression()</pre><b>In a Jupyter environment, please rerun this cell to show the HTML representation or trust the notebook. <br />On GitHub, the HTML representation is unable to render, please try loading this page with nbviewer.org.</b></div><div class=\"sk-container\" hidden><div class=\"sk-item\"><div class=\"sk-estimator sk-toggleable\"><input class=\"sk-toggleable__control sk-hidden--visually\" id=\"sk-estimator-id-1\" type=\"checkbox\" checked><label for=\"sk-estimator-id-1\" class=\"sk-toggleable__label sk-toggleable__label-arrow\">LinearRegression</label><div class=\"sk-toggleable__content\"><pre>LinearRegression()</pre></div></div></div></div></div>"
            ]
          },
          "metadata": {},
          "execution_count": 21
        }
      ]
    },
    {
      "cell_type": "code",
      "source": [
        "y_pred = model.predict(X_test)\n",
        "\n",
        "print(f\"MSE: {np.mean((y_pred - y_test)**2)}\")"
      ],
      "metadata": {
        "id": "6fTHbJmI1zPK",
        "colab": {
          "base_uri": "https://localhost:8080/"
        },
        "outputId": "6d4ea7c1-a6aa-4f88-df35-3c7b5807bdcf"
      },
      "execution_count": null,
      "outputs": [
        {
          "output_type": "stream",
          "name": "stdout",
          "text": [
            "MSE: 37.93488495644865\n"
          ]
        }
      ]
    },
    {
      "cell_type": "code",
      "source": [
        "import matplotlib.pyplot as plt\n",
        "\n",
        "plt.hist(y_pred, bins=50)"
      ],
      "metadata": {
        "colab": {
          "base_uri": "https://localhost:8080/",
          "height": 841
        },
        "id": "RxEJw4zjJsLc",
        "outputId": "54682f89-6e82-4c8c-c394-904634d6f305"
      },
      "execution_count": null,
      "outputs": [
        {
          "output_type": "execute_result",
          "data": {
            "text/plain": [
              "(array([7.000e+00, 4.000e+00, 2.000e+00, 4.000e+00, 8.000e+00, 4.000e+00,\n",
              "        1.000e+01, 2.000e+00, 7.000e+00, 9.000e+00, 1.100e+01, 1.500e+01,\n",
              "        3.200e+01, 6.600e+01, 9.900e+01, 1.500e+02, 1.670e+02, 5.270e+02,\n",
              "        4.050e+02, 6.340e+02, 8.720e+02, 1.700e+03, 3.110e+03, 4.548e+03,\n",
              "        5.849e+03, 5.773e+03, 5.455e+03, 3.926e+03, 2.183e+03, 1.214e+03,\n",
              "        9.990e+02, 6.860e+02, 6.930e+02, 4.510e+02, 2.810e+02, 1.590e+02,\n",
              "        1.170e+02, 4.800e+01, 4.000e+01, 2.900e+01, 2.000e+01, 2.100e+01,\n",
              "        1.800e+01, 1.000e+01, 9.000e+00, 5.000e+00, 2.000e+00, 0.000e+00,\n",
              "        0.000e+00, 1.000e+00]),\n",
              " array([-22.80076167, -21.88257548, -20.96438929, -20.0462031 ,\n",
              "        -19.12801692, -18.20983073, -17.29164454, -16.37345836,\n",
              "        -15.45527217, -14.53708598, -13.61889979, -12.70071361,\n",
              "        -11.78252742, -10.86434123,  -9.94615504,  -9.02796886,\n",
              "         -8.10978267,  -7.19159648,  -6.27341029,  -5.35522411,\n",
              "         -4.43703792,  -3.51885173,  -2.60066555,  -1.68247936,\n",
              "         -0.76429317,   0.15389302,   1.0720792 ,   1.99026539,\n",
              "          2.90845158,   3.82663777,   4.74482395,   5.66301014,\n",
              "          6.58119633,   7.49938252,   8.4175687 ,   9.33575489,\n",
              "         10.25394108,  11.17212726,  12.09031345,  13.00849964,\n",
              "         13.92668583,  14.84487201,  15.7630582 ,  16.68124439,\n",
              "         17.59943058,  18.51761676,  19.43580295,  20.35398914,\n",
              "         21.27217533,  22.19036151,  23.1085477 ]),\n",
              " <BarContainer object of 50 artists>)"
            ]
          },
          "metadata": {},
          "execution_count": 23
        },
        {
          "output_type": "display_data",
          "data": {
            "text/plain": [
              "<Figure size 640x480 with 1 Axes>"
            ],
            "image/png": "[encoded data removed]"
          },
          "metadata": {}
        }
      ]
    },
    {
      "cell_type": "markdown",
      "source": [
        "# What You Need"
      ],
      "metadata": {
        "id": "YEuIWDy39ZQP"
      }
    },
    {
      "cell_type": "code",
      "source": [
        "print(\"{\")\n",
        "for x, y in zip(model.feature_names_in_, model.coef_):\n",
        "  print(f\"\\t{x}: {y},\")\n",
        "print(\"}\")"
      ],
      "metadata": {
        "id": "rrNKB1u49YGr",
        "colab": {
          "base_uri": "https://localhost:8080/"
        },
        "outputId": "8555fdc7-b639-488a-fb55-b338b4355f33"
      },
      "execution_count": null,
      "outputs": [
        {
          "output_type": "stream",
          "name": "stdout",
          "text": [
            "{\n",
            "\tcontent_likes: 0.3729444814634858,\n",
            "\tcontent_dislikes: -1.2006654135645038,\n",
            "\tcontent_engagement_time_avg: 6.382389318662367e-09,\n",
            "\tuser_likes: 0.003268094706322221,\n",
            "\tuser_dislikes: -0.002904938856053222,\n",
            "\tuser_engagement_time_avg: 1.6472635150993565e-06,\n",
            "\tartist_style_van_gogh: 1.8829634304994178,\n",
            "\tartist_style_jean-michel_basquiat: 0.5457368617758162,\n",
            "\tartist_style_detailed_portrait: 1.6577201929375593,\n",
            "\tartist_style_kerry_james_marshall: 0.9504379110010311,\n",
            "\tartist_style_medieval: 2.056287976702721,\n",
            "\tartist_style_studio: 2.3627076827786513,\n",
            "\tartist_style_edward_hopper: 1.835396488525314,\n",
            "\tartist_style_takashi_murakami: 0.8737074989081304,\n",
            "\tartist_style_anime: 1.882053853127063,\n",
            "\tartist_style_leonardo_da_vinci: 0.5535647061281743,\n",
            "\tartist_style_laura_wheeler_waring: 0.565895886618904,\n",
            "\tartist_style_ma_jir_bo: 0.9564286285466588,\n",
            "\tartist_style_jackson_pollock: 0.7469320775758425,\n",
            "\tartist_style_shepard_fairey: 1.6988407208303953,\n",
            "\tartist_style_unreal_engine: 1.2276789400670531,\n",
            "\tartist_style_face_and_lighting: 0.72054995201245,\n",
            "\tartist_style_keith_haring: 1.5850224780839852,\n",
            "\tartist_style_marta_minujín: 1.0161838810910766,\n",
            "\tartist_style_franck_slama: 0.26176544120573025,\n",
            "\tartist_style_oil_on_canvas: 1.9036095708401963,\n",
            "\tartist_style_scifi: 1.9195559117782637,\n",
            "\tartist_style_gta_v: 0.7442880307213788,\n",
            "\tartist_style_louise bourgeois: 0.854056769865025,\n",
            "\tartist_style_salvador_dali: 1.179239758388313,\n",
            "\tartist_style_ibrahim_el_salahi: 1.6183597089591135,\n",
            "\tartist_style_juan_gris: 2.0321009310912106,\n",
            "\tsource_human_prompts: 1.7746254971945996,\n",
            "\tsource_r/Showerthoughts: -0.4963770662207174,\n",
            "\tsource_r/EarthPorn: 0.697595674141883,\n",
            "\tsource_r/scifi: 0.06697982523687286,\n",
            "\tsource_r/pics: -0.7535049706222018,\n",
            "\tsource_r/Damnthatsinteresting: -0.8623600742461811,\n",
            "\tsource_r/MadeMeSmile: -1.0930526835498826,\n",
            "\tsource_r/educationalgifs: -0.2885419118557191,\n",
            "\tsource_r/SimplePrompts: 0.5074033342709041,\n",
            "\tnum_inference_steps_100: 606069.1380715171,\n",
            "\tnum_inference_steps_other: 606068.7709990114,\n",
            "}\n"
          ]
        }
      ]
    },
    {
      "cell_type": "code",
      "source": [
        "model.coef_"
      ],
      "metadata": {
        "colab": {
          "base_uri": "https://localhost:8080/"
        },
        "id": "vypVRKDKMQWM",
        "outputId": "a0368d73-0042-457c-e658-3bd61889b671"
      },
      "execution_count": null,
      "outputs": [
        {
          "output_type": "execute_result",
          "data": {
            "text/plain": [
              "array([ 3.74916080e-01, -1.21678152e+00, -1.45926026e-09,  3.29418059e-03,\n",
              "       -2.89415721e-03,  1.65798069e-06,  1.80839659e+00,  4.57661357e-01,\n",
              "        1.52902015e+00,  7.13037728e-01,  2.12601976e+00,  2.31831502e+00,\n",
              "        1.60836141e+00,  6.35208261e-01,  1.93407169e+00,  8.62543569e-01,\n",
              "        3.87092828e-01,  8.58692225e-01,  8.16427795e-01,  1.80168642e+00,\n",
              "        1.18986743e+00,  6.47276517e-01,  1.45798984e+00,  1.40309039e+00,\n",
              "        1.08035306e-01,  1.91956838e+00,  1.98582217e+00,  7.04217187e-01,\n",
              "        8.69372489e-01,  1.06634192e+00,  1.60554420e+00,  1.97965241e+00,\n",
              "        1.78835700e+00, -3.36104874e-01,  7.83608333e-01, -1.22464380e-01,\n",
              "       -8.97086012e-01, -6.80186950e-01, -1.04964657e+00, -2.46420655e-01,\n",
              "        3.54237602e-01,  1.85527639e-01, -1.85527638e-01])"
            ]
          },
          "metadata": {},
          "execution_count": 135
        }
      ]
    },
    {
      "cell_type": "markdown",
      "source": [
        "# [FOR SUBMISSION]\n",
        "\n",
        "### Workflow: Linear Regression based filtering -> Two hard-coded policy filtering"
      ],
      "metadata": {
        "id": "0GtJKCi3mRii"
      }
    },
    {
      "cell_type": "markdown",
      "source": [
        "## Linear Regression Based Filtering"
      ],
      "metadata": {
        "id": "PxXvaEp9iB_6"
      }
    },
    {
      "cell_type": "code",
      "source": [
        "# Update coef_.\n",
        "class DataCollectorAlpha(DataCollector): #Changed the class name here, might need to adjust based on the convention\n",
        "  def artist_styles_one_hot(self):\n",
        "    return [\n",
        "        'van_gogh', 'jean-michel_basquiat', 'detailed_portrait',\n",
        "       'kerry_james_marshall', 'medieval', 'studio', 'edward_hopper',\n",
        "       'takashi_murakami', 'anime', 'leonardo_da_vinci',\n",
        "       'laura_wheeler_waring', 'ma_jir_bo', 'jackson_pollock',\n",
        "       'shepard_fairey', 'unreal_engine', 'face_and_lighting', 'keith_haring',\n",
        "       'marta_minujín', 'franck_slama', 'oil_on_canvas', 'scifi', 'gta_v',\n",
        "       'louise bourgeois', 'salvador_dali', 'ibrahim_el_salahi', 'juan_gris'\n",
        "    ],  [1.83523859e+00,  2.77885424e-01,\n",
        "        1.70090565e+00,  9.49429353e-01,  2.15906078e+00,  2.44568696e+00,\n",
        "        1.79434951e+00,  9.07959350e-01,  2.17337238e+00,  4.60592065e-01,\n",
        "        4.09057593e-01,  8.42021422e-01,  6.68317933e-01,  1.76814775e+00,\n",
        "        1.41639637e+00,  6.58195898e-01,  1.50787499e+00,  1.21004481e+00,\n",
        "        3.05043625e-01,  1.94261633e+00,  1.96512518e+00,  9.10388431e-01,\n",
        "        9.15045962e-01,  1.31553474e+00,  1.54801667e+00,  1.90712583e+00, 0]\n",
        "  def sources_one_hot(self):\n",
        "    return [\n",
        "        'human_prompts', 'r/Showerthoughts', 'r/EarthPorn', 'r/scifi', 'r/pics',\n",
        "       'r/Damnthatsinteresting', 'r/MadeMeSmile', 'r/educationalgifs',\n",
        "       'r/SimplePrompts'\n",
        "    ],  [ 1.78062418e+00, -4.38372622e-01,  7.01822304e-01, -7.25890558e-02,\n",
        "       -6.61610991e-01, -8.99656743e-01, -1.01408713e+00, -1.54566954e-01,\n",
        "        2.05666798e-01, -0.5527702]\n",
        "\n",
        "  def num_inference_steps_one_hot(self):\n",
        "    return [\n",
        "        100\n",
        "    ], [\n",
        "        0.535, -0.535\n",
        "    ]\n",
        "\n",
        "  def one_hot_encoding_functions(self):\n",
        "    return zip(\n",
        "        [self.artist_styles_one_hot(), self.sources_one_hot(), self.num_inference_steps_one_hot()],\n",
        "        ['artist_style', 'source', 'num_inference_steps']\n",
        "    )\n",
        "\n",
        "  def threshold(self):\n",
        "    return 0.001 #NOTE to alpha team. setting 1.5 yields 1165 filtered contents; while 6 yields 251\n",
        "\n",
        "  def coefficients(self):\n",
        "        return {\n",
        "            'content_likes': 0.411,\n",
        "            'content_dislikes': -1.25,\n",
        "            'content_engagement_time_avg': -7.0458305856391235e-09,\n",
        "\n",
        "            'user_likes': 0.00327,\n",
        "            'user_dislikes': -0.0029,\n",
        "            'user_engagement_time_avg': 1.6684465996563702e-06,\n",
        "        }"
      ],
      "metadata": {
        "id": "WNlIww-SbAZC"
      },
      "execution_count": null,
      "outputs": []
    },
    {
      "cell_type": "code",
      "source": [
        "data_collector = DataCollectorAlpha()\n",
        "random_content_ids = random.sample(list(training_data.content_id.unique()), 1500)\n",
        "filtered_contents = data_collector.filter_content_ids(1, random_content_ids)\n",
        "len(filtered_contents)"
      ],
      "metadata": {
        "colab": {
          "base_uri": "https://localhost:8080/"
        },
        "id": "nc3qgYQwa5nr",
        "outputId": "a87bc266-4b40-4f74-bedd-0929b6647773"
      },
      "execution_count": null,
      "outputs": [
        {
          "output_type": "stream",
          "name": "stderr",
          "text": [
            "/usr/local/lib/python3.10/dist-packages/sklearn/preprocessing/_encoders.py:868: FutureWarning: `sparse` was renamed to `sparse_output` in version 1.2 and will be removed in 1.4. `sparse_output` is ignored unless you leave `sparse` to its default value.\n",
            "  warnings.warn(\n",
            "/usr/local/lib/python3.10/dist-packages/sklearn/preprocessing/_encoders.py:868: FutureWarning: `sparse` was renamed to `sparse_output` in version 1.2 and will be removed in 1.4. `sparse_output` is ignored unless you leave `sparse` to its default value.\n",
            "  warnings.warn(\n",
            "/usr/local/lib/python3.10/dist-packages/sklearn/preprocessing/_encoders.py:868: FutureWarning: `sparse` was renamed to `sparse_output` in version 1.2 and will be removed in 1.4. `sparse_output` is ignored unless you leave `sparse` to its default value.\n",
            "  warnings.warn(\n"
          ]
        },
        {
          "output_type": "execute_result",
          "data": {
            "text/plain": [
              "872"
            ]
          },
          "metadata": {},
          "execution_count": 59
        }
      ]
    },
    {
      "cell_type": "markdown",
      "source": [
        "# Policy Filtering 1"
      ],
      "metadata": {
        "id": "j3LGCsWl1j7_"
      }
    },
    {
      "cell_type": "code",
      "source": [
        "from tqdm.notebook import tqdm"
      ],
      "metadata": {
        "id": "iGf7fYqZZbCt"
      },
      "execution_count": null,
      "outputs": []
    },
    {
      "cell_type": "code",
      "source": [
        "def policy_filter_one(training_data, content_id):\n",
        "  \"\"\"\n",
        "  Filtering on Likes: only keeping images with a 'decent' number of likes (or over a small negative number, say -1)\n",
        "  \"\"\"\n",
        "  try:\n",
        "    if training_data[training_data.content_id == content_id].content_engagement_time_avg.mean() > 1e3:\n",
        "      # making sure people saw the img, say at least 1s\n",
        "      like_value = training_data[training_data.content_id == content_id].content_likes.iloc[0]\n",
        "      dislike_value = training_data[training_data.content_id == content_id].content_dislikes.iloc[0]\n",
        "      diff = like_value - dislike_value\n",
        "      #only keep first line since we only care about the nb of likes\n",
        "      if diff > 0:\n",
        "        return True\n",
        "      return False\n",
        "    else:\n",
        "      return True\n",
        "  except:\n",
        "    # if no like value, that means\n",
        "    return True\n",
        "\n",
        "policy_filter_one(\n",
        "    training_data[training_data['content_id'] == random_content_ids[0]],\n",
        "    random_content_ids[0]\n",
        ")"
      ],
      "metadata": {
        "id": "eyEArF5W1jhP",
        "colab": {
          "base_uri": "https://localhost:8080/"
        },
        "outputId": "a22a79de-4fe9-4ecf-ef53-d2b99268b5ce"
      },
      "execution_count": null,
      "outputs": [
        {
          "output_type": "execute_result",
          "data": {
            "text/plain": [
              "True"
            ]
          },
          "metadata": {},
          "execution_count": 41
        }
      ]
    },
    {
      "cell_type": "code",
      "source": [
        "# checking nb of candidates after filtering\n",
        "s_l = []\n",
        "for i in tqdm(range(10)):\n",
        "  s_l.append(\n",
        "    sum([policy_filter_one(training_data, content_id) for content_id in random.sample(list(training_data.content_id.unique()), 1500)])\n",
        "  )\n",
        "s_l"
      ],
      "metadata": {
        "colab": {
          "base_uri": "https://localhost:8080/",
          "height": 67,
          "referenced_widgets": [
            "f9d9bc3473894a10aca75378fb7e7dbf",
            "3c3c2ac3c54c4e27bd7c8e0e56c5ed32",
            "9dce35e358214061a64b9e090afad36d",
            "8717e17066e74e94bb4d58cc52d7019b",
            "84c48984c5554937bb53e9f3c14d62a8",
            "87a966cc9400475785652275562c895d",
            "1ee6b8100b1b42fd80bfb85278e8bf6e",
            "2aef6aa155bf4e4ca764bfba98e3cf32",
            "f46f1e0fa43149d2a86d6ae8937bf857",
            "c5534b8263e54368ba110958e9132592",
            "5bd44fc648be4ff6acef8e5026e656d3"
          ]
        },
        "id": "3vGvpP1ZWMg7",
        "outputId": "7018159b-122f-433b-d5f1-f1f9266e12fc"
      },
      "execution_count": null,
      "outputs": [
        {
          "output_type": "display_data",
          "data": {
            "text/plain": [
              "  0%|          | 0/10 [00:00<?, ?it/s]"
            ],
            "application/vnd.jupyter.widget-view+json": {
              "version_major": 2,
              "version_minor": 0,
              "model_id": "f9d9bc3473894a10aca75378fb7e7dbf"
            }
          },
          "metadata": {}
        },
        {
          "output_type": "execute_result",
          "data": {
            "text/plain": [
              "[747, 734, 763, 766, 760, 746, 730, 760, 746, 747]"
            ]
          },
          "metadata": {},
          "execution_count": 42
        }
      ]
    },
    {
      "cell_type": "markdown",
      "source": [
        "# Policy Filtering 2"
      ],
      "metadata": {
        "id": "Lhh1vy1c1lbs"
      }
    },
    {
      "cell_type": "code",
      "source": [
        "import random"
      ],
      "metadata": {
        "id": "gxNSwlSOUcG-"
      },
      "execution_count": null,
      "outputs": []
    },
    {
      "cell_type": "code",
      "source": [
        "def policy_filter_two(training_data, content_id):\n",
        "  \"\"\" Checking if source is from the 'other' category;\n",
        "  most of the movies pictures being in this category, we will return this type of image only x% of the time.\n",
        "  The random package MUST be imported\"\"\"\n",
        "  try:\n",
        "    source = training_data[training_data.content_id == content_id].source.iloc[0]\n",
        "    if source == 'other':\n",
        "      random_number = random.random()\n",
        "\n",
        "      # threshold for selection\n",
        "      threshold = 0.90\n",
        "\n",
        "      # Check if the random number is less than the probability threshold\n",
        "      if random_number < threshold:\n",
        "        return True\n",
        "    return False\n",
        "  except:\n",
        "    return False\n",
        "\n",
        "policy_filter_two(\n",
        "    training_data[training_data['content_id'] == random_content_ids[0]],\n",
        "    random_content_ids[0]\n",
        ")"
      ],
      "metadata": {
        "id": "PaFGFkfd2ePw",
        "colab": {
          "base_uri": "https://localhost:8080/"
        },
        "outputId": "3f3386a4-da9a-41f8-ca09-866a3750dae1"
      },
      "execution_count": null,
      "outputs": [
        {
          "output_type": "execute_result",
          "data": {
            "text/plain": [
              "True"
            ]
          },
          "metadata": {},
          "execution_count": 44
        }
      ]
    },
    {
      "cell_type": "code",
      "source": [
        "s_l = []\n",
        "for i in tqdm(range(10)):\n",
        "  s_l.append(\n",
        "    sum([policy_filter_two(training_data, content_id) for content_id in random.sample(list(training_data.content_id.unique()), 1500)])\n",
        "  )\n",
        "s_l"
      ],
      "metadata": {
        "colab": {
          "base_uri": "https://localhost:8080/",
          "height": 67,
          "referenced_widgets": [
            "51a9c61186f84797a526491879e54762",
            "85a0fff9e33d4b2781af1ef71befca5e",
            "cbf6309dba724a7495cba27b0aa53aca",
            "752db98b4f1148da80737cf89498327f",
            "c59d0b5a000249259516ab7d82be1494",
            "3c077bf8797e46c7a9bd6016851b4da3",
            "7ba6d309f1e946aca0383ceca789cf08",
            "3af07922c610418cb44bfe4b508d8400",
            "5f1b155079a841bda875f462e2d69738",
            "2a22543d711b48ff9452de6568c926a2",
            "6d76e96949154982ab0ffa5d71584e66"
          ]
        },
        "id": "7ypHajsDYLFy",
        "outputId": "e4a767f0-5a01-444c-d8d8-5d992a650f60"
      },
      "execution_count": null,
      "outputs": [
        {
          "output_type": "display_data",
          "data": {
            "text/plain": [
              "  0%|          | 0/10 [00:00<?, ?it/s]"
            ],
            "application/vnd.jupyter.widget-view+json": {
              "version_major": 2,
              "version_minor": 0,
              "model_id": "51a9c61186f84797a526491879e54762"
            }
          },
          "metadata": {}
        },
        {
          "output_type": "execute_result",
          "data": {
            "text/plain": [
              "[826, 824, 838, 820, 822, 806, 826, 806, 857, 805]"
            ]
          },
          "metadata": {},
          "execution_count": 45
        }
      ]
    },
    {
      "cell_type": "code",
      "source": [
        "# Combining two policies\n",
        "s_two_policies = []\n",
        "for i in tqdm(range(10)):\n",
        "  sample = random.sample(list(training_data.content_id.unique()), 1500)\n",
        "  s_two_policies.append(\n",
        "    sum([policy_filter_two(training_data, content_id) for content_id in sample if policy_filter_one(training_data, content_id)])\n",
        "  )\n",
        "s_two_policies\n"
      ],
      "metadata": {
        "colab": {
          "base_uri": "https://localhost:8080/",
          "height": 67,
          "referenced_widgets": [
            "1e439b246c2d4878be0590938f63f38d",
            "c0d9fbc5626e4e7fb1abc2c6e16f07a8",
            "a054757dc3e146738759677ed00c090d",
            "2bd77a82d6494c6b81c689d60ca26aa6",
            "90ceef2f019e47c4a7450c54b7a23ef8",
            "aac73b067d5c4de69a1445e23f98d74d",
            "fc0df0ab5f0545ce97c30126d703b5c4",
            "2e723dcf301848ea8c3ae9f075fe671e",
            "983ec187d642462fbc1876a3c35f9c36",
            "f01bf535f1454403b4310412937e8b37",
            "232ea2957bf5443c88d50ce476c0ed31"
          ]
        },
        "id": "0pTBl9BrbC-g",
        "outputId": "cdac26db-640a-4ab7-b59e-457dba3e398a"
      },
      "execution_count": null,
      "outputs": [
        {
          "output_type": "display_data",
          "data": {
            "text/plain": [
              "  0%|          | 0/10 [00:00<?, ?it/s]"
            ],
            "application/vnd.jupyter.widget-view+json": {
              "version_major": 2,
              "version_minor": 0,
              "model_id": "1e439b246c2d4878be0590938f63f38d"
            }
          },
          "metadata": {}
        },
        {
          "output_type": "execute_result",
          "data": {
            "text/plain": [
              "[369, 383, 393, 362, 373, 319, 333, 375, 351, 394]"
            ]
          },
          "metadata": {},
          "execution_count": 46
        }
      ]
    },
    {
      "cell_type": "code",
      "source": [
        "# Combining two policies after filtered contents from regression\n",
        "s_two_policies = []\n",
        "for i in tqdm(range(10)):\n",
        "  random_content_ids = random.sample(list(training_data.content_id.unique()), 1500)\n",
        "  filtered_contents = data_collector.filter_content_ids(1, random_content_ids)\n",
        "  s_two_policies.append(\n",
        "    sum([policy_filter_two(training_data, content_id) for content_id in filtered_contents if policy_filter_one(training_data, content_id)])\n",
        "  )\n",
        "s_two_policies"
      ],
      "metadata": {
        "colab": {
          "base_uri": "https://localhost:8080/",
          "height": 1000,
          "referenced_widgets": [
            "a74fc55689554e21aafc6378a2e66dde",
            "607c8dcb66da4be58aa8cb1d33921e38",
            "3433fc244f0744179333e07d28b33784",
            "b30f2a7a40434a689e16ee256c3185a8",
            "2b54fb4d8d574523a06772c7e3f6c6bb",
            "ac621482a4934c63a167380d73253e19",
            "46a8cd9642f34bd698a38348f465dd65",
            "6462c91c6b9845188fab329832a066f5",
            "1004b68784d040dfb7bf2155d3ba72bd",
            "4d33f41b5c1443e1942c74cb70ef8089",
            "79cfefd45dab49ab864d8da9e05fcc3e"
          ]
        },
        "id": "2h81vBS-e2SG",
        "outputId": "49ce2f26-b4a6-406c-ecd3-b45960b946bd"
      },
      "execution_count": null,
      "outputs": [
        {
          "output_type": "display_data",
          "data": {
            "text/plain": [
              "  0%|          | 0/10 [00:00<?, ?it/s]"
            ],
            "application/vnd.jupyter.widget-view+json": {
              "version_major": 2,
              "version_minor": 0,
              "model_id": "a74fc55689554e21aafc6378a2e66dde"
            }
          },
          "metadata": {}
        },
        {
          "output_type": "stream",
          "name": "stderr",
          "text": [
            "/usr/local/lib/python3.10/dist-packages/sklearn/preprocessing/_encoders.py:868: FutureWarning: `sparse` was renamed to `sparse_output` in version 1.2 and will be removed in 1.4. `sparse_output` is ignored unless you leave `sparse` to its default value.\n",
            "  warnings.warn(\n",
            "/usr/local/lib/python3.10/dist-packages/sklearn/preprocessing/_encoders.py:868: FutureWarning: `sparse` was renamed to `sparse_output` in version 1.2 and will be removed in 1.4. `sparse_output` is ignored unless you leave `sparse` to its default value.\n",
            "  warnings.warn(\n",
            "/usr/local/lib/python3.10/dist-packages/sklearn/preprocessing/_encoders.py:868: FutureWarning: `sparse` was renamed to `sparse_output` in version 1.2 and will be removed in 1.4. `sparse_output` is ignored unless you leave `sparse` to its default value.\n",
            "  warnings.warn(\n",
            "/usr/local/lib/python3.10/dist-packages/sklearn/preprocessing/_encoders.py:868: FutureWarning: `sparse` was renamed to `sparse_output` in version 1.2 and will be removed in 1.4. `sparse_output` is ignored unless you leave `sparse` to its default value.\n",
            "  warnings.warn(\n",
            "/usr/local/lib/python3.10/dist-packages/sklearn/preprocessing/_encoders.py:868: FutureWarning: `sparse` was renamed to `sparse_output` in version 1.2 and will be removed in 1.4. `sparse_output` is ignored unless you leave `sparse` to its default value.\n",
            "  warnings.warn(\n",
            "/usr/local/lib/python3.10/dist-packages/sklearn/preprocessing/_encoders.py:868: FutureWarning: `sparse` was renamed to `sparse_output` in version 1.2 and will be removed in 1.4. `sparse_output` is ignored unless you leave `sparse` to its default value.\n",
            "  warnings.warn(\n",
            "/usr/local/lib/python3.10/dist-packages/sklearn/preprocessing/_encoders.py:868: FutureWarning: `sparse` was renamed to `sparse_output` in version 1.2 and will be removed in 1.4. `sparse_output` is ignored unless you leave `sparse` to its default value.\n",
            "  warnings.warn(\n",
            "/usr/local/lib/python3.10/dist-packages/sklearn/preprocessing/_encoders.py:868: FutureWarning: `sparse` was renamed to `sparse_output` in version 1.2 and will be removed in 1.4. `sparse_output` is ignored unless you leave `sparse` to its default value.\n",
            "  warnings.warn(\n",
            "/usr/local/lib/python3.10/dist-packages/sklearn/preprocessing/_encoders.py:868: FutureWarning: `sparse` was renamed to `sparse_output` in version 1.2 and will be removed in 1.4. `sparse_output` is ignored unless you leave `sparse` to its default value.\n",
            "  warnings.warn(\n",
            "/usr/local/lib/python3.10/dist-packages/sklearn/preprocessing/_encoders.py:868: FutureWarning: `sparse` was renamed to `sparse_output` in version 1.2 and will be removed in 1.4. `sparse_output` is ignored unless you leave `sparse` to its default value.\n",
            "  warnings.warn(\n",
            "/usr/local/lib/python3.10/dist-packages/sklearn/preprocessing/_encoders.py:868: FutureWarning: `sparse` was renamed to `sparse_output` in version 1.2 and will be removed in 1.4. `sparse_output` is ignored unless you leave `sparse` to its default value.\n",
            "  warnings.warn(\n",
            "/usr/local/lib/python3.10/dist-packages/sklearn/preprocessing/_encoders.py:868: FutureWarning: `sparse` was renamed to `sparse_output` in version 1.2 and will be removed in 1.4. `sparse_output` is ignored unless you leave `sparse` to its default value.\n",
            "  warnings.warn(\n",
            "/usr/local/lib/python3.10/dist-packages/sklearn/preprocessing/_encoders.py:868: FutureWarning: `sparse` was renamed to `sparse_output` in version 1.2 and will be removed in 1.4. `sparse_output` is ignored unless you leave `sparse` to its default value.\n",
            "  warnings.warn(\n",
            "/usr/local/lib/python3.10/dist-packages/sklearn/preprocessing/_encoders.py:868: FutureWarning: `sparse` was renamed to `sparse_output` in version 1.2 and will be removed in 1.4. `sparse_output` is ignored unless you leave `sparse` to its default value.\n",
            "  warnings.warn(\n",
            "/usr/local/lib/python3.10/dist-packages/sklearn/preprocessing/_encoders.py:868: FutureWarning: `sparse` was renamed to `sparse_output` in version 1.2 and will be removed in 1.4. `sparse_output` is ignored unless you leave `sparse` to its default value.\n",
            "  warnings.warn(\n",
            "/usr/local/lib/python3.10/dist-packages/sklearn/preprocessing/_encoders.py:868: FutureWarning: `sparse` was renamed to `sparse_output` in version 1.2 and will be removed in 1.4. `sparse_output` is ignored unless you leave `sparse` to its default value.\n",
            "  warnings.warn(\n",
            "/usr/local/lib/python3.10/dist-packages/sklearn/preprocessing/_encoders.py:868: FutureWarning: `sparse` was renamed to `sparse_output` in version 1.2 and will be removed in 1.4. `sparse_output` is ignored unless you leave `sparse` to its default value.\n",
            "  warnings.warn(\n",
            "/usr/local/lib/python3.10/dist-packages/sklearn/preprocessing/_encoders.py:868: FutureWarning: `sparse` was renamed to `sparse_output` in version 1.2 and will be removed in 1.4. `sparse_output` is ignored unless you leave `sparse` to its default value.\n",
            "  warnings.warn(\n",
            "/usr/local/lib/python3.10/dist-packages/sklearn/preprocessing/_encoders.py:868: FutureWarning: `sparse` was renamed to `sparse_output` in version 1.2 and will be removed in 1.4. `sparse_output` is ignored unless you leave `sparse` to its default value.\n",
            "  warnings.warn(\n",
            "/usr/local/lib/python3.10/dist-packages/sklearn/preprocessing/_encoders.py:868: FutureWarning: `sparse` was renamed to `sparse_output` in version 1.2 and will be removed in 1.4. `sparse_output` is ignored unless you leave `sparse` to its default value.\n",
            "  warnings.warn(\n",
            "/usr/local/lib/python3.10/dist-packages/sklearn/preprocessing/_encoders.py:868: FutureWarning: `sparse` was renamed to `sparse_output` in version 1.2 and will be removed in 1.4. `sparse_output` is ignored unless you leave `sparse` to its default value.\n",
            "  warnings.warn(\n",
            "/usr/local/lib/python3.10/dist-packages/sklearn/preprocessing/_encoders.py:868: FutureWarning: `sparse` was renamed to `sparse_output` in version 1.2 and will be removed in 1.4. `sparse_output` is ignored unless you leave `sparse` to its default value.\n",
            "  warnings.warn(\n",
            "/usr/local/lib/python3.10/dist-packages/sklearn/preprocessing/_encoders.py:868: FutureWarning: `sparse` was renamed to `sparse_output` in version 1.2 and will be removed in 1.4. `sparse_output` is ignored unless you leave `sparse` to its default value.\n",
            "  warnings.warn(\n",
            "/usr/local/lib/python3.10/dist-packages/sklearn/preprocessing/_encoders.py:868: FutureWarning: `sparse` was renamed to `sparse_output` in version 1.2 and will be removed in 1.4. `sparse_output` is ignored unless you leave `sparse` to its default value.\n",
            "  warnings.warn(\n",
            "/usr/local/lib/python3.10/dist-packages/sklearn/preprocessing/_encoders.py:868: FutureWarning: `sparse` was renamed to `sparse_output` in version 1.2 and will be removed in 1.4. `sparse_output` is ignored unless you leave `sparse` to its default value.\n",
            "  warnings.warn(\n",
            "/usr/local/lib/python3.10/dist-packages/sklearn/preprocessing/_encoders.py:868: FutureWarning: `sparse` was renamed to `sparse_output` in version 1.2 and will be removed in 1.4. `sparse_output` is ignored unless you leave `sparse` to its default value.\n",
            "  warnings.warn(\n",
            "/usr/local/lib/python3.10/dist-packages/sklearn/preprocessing/_encoders.py:868: FutureWarning: `sparse` was renamed to `sparse_output` in version 1.2 and will be removed in 1.4. `sparse_output` is ignored unless you leave `sparse` to its default value.\n",
            "  warnings.warn(\n",
            "/usr/local/lib/python3.10/dist-packages/sklearn/preprocessing/_encoders.py:868: FutureWarning: `sparse` was renamed to `sparse_output` in version 1.2 and will be removed in 1.4. `sparse_output` is ignored unless you leave `sparse` to its default value.\n",
            "  warnings.warn(\n",
            "/usr/local/lib/python3.10/dist-packages/sklearn/preprocessing/_encoders.py:868: FutureWarning: `sparse` was renamed to `sparse_output` in version 1.2 and will be removed in 1.4. `sparse_output` is ignored unless you leave `sparse` to its default value.\n",
            "  warnings.warn(\n",
            "/usr/local/lib/python3.10/dist-packages/sklearn/preprocessing/_encoders.py:868: FutureWarning: `sparse` was renamed to `sparse_output` in version 1.2 and will be removed in 1.4. `sparse_output` is ignored unless you leave `sparse` to its default value.\n",
            "  warnings.warn(\n"
          ]
        },
        {
          "output_type": "execute_result",
          "data": {
            "text/plain": [
              "[292, 298, 277, 282, 255, 279, 277, 278, 276, 252]"
            ]
          },
          "metadata": {},
          "execution_count": 63
        }
      ]
    },
    {
      "cell_type": "code",
      "source": [],
      "metadata": {
        "id": "8uEUv0xOm8Zk"
      },
      "execution_count": null,
      "outputs": []
    }
  ]
}