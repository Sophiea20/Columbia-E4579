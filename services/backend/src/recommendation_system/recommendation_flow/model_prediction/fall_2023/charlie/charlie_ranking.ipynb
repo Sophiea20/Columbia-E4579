{
  "nbformat": 4,
  "nbformat_minor": 0,
  "metadata": {
    "colab": {
      "provenance": [],
      "gpuType": "T4"
    },
    "kernelspec": {
      "name": "python3",
      "display_name": "Python 3"
    },
    "language_info": {
      "name": "python"
    },
    "accelerator": "GPU"
  },
  "cells": [
    {
      "cell_type": "markdown",
      "source": [
        "# **Guidelines**\n",
        "\n",
        "## Process Overview\n",
        "The ranking step includes 2 sub-processes:\n",
        "1. Scoring: In this step, you will train a scoring model to predict 3 types of score: probability of like, probability of dislike, and engagement time.\n",
        "2. Ranking: In this step, you will create a ranking policy to rank the items based on the output from previous step.\n",
        "\n",
        "\n",
        "## Your Task\n",
        "\n",
        "### 1. Modify `DataCollectorExample()`\n",
        "also rename it to `DataCollector{Team}()` juts like previous assignment. All of the functions in `DataCollectorExample()` need to be modified (They're the ones with `raise NotImplementedError(\"you need to implement this\")` in `DataCollector()`). The explaination of each function includes in their own docstring with example code.\n",
        "\n",
        "Some important points worth noting are:\n",
        "1. for `.feature_generation_user()` and `.feature_generation_content()`, you DO NOT need to apply one-hot encoding or scaler since this process will be done by our pipeline using `.postprocess_feature()`, which will also save the `Postprocessor()` class as a pickle file to be used for testing and inference step. You will need to output names of numerical features and categorical features along with the feature dataframe.\n",
        "2. When engineering target variables with `.get_Ys()`, you'll need to output 3 columns of target variables (`'like'`, `'dislike'`, `'engage_time'`). Be careful of how you create each target variable. What happen if a user like an item then change their mind and dislike it? What if a user see the same content twice, what would be the engagement time?\n",
        "3. Be creative of how you would create your ranking policy in `.rank()`. You have 3 scores that your ranking can be based on. Which score(s) would you optimise your ranking for? How would you trade-off one with others? Can you rank base on all 3 of them, if so, how would you combine them? You can also join the score dataframe with `self.generated_content_metadata` to use the original content features as part of ranking.\n",
        "\n",
        "### 2. Train Model\n",
        "Use the cell `Training: Create your own training` to train your model. Feel free to select any model you like. In the example, I use train 1 model for each target variable, resulting in 3 models. If you can find a model that can produce 3 output values (e.g. Neural Network), feel free to do so.\n",
        "\n",
        "Some important points worth noting are:\n",
        "1. Make sure you save the model to **ONLY 1 file**. Even if you make 3 models, put them into a list or dictionary and save the whole object to 1 file.\n",
        "2. Depending on your modelling approach, you'll need your own way to load the model to make predictions. Thus, modify the `.load_model()` in `DataCollectorExample()` reflect this.\n",
        "3. Once you train your model, you can use the example evaluation cells to evaluate your model. There's no need to change anything about the evaluation except the thresholds variable. These thresholds decide at what probability we'll consider the prediction as like and dislike. **NOTE** that this only test your scoring model, not your ranking policy. Testing for ranking policy is much more complicated since we're not only optimizing the number of likes and thus cannot be done offline.\n",
        "\n",
        "\n",
        "# Test Your Model\n",
        "Once you have the scoring model and ranking policy, you can use the `Inference Example` cell to run your pipeline and see the output of recommended items from your model.\n",
        "\n",
        "# Submit your work\n",
        "\n",
        "1. Put `postprocessor.pkl` and your model file into `Columbia-E4579/services/backend/src/recommendation_system/recommendation_flow/model_prediction` folder on your branch. Make sure to rename them as `{team}_postprocessor.pkl` and `{team}_model.pkl` (E.g. `alpha_postprocessor.pkl` and `alpha_model.pkl`). Both `postprocessor.pkl` and your model file will be saved in `sampled_data` in your Colab work space. Since this workspace is cleared everytime you restart the Colab, please also save the postprocessor and model files on your local machine if you want to keep them.\n",
        "\n",
        "2. Download your Colab as `.ipynb` file, rename it as `{team}_ranking.ipynb` (e.g. `alpha_ranking.ipynb`), and also place it in `Columbia-E4579/services/backend/src/recommendation_system/recommendation_flow/model_prediction` folder on your branch.\n",
        "\n",
        "You'll then merge your branch with these files into Professor's branch.\n"
      ],
      "metadata": {
        "id": "6NC29c_YJNFJ"
      }
    },
    {
      "cell_type": "markdown",
      "source": [
        "# Imports"
      ],
      "metadata": {
        "id": "KBiX1FEG1nXj"
      }
    },
    {
      "cell_type": "code",
      "execution_count": 1,
      "metadata": {
        "id": "NkuqgSAjwlnY"
      },
      "outputs": [],
      "source": [
        "import pandas as pd\n",
        "import numpy as np\n",
        "import sklearn\n",
        "import warnings\n",
        "from google.colab import drive\n",
        "from tqdm import tqdm\n",
        "from sklearn.linear_model import LogisticRegression\n",
        "from sklearn.model_selection import train_test_split\n",
        "\n",
        "\n",
        "warnings.simplefilter(category=pd.errors.PerformanceWarning, action=\"ignore\")\n",
        "warnings.simplefilter(category=pd.errors.SettingWithCopyWarning, action=\"ignore\")\n",
        "warnings.simplefilter(category=sklearn.exceptions.ConvergenceWarning, action=\"ignore\")"
      ]
    },
    {
      "cell_type": "markdown",
      "source": [
        "# DataCollector - Do Not Modify"
      ],
      "metadata": {
        "id": "pSXqZ70o1omv"
      }
    },
    {
      "cell_type": "code",
      "source": [
        "import pandas as pd\n",
        "import numpy as np\n",
        "import pickle\n",
        "from sqlalchemy.sql.schema import ScalarElementColumnDefault\n",
        "from sklearn.preprocessing import OneHotEncoder\n",
        "from sklearn.preprocessing import StandardScaler, Normalizer\n",
        "from typing import Tuple, List, Optional\n",
        "\n",
        "\n",
        "class Postprocessor:\n",
        "    def __init__(self, numberical_features: List[str], categorical_features: List[str]):\n",
        "        self.numberical_features = numberical_features\n",
        "        self.categorical_features = categorical_features\n",
        "        self.scaler = StandardScaler()\n",
        "        self.encoder = OneHotEncoder(sparse_output=False, handle_unknown='ignore')\n",
        "        self.encode_cols = []\n",
        "\n",
        "    def fit(self, features_df: pd.DataFrame):\n",
        "        self.scaler.fit(features_df[self.numberical_features])\n",
        "        if len(self.categorical_features) > 0:\n",
        "            self.encoder.fit(features_df[self.categorical_features])\n",
        "            self.encode_cols = list(self.encoder.get_feature_names_out())\n",
        "\n",
        "    def transform(self, features_df: pd.DataFrame) -> pd.DataFrame:\n",
        "        features_df[self.numberical_features] = self.scaler.transform(features_df[self.numberical_features])\n",
        "        if len(self.categorical_features) > 0:\n",
        "            features_df[self.encode_cols] = self.encoder.transform(features_df[self.categorical_features])\n",
        "        return features_df\n",
        "\n",
        "    def fit_transform(self, features_df: pd.DataFrame) -> pd.DataFrame:\n",
        "        self.fit(features_df)\n",
        "        features_df = self.transform(features_df)\n",
        "        return features_df\n",
        "\n",
        "\n",
        "class DataCollector:\n",
        "    def __init__(self, engagement_path=None, content_meta_path=None):\n",
        "        self.engagement_path = engagement_path\n",
        "        self.content_meta_path = content_meta_path\n",
        "        self.objects_dir = 'sample_data'\n",
        "        self.numerical_features = []\n",
        "        self.categorical_features = []\n",
        "        self.postprocessor = None\n",
        "        self.model = None\n",
        "\n",
        "    def feature_generation_user(self) -> Tuple[pd.DataFrame, List[str], List[str]]:\n",
        "        \"\"\"\n",
        "        Returns\n",
        "          pd.DataFrame: User feature dataframe\n",
        "          List[str]: List of numerical features. E.g. ['feat_1', 'feat_3', ...]\n",
        "          List[str]: List of categorical features. E.g. ['feat_2', 'feat_4', ...]\n",
        "        \"\"\"\n",
        "        raise NotImplementedError(\"you need to implement this\")\n",
        "\n",
        "    def feature_generation_content(self) -> Tuple[pd.DataFrame, List[str], List[str]]:\n",
        "        \"\"\"\n",
        "        Returns\n",
        "          pd.DataFrame: Content feature dataframe\n",
        "          List[str]: List of numerical features. E.g. ['feat_1', 'feat_3', ...]\n",
        "          List[str]: List of categorical features. E.g. ['feat_2', 'feat_4', ...]\n",
        "        \"\"\"\n",
        "        raise NotImplementedError(\"you need to implement this\")\n",
        "\n",
        "    def get_Ys(self, data: pd.DataFrame) -> pd.DataFrame:\n",
        "        \"\"\"\n",
        "        Engineers target variable.\n",
        "        Args\n",
        "            data (pd.DataFrame): Engagement data.\n",
        "        Returns\n",
        "            pd.DataFrame: Dataframe of 5 columns: 'user_id', 'content_id', 'like', 'dislike', 'engage_time'\n",
        "        \"\"\"\n",
        "        raise NotImplementedError(\"you need to implement this\")\n",
        "\n",
        "    def feature_generation(self, is_train=False) -> pd.DataFrame:\n",
        "        \"\"\"\n",
        "        Generate features. If is_train, will generate features for user-content pairs\n",
        "        exist in self.engagement_data. Else, will generate features for\n",
        "        all possible user-content pairs.\n",
        "        Args:\n",
        "            is_train (bool): Whether in training mode.\n",
        "\n",
        "        Returns:\n",
        "            pd.DataFrame: Feature dataframe.\n",
        "\n",
        "        \"\"\"\n",
        "        user_feature_df, user_num_feats, user_cat_feats = self.feature_generation_user()\n",
        "        content_feature_df, content_num_feats, content_cat_feats = self.feature_generation_content()\n",
        "        self.user_feature_df = user_feature_df\n",
        "        self.content_feature_df = content_feature_df\n",
        "        self.numerical_features = user_num_feats + content_num_feats\n",
        "        self.categorical_features = user_cat_feats + content_cat_feats\n",
        "        if is_train:\n",
        "            interaction_pairs = self.engagement_data[['user_id', 'content_id']].drop_duplicates()\n",
        "        else:\n",
        "            all_users = self.engagement_data['user_id'].drop_duplicates().tolist()\n",
        "            all_contents = self.generated_content_metadata['content_id'].drop_duplicates().tolist()\n",
        "            interaction_pairs = [(u, c) for u in all_users for c in all_contents]\n",
        "            interaction_pairs = pd.DataFrame(interaction_pairs, columns=['user_id', 'content_id'])\n",
        "        features_df = pd.merge(interaction_pairs, user_feature_df, on='user_id', how='left')\n",
        "        features_df = pd.merge(features_df, content_feature_df, on='content_id', how='left')\n",
        "        return features_df\n",
        "\n",
        "    def get_engagement_data(self, user_id=None, content_ids=None):\n",
        "        if self.engagement_path is None:\n",
        "            pass\n",
        "        else:\n",
        "            df = pd.read_csv(self.engagement_path, sep=\"\\t\")\n",
        "        if content_ids is not None:\n",
        "            df = df[df['content_id'].isin(content_ids)]\n",
        "        if user_id is not None:\n",
        "            df = df[df['user_id'] == user_id]\n",
        "        return df\n",
        "\n",
        "    def get_generated_content_metadata(self, content_ids=None):\n",
        "        if self.content_meta_path is None:\n",
        "            pass\n",
        "        else:\n",
        "            df = pd.read_csv(self.content_meta_path, sep=\"\\t\")\n",
        "\n",
        "        if content_ids is not None:\n",
        "            df = df[df['content_id'].isin(content_ids)]\n",
        "        return df\n",
        "\n",
        "    def get_user_data(self, user_id=None):\n",
        "        if self.engagement_path is None:\n",
        "            pass\n",
        "        else:\n",
        "            df = pd.read_csv(self.engagement_path, sep=\"\\t\")\n",
        "        if user_id is not None:\n",
        "            df = df[df['user_id'] == user_id]\n",
        "        return df\n",
        "\n",
        "    def gather_data(self, user_id, content_ids):\n",
        "        self.engagement_data = self.get_engagement_data(user_id, content_ids)\n",
        "        self.generated_content_metadata = self.get_generated_content_metadata(content_ids)\n",
        "        self.user_data = self.get_user_data(user_id)\n",
        "        if len(self.engagement_data) == 0:\n",
        "            raise Exception(\"either user_id or content_ids leads to empty engagement_data\")\n",
        "        if len(self.generated_content_metadata) == 0:\n",
        "            raise Exception(\"content_ids leads to empty generated_content_metadata\")\n",
        "        if len(self.user_data) == 0:\n",
        "            raise Exception(\"user_id leads to empty user_data\")\n",
        "\n",
        "    def postprocess_feature(self, features_df: pd.DataFrame, is_train=False) -> pd.DataFrame:\n",
        "        \"\"\"\n",
        "        Applied postprocessings (one-hot encoding & scaler) to the feature dataframe.\n",
        "        Args:\n",
        "            features_df (pd.DataFrame): Input feature dataframe.\n",
        "            is_train (bool): Whether in training mode. If True, will fit the Postprocessor() and save to a pickle file. Else, will load the\n",
        "                saved Postprocessor() and use it.\n",
        "        Returns:\n",
        "            pd.DataFrame: Output feature dataframe.\n",
        "        \"\"\"\n",
        "        if is_train:\n",
        "            self.postprocessor = Postprocessor(self.numerical_features, self.categorical_features)\n",
        "            features_df = self.postprocessor.fit_transform(features_df)\n",
        "            self.save_postprocessor()\n",
        "        else:\n",
        "            self.postprocessor = self.load_postprocessor()\n",
        "            features_df = self.postprocessor.transform(features_df)\n",
        "        self.all_numeric_features = self.numerical_features + self.postprocessor.encode_cols\n",
        "        return features_df\n",
        "\n",
        "    def gen_model_input(self, user_id: Optional[int] = None, content_ids: Optional[list] = None, is_train: bool = False) -> pd.DataFrame:\n",
        "        \"\"\"\n",
        "        Generates input data (X) for model.\n",
        "        Args:\n",
        "            user_id (Optional[int]): User ID to generate features for. If None, will generate features for all available users in self.engagement_data.\n",
        "            content_ids (Optional[list]): List of content ID to generate features for. If None, will generate features for all available contents\n",
        "                in self.engagement_data.\n",
        "            is_train (bool): Whether in training mode. If True, will generate features for user-content pairs exist in self.engagement_data. Else,\n",
        "                will generate features for all possible user-content pairs.\n",
        "        Returns:\n",
        "            pd.DataFrame: Dataframe of features with 2-level index of ('user_id', 'content_id').\n",
        "        \"\"\"\n",
        "        self.gather_data(user_id, content_ids)\n",
        "        features_df = self.feature_generation(is_train)\n",
        "        features_df = self.postprocess_feature(features_df, is_train)\n",
        "        X = features_df.set_index(['user_id', 'content_id'])\n",
        "        X = X[self.all_numeric_features]\n",
        "        X = X.fillna(0)\n",
        "        return X\n",
        "\n",
        "    def gen_target_vars(self, engagement_data: Optional[pd.DataFrame] = None) -> pd.DataFrame:\n",
        "        \"\"\"\n",
        "        Wrapper to generate target variables.\n",
        "        Args:\n",
        "            engagement_data (Optional[pd.DataFrame]): Engagement data. If None, will use self.engagement_data which is loaded for training.\n",
        "                For testing, parse in the engagement_data for testing.\n",
        "\n",
        "        Returns:\n",
        "            pd.DataFrame: Dataframe of 3 columns; 'like', 'dislike', 'engage_time' and 2-level index of ('user_id', 'content_id').\n",
        "        \"\"\"\n",
        "        if engagement_data is None:\n",
        "            engagement_data = self.engagement_data\n",
        "        target_df = self.get_Ys(engagement_data)\n",
        "        return target_df.set_index(['user_id', 'content_id'])\n",
        "\n",
        "    def save_postprocessor(self):\n",
        "        with open(f'{self.objects_dir}/postprocessor.pkl', 'wb') as f:\n",
        "            pickle.dump(self.postprocessor, f)\n",
        "\n",
        "    def load_postprocessor(self):\n",
        "        with open(f'{self.objects_dir}/postprocessor.pkl', 'rb') as f:\n",
        "            return pickle.load(f)\n",
        "\n",
        "    def load_model(self):\n",
        "        raise NotImplementedError(\"you need to implement this\")\n",
        "\n",
        "    def predict(self, X) -> Tuple[list, list, list]:\n",
        "        raise NotImplementedError(\"you need to implement this\")\n",
        "\n",
        "    def rank(self, pred_score, user_id, content_id):\n",
        "        raise NotImplementedError(\"you need to implement this\")\n",
        "\n",
        "    def score(self, user_id: Optional[int] = None, content_ids: Optional[list] = None) -> pd.DataFrame:\n",
        "        \"\"\"\n",
        "        Predict the scores.\n",
        "        Args:\n",
        "            user_id (Optional[int]): User ID to generate features for. If None, will generate features for all available users in self.engagement_data.\n",
        "            content_ids (Optional[list]): List of content ID to generate features for. If None, will generate features for all available contents\n",
        "                in self.engagement_data.\n",
        "        Returns:\n",
        "            pd.DataFrame: Predicted score dataframe with 2-level index of (user_id, content_id). The dataframe also comes with the original content metadata which also\n",
        "                can be used for ranking.\n",
        "        \"\"\"\n",
        "        X = self.gen_model_input(user_id, content_ids, is_train=False)\n",
        "        pred_like, pred_dislike, pred_engtime = self.predict(X)\n",
        "        pred_df = pd.DataFrame(np.array([pred_like, pred_dislike, pred_engtime]).T, index=X.index, columns=['like', 'dislike', 'engage_time']).reset_index()\n",
        "        pred_df = pd.merge(self.generated_content_metadata, pred_df, how='right', on='content_id')\n",
        "        return pred_df.set_index(['user_id', 'content_id'])\n",
        "\n",
        "    def recommend(self, user_id, content_ids=None, top_k=20):\n",
        "        score_df = self.score(user_id, content_ids).reset_index()\n",
        "        rank = self.rank(score_df, user_id, content_ids)\n",
        "        return rank[:top_k]"
      ],
      "metadata": {
        "id": "4CMmBKnre2Hv"
      },
      "execution_count": 2,
      "outputs": []
    },
    {
      "cell_type": "code",
      "source": [
        "from sklearn.metrics import recall_score, precision_score, mean_squared_error\n",
        "\n",
        "\n",
        "\n",
        "def evaluate(true_df: pd.DataFrame, pred_df: pd.DataFrame, thres_like: float = 0.5, thres_dislike: float = 0.5) -> dict:\n",
        "    \"\"\"\n",
        "    Compute evaluation metrics.\n",
        "    Args:\n",
        "        true_df (pd.DataFrame): Dataframe of true target variables.\n",
        "        pred_df (pd.DataFrame): Dataframe of predicted target variables.\n",
        "        thres_like (float): Probability threshold to consider a prediction as like.\n",
        "        thres_dislike (float): Probability threshold to consider as a prediction dislike.\n",
        "    Returns:\n",
        "        dict: Dictionary of metrics.\n",
        "    \"\"\"\n",
        "    true_df = true_df.reset_index()\n",
        "    pred_df = pred_df[['like', 'dislike', 'engage_time']].reset_index()\n",
        "    pred_df['like'] = (pred_df['like'] > thres_like).astype(int)\n",
        "    pred_df['dislike'] = (pred_df['dislike'] > thres_dislike).astype(int)\n",
        "    actual_user_content = true_df[['user_id', 'content_id']]\n",
        "    pred_user_content = pred_df[['user_id', 'content_id']]\n",
        "    common_user_content = pd.merge(actual_user_content, pred_user_content, how='inner', on=['user_id', 'content_id'])\n",
        "    true_df = pd.merge(common_user_content, true_df, how='left', on=['user_id', 'content_id'])\n",
        "    pred_df = pd.merge(common_user_content, pred_df, how='left', on=['user_id', 'content_id'])\n",
        "    metrics = {}\n",
        "    for col in ['like', 'dislike', 'engage_time']:\n",
        "        metrics[col] = {}\n",
        "        if col == 'engage_time':\n",
        "            metrics[col]['rmse'] = np.sqrt(mean_squared_error(true_df[col], pred_df[col]))\n",
        "        else:\n",
        "            metrics[col]['precision'] = precision_score(true_df[col], pred_df[col])\n",
        "            metrics[col]['recall'] = recall_score(true_df[col], pred_df[col])\n",
        "    return metrics"
      ],
      "metadata": {
        "id": "hLGG-J71qkzp"
      },
      "execution_count": 3,
      "outputs": []
    },
    {
      "cell_type": "markdown",
      "source": [
        "# Your Implementation - Example Here, Must Modify"
      ],
      "metadata": {
        "id": "DA9SBLao1s4f"
      }
    },
    {
      "cell_type": "code",
      "source": [
        "class DataCollectorCharlie(DataCollector):\n",
        "    def feature_generation_user(self) -> Tuple[pd.DataFrame, List[str], List[str]]:\n",
        "        \"\"\"\n",
        "        Generates user features. Keep all the categorical variables as is, since the one-hot encoding will be done\n",
        "        by our own pipeline. Along with the feature dataframe, you'll need to output lists of numerical features\n",
        "        and categorical features as well.\n",
        "        Returns:\n",
        "            pd.DataFrame: User feature dataframe\n",
        "            List[str]: List of numerical features. E.g. ['feat_1', 'feat_3', ...]\n",
        "            List[str]: List of categorical features. E.g. ['feat_2', 'feat_4', ...]\n",
        "        \"\"\"\n",
        "        user_data_copy = self.user_data.drop_duplicates().copy()\n",
        "        e_time = user_data_copy[user_data_copy[\"engagement_type\"] == \"MillisecondsEngagedWith\"]\n",
        "        e_time = e_time.pivot_table(values=\"engagement_value\", index=[\"content_id\", \"user_id\"], aggfunc=\"sum\")\n",
        "        e_time.reset_index(drop=False, inplace=True)\n",
        "        like_dislike = user_data_copy[user_data_copy[\"engagement_type\"] != \"MillisecondsEngagedWith\"]\n",
        "        like_dislike.rename(columns={\"engagement_value\": \"reaction\"}, inplace=True)\n",
        "        like_dislike = like_dislike.merge(e_time[[\"content_id\", \"user_id\", \"engagement_value\"]], on=[\"content_id\", \"user_id\"])\n",
        "        like_summary = like_dislike[like_dislike.reaction == 1].pivot_table(values=\"engagement_value\", index=\"user_id\", aggfunc=\"mean\")\n",
        "        like_summary.rename(columns={\"engagement_value\": \"like_avg_engagement_time\"}, inplace=True)\n",
        "        like_summary.reset_index(drop=False, inplace=True)\n",
        "        dislike_summary = like_dislike[like_dislike.reaction == -1].pivot_table(values=\"engagement_value\", index=\"user_id\", aggfunc=\"mean\")\n",
        "        dislike_summary.rename(columns={\"engagement_value\": \"dislike_avg_engagement_time\"}, inplace=True)\n",
        "        dislike_summary.reset_index(drop=False, inplace=True)\n",
        "        counts = user_data_copy.pivot_table(values=\"content_id\", index=\"user_id\", aggfunc=\"count\")\n",
        "        time_sum = e_time.pivot_table(values=\"engagement_value\", index=\"user_id\", aggfunc=\"mean\")\n",
        "        counts.reset_index(drop=False, inplace=True)\n",
        "        time_sum.reset_index(drop=False, inplace=True)\n",
        "        feature_df = pd.merge(left=counts, right=time_sum, on=\"user_id\")\n",
        "        feature_df = feature_df.merge(like_summary, on=\"user_id\", how=\"outer\")\n",
        "        feature_df = feature_df.merge(dislike_summary, on=\"user_id\", how=\"outer\")\n",
        "        feature_df = feature_df.fillna(0)\n",
        "        feature_df = feature_df.rename(columns={\"content_id\": \"content_count\", \"engagement_value\": \"avg_engagement_time\"})\n",
        "        return feature_df, [\"content_count\", \"avg_engagement_time\", \"like_avg_engagement_time\", \"dislike_avg_engagement_time\"], []\n",
        "\n",
        "    def feature_generation_content(self) -> Tuple[pd.DataFrame, List[str], List[str]]:\n",
        "        \"\"\"\n",
        "        Generates content features. Keep all the categorical variables as is, since the one-hot encoding will be\n",
        "        done by our own pipeline. Along with the feature dataframe, you'll need to output lists of numberical\n",
        "        features and categorical features as well.\n",
        "        Returns:\n",
        "            pd.DataFrame: User feature dataframe\n",
        "            List[str]: List of numerical features. E.g. ['feat_1', 'feat_3', ...]\n",
        "            List[str]: List of categorical features. E.g. ['feat_2', 'feat_4', ...]\n",
        "        \"\"\"\n",
        "        feature_df = self.generated_content_metadata.drop_duplicates().copy()\n",
        "        top_artist_styles = feature_df[\"artist_style\"].value_counts().nlargest(50)\n",
        "        top_sources = feature_df[\"source\"].value_counts().nlargest(50)\n",
        "        feature_df[\"artist_style\"] = feature_df[\"artist_style\"].apply(\n",
        "            lambda x: x if x in top_artist_styles else \"other_artist_style\"\n",
        "        )\n",
        "        feature_df[\"source\"] = feature_df[\"source\"].apply(\n",
        "            lambda x: x if x in top_sources else \"other_source\"\n",
        "        )\n",
        "        num_inference_steps_mapping = {20: \"Low\", 50: \"Medium\", 75: \"Relatively_high\", 100: \"High\"}\n",
        "        feature_df[\"num_inference_steps_level\"] = feature_df[\"num_inference_steps\"].apply(lambda x: num_inference_steps_mapping[x])\n",
        "        feature_df.drop(\"num_inference_steps\", axis=1, inplace=True)\n",
        "        return feature_df, [\"guidance_scale\"], [\"num_inference_steps_level\", \"artist_style\", \"source\"]\n",
        "\n",
        "    def get_Ys(self, engagement_data) -> pd.DataFrame:\n",
        "        engage_time_df = engagement_data[engagement_data['engagement_type'] == 'MillisecondsEngagedWith'].copy()\n",
        "        like_df = engagement_data[engagement_data['engagement_type'] == 'Like'].copy()\n",
        "        engage_time_df = engage_time_df.groupby(['user_id', 'content_id'])['engagement_value'].sum().reset_index()\n",
        "        engage_time_df.rename(columns={'engagement_value': 'engage_time'}, inplace=True)\n",
        "        like_df['like'] = (like_df['engagement_value'] == 1).astype(int)\n",
        "        like_df['dislike'] = (like_df['engagement_value'] == -1).astype(int)\n",
        "        like_df.drop(['engagement_type', 'engagement_value'], axis=1, inplace=True)\n",
        "        like_df = like_df.groupby(['user_id', 'content_id']).agg({'like': 'max', 'dislike': 'max'}).reset_index()\n",
        "        processed_df = pd.merge(engage_time_df, like_df, on=['user_id', 'content_id'], how='outer')\n",
        "        processed_df[\"like\"] = processed_df[\"like\"].fillna(0)\n",
        "        processed_df[\"dislike\"] = processed_df[\"dislike\"].fillna(0)\n",
        "        avg_engage_time = processed_df[\"engage_time\"].mean()\n",
        "        processed_df[\"engage_time\"] = processed_df[\"engage_time\"].fillna(avg_engage_time)\n",
        "        return processed_df\n",
        "\n",
        "    def load_model(self) -> object:\n",
        "        \"\"\"\n",
        "        Loads your model. Since different ML frameworks requires different ways to load the model. Change this to reflect your choice of framework.\n",
        "        Returns:\n",
        "            object: Model object\n",
        "        \"\"\"\n",
        "        with open(f'{self.objects_dir}/model.pkl', 'rb') as f:\n",
        "            return pickle.load(f)\n",
        "\n",
        "    def predict(self, X: pd.DataFrame) -> Tuple[list, list, list]:\n",
        "        \"\"\"\n",
        "        Predicts the 3 target variables by using the model that you trained.\n",
        "        Make sure you load the model properly.\n",
        "        Args:\n",
        "            X (pd.DataFrame): Feature dataframe with 2-level index of (user_id, content_id)\n",
        "\n",
        "        Returns:\n",
        "            (list, list, list): (predicted prbability of like, predicted probability of dislike, predicted engagement time)\n",
        "        \"\"\"\n",
        "        model = self.load_model()\n",
        "        pred_like_proba = model['like'].predict_proba(X)\n",
        "        pred_like = [p[1] for p in pred_like_proba]\n",
        "        pred_dislike_proba = model['dislike'].predict_proba(X)\n",
        "        pred_dislike = [p[1] for p in pred_dislike_proba]\n",
        "        pred_engtime = model['engage_time'].predict(X)\n",
        "        return pred_like, pred_dislike, pred_engtime\n",
        "\n",
        "    def rank(self, score_df: pd.DataFrame, user_id: int, content_ids: Optional[list] = None) -> list:\n",
        "        \"\"\"\n",
        "        Ranks the items for a given user based on your own criteria.\n",
        "        Args:\n",
        "            score_df (pd.DataFrame): Predicted-score Dataframe of columns: 'user_id', 'content_id', 'like',\n",
        "                'dislike', 'engage_time', and\n",
        "                also columns for content metadata.\n",
        "            user_id (int): User ID to rank the items for.\n",
        "            content_ids (Optional[list]): List of content ids to be considered for ranking.\n",
        "        \"\"\"\n",
        "        user_data = score_df[score_df['user_id'] == user_id]\n",
        "\n",
        "        # We are standardarize the engage time because the range is different as compared to like and dislike\n",
        "        scaler = StandardScaler()\n",
        "        user_data['engage_time'] = scaler.fit_transform(user_data['engage_time'].values.reshape(-1, 1))\n",
        "\n",
        "        # Changing the range from [-1, 1] to [0, 1] for consitency\n",
        "        user_data['engage_time'] = (user_data['engage_time'] + 1) / 2\n",
        "\n",
        "        # We are combining like and dislike probability to capture the overall sentiment with more weights to dislike\n",
        "        # Also including the engage time with weighted average with lower weight as \"like\" and \"dislike\" are stronger actions\n",
        "        user_data['rank'] = 0.6 * (0.3 * user_data['like'] - 0.7 * user_data['dislike']) + 0.4 * user_data['engage_time']\n",
        "\n",
        "        ## Adding a column to represent the artist_style of the previous content\n",
        "        user_data['prev_artist_style'] = user_data['artist_style'].shift(1)\n",
        "\n",
        "        ## Creating a mask to identify rows where the current and previous artist_style are the same\n",
        "        artist_style_mask = user_data['artist_style'] == user_data['prev_artist_style']\n",
        "\n",
        "        ## Assigning a penalty to the rank for rows where the artist_style is the same as the previous one\n",
        "        user_data.loc[artist_style_mask, 'rank'] -= 0.1\n",
        "\n",
        "        ranked_pred = user_data.sort_values('rank', ascending=False)\n",
        "        return ranked_pred['content_id'].tolist()"
      ],
      "metadata": {
        "id": "JPKXbKCze2mF"
      },
      "execution_count": 4,
      "outputs": []
    },
    {
      "cell_type": "markdown",
      "source": [
        "# Training"
      ],
      "metadata": {
        "id": "LMev-xwJ11d5"
      }
    },
    {
      "cell_type": "markdown",
      "source": [
        "## Train Test Split"
      ],
      "metadata": {
        "id": "Ep6q_8-fH0Na"
      }
    },
    {
      "cell_type": "code",
      "source": [
        "engagement_data = pd.read_csv('sample_data/engagement.csv', sep=\"\\t\")\n",
        "content_meta = pd.read_csv('sample_data/generated_content_metadata.csv', sep=\"\\t\")\n",
        "interactions = engagement_data[['user_id', 'content_id']].drop_duplicates()\n",
        "interactions_train, interactions_test = train_test_split(interactions, test_size=0.2, random_state=42)\n",
        "engagement_train = pd.merge(interactions_train, engagement_data, how='left', on=['user_id', 'content_id'])\n",
        "engagement_test = pd.merge(interactions_test, engagement_data, how='left', on=['user_id', 'content_id'])\n",
        "engagement_train.to_csv('sample_data/engagement_train.csv', sep=\"\\t\")\n",
        "engagement_test.to_csv('sample_data/engagement_test.csv', sep=\"\\t\")"
      ],
      "metadata": {
        "id": "rOIw6gAeDVSp"
      },
      "execution_count": 5,
      "outputs": []
    },
    {
      "cell_type": "code",
      "source": [
        "data_collector = DataCollectorCharlie(engagement_path='sample_data/engagement_train.csv', content_meta_path='sample_data/generated_content_metadata.csv')\n",
        "X_train = data_collector.gen_model_input(is_train=True)\n",
        "y_train = data_collector.gen_target_vars()\n",
        "\n",
        "# Ensure that each row of y_train corresponds to the correct user-content in X_train\n",
        "y_train = y_train.reindex(index=X_train.index)"
      ],
      "metadata": {
        "id": "yvMO4tMXe9io"
      },
      "execution_count": 6,
      "outputs": []
    },
    {
      "cell_type": "markdown",
      "source": [
        "## Training: Create your own training\n",
        "Make sure you save the model somewhere so you can send the model file to the professor later."
      ],
      "metadata": {
        "id": "Vw2A1Ha_HwbZ"
      }
    },
    {
      "cell_type": "code",
      "source": [
        "from sklearn.linear_model import ElasticNet\n",
        "from sklearn.linear_model import Lasso\n",
        "from sklearn.linear_model import Ridge\n",
        "from sklearn.linear_model import LogisticRegression\n",
        "from sklearn.tree import DecisionTreeClassifier\n",
        "\n",
        "model_like = DecisionTreeClassifier()\n",
        "model_like.fit(X_train, y_train[\"like\"])\n",
        "model_dislike = DecisionTreeClassifier()\n",
        "model_dislike.fit(X_train, y_train['dislike'])\n",
        "model_engtime = ElasticNet()\n",
        "model_engtime.fit(X_train, y_train['engage_time'])\n",
        "model = {'like': model_like, 'dislike': model_dislike, 'engage_time': model_engtime}\n",
        "with open('sample_data/model.pkl','wb') as f:\n",
        "    pickle.dump(model, f)"
      ],
      "metadata": {
        "id": "G0qdC9f2UhgO"
      },
      "execution_count": 7,
      "outputs": []
    },
    {
      "cell_type": "markdown",
      "source": [
        "# Evaluation"
      ],
      "metadata": {
        "id": "xHQoFOGdIOm_"
      }
    },
    {
      "cell_type": "code",
      "source": [
        "# Simulates contents filtered from previous stage.\n",
        "# Feel free to change this to reflect your previous stage.\n",
        "sample_contents = content_meta['content_id'].sample(frac=0.05)"
      ],
      "metadata": {
        "id": "oxZ6qbDwGXRp"
      },
      "execution_count": 8,
      "outputs": []
    },
    {
      "cell_type": "code",
      "source": [
        "# Get true target variables\n",
        "y_true = data_collector.gen_target_vars(engagement_test)\n",
        "\n",
        "# Make predictions\n",
        "y_pred = data_collector.score(content_ids = sample_contents)"
      ],
      "metadata": {
        "id": "XwBbNw4I08ah"
      },
      "execution_count": 9,
      "outputs": []
    },
    {
      "cell_type": "code",
      "source": [
        "thres_like = 0.5\n",
        "thres_dislike = 0.5\n",
        "evaluate(y_true, y_pred, thres_like, thres_dislike)"
      ],
      "metadata": {
        "colab": {
          "base_uri": "https://localhost:8080/"
        },
        "id": "FcgNpfljPkfX",
        "outputId": "f520fe7d-8507-4b07-d530-e98299a720c1"
      },
      "execution_count": 10,
      "outputs": [
        {
          "output_type": "execute_result",
          "data": {
            "text/plain": [
              "{'like': {'precision': 0.6412698412698413, 'recall': 0.4130879345603272},\n",
              " 'dislike': {'precision': 0.5215686274509804, 'recall': 0.3204819277108434},\n",
              " 'engage_time': {'rmse': 250831.47832573802}}"
            ]
          },
          "metadata": {},
          "execution_count": 10
        }
      ]
    },
    {
      "cell_type": "markdown",
      "source": [
        "# Inference Example"
      ],
      "metadata": {
        "id": "IVqi5AsJBBKq"
      }
    },
    {
      "cell_type": "code",
      "source": [
        "sample_contents = content_meta['content_id'].sample(frac=0.01)  # simulated contents filtered from previous stage\n",
        "data_collector = DataCollectorCharlie(\n",
        "    engagement_path='sample_data/engagement_train.csv',  # will be None in real production\n",
        "    content_meta_path='sample_data/generated_content_metadata.csv'  # will be None in real production\n",
        "    )\n",
        "recs = data_collector.recommend(user_id=8, content_ids=sample_contents, top_k=20)"
      ],
      "metadata": {
        "id": "7Bq4NJDP93om"
      },
      "execution_count": 11,
      "outputs": []
    },
    {
      "cell_type": "code",
      "source": [
        "recs"
      ],
      "metadata": {
        "colab": {
          "base_uri": "https://localhost:8080/"
        },
        "id": "cUZs7nqjBfY1",
        "outputId": "3ee89bb6-c5dc-4bf5-9261-90b366b5d094"
      },
      "execution_count": 12,
      "outputs": [
        {
          "output_type": "execute_result",
          "data": {
            "text/plain": [
              "[69953,\n",
              " 32723,\n",
              " 53650,\n",
              " 55771,\n",
              " 75903,\n",
              " 32237,\n",
              " 43972,\n",
              " 44976,\n",
              " 37275,\n",
              " 36108,\n",
              " 74683,\n",
              " 61822,\n",
              " 61987,\n",
              " 51358,\n",
              " 48074,\n",
              " 53147,\n",
              " 34609,\n",
              " 62636,\n",
              " 69270,\n",
              " 51631]"
            ]
          },
          "metadata": {},
          "execution_count": 12
        }
      ]
    }
  ]
}