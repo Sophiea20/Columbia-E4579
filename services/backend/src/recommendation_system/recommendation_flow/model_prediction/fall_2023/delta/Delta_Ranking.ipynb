{
  "nbformat": 4,
  "nbformat_minor": 0,
  "metadata": {
    "colab": {
      "provenance": []
    },
    "kernelspec": {
      "name": "python3",
      "display_name": "Python 3"
    },
    "language_info": {
      "name": "python"
    }
  },
  "cells": [
    {
      "cell_type": "markdown",
      "source": [
        "# **Guidelines**\n",
        "\n",
        "## Process Overview\n",
        "The ranking step includes 2 sub-processes:\n",
        "1. Scoring: In this step, you will train a scoring model to predict 3 types of score; probability of like, probability of dislike, and engagement time.\n",
        "2. Ranking: In this step, you will create a ranking policy to rank the items based on the output from previous step.\n",
        "\n",
        "\n",
        "## Your Task\n",
        "\n",
        "### 1. Modify `DataCollectorExample()`\n",
        "also rename it to `DataCollector{Team}()` juts like previous assignment. All of the functions in `DataCollectorExample()` need to be modified (They're the ones with `raise NotImplementedError(\"you need to implement this\")` in `DataCollector()`). The explaination of each function includes in their own docstring with example code.\n",
        "\n",
        "Some important points worth noting are:\n",
        "1. for `.feature_generation_user()` and `.feature_generation_content()`, you DO NOT need to apply one-hot encoding or scaler since this process will be done by our pipeline using via `.postprocess_feature()`, which will also save the `Postprocessor()` class as a pickle file to be used for testing and inference step. You will need to output nsames of numberical features and categorical features along with the feature dataframe.\n",
        "2. When engineering target variables with `.get_Ys()`, you'll need to output 3 columns of target variables (`'like'`, `'dislike'`, `'engage_time'`). Be careful of how you create each target variable. What happen if a user like an item then change their mind and dislike it? What if a user see the same content twice, what would be the engagement time?\n",
        "3. Be creative of how you would create your ranking policy in `.rank()`. You have 3 scores that your ranking can be based on. Which score(s) would you optimise your ranking for? How would you trade-off one with others? Can you rank base on all 3 of them, if so, how would you combine them? You can also join the score dataframe with `self.generated_content_metadata` to use the original content features as part of ranking.\n",
        "\n",
        "### 2. Train Model\n",
        "Use the cell `Training: Create your own training` to train your model. Feel free to select any model you like. In the example, I use train 1 model for each target variable, resulting in 3 models. If you can find a model that can produce 3 output values (e.g. Neural Network), feel free to do so.\n",
        "\n",
        "Some important points worth noting are:\n",
        "1. Make sure you save the model to **ONLY 1 file**. Even if you make 3 models, put them into a list or dictionary and save the whole object to 1 file.\n",
        "2. Depending on your modelling approach, you'll need your own way to load the model to make predictions. Thus, modify the `.load_model()` in `DataCollectorExample()` reflect this.\n",
        "3. Once you train your model, you can use the example evaluation cells to evaluate your model. There's no need to change anything about the evaluation except the thresholds variable. These thresholds decide at what probability we'll consider the prediction as like and dislike. **NOTE** that this only test your scoring model, not your ranking policy. Testing for ranking policy is much more complicated since we're not only optimizing the number of likes and thus cannot be done offline.\n",
        "\n",
        "\n",
        "# Test Your Model\n",
        "Once you have the scoring model and ranking policy, you can use the `Inference Example` cell to run your pipeline and see the output of recommended items from your model.\n",
        "\n",
        "# Submit your work\n",
        "\n",
        "1. Put `postprocessor.pkl` and your model file into `Columbia-E4579/services/backend/src/recommendation_system/recommendation_flow/model_prediction` folder on your branch. Make sure to rename them as `{team}_postprocessor.pkl` and `{team}_model.pkl` (E.g. `alpha_postprocessor.pkl` and `alpha_model.pkl`). Both `postprocessor.pkl` and your model file will be saved in `sampled_data` in your COlab work space. Since this workspace is cleared everytime you restart the Colab, please also save the postprocessor and model files on your local machine if you want to keep them.\n",
        "\n",
        "2. Download your Colab as `.ipynb` file, rename it as `{team}_ranking.ipynb` (e.g. `alpha_ranking.ipynb`), and also place it in `Columbia-E4579/services/backend/src/recommendation_system/recommendation_flow/model_prediction` folder on your branch.\n",
        "\n",
        "You'll then merge your branch with these files into Professor's branch.\n"
      ],
      "metadata": {
        "id": "6NC29c_YJNFJ"
      }
    },
    {
      "cell_type": "markdown",
      "source": [
        "# Imports"
      ],
      "metadata": {
        "id": "KBiX1FEG1nXj"
      }
    },
    {
      "cell_type": "code",
      "execution_count": 1,
      "metadata": {
        "id": "NkuqgSAjwlnY"
      },
      "outputs": [],
      "source": [
        "import pandas as pd\n",
        "import numpy as np\n",
        "from google.colab import drive\n",
        "from tqdm import tqdm\n",
        "\n",
        "from sklearn.linear_model import LogisticRegression\n",
        "from sklearn.model_selection import train_test_split"
      ]
    },
    {
      "cell_type": "markdown",
      "source": [
        "# DataCollector - Do Not Modify"
      ],
      "metadata": {
        "id": "pSXqZ70o1omv"
      }
    },
    {
      "cell_type": "code",
      "source": [
        "from sqlalchemy.sql.schema import ScalarElementColumnDefault\n",
        "import pandas as pd\n",
        "from sklearn.preprocessing import OneHotEncoder\n",
        "from sklearn.preprocessing import StandardScaler, Normalizer\n",
        "import numpy as np\n",
        "from typing import Tuple, List, Optional\n",
        "import pickle\n",
        "\n",
        "\n",
        "class Postprocessor:\n",
        "\n",
        "    def __init__(self,\n",
        "                 numberical_features: List[str],\n",
        "                 categorical_features: List[str]):\n",
        "\n",
        "        self.numberical_features = numberical_features\n",
        "        self.categorical_features = categorical_features\n",
        "\n",
        "        self.scaler = StandardScaler()\n",
        "        self.encoder = OneHotEncoder(sparse_output=False, handle_unknown='ignore')\n",
        "        self.encode_cols = []\n",
        "\n",
        "    def fit(self, features_df: pd.DataFrame):\n",
        "\n",
        "        self.scaler.fit(features_df[self.numberical_features])\n",
        "\n",
        "        if len(self.categorical_features) > 0:\n",
        "            self.encoder.fit(features_df[self.categorical_features])\n",
        "            self.encode_cols = list(self.encoder.get_feature_names_out())\n",
        "\n",
        "    def transform(self, features_df: pd.DataFrame) -> pd.DataFrame:\n",
        "\n",
        "        features_df[self.numberical_features] = self.scaler.transform(features_df[self.numberical_features])\n",
        "\n",
        "        if len(self.categorical_features) > 0:\n",
        "            features_df[self.encode_cols] = self.encoder.transform(features_df[self.categorical_features])\n",
        "\n",
        "        return features_df\n",
        "\n",
        "    def fit_transform(self, features_df: pd.DataFrame) -> pd.DataFrame:\n",
        "\n",
        "        self.fit(features_df)\n",
        "        features_df = self.transform(features_df)\n",
        "\n",
        "        return features_df\n",
        "\n",
        "\n",
        "class DataCollector:\n",
        "\n",
        "    def __init__(self,\n",
        "                 engagement_path=None,\n",
        "                 content_meta_path=None):\n",
        "\n",
        "\n",
        "        self.engagement_path = engagement_path\n",
        "        self.content_meta_path = content_meta_path\n",
        "\n",
        "        self.objects_dir = 'sample_data'  #TODO change this\n",
        "        self.numerical_features = []\n",
        "        self.categorical_features = []\n",
        "\n",
        "        self.postprocessor = None\n",
        "        self.model = None\n",
        "\n",
        "    def feature_generation_user(self) -> Tuple[pd.DataFrame, List[str], List[str]]:\n",
        "        \"\"\"\n",
        "        Returns\n",
        "          pd.DataFrame: User feature dataframe\n",
        "          List[str]: List of numerical features. E.g. ['feat_1', 'feat_3, ...]\n",
        "          List[str]: List of categorical features. E.g. ['feat_2', 'feat_4, ...]\n",
        "        \"\"\"\n",
        "        raise NotImplementedError(\"you need to implement this\")\n",
        "\n",
        "    def feature_generation_content(self) -> Tuple[pd.DataFrame, List[str], List[str]]:\n",
        "        \"\"\"\n",
        "        Returns\n",
        "          pd.DataFrame: Content feature dataframe\n",
        "          List[str]: List of numerical features. E.g. ['feat_1', 'feat_3, ...]\n",
        "          List[str]: List of categorical features. E.g. ['feat_2', 'feat_4, ...]\n",
        "        \"\"\"\n",
        "        raise NotImplementedError(\"you need to implement this\")\n",
        "\n",
        "    def get_Ys(self) -> pd.DataFrame:\n",
        "        \"\"\"Engineers taget variable.\n",
        "        Args\n",
        "            data (pd.DataFrame): Engagement data.\n",
        "        Returns\n",
        "            pd.DataFrame: Dataframe of 5 columns;\n",
        "                'user_id', 'content_id', 'like', 'dislike', 'engage_time'\n",
        "        \"\"\"\n",
        "\n",
        "        raise NotImplementedError(\"you need to implement this\")\n",
        "\n",
        "    def feature_generation(self, is_train=False) -> pd.DataFrame:\n",
        "        \"\"\"Generate features. If is_train, will generate features for user-content pairs\n",
        "        exist in self.engagement_data. Else, will generate features for\n",
        "        all possible user-content pairs.\n",
        "\n",
        "        Args:\n",
        "            is_train (bool): Whether in training mode.\n",
        "\n",
        "        Returns:\n",
        "            pd.DataFrame: Feature dataframe.\n",
        "\n",
        "        \"\"\"\n",
        "\n",
        "        user_feature_df, user_num_feats, user_cat_feats = self.feature_generation_user()\n",
        "        content_feature_df, content_num_feats, content_cat_feats = self.feature_generation_content()\n",
        "        self.user_feature_df = user_feature_df\n",
        "        self.content_feature_df = content_feature_df\n",
        "\n",
        "        self.numerical_features = user_num_feats + content_num_feats\n",
        "        self.categorical_features = user_cat_feats + content_cat_feats\n",
        "\n",
        "        if is_train:\n",
        "            interaction_pairs = self.engagement_data[\n",
        "                ['user_id', 'content_id']].drop_duplicates()\n",
        "\n",
        "        else:\n",
        "            all_users = self.engagement_data['user_id'].drop_duplicates().tolist()\n",
        "            all_contents = self.generated_content_metadata['content_id'].drop_duplicates().tolist()\n",
        "\n",
        "            interaction_pairs = [(u, c) for u in all_users for c in all_contents]\n",
        "            interaction_pairs = pd.DataFrame(interaction_pairs, columns=['user_id', 'content_id'])\n",
        "\n",
        "        features_df = pd.merge(interaction_pairs,\n",
        "                               user_feature_df, on='user_id', how='left')\n",
        "\n",
        "        features_df = pd.merge(features_df,\n",
        "                               content_feature_df, on='content_id', how='left')\n",
        "\n",
        "        return features_df\n",
        "\n",
        "\n",
        "    def get_engagement_data(self, user_id=None, content_ids=None):\n",
        "\n",
        "        if self.engagement_path is None:\n",
        "            #TODO: read from database\n",
        "            pass\n",
        "        else:\n",
        "            df = pd.read_csv(self.engagement_path, sep=\"\\t\")\n",
        "\n",
        "        if content_ids is not None:\n",
        "            df = df[df['content_id'].isin(content_ids)]\n",
        "\n",
        "        if user_id is not None:\n",
        "            df = df[df['user_id'] == user_id]\n",
        "\n",
        "        return df\n",
        "\n",
        "    def get_generated_content_metadata(self, content_ids=None):\n",
        "\n",
        "        if self.content_meta_path is None:\n",
        "            #TODO: read from database\n",
        "            pass\n",
        "        else:\n",
        "            df = pd.read_csv(self.content_meta_path, sep=\"\\t\")\n",
        "\n",
        "        if content_ids is not None:\n",
        "            df = df[df['content_id'].isin(content_ids)]\n",
        "\n",
        "        return df\n",
        "\n",
        "    def get_user_data(self, user_id=None):\n",
        "\n",
        "        if self.engagement_path is None:\n",
        "            #TODO: read from database\n",
        "            pass\n",
        "        else:\n",
        "            df = pd.read_csv(self.engagement_path, sep=\"\\t\")\n",
        "\n",
        "        if user_id is not None:\n",
        "            df = df[df['user_id'] == user_id]\n",
        "\n",
        "        return df\n",
        "\n",
        "    def gather_data(self, user_id, content_ids):\n",
        "        self.engagement_data = self.get_engagement_data(user_id, content_ids)\n",
        "        self.generated_content_metadata = self.get_generated_content_metadata(content_ids)\n",
        "        self.user_data = self.get_user_data(user_id)\n",
        "\n",
        "        if len(self.engagement_data) == 0:\n",
        "            raise Exception(\"either user_id or content_ids leads to empty engagement_data\")\n",
        "\n",
        "        if len(self.generated_content_metadata) == 0:\n",
        "            raise Exception(\"content_ids leads to empty generated_content_metadata\")\n",
        "\n",
        "        if len(self.user_data) == 0:\n",
        "            raise Exception(\"user_id leads to empty user_data\")\n",
        "\n",
        "    def postprocess_feature(self, features_df: pd.DataFrame, is_train=False) -> pd.DataFrame:\n",
        "        \"\"\"Applied postprocessings (one-hot encoding & scaler) to the feature dataframe.\n",
        "\n",
        "        Args:\n",
        "            features_df (pd.DataFrame): Input feature dataframe.\n",
        "            is_train (bool): Whether in training mode. If True, will fit the\n",
        "                Postprocessor() and save to a pickle file. Else, will load the\n",
        "                saved Postprocessor() and use it.\n",
        "\n",
        "        Returns:\n",
        "            pd.DataFrame: Output feature dataframe.\n",
        "        \"\"\"\n",
        "\n",
        "        if is_train:\n",
        "            self.postprocessor = Postprocessor(self.numerical_features, self.categorical_features)\n",
        "            features_df = self.postprocessor.fit_transform(features_df)\n",
        "            self.save_postprocessor()\n",
        "\n",
        "        else:\n",
        "            self.postprocessor = self.load_postprocessor()\n",
        "            features_df = self.postprocessor.transform(features_df)\n",
        "\n",
        "        self.all_numeric_features = self.numerical_features + self.postprocessor.encode_cols\n",
        "\n",
        "\n",
        "        return features_df\n",
        "\n",
        "\n",
        "    def gen_model_input(self,\n",
        "                        user_id: Optional[int] = None,\n",
        "                        content_ids: Optional[list] = None,\n",
        "                        is_train: bool = False) -> pd.DataFrame:\n",
        "        \"\"\"Generates input data (X) for model.\n",
        "\n",
        "        Args:\n",
        "            user_id (Optional[int]): User ID to generate features for.\n",
        "                If None, will generate features for all available users in self.engagement_data.\n",
        "            content_ids (Optional[list]): List of content ID to generate features for.\n",
        "                If None, will generate features for all available contents in self.engagement_data.\n",
        "            is_train (bool): Whether in training mode. If True, will generate\n",
        "                features for user-content pairs exist in self.engagement_data.\n",
        "                Else, will generate features for all possible user-content pairs.\n",
        "\n",
        "        Returns:\n",
        "            pd.DataFrame: Dataframe of features with 2-level index of ('user_id', 'content_id').\n",
        "        \"\"\"\n",
        "\n",
        "        self.gather_data(user_id, content_ids)\n",
        "        features_df = self.feature_generation(is_train)\n",
        "        features_df = self.postprocess_feature(features_df, is_train)\n",
        "\n",
        "        X = features_df.set_index(['user_id', 'content_id'])\n",
        "        X = X[self.all_numeric_features]\n",
        "        X = X.fillna(0)\n",
        "\n",
        "        return X\n",
        "\n",
        "\n",
        "    def gen_target_vars(self,\n",
        "                        engagement_data: Optional[pd.DataFrame] = None\n",
        "                        ) -> pd.DataFrame:\n",
        "        \"\"\"Wrapper to generate target variables.\n",
        "\n",
        "        Args:\n",
        "            engagement_data (Optional[pd.DataFrame]): Engagement data. If None,\n",
        "                will use self.engagement_data which is loaded for training.\n",
        "                For testing, parse in the engagement_data for testing.\n",
        "\n",
        "        Returns:\n",
        "            pd.DataFrame: Dataframe of 3 columns; 'like', 'dislike', 'engage_time'\n",
        "                and 2-level index of ('user_id', 'content_id').\n",
        "        \"\"\"\n",
        "\n",
        "        if engagement_data is None:\n",
        "            engagement_data = self.engagement_data\n",
        "\n",
        "        target_df = self.get_Ys(engagement_data)\n",
        "\n",
        "        return target_df.set_index(['user_id', 'content_id'])\n",
        "\n",
        "\n",
        "    def save_postprocessor(self):\n",
        "\n",
        "        with open(f'{self.objects_dir}/postprocessor.pkl', 'wb') as f:\n",
        "            pickle.dump(self.postprocessor, f)\n",
        "\n",
        "    def load_postprocessor(self):\n",
        "\n",
        "        with open(f'{self.objects_dir}/postprocessor.pkl', 'rb') as f:\n",
        "            return pickle.load(f)\n",
        "\n",
        "    def load_model(self):\n",
        "        raise NotImplementedError(\"you need to implement this\")\n",
        "\n",
        "    def predict(self, X) -> Tuple[list, list, list]:\n",
        "        raise NotImplementedError(\"you need to implement this\")\n",
        "\n",
        "    def rank(self, pred_score):\n",
        "        raise NotImplementedError(\"you need to implement this\")\n",
        "\n",
        "    def score(self,\n",
        "              user_id: Optional[int] = None,\n",
        "              content_ids: Optional[list] = None) -> pd.DataFrame:\n",
        "        \"\"\"Predict the scores.\n",
        "\n",
        "        Args:\n",
        "            user_id (Optional[int]): User ID to generate features for.\n",
        "                If None, will generate features for all available users in self.engagement_data.\n",
        "            content_ids (Optional[list]): List of content ID to generate features for.\n",
        "                If None, will generate features for all available contents in self.engagement_data.\n",
        "\n",
        "        Returns:\n",
        "            pd.DataFrame: Predicted score dataframe with 2-level index of (user_id, content_id).\n",
        "                The dataframe also comes with the original content metadata which also\n",
        "                can be used for ranking.\n",
        "        \"\"\"\n",
        "\n",
        "        X = self.gen_model_input(user_id, content_ids, is_train=False)\n",
        "\n",
        "        pred_like, pred_dislike, pred_engtime = self.predict(X)\n",
        "\n",
        "        pred_df = pd.DataFrame(np.array([pred_like, pred_dislike, pred_engtime]).T,\n",
        "                               index=X.index,\n",
        "                               columns=['like', 'dislike', 'engage_time']).reset_index()\n",
        "\n",
        "        pred_df = pd.merge(self.generated_content_metadata,\n",
        "                           pred_df,\n",
        "                           how='right',\n",
        "                           on='content_id')\n",
        "\n",
        "        return pred_df.set_index(['user_id', 'content_id'])\n",
        "\n",
        "    def recommend(self, user_id, content_ids=None, top_k=20):\n",
        "\n",
        "        score_df = self.score(user_id, content_ids).reset_index()\n",
        "\n",
        "        rank = self.rank(score_df, user_id, content_ids)\n",
        "\n",
        "        return rank[:top_k]\n",
        "\n",
        "\n"
      ],
      "metadata": {
        "id": "4CMmBKnre2Hv"
      },
      "execution_count": 2,
      "outputs": []
    },
    {
      "cell_type": "code",
      "source": [
        "from sklearn.metrics import recall_score\n",
        "from sklearn.metrics import precision_score\n",
        "from sklearn.metrics import mean_squared_error\n",
        "\n",
        "\n",
        "def evaluate(true_df: pd.DataFrame,\n",
        "             pred_df: pd.DataFrame,\n",
        "             thres_like: float = 0.5,\n",
        "             thres_dislike: float = 0.5\n",
        "             ) -> dict:\n",
        "\n",
        "    \"\"\"Compute evaluation metrics.\n",
        "\n",
        "    Args:\n",
        "        true_df (pd.DataFrame): Dataframe of true target variables.\n",
        "        pred_df (pd.DataFrame): Dataframe of predicted target variables.\n",
        "        thres_like (float): Probability threshold to consider a prediction as like.\n",
        "        thres_dislike (float): Probability threshold to consider as a prediction dislike.\n",
        "\n",
        "    Returns:\n",
        "        dict: Dictionary of metrics.\n",
        "    \"\"\"\n",
        "\n",
        "    true_df = true_df.reset_index()\n",
        "    pred_df = pred_df[['like', 'dislike', 'engage_time']].reset_index()\n",
        "\n",
        "    pred_df['like'] = (pred_df['like'] > thres_like).astype(int)\n",
        "    pred_df['dislike'] = (pred_df['dislike'] > thres_dislike).astype(int)\n",
        "\n",
        "    actual_user_content = true_df[['user_id', 'content_id']]\n",
        "    pred_user_content = pred_df[['user_id', 'content_id']]\n",
        "\n",
        "    common_user_content = pd.merge(actual_user_content,\n",
        "                                   pred_user_content,\n",
        "                                   how='inner',\n",
        "                                   on=['user_id', 'content_id'])\n",
        "\n",
        "    true_df = pd.merge(common_user_content,\n",
        "                         true_df,\n",
        "                         how='left',\n",
        "                         on=['user_id', 'content_id'])\n",
        "\n",
        "\n",
        "    pred_df = pd.merge(common_user_content,\n",
        "                       pred_df,\n",
        "                       how='left',\n",
        "                       on=['user_id', 'content_id'])\n",
        "\n",
        "\n",
        "    metrics = {}\n",
        "    for col in ['like', 'dislike', 'engage_time']:\n",
        "        metrics[col] = {}\n",
        "\n",
        "        if col == 'engage_time':\n",
        "            metrics[col]['rmse'] = np.sqrt(mean_squared_error(true_df[col], pred_df[col]))\n",
        "        else:\n",
        "            metrics[col]['precision'] = precision_score(true_df[col], pred_df[col])\n",
        "            metrics[col]['recall'] = recall_score(true_df[col], pred_df[col])\n",
        "\n",
        "    return metrics"
      ],
      "metadata": {
        "id": "hLGG-J71qkzp"
      },
      "execution_count": 3,
      "outputs": []
    },
    {
      "cell_type": "markdown",
      "source": [
        "# Your Implementation - Example Here, Must Modify"
      ],
      "metadata": {
        "id": "DA9SBLao1s4f"
      }
    },
    {
      "cell_type": "code",
      "source": [
        "class DataCollectorDelta(DataCollector):\n",
        "\n",
        "    def feature_generation_user(self) -> Tuple[pd.DataFrame, List[str], List[str]]:\n",
        "        \"\"\"Generates user features. Keep all the categorical variables as is,\n",
        "        since the one-hot encoding will be done by our own pipeline. Along with\n",
        "        the feature dataframe, you'll need to output lists of numberical features\n",
        "        and categorical features as well.\n",
        "\n",
        "        Returns\n",
        "          pd.DataFrame: User feature dataframe\n",
        "          List[str]: List of numerical features. E.g. ['feat_1', 'feat_3, ...]\n",
        "          List[str]: List of categorical features. E.g. ['feat_2', 'feat_4, ...]\n",
        "        \"\"\"\n",
        "\n",
        "        # Filtering like/dislike engagements\n",
        "        like_data = self.user_data[engagement_data['engagement_type'] == 'Like']\n",
        "\n",
        "        # Grouping by 'user_id' and 'content_id' and getting the latest engagement for each pair\n",
        "        latest_like_data = like_data.sort_values('created_date').groupby(['user_id', 'content_id']).tail(1)\n",
        "\n",
        "        # Getting total likes for each user\n",
        "        like_engagements = latest_like_data[(latest_like_data['engagement_value']==1)].copy()\n",
        "        like_feature_df = like_engagements.groupby('user_id')['engagement_value'].sum().reset_index()\n",
        "        like_feature_df.rename(columns={'engagement_value': 'user_likes'}, inplace=True)\n",
        "        # Fill NaN values with 0 (users with no \"like\" engagements)\n",
        "        like_feature_df['user_likes'].fillna(0, inplace=True)\n",
        "\n",
        "\n",
        "        # Getting total dislikes for each user\n",
        "        dislike_engagements = latest_like_data[(latest_like_data['engagement_value']==-1)].copy()\n",
        "        dislike_feature_df = dislike_engagements.groupby('user_id')['engagement_value'].sum().reset_index()\n",
        "        dislike_feature_df.rename(columns={'engagement_value': 'user_dislikes'}, inplace=True)\n",
        "        # Fill NaN values with 0 (users with no \"dislike\" engagements)\n",
        "        dislike_feature_df['user_dislikes'].fillna(0, inplace=True)\n",
        "\n",
        "        # Getting average engage time for each user\n",
        "        time_engagements = self.user_data[self.user_data['engagement_type'] == 'MillisecondsEngagedWith'].copy()\n",
        "\n",
        "        # consider each user's max engagement time with each content\n",
        "        time_engagements = time_engagements.groupby(['user_id', 'content_id'])['engagement_value'].max().reset_index()\n",
        "        engage_feature_df = time_engagements.groupby('user_id')['engagement_value'].mean().reset_index()\n",
        "        engage_feature_df.rename(columns={'engagement_value': 'user_engagetime'}, inplace=True)\n",
        "        # fill NaN values with avg_engage (users with no engagment time data)\n",
        "        avg_engage = engage_feature_df['user_engagetime'].mean()\n",
        "        engage_feature_df['user_engagetime'].fillna(avg_engage, inplace=True)\n",
        "\n",
        "        feature_df = pd.merge(like_feature_df, dislike_feature_df , on='user_id', how='left')\n",
        "        feature_df = pd.merge(feature_df, engage_feature_df , on='user_id', how='left')\n",
        "\n",
        "        return feature_df, ['user_likes', 'user_dislikes', 'user_engagetime'], []\n",
        "\n",
        "\n",
        "    def feature_generation_content(self) -> Tuple[pd.DataFrame, List[str], List[str]]:\n",
        "        \"\"\"Generates content features. Keep all the categorical variables as is,\n",
        "        since the one-hot encoding will be done by our own pipeline. Along with\n",
        "        the feature dataframe, you'll need to output lists of numberical features\n",
        "        and categorical features as well.\n",
        "\n",
        "        Returns\n",
        "          pd.DataFrame: User feature dataframe\n",
        "          List[str]: List of numerical features. E.g. ['feat_1', 'feat_3, ...]\n",
        "          List[str]: List of categorical features. E.g. ['feat_2', 'feat_4, ...]\n",
        "        \"\"\"\n",
        "\n",
        "        feature_df = self.generated_content_metadata.copy()\n",
        "\n",
        "        # numerical feature 1: (average) guidance scale\n",
        "        mean_engage = feature_df[\"guidance_scale\"].mean()\n",
        "        guide_df = feature_df.groupby('content_id')['guidance_scale'].mean().reset_index()\n",
        "        guide_df = guide_df.rename(columns={'guidance_scale': 'content_guidance_scale'})\n",
        "        feature_df = pd.merge(feature_df, guide_df, on='content_id', how='left')\n",
        "        feature_df['content_guidance_scale'].fillna(mean_engage, inplace=True)\n",
        "\n",
        "        # numerical feature 2: num inference steps\n",
        "        mean_inf = feature_df[\"num_inference_steps\"].mean()\n",
        "        inf_df = feature_df.groupby('content_id')['num_inference_steps'].mean().reset_index()\n",
        "        inf_df = inf_df.rename(columns={'num_inference_steps': 'content_inference_steps'})\n",
        "        feature_df = pd.merge(feature_df, inf_df, on='content_id', how='left')\n",
        "        feature_df['content_inference_steps'].fillna(mean_inf, inplace=True)\n",
        "\n",
        "\n",
        "        # categorical feature 1: source\n",
        "        feature_df['content_source'] = 'other'\n",
        "        feature_df.loc[feature_df['source'] == 'human_prompts', 'content_source'] = 'human_prompts'\n",
        "        feature_df.loc[feature_df['source'] == 'r/Showerthoughts', 'content_source'] = 'r/Showerthoughts'\n",
        "\n",
        "\n",
        "        # categorical feature 2: artist style\n",
        "        style_list = [\n",
        "            'studio',\n",
        "            'medieval',\n",
        "            'anime',\n",
        "            'kerry_james_marshall',\n",
        "            'gta_v',\n",
        "            'scifi',\n",
        "            'van_gogh',\n",
        "            'salvador_dali',\n",
        "            'jean-michel_basquiat',\n",
        "            'face_and_lighting'\n",
        "        ]\n",
        "        #style_list = ['movie', 'empty']\n",
        "        feature_df['content_style'] = feature_df['artist_style']\n",
        "        feature_df['content_style'].fillna(\"empty\", inplace=True)\n",
        "        feature_df.loc[feature_df['content_style'].str.startswith('movie:'), 'content_style'] = 'movie'\n",
        "        feature_df.loc[~feature_df['content_style'].isin(style_list), 'content_style'] = 'other'\n",
        "\n",
        "\n",
        "        return feature_df, ['content_inference_steps'], ['content_source', 'content_style']\n",
        "\n",
        "\n",
        "    def get_Ys(self, engagement_data) -> pd.DataFrame:\n",
        "        \"\"\"Engineers taget variable that you are predicting.\n",
        "        Args\n",
        "            engagement_data (pd.DataFrame): Engagement data.\n",
        "        Returns\n",
        "            pd.DataFrame: Dataframe of 5 columns;\n",
        "                'user_id', 'content_id', 'like', 'dislike', 'engage_time'\n",
        "        \"\"\"\n",
        "        # Filtering Like-type engagements\n",
        "        like_data = engagement_data[engagement_data['engagement_type'] == 'Like']\n",
        "\n",
        "        # Grouping by 'user_id' and 'content_id' and getting the latest engagement for each pair\n",
        "        latest_engagements = like_data.sort_values('created_date').groupby(['user_id', 'content_id']).tail(1)\n",
        "\n",
        "        # Creating the target DataFrame with unique pairs of user_id and content_id\n",
        "        target_df = engagement_data[['user_id', 'content_id']].drop_duplicates()\n",
        "\n",
        "        # Merging latest engagements to update 'like' and 'dislike' columns\n",
        "        target_df = pd.merge(target_df, latest_engagements[['user_id', 'content_id', 'engagement_value']],\n",
        "                            on=['user_id', 'content_id'], how='left')\n",
        "\n",
        "        # Updating 'like' and 'dislike' columns based on the latest engagement values\n",
        "        target_df['like'] = (target_df['engagement_value'] == 1).astype(int)\n",
        "        target_df['dislike'] = (target_df['engagement_value'] == -1).astype(int)\n",
        "\n",
        "        # Filling NaN values with 0 for pairs without like/dislike\n",
        "        target_df.fillna(0, inplace=True)\n",
        "\n",
        "\n",
        "        # Set \"engage_time\" based on engagement_type and engagement_value\n",
        "        # assign existing engagement time if doesn't have that data, assign zero\n",
        "        engage_times = engagement_data[engagement_data['engagement_type'] == 'MillisecondsEngagedWith']\n",
        "\n",
        "        #considering max engagetime for each user and content pair\n",
        "        engage_times = engage_times.groupby(['user_id', 'content_id'])['engagement_value'].max().reset_index()\n",
        "\n",
        "        engage_times.rename(columns={'engagement_value': 'engage_time'}, inplace=True)\n",
        "\n",
        "        target_df = pd.merge(target_df, engage_times[['user_id', 'content_id', 'engage_time']],\n",
        "                            on=['user_id', 'content_id'], how='left')\n",
        "\n",
        "\n",
        "        # Filling NaN values with 0 for pairs without engage_time (doesn't exist but double check)\n",
        "        target_df['engage_time'].fillna(0, inplace=True)\n",
        "\n",
        "        # Select and rename the required columns\n",
        "        target_df = target_df[['user_id', 'content_id', 'like', 'dislike', 'engage_time']].copy()\n",
        "\n",
        "        return target_df\n",
        "\n",
        "\n",
        "    def predict(self, X: pd.DataFrame) -> Tuple[list, list, list]:\n",
        "        \"\"\"Predicts the 3 target variables by using the model that you trained.\n",
        "        Make sure you load the model properly.\n",
        "\n",
        "        Args:\n",
        "            X (pd.DataFrame): Feature dataframe with 2-level index of (user_id, content_id)\n",
        "\n",
        "        Returns:\n",
        "            (list, list, list): (predicted prbability of like,\n",
        "                                 predicted probability of dislike,\n",
        "                                 predicted engagement time)\n",
        "        \"\"\"\n",
        "\n",
        "        model = self.load_model()\n",
        "\n",
        "        pred_like = model['like'].predict(X).flatten()\n",
        "        pred_dislike = model['dislike'].predict(X).flatten()\n",
        "        pred_engtime = model['engage_time'].predict(X).flatten()\n",
        "\n",
        "        return pred_like, pred_dislike, pred_engtime\n",
        "\n",
        "    def rank(self,\n",
        "             score_df: pd.DataFrame,\n",
        "             user_id: int,\n",
        "             content_ids: Optional[list] = None) -> list:\n",
        "\n",
        "        \"\"\"Ranks the items for a given user based on your own criteria.\n",
        "\n",
        "        Args:\n",
        "            score_df (pd.DataFrame): Predicted-score Dataframe of columns;\n",
        "                'user_id', 'content_id', 'like', 'dislike', 'engage_time', and\n",
        "                also columns for content metadata.\n",
        "            user_id (int): User ID to rank the items for.\n",
        "            content_ids (Optional[list]): List of content ids to be considered for ranking.\n",
        "        \"\"\"\n",
        "\n",
        "        user_df = score_df[score_df['user_id'] == user_id]\n",
        "\n",
        "        def select_artist_style(style):\n",
        "            if pd.isna(style) or str(style).startswith('movie:'):\n",
        "                return 'other'\n",
        "            else:\n",
        "                return style\n",
        "\n",
        "        user_df['selected_artiststyle'] = user_df['artist_style'].apply(select_artist_style)\n",
        "\n",
        "        # value function formula: like - dislike + int(engagetime/1000) (1 point for every 4 seconds)\n",
        "        user_df['value'] = user_df['like'] - user_df['dislike'] + (user_df['engage_time'] / 4000).astype(int)\n",
        "        user_df_sorted = user_df.sort_values(by='value', ascending=False)\n",
        "\n",
        "        # additional ordering: if not have specific art styles, order so no same styles seen consequently\n",
        "        sorted_content_ids = []\n",
        "        last_artist_style = 1\n",
        "        keep_styles = {'other', 'gta_v', 'medieval', 'detailed_portrait', 'van_gogh', 'unreal_engine', 'face_and_lighting', 'scifi', 'oil_on_canvas', 'anime', 'studio'}\n",
        "\n",
        "        while not user_df_sorted.empty:\n",
        "            selected_rows = user_df_sorted.loc[(user_df_sorted['selected_artiststyle'] != last_artist_style) | (user_df_sorted['selected_artiststyle'].isin(keep_styles))]\n",
        "            if selected_rows.empty:\n",
        "                break\n",
        "            selected_row = selected_rows.iloc[0]\n",
        "            sorted_content_ids.append(selected_row['content_id'])\n",
        "            last_artist_style = selected_row['selected_artiststyle']\n",
        "            user_df_sorted = user_df_sorted.drop(selected_row.name)\n",
        "\n",
        "        return sorted_content_ids\n",
        "\n",
        "    def load_model(self) -> object:\n",
        "        \"\"\"Loads your model. Since different ML frameworks requires different\n",
        "        ways to load the model. Change this to reflect your choice of framework.\n",
        "\n",
        "        Returns:\n",
        "            object: Model object\n",
        "        \"\"\"\n",
        "\n",
        "\n",
        "\n",
        "        with open('delta_model.pkl', 'rb') as file:\n",
        "            loaded_models_dict = pickle.load(file)\n",
        "\n",
        "        #for neural network\n",
        "        #from tensorflow.keras.models import model_from_json\n",
        "        #models = {model_name: model_from_json(model_data) for model_name, model_data in loaded_models_dict.items()}\n",
        "        return loaded_models_dict"
      ],
      "metadata": {
        "id": "wlxQNOEgzi7H"
      },
      "execution_count": 92,
      "outputs": []
    },
    {
      "cell_type": "markdown",
      "source": [
        "# Training"
      ],
      "metadata": {
        "id": "LMev-xwJ11d5"
      }
    },
    {
      "cell_type": "markdown",
      "source": [
        "## Train Test Split"
      ],
      "metadata": {
        "id": "Ep6q_8-fH0Na"
      }
    },
    {
      "cell_type": "code",
      "source": [
        "engagement_data = pd.read_csv('sample_data/engagement.csv', sep=\"\\t\")\n",
        "content_meta = pd.read_csv('sample_data/generated_content_metadata.csv', sep=\"\\t\")\n",
        "\n",
        "interactions = engagement_data[\n",
        "    ['user_id', 'content_id']].drop_duplicates()\n",
        "\n",
        "interactions_train, interactions_test = train_test_split(interactions, test_size=0.2, random_state=42)\n",
        "\n",
        "engagement_train = pd.merge(interactions_train, engagement_data, how='left', on=['user_id', 'content_id'])\n",
        "engagement_test = pd.merge(interactions_test, engagement_data, how='left', on=['user_id', 'content_id'])\n",
        "\n",
        "engagement_train.to_csv('sample_data/engagement_train.csv', sep=\"\\t\")\n",
        "engagement_test.to_csv('sample_data/engagement_test.csv', sep=\"\\t\")"
      ],
      "metadata": {
        "id": "rOIw6gAeDVSp"
      },
      "execution_count": 93,
      "outputs": []
    },
    {
      "cell_type": "code",
      "source": [
        "#@title get training data\n",
        "data_collector = DataCollectorDelta(\n",
        "    engagement_path='sample_data/engagement_train.csv',\n",
        "    content_meta_path='sample_data/generated_content_metadata.csv'\n",
        "    )\n",
        "\n",
        "X_train = data_collector.gen_model_input(is_train=True)\n",
        "y_train = data_collector.gen_target_vars()\n",
        "\n",
        "# ensure that each row of y_train corresponds to the correct user-content in X_train\n",
        "y_train = y_train.reindex(index=X_train.index)"
      ],
      "metadata": {
        "id": "yvMO4tMXe9io",
        "colab": {
          "base_uri": "https://localhost:8080/"
        },
        "outputId": "8194ef8c-31a7-4f64-a06c-ddef79557ada"
      },
      "execution_count": 95,
      "outputs": [
        {
          "output_type": "stream",
          "name": "stderr",
          "text": [
            "<ipython-input-92-e32a37778a05>:16: UserWarning: Boolean Series key will be reindexed to match DataFrame index.\n",
            "  like_data = self.user_data[engagement_data['engagement_type'] == 'Like']\n"
          ]
        }
      ]
    },
    {
      "cell_type": "markdown",
      "source": [
        "## Training: Create your own training\n",
        "Make sure you save the model somewhere so you can send the model file to the professor later."
      ],
      "metadata": {
        "id": "Vw2A1Ha_HwbZ"
      }
    },
    {
      "cell_type": "markdown",
      "source": [
        "Sample Experimented Neural Network"
      ],
      "metadata": {
        "id": "ui4WVvzhOWzk"
      }
    },
    {
      "cell_type": "code",
      "source": [
        "from sklearn.ensemble import RandomForestClassifier, RandomForestRegressor\n",
        "from sklearn.model_selection import train_test_split\n",
        "from sklearn.metrics import accuracy_score, mean_squared_error\n",
        "import pandas as pd\n",
        "import numpy as np\n",
        "import pickle\n",
        "import tensorflow as tf\n",
        "from tensorflow.keras.models import Sequential\n",
        "from tensorflow.keras.layers import Dense, Dropout\n",
        "from sklearn.model_selection import train_test_split\n",
        "from sklearn.preprocessing import StandardScaler\n",
        "from imblearn.over_sampling import SMOTE\n",
        "\n",
        "tf.random.set_seed(1)\n",
        "\n",
        "\n",
        "# Model for 'like'\n",
        "\n",
        "# Oversample minority class to 60% of majority class\n",
        "smote = SMOTE(random_state=42, sampling_strategy=0.66)\n",
        "X_like, y_like = smote.fit_resample(X_train, y_train['like'])\n",
        "\n",
        "# Creating a Sequential model\n",
        "model_like = Sequential([\n",
        "    Dense(128, activation='relu', input_shape=(X_train.shape[1],)),\n",
        "    Dropout(0.2),  # Adding dropout for regularization\n",
        "    Dense(64, activation='relu'),\n",
        "    Dense(32, activation='relu'),\n",
        "    Dense(1, activation='sigmoid')  # Output layer with 1 neuron for regression\n",
        "])\n",
        "model_like.compile(optimizer='adam', loss='binary_crossentropy', metrics=['accuracy'])\n",
        "model_like.fit(X_like, y_like, epochs=20)\n",
        "\n",
        "\n",
        "# Model for 'dislike'\n",
        "\n",
        "# Oversample minority class to 60% of majority class\n",
        "smote = SMOTE(random_state=42, sampling_strategy=0.66)\n",
        "X_dislike, y_dislike = smote.fit_resample(X_train, y_train['dislike'])\n",
        "\n",
        "# Creating a Sequential model\n",
        "model_dislike = Sequential([\n",
        "    Dense(128, activation='relu', input_shape=(X_train.shape[1],)),\n",
        "    Dropout(0.2),  # Adding dropout for regularization\n",
        "    Dense(64, activation='relu'),\n",
        "    Dense(32, activation='relu'),\n",
        "    Dense(1, activation='sigmoid')\n",
        "])\n",
        "model_dislike.compile(optimizer='adam', loss='binary_crossentropy', metrics=['accuracy'])\n",
        "model_dislike.fit(X_dislike, y_dislike, epochs=20)\n",
        "\n",
        "\n",
        "# Creating a Sequential model\n",
        "model_engtime = Sequential([\n",
        "    Dense(128, activation='relu', input_shape=(X_train.shape[1],)),\n",
        "    Dense(128, activation='relu'),\n",
        "    Dropout(0.2),  # Adding dropout for regularization\n",
        "    Dense(64, activation='relu'),\n",
        "    Dense(32, activation='relu'),\n",
        "    Dense(1)\n",
        "])\n",
        "model_engtime.compile(optimizer='adam', loss='mean_squared_error', metrics=['mae'])\n",
        "model_engtime.fit(X_train, y_train['engage_time'], epochs=30, batch_size=32)\n"
      ],
      "metadata": {
        "id": "G0qdC9f2UhgO"
      },
      "execution_count": null,
      "outputs": []
    },
    {
      "cell_type": "markdown",
      "source": [
        "Main Model (Random Forest)"
      ],
      "metadata": {
        "id": "9NOWZ9T5ObXt"
      }
    },
    {
      "cell_type": "code",
      "source": [
        "from sklearn.ensemble import RandomForestClassifier, RandomForestRegressor\n",
        "from sklearn.model_selection import train_test_split\n",
        "from sklearn.metrics import accuracy_score, mean_squared_error\n",
        "import pandas as pd\n",
        "import numpy as np\n",
        "import pickle\n",
        "\n",
        "from imblearn.over_sampling import SMOTE\n",
        "\n",
        "# Model for 'like'\n",
        "smote = SMOTE(random_state=42, sampling_strategy=0.66)\n",
        "X_like, y_like = smote.fit_resample(X_train, y_train['like'])\n",
        "\n",
        "model_like = RandomForestClassifier(random_state=42)\n",
        "model_like.fit(X_like, y_like)\n",
        "\n",
        "\n",
        "# Model for 'dislike'\n",
        "smote = SMOTE(random_state=42, sampling_strategy=0.66)\n",
        "X_dislike, y_dislike = smote.fit_resample(X_train, y_train['dislike'])\n",
        "\n",
        "model_dislike = RandomForestClassifier(random_state=42)\n",
        "model_dislike.fit(X_dislike, y_dislike)\n",
        "\n",
        "\n",
        "# Model for 'engage_time'\n",
        "model_engtime = RandomForestRegressor(random_state=42)\n",
        "model_engtime.fit(X_train, y_train['engage_time'])"
      ],
      "metadata": {
        "colab": {
          "base_uri": "https://localhost:8080/",
          "height": 75
        },
        "id": "_uPVNF2mL0Lf",
        "outputId": "185c147c-bb94-4ad6-f6df-02ff6cebd452"
      },
      "execution_count": 97,
      "outputs": [
        {
          "output_type": "execute_result",
          "data": {
            "text/plain": [
              "RandomForestRegressor(random_state=42)"
            ],
            "text/html": [
              "<style>#sk-container-id-2 {color: black;background-color: white;}#sk-container-id-2 pre{padding: 0;}#sk-container-id-2 div.sk-toggleable {background-color: white;}#sk-container-id-2 label.sk-toggleable__label {cursor: pointer;display: block;width: 100%;margin-bottom: 0;padding: 0.3em;box-sizing: border-box;text-align: center;}#sk-container-id-2 label.sk-toggleable__label-arrow:before {content: \"▸\";float: left;margin-right: 0.25em;color: #696969;}#sk-container-id-2 label.sk-toggleable__label-arrow:hover:before {color: black;}#sk-container-id-2 div.sk-estimator:hover label.sk-toggleable__label-arrow:before {color: black;}#sk-container-id-2 div.sk-toggleable__content {max-height: 0;max-width: 0;overflow: hidden;text-align: left;background-color: #f0f8ff;}#sk-container-id-2 div.sk-toggleable__content pre {margin: 0.2em;color: black;border-radius: 0.25em;background-color: #f0f8ff;}#sk-container-id-2 input.sk-toggleable__control:checked~div.sk-toggleable__content {max-height: 200px;max-width: 100%;overflow: auto;}#sk-container-id-2 input.sk-toggleable__control:checked~label.sk-toggleable__label-arrow:before {content: \"▾\";}#sk-container-id-2 div.sk-estimator input.sk-toggleable__control:checked~label.sk-toggleable__label {background-color: #d4ebff;}#sk-container-id-2 div.sk-label input.sk-toggleable__control:checked~label.sk-toggleable__label {background-color: #d4ebff;}#sk-container-id-2 input.sk-hidden--visually {border: 0;clip: rect(1px 1px 1px 1px);clip: rect(1px, 1px, 1px, 1px);height: 1px;margin: -1px;overflow: hidden;padding: 0;position: absolute;width: 1px;}#sk-container-id-2 div.sk-estimator {font-family: monospace;background-color: #f0f8ff;border: 1px dotted black;border-radius: 0.25em;box-sizing: border-box;margin-bottom: 0.5em;}#sk-container-id-2 div.sk-estimator:hover {background-color: #d4ebff;}#sk-container-id-2 div.sk-parallel-item::after {content: \"\";width: 100%;border-bottom: 1px solid gray;flex-grow: 1;}#sk-container-id-2 div.sk-label:hover label.sk-toggleable__label {background-color: #d4ebff;}#sk-container-id-2 div.sk-serial::before {content: \"\";position: absolute;border-left: 1px solid gray;box-sizing: border-box;top: 0;bottom: 0;left: 50%;z-index: 0;}#sk-container-id-2 div.sk-serial {display: flex;flex-direction: column;align-items: center;background-color: white;padding-right: 0.2em;padding-left: 0.2em;position: relative;}#sk-container-id-2 div.sk-item {position: relative;z-index: 1;}#sk-container-id-2 div.sk-parallel {display: flex;align-items: stretch;justify-content: center;background-color: white;position: relative;}#sk-container-id-2 div.sk-item::before, #sk-container-id-2 div.sk-parallel-item::before {content: \"\";position: absolute;border-left: 1px solid gray;box-sizing: border-box;top: 0;bottom: 0;left: 50%;z-index: -1;}#sk-container-id-2 div.sk-parallel-item {display: flex;flex-direction: column;z-index: 1;position: relative;background-color: white;}#sk-container-id-2 div.sk-parallel-item:first-child::after {align-self: flex-end;width: 50%;}#sk-container-id-2 div.sk-parallel-item:last-child::after {align-self: flex-start;width: 50%;}#sk-container-id-2 div.sk-parallel-item:only-child::after {width: 0;}#sk-container-id-2 div.sk-dashed-wrapped {border: 1px dashed gray;margin: 0 0.4em 0.5em 0.4em;box-sizing: border-box;padding-bottom: 0.4em;background-color: white;}#sk-container-id-2 div.sk-label label {font-family: monospace;font-weight: bold;display: inline-block;line-height: 1.2em;}#sk-container-id-2 div.sk-label-container {text-align: center;}#sk-container-id-2 div.sk-container {/* jupyter's `normalize.less` sets `[hidden] { display: none; }` but bootstrap.min.css set `[hidden] { display: none !important; }` so we also need the `!important` here to be able to override the default hidden behavior on the sphinx rendered scikit-learn.org. See: https://github.com/scikit-learn/scikit-learn/issues/21755 */display: inline-block !important;position: relative;}#sk-container-id-2 div.sk-text-repr-fallback {display: none;}</style><div id=\"sk-container-id-2\" class=\"sk-top-container\"><div class=\"sk-text-repr-fallback\"><pre>RandomForestRegressor(random_state=42)</pre><b>In a Jupyter environment, please rerun this cell to show the HTML representation or trust the notebook. <br />On GitHub, the HTML representation is unable to render, please try loading this page with nbviewer.org.</b></div><div class=\"sk-container\" hidden><div class=\"sk-item\"><div class=\"sk-estimator sk-toggleable\"><input class=\"sk-toggleable__control sk-hidden--visually\" id=\"sk-estimator-id-2\" type=\"checkbox\" checked><label for=\"sk-estimator-id-2\" class=\"sk-toggleable__label sk-toggleable__label-arrow\">RandomForestRegressor</label><div class=\"sk-toggleable__content\"><pre>RandomForestRegressor(random_state=42)</pre></div></div></div></div></div>"
            ]
          },
          "metadata": {},
          "execution_count": 97
        }
      ]
    },
    {
      "cell_type": "markdown",
      "source": [
        "Computing train accuracy, recall, and precision"
      ],
      "metadata": {
        "id": "q8E5_wAUPn-t"
      }
    },
    {
      "cell_type": "code",
      "source": [
        "# Save the models to a file\n",
        "models_dict = {\n",
        "    'like': model_like,\n",
        "    'dislike': model_dislike,\n",
        "    'engage_time': model_engtime\n",
        "}\n",
        "\n",
        "with open('delta_model.pkl', 'wb') as f:\n",
        "    pickle.dump(models_dict, f)"
      ],
      "metadata": {
        "id": "GA3s_8sPNbPC"
      },
      "execution_count": 80,
      "outputs": []
    },
    {
      "cell_type": "code",
      "source": [
        "# Save the models to a file (neural network)\n",
        "# models_dict = {\n",
        "#     'like': model_like,\n",
        "#     'dislike': model_dislike,\n",
        "#     'engage_time': model_engtime\n",
        "# }\n",
        "# for model_name, model in models_dict.items():\n",
        "#     models_dict[model_name] = model.to_json()\n",
        "\n",
        "# with open('delta_model.pkl', 'wb') as f:\n",
        "#     pickle.dump(models_dict, f)"
      ],
      "metadata": {
        "id": "u6lhUN0IxeP_"
      },
      "execution_count": 65,
      "outputs": []
    },
    {
      "cell_type": "code",
      "source": [
        "from tensorflow.keras.models import model_from_json\n",
        "\n",
        "with open('delta_model.pkl', 'rb') as file:\n",
        "    models = pickle.load(file)"
      ],
      "metadata": {
        "id": "_F4ek7p-xyno"
      },
      "execution_count": 82,
      "outputs": []
    },
    {
      "cell_type": "code",
      "source": [
        "#reading neural network\n",
        "# from tensorflow.keras.models import model_from_json\n",
        "\n",
        "# with open('delta_model.pkl', 'rb') as file:\n",
        "#     loaded_models_dict = pickle.load(file)\n",
        "\n",
        "# models = {model_name: model_from_json(model_data) for model_name, model_data in loaded_models_dict.items()}"
      ],
      "metadata": {
        "id": "fQbcxnNHyFgR"
      },
      "execution_count": null,
      "outputs": []
    },
    {
      "cell_type": "code",
      "source": [
        "models"
      ],
      "metadata": {
        "colab": {
          "base_uri": "https://localhost:8080/"
        },
        "id": "wT8k1RHoyg8I",
        "outputId": "261b6c4b-f546-4c62-8acf-4a84a7f3dd56"
      },
      "execution_count": 83,
      "outputs": [
        {
          "output_type": "execute_result",
          "data": {
            "text/plain": [
              "{'like': RandomForestClassifier(random_state=42),\n",
              " 'dislike': RandomForestClassifier(random_state=42),\n",
              " 'engage_time': RandomForestRegressor(random_state=42)}"
            ]
          },
          "metadata": {},
          "execution_count": 83
        }
      ]
    },
    {
      "cell_type": "code",
      "source": [
        "preds = models['like'].predict(X_train).flatten()"
      ],
      "metadata": {
        "id": "VXInQkIIyzR2"
      },
      "execution_count": 84,
      "outputs": []
    },
    {
      "cell_type": "code",
      "source": [
        "like_preds = np.where(preds > 0.55, 1, 0)\n",
        "like_accuracy = accuracy_score(y_train['like'], like_preds)\n",
        "like_accuracy"
      ],
      "metadata": {
        "colab": {
          "base_uri": "https://localhost:8080/"
        },
        "id": "cBGqcTDWzFtd",
        "outputId": "8c56a6a9-0800-4201-e6c5-1390ea93a5ac"
      },
      "execution_count": 85,
      "outputs": [
        {
          "output_type": "execute_result",
          "data": {
            "text/plain": [
              "0.7661705449611717"
            ]
          },
          "metadata": {},
          "execution_count": 85
        }
      ]
    },
    {
      "cell_type": "code",
      "source": [
        "precision_score(y_train['like'], like_preds)"
      ],
      "metadata": {
        "colab": {
          "base_uri": "https://localhost:8080/"
        },
        "id": "TTAIFRBWK-np",
        "outputId": "555a8f57-0276-42c2-d7a6-db607bcc4d4e"
      },
      "execution_count": 86,
      "outputs": [
        {
          "output_type": "execute_result",
          "data": {
            "text/plain": [
              "0.5718637156402762"
            ]
          },
          "metadata": {},
          "execution_count": 86
        }
      ]
    },
    {
      "cell_type": "code",
      "source": [
        "recall_score(y_train['like'], like_preds)"
      ],
      "metadata": {
        "colab": {
          "base_uri": "https://localhost:8080/"
        },
        "id": "nYYJip9RLHeP",
        "outputId": "81927743-0121-408d-ab4c-1fcad0fe3867"
      },
      "execution_count": 87,
      "outputs": [
        {
          "output_type": "execute_result",
          "data": {
            "text/plain": [
              "0.5798689814930131"
            ]
          },
          "metadata": {},
          "execution_count": 87
        }
      ]
    },
    {
      "cell_type": "code",
      "source": [
        "preds = models['dislike'].predict(X_train).flatten()"
      ],
      "metadata": {
        "id": "6x1mwGH4zbuh"
      },
      "execution_count": 88,
      "outputs": []
    },
    {
      "cell_type": "code",
      "source": [
        "dislike_preds = np.where(preds > 0.6, 1, 0)\n",
        "dislike_accuracy = accuracy_score(y_train['dislike'], dislike_preds)\n",
        "dislike_accuracy"
      ],
      "metadata": {
        "colab": {
          "base_uri": "https://localhost:8080/"
        },
        "id": "I1kemhK9zBLd",
        "outputId": "25b45ca7-9100-464e-f211-3598e07a8a8b"
      },
      "execution_count": 89,
      "outputs": [
        {
          "output_type": "execute_result",
          "data": {
            "text/plain": [
              "0.7752589128048489"
            ]
          },
          "metadata": {},
          "execution_count": 89
        }
      ]
    },
    {
      "cell_type": "code",
      "source": [
        "precision_score(y_train['dislike'], dislike_preds)"
      ],
      "metadata": {
        "colab": {
          "base_uri": "https://localhost:8080/"
        },
        "id": "5OzFf3bBLAIu",
        "outputId": "b7170d46-8928-4c34-f295-0b3bf126501b"
      },
      "execution_count": 90,
      "outputs": [
        {
          "output_type": "execute_result",
          "data": {
            "text/plain": [
              "0.5027167789268098"
            ]
          },
          "metadata": {},
          "execution_count": 90
        }
      ]
    },
    {
      "cell_type": "code",
      "source": [
        "recall_score(y_train['dislike'], dislike_preds)"
      ],
      "metadata": {
        "colab": {
          "base_uri": "https://localhost:8080/"
        },
        "id": "Nh5blPiyLJtH",
        "outputId": "e7debe1b-2aab-4efc-a4c1-7debcf23d026"
      },
      "execution_count": 91,
      "outputs": [
        {
          "output_type": "execute_result",
          "data": {
            "text/plain": [
              "0.6050934297769741"
            ]
          },
          "metadata": {},
          "execution_count": 91
        }
      ]
    },
    {
      "cell_type": "markdown",
      "source": [
        "# Evaluation"
      ],
      "metadata": {
        "id": "xHQoFOGdIOm_"
      }
    },
    {
      "cell_type": "markdown",
      "source": [
        "Achieved the following train accuracy: like 76%, dislike 78%\n"
      ],
      "metadata": {
        "id": "rYk2-paYsXty"
      }
    },
    {
      "cell_type": "code",
      "source": [
        "data_collector.load_model()"
      ],
      "metadata": {
        "colab": {
          "base_uri": "https://localhost:8080/"
        },
        "id": "ET3Qarci38LK",
        "outputId": "d1a98c44-4ec6-44b3-d823-361e725ec866"
      },
      "execution_count": 98,
      "outputs": [
        {
          "output_type": "execute_result",
          "data": {
            "text/plain": [
              "{'like': RandomForestClassifier(random_state=42),\n",
              " 'dislike': RandomForestClassifier(random_state=42),\n",
              " 'engage_time': RandomForestRegressor(random_state=42)}"
            ]
          },
          "metadata": {},
          "execution_count": 98
        }
      ]
    },
    {
      "cell_type": "code",
      "source": [
        "train_preds = data_collector.predict(X_train)"
      ],
      "metadata": {
        "id": "cJA01OEK1KTG"
      },
      "execution_count": 99,
      "outputs": []
    },
    {
      "cell_type": "code",
      "source": [
        "train_preds"
      ],
      "metadata": {
        "colab": {
          "base_uri": "https://localhost:8080/"
        },
        "id": "mR3oP6kE466j",
        "outputId": "cd82083e-4437-499c-a3ed-84d555e64902"
      },
      "execution_count": 100,
      "outputs": [
        {
          "output_type": "execute_result",
          "data": {
            "text/plain": [
              "(array([0, 0, 0, ..., 0, 0, 0]),\n",
              " array([1, 1, 0, ..., 0, 0, 0]),\n",
              " array([  6063.02727906,  75468.25916918, 102384.92249932, ...,\n",
              "          1299.90410653,   2160.87754436,   3073.85165864]))"
            ]
          },
          "metadata": {},
          "execution_count": 100
        }
      ]
    },
    {
      "cell_type": "code",
      "source": [
        "dislike_preds = np.where(train_preds[1] > 0.5, 1, 0)\n",
        "dislike_accuracy = accuracy_score(y_train['dislike'], dislike_preds)\n",
        "dislike_accuracy"
      ],
      "metadata": {
        "colab": {
          "base_uri": "https://localhost:8080/"
        },
        "id": "KFhgwAS05CMn",
        "outputId": "7ea028b5-5fde-46ec-e92f-c90a4d73757f"
      },
      "execution_count": 101,
      "outputs": [
        {
          "output_type": "execute_result",
          "data": {
            "text/plain": [
              "0.7752589128048489"
            ]
          },
          "metadata": {},
          "execution_count": 101
        }
      ]
    },
    {
      "cell_type": "code",
      "source": [
        "precision_score(y_train['dislike'], dislike_preds)"
      ],
      "metadata": {
        "colab": {
          "base_uri": "https://localhost:8080/"
        },
        "id": "wZHk4e3lHEul",
        "outputId": "b38d98eb-445b-45f9-8bb3-998580eeb5ce"
      },
      "execution_count": 102,
      "outputs": [
        {
          "output_type": "execute_result",
          "data": {
            "text/plain": [
              "0.5027167789268098"
            ]
          },
          "metadata": {},
          "execution_count": 102
        }
      ]
    },
    {
      "cell_type": "code",
      "source": [
        "recall_score(y_train['dislike'], dislike_preds)"
      ],
      "metadata": {
        "colab": {
          "base_uri": "https://localhost:8080/"
        },
        "id": "ty3E4lKGG6Pv",
        "outputId": "e3767f71-5c63-4a76-f756-fb3e1096289d"
      },
      "execution_count": 103,
      "outputs": [
        {
          "output_type": "execute_result",
          "data": {
            "text/plain": [
              "0.6050934297769741"
            ]
          },
          "metadata": {},
          "execution_count": 103
        }
      ]
    },
    {
      "cell_type": "code",
      "source": [
        "like_preds = np.where(train_preds[0] > 0.5, 1, 0)\n",
        "like_accuracy = accuracy_score(y_train['like'], like_preds)\n",
        "like_accuracy"
      ],
      "metadata": {
        "colab": {
          "base_uri": "https://localhost:8080/"
        },
        "id": "SLzE95Ne5gna",
        "outputId": "3c84e471-49ef-40fa-cf9d-d4cbec0ec604"
      },
      "execution_count": 104,
      "outputs": [
        {
          "output_type": "execute_result",
          "data": {
            "text/plain": [
              "0.7661705449611717"
            ]
          },
          "metadata": {},
          "execution_count": 104
        }
      ]
    },
    {
      "cell_type": "code",
      "source": [
        "recall_score(y_train['like'], like_preds)"
      ],
      "metadata": {
        "colab": {
          "base_uri": "https://localhost:8080/"
        },
        "id": "iXoYrwcMG83y",
        "outputId": "721cbf0e-83b8-4efe-a03c-78bc45a27948"
      },
      "execution_count": 106,
      "outputs": [
        {
          "output_type": "execute_result",
          "data": {
            "text/plain": [
              "0.5798689814930131"
            ]
          },
          "metadata": {},
          "execution_count": 106
        }
      ]
    },
    {
      "cell_type": "code",
      "source": [
        "precision_score(y_train['like'], like_preds)"
      ],
      "metadata": {
        "colab": {
          "base_uri": "https://localhost:8080/"
        },
        "id": "FD4G2tKrHCH_",
        "outputId": "bf52a20b-135f-4b9c-952e-3fc26d72c63b"
      },
      "execution_count": 107,
      "outputs": [
        {
          "output_type": "execute_result",
          "data": {
            "text/plain": [
              "0.5718637156402762"
            ]
          },
          "metadata": {},
          "execution_count": 107
        }
      ]
    },
    {
      "cell_type": "code",
      "source": [],
      "metadata": {
        "id": "MIHCKhyjHCN_"
      },
      "execution_count": null,
      "outputs": []
    },
    {
      "cell_type": "code",
      "source": [
        "# Simulates contents filtered from previous stage.\n",
        "# Feel free to change this to reflect your previous stage.\n",
        "\n",
        "sample_contents = content_meta['content_id'].sample(frac=0.01)"
      ],
      "metadata": {
        "id": "ymC0rAg4XPWf"
      },
      "execution_count": 108,
      "outputs": []
    },
    {
      "cell_type": "code",
      "source": [
        "# Get true target variables\n",
        "y_true = data_collector.gen_target_vars(engagement_test)\n",
        "\n",
        "# Make predictions\n",
        "y_pred = data_collector.score(content_ids = sample_contents)"
      ],
      "metadata": {
        "colab": {
          "base_uri": "https://localhost:8080/"
        },
        "id": "ICe6HjaJ_E_4",
        "outputId": "6becc5c4-5d1a-4a35-e05f-fb1972fa4c35"
      },
      "execution_count": 109,
      "outputs": [
        {
          "output_type": "stream",
          "name": "stderr",
          "text": [
            "<ipython-input-92-e32a37778a05>:16: UserWarning: Boolean Series key will be reindexed to match DataFrame index.\n",
            "  like_data = self.user_data[engagement_data['engagement_type'] == 'Like']\n"
          ]
        }
      ]
    },
    {
      "cell_type": "code",
      "source": [
        "thres_like = 0.5\n",
        "thres_dislike = 0.5\n",
        "evaluate(y_true, y_pred, thres_like, thres_dislike)"
      ],
      "metadata": {
        "colab": {
          "base_uri": "https://localhost:8080/"
        },
        "id": "yPTAbVKuEbzy",
        "outputId": "cb43a13f-4e98-4490-f0eb-d8ad92e921d0"
      },
      "execution_count": 110,
      "outputs": [
        {
          "output_type": "execute_result",
          "data": {
            "text/plain": [
              "{'like': {'precision': 0.6024096385542169, 'recall': 0.5434782608695652},\n",
              " 'dislike': {'precision': 0.45161290322580644, 'recall': 0.5454545454545454},\n",
              " 'engage_time': {'rmse': 1604929.7365899044}}"
            ]
          },
          "metadata": {},
          "execution_count": 110
        }
      ]
    },
    {
      "cell_type": "code",
      "source": [
        "#experiment with neural network\n",
        "thres_like = 0.5\n",
        "thres_dislike = 0.5\n",
        "evaluate(y_true, y_pred, thres_like, thres_dislike)"
      ],
      "metadata": {
        "colab": {
          "base_uri": "https://localhost:8080/"
        },
        "id": "FlgbwY8glluH",
        "outputId": "92f44ea5-077d-4078-97af-a47309427f30"
      },
      "execution_count": 101,
      "outputs": [
        {
          "output_type": "execute_result",
          "data": {
            "text/plain": [
              "{'like': {'precision': 0.5520833333333334, 'recall': 0.5145631067961165},\n",
              " 'dislike': {'precision': 0.4457831325301205, 'recall': 0.46835443037974683},\n",
              " 'engage_time': {'rmse': 229312.72951327276}}"
            ]
          },
          "metadata": {},
          "execution_count": 101
        }
      ]
    },
    {
      "cell_type": "markdown",
      "source": [
        "# Inference Example"
      ],
      "metadata": {
        "id": "IVqi5AsJBBKq"
      }
    },
    {
      "cell_type": "code",
      "source": [
        "sample_contents = content_meta['content_id'].sample(frac=0.01)  # simulated contents filtered from previous stage\n",
        "\n",
        "\n",
        "data_collector = DataCollectorDelta(\n",
        "    engagement_path='sample_data/engagement_train.csv',  # will be None in real production\n",
        "    content_meta_path='sample_data/generated_content_metadata.csv'  # will be None in real production\n",
        "    )\n",
        "\n",
        "recs = data_collector.recommend(user_id=8, content_ids=sample_contents, top_k=20)"
      ],
      "metadata": {
        "id": "7Bq4NJDP93om"
      },
      "execution_count": null,
      "outputs": []
    },
    {
      "cell_type": "code",
      "source": [
        "recs"
      ],
      "metadata": {
        "colab": {
          "base_uri": "https://localhost:8080/"
        },
        "id": "cUZs7nqjBfY1",
        "outputId": "6db23088-b182-449e-df29-a6f02a73a72b"
      },
      "execution_count": null,
      "outputs": [
        {
          "output_type": "execute_result",
          "data": {
            "text/plain": [
              "[134914,\n",
              " 114789,\n",
              " 93707,\n",
              " 132663,\n",
              " 90348,\n",
              " 116224,\n",
              " 68745,\n",
              " 57675,\n",
              " 133872,\n",
              " 132480,\n",
              " 40220,\n",
              " 80477,\n",
              " 91759,\n",
              " 86365,\n",
              " 101628,\n",
              " 114154,\n",
              " 86020,\n",
              " 30778,\n",
              " 35987,\n",
              " 130466]"
            ]
          },
          "metadata": {},
          "execution_count": 16
        }
      ]
    }
  ]
}