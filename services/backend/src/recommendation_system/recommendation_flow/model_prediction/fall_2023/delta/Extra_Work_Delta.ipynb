{
  "cells": [
    {
      "cell_type": "markdown",
      "metadata": {
        "id": "KBiX1FEG1nXj"
      },
      "source": [
        "# Imports"
      ]
    },
    {
      "cell_type": "code",
      "execution_count": null,
      "metadata": {
        "id": "NkuqgSAjwlnY"
      },
      "outputs": [],
      "source": [
        "import pandas as pd\n",
        "import numpy as np\n",
        "#from google.colab import drive\n",
        "from tqdm import tqdm\n",
        "\n",
        "from sklearn.linear_model import LogisticRegression\n",
        "from sklearn.model_selection import train_test_split"
      ]
    },
    {
      "cell_type": "markdown",
      "metadata": {
        "id": "pSXqZ70o1omv"
      },
      "source": [
        "# DataCollector - Do Not Modify"
      ]
    },
    {
      "cell_type": "code",
      "execution_count": null,
      "metadata": {
        "id": "4CMmBKnre2Hv"
      },
      "outputs": [],
      "source": [
        "#from sqlalchemy.sql.schema import ScalarElementColumnDefault\n",
        "import pandas as pd\n",
        "from sklearn.preprocessing import OneHotEncoder\n",
        "from sklearn.preprocessing import StandardScaler, Normalizer\n",
        "import numpy as np\n",
        "from typing import Tuple, List, Optional\n",
        "import pickle\n",
        "\n",
        "\n",
        "class Postprocessor:\n",
        "\n",
        "    def __init__(self,\n",
        "                 numberical_features: List[str],\n",
        "                 categorical_features: List[str]):\n",
        "\n",
        "        self.numberical_features = numberical_features\n",
        "        self.categorical_features = categorical_features\n",
        "\n",
        "        self.scaler = StandardScaler()\n",
        "        self.encoder = OneHotEncoder(sparse_output=False, handle_unknown='ignore')\n",
        "        self.encode_cols = []\n",
        "\n",
        "    def fit(self, features_df: pd.DataFrame):\n",
        "\n",
        "        self.scaler.fit(features_df[self.numberical_features])\n",
        "\n",
        "        if len(self.categorical_features) > 0:\n",
        "            self.encoder.fit(features_df[self.categorical_features])\n",
        "            self.encode_cols = list(self.encoder.get_feature_names_out())\n",
        "\n",
        "    def transform(self, features_df: pd.DataFrame) -> pd.DataFrame:\n",
        "\n",
        "        features_df[self.numberical_features] = self.scaler.transform(features_df[self.numberical_features])\n",
        "\n",
        "        if len(self.categorical_features) > 0:\n",
        "            features_df[self.encode_cols] = self.encoder.transform(features_df[self.categorical_features])\n",
        "\n",
        "        return features_df\n",
        "\n",
        "    def fit_transform(self, features_df: pd.DataFrame) -> pd.DataFrame:\n",
        "\n",
        "        self.fit(features_df)\n",
        "        features_df = self.transform(features_df)\n",
        "\n",
        "        return features_df\n",
        "\n",
        "\n",
        "class DataCollector:\n",
        "\n",
        "    def __init__(self,\n",
        "                 engagement_path=None,\n",
        "                 content_meta_path=None):\n",
        "\n",
        "\n",
        "        self.engagement_path = engagement_path\n",
        "        self.content_meta_path = content_meta_path\n",
        "\n",
        "        self.objects_dir = 'sample_data'  #TODO change this\n",
        "        self.numerical_features = []\n",
        "        self.categorical_features = []\n",
        "\n",
        "        self.postprocessor = None\n",
        "        self.model = None\n",
        "\n",
        "    def feature_generation_user(self) -> Tuple[pd.DataFrame, List[str], List[str]]:\n",
        "        \"\"\"\n",
        "        Returns\n",
        "          pd.DataFrame: User feature dataframe\n",
        "          List[str]: List of numerical features. E.g. ['feat_1', 'feat_3, ...]\n",
        "          List[str]: List of categorical features. E.g. ['feat_2', 'feat_4, ...]\n",
        "        \"\"\"\n",
        "        raise NotImplementedError(\"you need to implement this\")\n",
        "\n",
        "    def feature_generation_content(self) -> Tuple[pd.DataFrame, List[str], List[str]]:\n",
        "        \"\"\"\n",
        "        Returns\n",
        "          pd.DataFrame: Content feature dataframe\n",
        "          List[str]: List of numerical features. E.g. ['feat_1', 'feat_3, ...]\n",
        "          List[str]: List of categorical features. E.g. ['feat_2', 'feat_4, ...]\n",
        "        \"\"\"\n",
        "        raise NotImplementedError(\"you need to implement this\")\n",
        "\n",
        "    def get_Ys(self) -> pd.DataFrame:\n",
        "        \"\"\"Engineers taget variable.\n",
        "        Args\n",
        "            data (pd.DataFrame): Engagement data.\n",
        "        Returns\n",
        "            pd.DataFrame: Dataframe of 5 columns;\n",
        "                'user_id', 'content_id', 'like', 'dislike', 'engage_time'\n",
        "        \"\"\"\n",
        "\n",
        "        raise NotImplementedError(\"you need to implement this\")\n",
        "\n",
        "    def feature_generation(self, is_train=False) -> pd.DataFrame:\n",
        "        \"\"\"Generate features. If is_train, will generate features for user-content pairs\n",
        "        exist in self.engagement_data. Else, will generate features for\n",
        "        all possible user-content pairs.\n",
        "\n",
        "        Args:\n",
        "            is_train (bool): Whether in training mode.\n",
        "\n",
        "        Returns:\n",
        "            pd.DataFrame: Feature dataframe.\n",
        "\n",
        "        \"\"\"\n",
        "\n",
        "        user_feature_df, user_num_feats, user_cat_feats = self.feature_generation_user()\n",
        "        content_feature_df, content_num_feats, content_cat_feats = self.feature_generation_content()\n",
        "        self.user_feature_df = user_feature_df\n",
        "        self.content_feature_df = content_feature_df\n",
        "\n",
        "        self.numerical_features = user_num_feats + content_num_feats\n",
        "        self.categorical_features = user_cat_feats + content_cat_feats\n",
        "\n",
        "        if is_train:\n",
        "            interaction_pairs = self.engagement_data[\n",
        "                ['user_id', 'content_id']].drop_duplicates()\n",
        "\n",
        "        else:\n",
        "            all_users = self.engagement_data['user_id'].drop_duplicates().tolist()\n",
        "            all_contents = self.generated_content_metadata['content_id'].drop_duplicates().tolist()\n",
        "\n",
        "            interaction_pairs = [(u, c) for u in all_users for c in all_contents]\n",
        "            interaction_pairs = pd.DataFrame(interaction_pairs, columns=['user_id', 'content_id'])\n",
        "\n",
        "        features_df = pd.merge(interaction_pairs,\n",
        "                               user_feature_df, on='user_id', how='left')\n",
        "\n",
        "        features_df = pd.merge(features_df,\n",
        "                               content_feature_df, on='content_id', how='left')\n",
        "\n",
        "        return features_df\n",
        "\n",
        "\n",
        "    def get_engagement_data(self, user_id=None, content_ids=None):\n",
        "\n",
        "        if self.engagement_path is None:\n",
        "            #TODO: read from database\n",
        "            pass\n",
        "        else:\n",
        "            df = pd.read_csv(self.engagement_path, sep=\"\\t\")\n",
        "\n",
        "        if content_ids is not None:\n",
        "            df = df[df['content_id'].isin(content_ids)]\n",
        "\n",
        "        if user_id is not None:\n",
        "            df = df[df['user_id'] == user_id]\n",
        "\n",
        "        return df\n",
        "\n",
        "    def get_generated_content_metadata(self, content_ids=None):\n",
        "\n",
        "        if self.content_meta_path is None:\n",
        "            #TODO: read from database\n",
        "            pass\n",
        "        else:\n",
        "            df = pd.read_csv(self.content_meta_path, sep=\"\\t\")\n",
        "\n",
        "        if content_ids is not None:\n",
        "            df = df[df['content_id'].isin(content_ids)]\n",
        "\n",
        "        return df\n",
        "\n",
        "    def get_user_data(self, user_id=None):\n",
        "\n",
        "        if self.engagement_path is None:\n",
        "            #TODO: read from database\n",
        "            pass\n",
        "        else:\n",
        "            df = pd.read_csv(self.engagement_path, sep=\"\\t\")\n",
        "\n",
        "        if user_id is not None:\n",
        "            df = df[df['user_id'] == user_id]\n",
        "\n",
        "        return df\n",
        "\n",
        "    def gather_data(self, user_id, content_ids):\n",
        "        self.engagement_data = self.get_engagement_data(user_id, content_ids)\n",
        "        self.generated_content_metadata = self.get_generated_content_metadata(content_ids)\n",
        "        self.user_data = self.get_user_data(user_id)\n",
        "\n",
        "        if len(self.engagement_data) == 0:\n",
        "            raise Exception(\"either user_id or content_ids leads to empty engagement_data\")\n",
        "\n",
        "        if len(self.generated_content_metadata) == 0:\n",
        "            raise Exception(\"content_ids leads to empty generated_content_metadata\")\n",
        "\n",
        "        if len(self.user_data) == 0:\n",
        "            raise Exception(\"user_id leads to empty user_data\")\n",
        "\n",
        "    def postprocess_feature(self, features_df: pd.DataFrame, is_train=False) -> pd.DataFrame:\n",
        "        \"\"\"Applied postprocessings (one-hot encoding & scaler) to the feature dataframe.\n",
        "\n",
        "        Args:\n",
        "            features_df (pd.DataFrame): Input feature dataframe.\n",
        "            is_train (bool): Whether in training mode. If True, will fit the\n",
        "                Postprocessor() and save to a pickle file. Else, will load the\n",
        "                saved Postprocessor() and use it.\n",
        "\n",
        "        Returns:\n",
        "            pd.DataFrame: Output feature dataframe.\n",
        "        \"\"\"\n",
        "\n",
        "        if is_train:\n",
        "            self.postprocessor = Postprocessor(self.numerical_features, self.categorical_features)\n",
        "            features_df = self.postprocessor.fit_transform(features_df)\n",
        "            self.save_postprocessor()\n",
        "\n",
        "        else:\n",
        "            self.postprocessor = self.load_postprocessor()\n",
        "            features_df = self.postprocessor.transform(features_df)\n",
        "\n",
        "        self.all_numeric_features = self.numerical_features + self.postprocessor.encode_cols\n",
        "\n",
        "\n",
        "        return features_df\n",
        "\n",
        "\n",
        "    def gen_model_input(self,\n",
        "                        user_id: Optional[int] = None,\n",
        "                        content_ids: Optional[list] = None,\n",
        "                        is_train: bool = False) -> pd.DataFrame:\n",
        "        \"\"\"Generates input data (X) for model.\n",
        "\n",
        "        Args:\n",
        "            user_id (Optional[int]): User ID to generate features for.\n",
        "                If None, will generate features for all available users in self.engagement_data.\n",
        "            content_ids (Optional[list]): List of content ID to generate features for.\n",
        "                If None, will generate features for all available contents in self.engagement_data.\n",
        "            is_train (bool): Whether in training mode. If True, will generate\n",
        "                features for user-content pairs exist in self.engagement_data.\n",
        "                Else, will generate features for all possible user-content pairs.\n",
        "\n",
        "        Returns:\n",
        "            pd.DataFrame: Dataframe of features with 2-level index of ('user_id', 'content_id').\n",
        "        \"\"\"\n",
        "\n",
        "        self.gather_data(user_id, content_ids)\n",
        "        features_df = self.feature_generation(is_train)\n",
        "        features_df = self.postprocess_feature(features_df, is_train)\n",
        "\n",
        "        X = features_df.set_index(['user_id', 'content_id'])\n",
        "        X = X[self.all_numeric_features]\n",
        "        X = X.fillna(0)\n",
        "\n",
        "        return X\n",
        "\n",
        "\n",
        "    def gen_target_vars(self,\n",
        "                        engagement_data: Optional[pd.DataFrame] = None\n",
        "                        ) -> pd.DataFrame:\n",
        "        \"\"\"Wrapper to generate target variables.\n",
        "\n",
        "        Args:\n",
        "            engagement_data (Optional[pd.DataFrame]): Engagement data. If None,\n",
        "                will use self.engagement_data which is loaded for training.\n",
        "                For testing, parse in the engagement_data for testing.\n",
        "\n",
        "        Returns:\n",
        "            pd.DataFrame: Dataframe of 3 columns; 'like', 'dislike', 'engage_time'\n",
        "                and 2-level index of ('user_id', 'content_id').\n",
        "        \"\"\"\n",
        "\n",
        "        if engagement_data is None:\n",
        "            engagement_data = self.engagement_data\n",
        "\n",
        "        target_df = self.get_Ys(engagement_data)\n",
        "\n",
        "        return target_df.set_index(['user_id', 'content_id'])\n",
        "\n",
        "\n",
        "    def save_postprocessor(self):\n",
        "\n",
        "        with open(f'{self.objects_dir}/postprocessor.pkl', 'wb') as f:\n",
        "            pickle.dump(self.postprocessor, f)\n",
        "\n",
        "    def load_postprocessor(self):\n",
        "\n",
        "        with open(f'{self.objects_dir}/postprocessor.pkl', 'rb') as f:\n",
        "            return pickle.load(f)\n",
        "\n",
        "    def load_model(self):\n",
        "        raise NotImplementedError(\"you need to implement this\")\n",
        "\n",
        "    def predict(self, X) -> Tuple[list, list, list]:\n",
        "        raise NotImplementedError(\"you need to implement this\")\n",
        "\n",
        "    def rank(self, pred_score):\n",
        "        raise NotImplementedError(\"you need to implement this\")\n",
        "\n",
        "    def score(self,\n",
        "              user_id: Optional[int] = None,\n",
        "              content_ids: Optional[list] = None) -> pd.DataFrame:\n",
        "        \"\"\"Predict the scores.\n",
        "\n",
        "        Args:\n",
        "            user_id (Optional[int]): User ID to generate features for.\n",
        "                If None, will generate features for all available users in self.engagement_data.\n",
        "            content_ids (Optional[list]): List of content ID to generate features for.\n",
        "                If None, will generate features for all available contents in self.engagement_data.\n",
        "\n",
        "        Returns:\n",
        "            pd.DataFrame: Predicted score dataframe with 2-level index of (user_id, content_id).\n",
        "                The dataframe also comes with the original content metadata which also\n",
        "                can be used for ranking.\n",
        "        \"\"\"\n",
        "\n",
        "        X = self.gen_model_input(user_id, content_ids, is_train=False)\n",
        "\n",
        "        pred_like, pred_dislike, pred_engtime = self.predict(X)\n",
        "\n",
        "        pred_df = pd.DataFrame(np.array([pred_like, pred_dislike, pred_engtime]).T,\n",
        "                               index=X.index,\n",
        "                               columns=['like', 'dislike', 'engage_time']).reset_index()\n",
        "\n",
        "        pred_df = pd.merge(self.generated_content_metadata,\n",
        "                           pred_df,\n",
        "                           how='right',\n",
        "                           on='content_id')\n",
        "\n",
        "        return pred_df.set_index(['user_id', 'content_id'])\n",
        "\n",
        "    def recommend(self, user_id, content_ids=None, top_k=20):\n",
        "\n",
        "        score_df = self.score(user_id, content_ids).reset_index()\n",
        "\n",
        "        rank = self.rank(score_df, user_id, content_ids)\n",
        "\n",
        "        return rank[:top_k]\n",
        "\n",
        "\n"
      ]
    },
    {
      "cell_type": "code",
      "execution_count": null,
      "metadata": {
        "id": "hLGG-J71qkzp"
      },
      "outputs": [],
      "source": [
        "from sklearn.metrics import recall_score\n",
        "from sklearn.metrics import precision_score\n",
        "from sklearn.metrics import mean_squared_error\n",
        "\n",
        "\n",
        "def evaluate(true_df: pd.DataFrame,\n",
        "             pred_df: pd.DataFrame,\n",
        "             thres_like: float = 0.5,\n",
        "             thres_dislike: float = 0.5\n",
        "             ) -> dict:\n",
        "\n",
        "    \"\"\"Compute evaluation metrics.\n",
        "\n",
        "    Args:\n",
        "        true_df (pd.DataFrame): Dataframe of true target variables.\n",
        "        pred_df (pd.DataFrame): Dataframe of predicted target variables.\n",
        "        thres_like (float): Probability threshold to consider a prediction as like.\n",
        "        thres_dislike (float): Probability threshold to consider as a prediction dislike.\n",
        "\n",
        "    Returns:\n",
        "        dict: Dictionary of metrics.\n",
        "    \"\"\"\n",
        "\n",
        "    true_df = true_df.reset_index()\n",
        "    pred_df = pred_df[['like', 'dislike', 'engage_time']].reset_index()\n",
        "\n",
        "    pred_df['like'] = (pred_df['like'] > thres_like).astype(int)\n",
        "    pred_df['dislike'] = (pred_df['dislike'] > thres_dislike).astype(int)\n",
        "\n",
        "    actual_user_content = true_df[['user_id', 'content_id']]\n",
        "    pred_user_content = pred_df[['user_id', 'content_id']]\n",
        "\n",
        "    common_user_content = pd.merge(actual_user_content,\n",
        "                                   pred_user_content,\n",
        "                                   how='inner',\n",
        "                                   on=['user_id', 'content_id'])\n",
        "\n",
        "    true_df = pd.merge(common_user_content,\n",
        "                         true_df,\n",
        "                         how='left',\n",
        "                         on=['user_id', 'content_id'])\n",
        "\n",
        "\n",
        "    pred_df = pd.merge(common_user_content,\n",
        "                       pred_df,\n",
        "                       how='left',\n",
        "                       on=['user_id', 'content_id'])\n",
        "\n",
        "\n",
        "    metrics = {}\n",
        "    for col in ['like', 'dislike', 'engage_time']:\n",
        "        metrics[col] = {}\n",
        "\n",
        "        if col == 'engage_time':\n",
        "            metrics[col]['rmse'] = np.sqrt(mean_squared_error(true_df[col], pred_df[col]))\n",
        "        else:\n",
        "            metrics[col]['precision'] = precision_score(true_df[col], pred_df[col])\n",
        "            metrics[col]['recall'] = recall_score(true_df[col], pred_df[col])\n",
        "\n",
        "    return metrics"
      ]
    },
    {
      "cell_type": "markdown",
      "metadata": {
        "id": "DA9SBLao1s4f"
      },
      "source": [
        "# Your Implementation"
      ]
    },
    {
      "cell_type": "markdown",
      "source": [
        "1. Proprocessor\n",
        "\n"
      ],
      "metadata": {
        "id": "ClsU7AeVPuj7"
      }
    },
    {
      "cell_type": "markdown",
      "metadata": {
        "id": "P44MUw7KWtwU"
      },
      "source": [
        "1) Experimented with different strategies for handling duplicate (user_id, content_id) rows in feature generation and get_Y\n",
        "\n",
        "2) Experimented with different user and content features"
      ]
    },
    {
      "cell_type": "code",
      "execution_count": null,
      "metadata": {
        "id": "WT9jJCiKWtwU"
      },
      "outputs": [],
      "source": [
        "class DataCollectorExample(DataCollector):\n",
        "\n",
        "    def feature_generation_user(self) -> Tuple[pd.DataFrame, List[str], List[str]]:\n",
        "        \"\"\"Generates user features. Keep all the categorical variables as is,\n",
        "        since the one-hot encoding will be done by our own pipeline. Along with\n",
        "        the feature dataframe, you'll need to output lists of numberical features\n",
        "        and categorical features as well.\n",
        "\n",
        "        Returns\n",
        "          pd.DataFrame: User feature dataframe\n",
        "          List[str]: List of numerical features. E.g. ['feat_1', 'feat_3, ...]\n",
        "          List[str]: List of categorical features. E.g. ['feat_2', 'feat_4, ...]\n",
        "        \"\"\"\n",
        "\n",
        "        feature_df = self.user_data[['user_id']].drop_duplicates().copy()\n",
        "\n",
        "        np.random.seed(42)\n",
        "        feature_df[['user_feat_0', 'user_feat_1']] = np.random.rand(len(feature_df), 2)\n",
        "\n",
        "        return feature_df, ['user_feat_0', 'user_feat_1'], []\n",
        "\n",
        "    def feature_generation_content(self) -> Tuple[pd.DataFrame, List[str], List[str]]:\n",
        "        \"\"\"Generates content features. Keep all the categorical variables as is,\n",
        "        since the one-hot encoding will be done by our own pipeline. Along with\n",
        "        the feature dataframe, you'll need to output lists of numberical features\n",
        "        and categorical features as well.\n",
        "\n",
        "        Returns\n",
        "          pd.DataFrame: User feature dataframe\n",
        "          List[str]: List of numerical features. E.g. ['feat_1', 'feat_3, ...]\n",
        "          List[str]: List of categorical features. E.g. ['feat_2', 'feat_4, ...]\n",
        "        \"\"\"\n",
        "\n",
        "        feature_df = self.generated_content_metadata[['content_id']].drop_duplicates().copy()\n",
        "\n",
        "        np.random.seed(1234)\n",
        "        feature_df[['content_feat_0', 'content_feat_1']] = np.random.rand(len(feature_df), 2)\n",
        "\n",
        "        feature_df['content_feat_2'] = np.random.choice(['a', 'b', 'c'], len(feature_df))\n",
        "\n",
        "\n",
        "        return feature_df, ['content_feat_0', 'content_feat_1'], ['content_feat_2']\n",
        "\n",
        "    def get_Ys(self, engagement_data) -> pd.DataFrame:\n",
        "        \"\"\"Engineers taget variable that you are predicting.\n",
        "        Args\n",
        "            engagement_data (pd.DataFrame): Engagement data.\n",
        "        Returns\n",
        "            pd.DataFrame: Dataframe of 5 columns;\n",
        "                'user_id', 'content_id', 'like', 'dislike', 'engage_time'\n",
        "        \"\"\"\n",
        "\n",
        "        # Filter the data for the \"like\" engagement type\n",
        "        like_data = engagement_data[engagement_data['engagement_type'] == 'Like'].copy()\n",
        "\n",
        "        # Sort the \"MillisecondsEngagedWith\" data by user, content, and timestamp in descending order\n",
        "        engage_data = engagement_data[engagement_data['engagement_type'] == 'MillisecondsEngagedWith'].copy()\n",
        "\n",
        "        # Keep only the latest row for each unique combination of user and content\n",
        "        like_data_sorted = like_data.sort_values(by=['user_id', 'content_id', 'created_date'], ascending=[True, True, False])\n",
        "        like_data= like_data_sorted.drop_duplicates(subset=['user_id', 'content_id'], keep='first')\n",
        "\n",
        "        # Calculate the average engagement value for \"MillisecondsEngagedWith\" for the same user and content\n",
        "        engage_data['engagement_value'] = engage_data['engagement_value'].fillna(0)\n",
        "        engage_data['engagement_value'] = engage_data.groupby(['user_id', 'content_id'])['engagement_value'].transform('mean')\n",
        "        engage_data.reset_index(drop=True, inplace=True)\n",
        "        #engage_data = engage_data.drop_duplicates(subset=['user_id', 'content_id'], keep='first')\n",
        "\n",
        "        # Merge the \"like\" data and the averaged \"MillisecondsEngagedWith\" data\n",
        "        target_df= pd.concat([like_data, engage_data], ignore_index=True, sort=False)\n",
        "        target_df = target_df.drop_duplicates(subset=['user_id', 'content_id']).copy()\n",
        "\n",
        "        # Set \"like\", \"dislike\", and \"engage_time\" based on engagement_value or the averaged value\n",
        "        target_df['like'] = np.where((target_df['engagement_type'] == 'Like') & (target_df['engagement_value'] == 1), 1, 0)\n",
        "        target_df['dislike'] = np.where((target_df['engagement_type'] == 'Like') & (target_df['engagement_value'] == -1), 1, 0)\n",
        "\n",
        "        # Set \"engage_time\" based on engagement_type and engagement_value\n",
        "        target_df['engage_time'] = np.where(target_df['engagement_type'] == 'MillisecondsEngagedWith', target_df['engagement_value'],0)\n",
        "\n",
        "\n",
        "        # Select and rename the required columns\n",
        "        target_df = target_df[['user_id', 'content_id', 'like', 'dislike', 'engage_time']].copy()\n",
        "\n",
        "        return target_df\n",
        "\n",
        "\n",
        "    def predict(self, X: pd.DataFrame) -> Tuple[list, list, list]:\n",
        "        \"\"\"Predicts the 3 target variables by using the model that you trained.\n",
        "        Make sure you load the model properly.\n",
        "\n",
        "        Args:\n",
        "            X (pd.DataFrame): Feature dataframe with 2-level index of (user_id, content_id)\n",
        "\n",
        "        Returns:\n",
        "            (list, list, list): (predicted prbability of like,\n",
        "                                 predicted probability of dislike,\n",
        "                                 predicted engagement time)\n",
        "        \"\"\"\n",
        "\n",
        "        model = self.load_model()\n",
        "\n",
        "        pred_like = model['like'].predict(X)\n",
        "        pred_dislike = model['dislike'].predict(X)\n",
        "        pred_engtime = model['engage_time'].predict(X)\n",
        "\n",
        "        return pred_like, pred_dislike, pred_engtime\n",
        "\n",
        "    def rank(self,\n",
        "             score_df: pd.DataFrame,\n",
        "             user_id: int,\n",
        "             content_ids: Optional[list] = None) -> list:\n",
        "\n",
        "        \"\"\"Ranks the items for a given user based on your own criteria.\n",
        "\n",
        "        Args:\n",
        "            score_df (pd.DataFrame): Predicted-score Dataframe of columns;\n",
        "                'user_id', 'content_id', 'like', 'dislike', 'engage_time', and\n",
        "                also columns for content metadata.\n",
        "            user_id (int): User ID to rank the items for.\n",
        "            content_ids (Optional[list]): List of content ids to be considered for ranking.\n",
        "        \"\"\"\n",
        "\n",
        "        score_df = score_df[score_df['user_id'] == user_id]\n",
        "        ranked_pred = score_df.sort_values('like', ascending=False)\n",
        "\n",
        "        return ranked_pred['content_id'].tolist()\n",
        "\n",
        "    def load_model(self) -> object:\n",
        "        \"\"\"Loads your model. Since different ML frameworks requires different\n",
        "        ways to load the model. Change this to reflect your choice of framework.\n",
        "\n",
        "        Returns:\n",
        "            object: Model object\n",
        "        \"\"\"\n",
        "\n",
        "        with open(f'{self.objects_dir}/model.pkl', 'rb') as f:\n",
        "            return pickle.load(f)"
      ]
    },
    {
      "cell_type": "code",
      "source": [],
      "metadata": {
        "id": "JeJHkbe41tia"
      },
      "execution_count": null,
      "outputs": []
    },
    {
      "cell_type": "code",
      "source": [],
      "metadata": {
        "id": "TnnshAaH8A53"
      },
      "execution_count": null,
      "outputs": []
    },
    {
      "cell_type": "code",
      "source": [
        "# Filter rows where engagement_type is 'MillisecondsEngagedWith'\n",
        "milliseconds_engaged_with = engagement_data[engagement_data['engagement_type'] == 'MillisecondsEngagedWith']\n",
        "\n",
        "# Get unique combinations of user_id and content_id for 'MillisecondsEngagedWith'\n",
        "unique_with_milliseconds = milliseconds_engaged_with[['user_id', 'content_id']].drop_duplicates()\n",
        "\n",
        "# Get all unique combinations of user_id and content_id\n",
        "all_combinations = engagement_data[['user_id', 'content_id']].drop_duplicates()\n",
        "\n",
        "# Find combinations with no 'MillisecondsEngagedWith'\n",
        "combinations_with_no_milliseconds = all_combinations.merge(unique_with_milliseconds,\n",
        "                                                           on=['user_id', 'content_id'],\n",
        "                                                           how='left',\n",
        "                                                           indicator=True)\n",
        "combinations_with_no_milliseconds = combinations_with_no_milliseconds[\n",
        "    combinations_with_no_milliseconds['_merge'] == 'left_only'\n",
        "]\n"
      ],
      "metadata": {
        "id": "JRLXiQxD4lQG"
      },
      "execution_count": null,
      "outputs": []
    },
    {
      "cell_type": "code",
      "source": [
        "combinations_with_no_milliseconds"
      ],
      "metadata": {
        "colab": {
          "base_uri": "https://localhost:8080/",
          "height": 424
        },
        "id": "vEnGqRss4ldJ",
        "outputId": "5e889cd2-4d7b-483e-9ed3-c7fdd332b318"
      },
      "execution_count": null,
      "outputs": [
        {
          "output_type": "execute_result",
          "data": {
            "text/plain": [
              "        user_id  content_id     _merge\n",
              "1            30       77269  left_only\n",
              "20           13       95201  left_only\n",
              "27           99       85774  left_only\n",
              "90          112      119813  left_only\n",
              "93           45       57253  left_only\n",
              "...         ...         ...        ...\n",
              "146627       48       96933  left_only\n",
              "146640        7       86593  left_only\n",
              "146648       13       91628  left_only\n",
              "146652       15      112843  left_only\n",
              "146653       13       35303  left_only\n",
              "\n",
              "[11481 rows x 3 columns]"
            ],
            "text/html": [
              "\n",
              "  <div id=\"df-20437ec0-64cd-479d-bc80-5caa036b34b3\" class=\"colab-df-container\">\n",
              "    <div>\n",
              "<style scoped>\n",
              "    .dataframe tbody tr th:only-of-type {\n",
              "        vertical-align: middle;\n",
              "    }\n",
              "\n",
              "    .dataframe tbody tr th {\n",
              "        vertical-align: top;\n",
              "    }\n",
              "\n",
              "    .dataframe thead th {\n",
              "        text-align: right;\n",
              "    }\n",
              "</style>\n",
              "<table border=\"1\" class=\"dataframe\">\n",
              "  <thead>\n",
              "    <tr style=\"text-align: right;\">\n",
              "      <th></th>\n",
              "      <th>user_id</th>\n",
              "      <th>content_id</th>\n",
              "      <th>_merge</th>\n",
              "    </tr>\n",
              "  </thead>\n",
              "  <tbody>\n",
              "    <tr>\n",
              "      <th>1</th>\n",
              "      <td>30</td>\n",
              "      <td>77269</td>\n",
              "      <td>left_only</td>\n",
              "    </tr>\n",
              "    <tr>\n",
              "      <th>20</th>\n",
              "      <td>13</td>\n",
              "      <td>95201</td>\n",
              "      <td>left_only</td>\n",
              "    </tr>\n",
              "    <tr>\n",
              "      <th>27</th>\n",
              "      <td>99</td>\n",
              "      <td>85774</td>\n",
              "      <td>left_only</td>\n",
              "    </tr>\n",
              "    <tr>\n",
              "      <th>90</th>\n",
              "      <td>112</td>\n",
              "      <td>119813</td>\n",
              "      <td>left_only</td>\n",
              "    </tr>\n",
              "    <tr>\n",
              "      <th>93</th>\n",
              "      <td>45</td>\n",
              "      <td>57253</td>\n",
              "      <td>left_only</td>\n",
              "    </tr>\n",
              "    <tr>\n",
              "      <th>...</th>\n",
              "      <td>...</td>\n",
              "      <td>...</td>\n",
              "      <td>...</td>\n",
              "    </tr>\n",
              "    <tr>\n",
              "      <th>146627</th>\n",
              "      <td>48</td>\n",
              "      <td>96933</td>\n",
              "      <td>left_only</td>\n",
              "    </tr>\n",
              "    <tr>\n",
              "      <th>146640</th>\n",
              "      <td>7</td>\n",
              "      <td>86593</td>\n",
              "      <td>left_only</td>\n",
              "    </tr>\n",
              "    <tr>\n",
              "      <th>146648</th>\n",
              "      <td>13</td>\n",
              "      <td>91628</td>\n",
              "      <td>left_only</td>\n",
              "    </tr>\n",
              "    <tr>\n",
              "      <th>146652</th>\n",
              "      <td>15</td>\n",
              "      <td>112843</td>\n",
              "      <td>left_only</td>\n",
              "    </tr>\n",
              "    <tr>\n",
              "      <th>146653</th>\n",
              "      <td>13</td>\n",
              "      <td>35303</td>\n",
              "      <td>left_only</td>\n",
              "    </tr>\n",
              "  </tbody>\n",
              "</table>\n",
              "<p>11481 rows × 3 columns</p>\n",
              "</div>\n",
              "    <div class=\"colab-df-buttons\">\n",
              "\n",
              "  <div class=\"colab-df-container\">\n",
              "    <button class=\"colab-df-convert\" onclick=\"convertToInteractive('df-20437ec0-64cd-479d-bc80-5caa036b34b3')\"\n",
              "            title=\"Convert this dataframe to an interactive table.\"\n",
              "            style=\"display:none;\">\n",
              "\n",
              "  <svg xmlns=\"http://www.w3.org/2000/svg\" height=\"24px\" viewBox=\"0 -960 960 960\">\n",
              "    <path d=\"M120-120v-720h720v720H120Zm60-500h600v-160H180v160Zm220 220h160v-160H400v160Zm0 220h160v-160H400v160ZM180-400h160v-160H180v160Zm440 0h160v-160H620v160ZM180-180h160v-160H180v160Zm440 0h160v-160H620v160Z\"/>\n",
              "  </svg>\n",
              "    </button>\n",
              "\n",
              "  <style>\n",
              "    .colab-df-container {\n",
              "      display:flex;\n",
              "      gap: 12px;\n",
              "    }\n",
              "\n",
              "    .colab-df-convert {\n",
              "      background-color: #E8F0FE;\n",
              "      border: none;\n",
              "      border-radius: 50%;\n",
              "      cursor: pointer;\n",
              "      display: none;\n",
              "      fill: #1967D2;\n",
              "      height: 32px;\n",
              "      padding: 0 0 0 0;\n",
              "      width: 32px;\n",
              "    }\n",
              "\n",
              "    .colab-df-convert:hover {\n",
              "      background-color: #E2EBFA;\n",
              "      box-shadow: 0px 1px 2px rgba(60, 64, 67, 0.3), 0px 1px 3px 1px rgba(60, 64, 67, 0.15);\n",
              "      fill: #174EA6;\n",
              "    }\n",
              "\n",
              "    .colab-df-buttons div {\n",
              "      margin-bottom: 4px;\n",
              "    }\n",
              "\n",
              "    [theme=dark] .colab-df-convert {\n",
              "      background-color: #3B4455;\n",
              "      fill: #D2E3FC;\n",
              "    }\n",
              "\n",
              "    [theme=dark] .colab-df-convert:hover {\n",
              "      background-color: #434B5C;\n",
              "      box-shadow: 0px 1px 3px 1px rgba(0, 0, 0, 0.15);\n",
              "      filter: drop-shadow(0px 1px 2px rgba(0, 0, 0, 0.3));\n",
              "      fill: #FFFFFF;\n",
              "    }\n",
              "  </style>\n",
              "\n",
              "    <script>\n",
              "      const buttonEl =\n",
              "        document.querySelector('#df-20437ec0-64cd-479d-bc80-5caa036b34b3 button.colab-df-convert');\n",
              "      buttonEl.style.display =\n",
              "        google.colab.kernel.accessAllowed ? 'block' : 'none';\n",
              "\n",
              "      async function convertToInteractive(key) {\n",
              "        const element = document.querySelector('#df-20437ec0-64cd-479d-bc80-5caa036b34b3');\n",
              "        const dataTable =\n",
              "          await google.colab.kernel.invokeFunction('convertToInteractive',\n",
              "                                                    [key], {});\n",
              "        if (!dataTable) return;\n",
              "\n",
              "        const docLinkHtml = 'Like what you see? Visit the ' +\n",
              "          '<a target=\"_blank\" href=https://colab.research.google.com/notebooks/data_table.ipynb>data table notebook</a>'\n",
              "          + ' to learn more about interactive tables.';\n",
              "        element.innerHTML = '';\n",
              "        dataTable['output_type'] = 'display_data';\n",
              "        await google.colab.output.renderOutput(dataTable, element);\n",
              "        const docLink = document.createElement('div');\n",
              "        docLink.innerHTML = docLinkHtml;\n",
              "        element.appendChild(docLink);\n",
              "      }\n",
              "    </script>\n",
              "  </div>\n",
              "\n",
              "\n",
              "<div id=\"df-8ff08a31-df2f-4679-bc0f-1daa39304ce9\">\n",
              "  <button class=\"colab-df-quickchart\" onclick=\"quickchart('df-8ff08a31-df2f-4679-bc0f-1daa39304ce9')\"\n",
              "            title=\"Suggest charts\"\n",
              "            style=\"display:none;\">\n",
              "\n",
              "<svg xmlns=\"http://www.w3.org/2000/svg\" height=\"24px\"viewBox=\"0 0 24 24\"\n",
              "     width=\"24px\">\n",
              "    <g>\n",
              "        <path d=\"M19 3H5c-1.1 0-2 .9-2 2v14c0 1.1.9 2 2 2h14c1.1 0 2-.9 2-2V5c0-1.1-.9-2-2-2zM9 17H7v-7h2v7zm4 0h-2V7h2v10zm4 0h-2v-4h2v4z\"/>\n",
              "    </g>\n",
              "</svg>\n",
              "  </button>\n",
              "\n",
              "<style>\n",
              "  .colab-df-quickchart {\n",
              "      --bg-color: #E8F0FE;\n",
              "      --fill-color: #1967D2;\n",
              "      --hover-bg-color: #E2EBFA;\n",
              "      --hover-fill-color: #174EA6;\n",
              "      --disabled-fill-color: #AAA;\n",
              "      --disabled-bg-color: #DDD;\n",
              "  }\n",
              "\n",
              "  [theme=dark] .colab-df-quickchart {\n",
              "      --bg-color: #3B4455;\n",
              "      --fill-color: #D2E3FC;\n",
              "      --hover-bg-color: #434B5C;\n",
              "      --hover-fill-color: #FFFFFF;\n",
              "      --disabled-bg-color: #3B4455;\n",
              "      --disabled-fill-color: #666;\n",
              "  }\n",
              "\n",
              "  .colab-df-quickchart {\n",
              "    background-color: var(--bg-color);\n",
              "    border: none;\n",
              "    border-radius: 50%;\n",
              "    cursor: pointer;\n",
              "    display: none;\n",
              "    fill: var(--fill-color);\n",
              "    height: 32px;\n",
              "    padding: 0;\n",
              "    width: 32px;\n",
              "  }\n",
              "\n",
              "  .colab-df-quickchart:hover {\n",
              "    background-color: var(--hover-bg-color);\n",
              "    box-shadow: 0 1px 2px rgba(60, 64, 67, 0.3), 0 1px 3px 1px rgba(60, 64, 67, 0.15);\n",
              "    fill: var(--button-hover-fill-color);\n",
              "  }\n",
              "\n",
              "  .colab-df-quickchart-complete:disabled,\n",
              "  .colab-df-quickchart-complete:disabled:hover {\n",
              "    background-color: var(--disabled-bg-color);\n",
              "    fill: var(--disabled-fill-color);\n",
              "    box-shadow: none;\n",
              "  }\n",
              "\n",
              "  .colab-df-spinner {\n",
              "    border: 2px solid var(--fill-color);\n",
              "    border-color: transparent;\n",
              "    border-bottom-color: var(--fill-color);\n",
              "    animation:\n",
              "      spin 1s steps(1) infinite;\n",
              "  }\n",
              "\n",
              "  @keyframes spin {\n",
              "    0% {\n",
              "      border-color: transparent;\n",
              "      border-bottom-color: var(--fill-color);\n",
              "      border-left-color: var(--fill-color);\n",
              "    }\n",
              "    20% {\n",
              "      border-color: transparent;\n",
              "      border-left-color: var(--fill-color);\n",
              "      border-top-color: var(--fill-color);\n",
              "    }\n",
              "    30% {\n",
              "      border-color: transparent;\n",
              "      border-left-color: var(--fill-color);\n",
              "      border-top-color: var(--fill-color);\n",
              "      border-right-color: var(--fill-color);\n",
              "    }\n",
              "    40% {\n",
              "      border-color: transparent;\n",
              "      border-right-color: var(--fill-color);\n",
              "      border-top-color: var(--fill-color);\n",
              "    }\n",
              "    60% {\n",
              "      border-color: transparent;\n",
              "      border-right-color: var(--fill-color);\n",
              "    }\n",
              "    80% {\n",
              "      border-color: transparent;\n",
              "      border-right-color: var(--fill-color);\n",
              "      border-bottom-color: var(--fill-color);\n",
              "    }\n",
              "    90% {\n",
              "      border-color: transparent;\n",
              "      border-bottom-color: var(--fill-color);\n",
              "    }\n",
              "  }\n",
              "</style>\n",
              "\n",
              "  <script>\n",
              "    async function quickchart(key) {\n",
              "      const quickchartButtonEl =\n",
              "        document.querySelector('#' + key + ' button');\n",
              "      quickchartButtonEl.disabled = true;  // To prevent multiple clicks.\n",
              "      quickchartButtonEl.classList.add('colab-df-spinner');\n",
              "      try {\n",
              "        const charts = await google.colab.kernel.invokeFunction(\n",
              "            'suggestCharts', [key], {});\n",
              "      } catch (error) {\n",
              "        console.error('Error during call to suggestCharts:', error);\n",
              "      }\n",
              "      quickchartButtonEl.classList.remove('colab-df-spinner');\n",
              "      quickchartButtonEl.classList.add('colab-df-quickchart-complete');\n",
              "    }\n",
              "    (() => {\n",
              "      let quickchartButtonEl =\n",
              "        document.querySelector('#df-8ff08a31-df2f-4679-bc0f-1daa39304ce9 button');\n",
              "      quickchartButtonEl.style.display =\n",
              "        google.colab.kernel.accessAllowed ? 'block' : 'none';\n",
              "    })();\n",
              "  </script>\n",
              "</div>\n",
              "    </div>\n",
              "  </div>\n"
            ]
          },
          "metadata": {},
          "execution_count": 32
        }
      ]
    },
    {
      "cell_type": "code",
      "source": [],
      "metadata": {
        "id": "NrsQfuG04lhf"
      },
      "execution_count": null,
      "outputs": []
    },
    {
      "cell_type": "code",
      "source": [
        "class DataCollectorExample(DataCollector):\n",
        "\n",
        "    def feature_generation_user(self) -> Tuple[pd.DataFrame, List[str], List[str]]:\n",
        "        \"\"\"Generates user features. Keep all the categorical variables as is,\n",
        "        since the one-hot encoding will be done by our own pipeline. Along with\n",
        "        the feature dataframe, you'll need to output lists of numberical features\n",
        "        and categorical features as well.\n",
        "\n",
        "        Returns\n",
        "          pd.DataFrame: User feature dataframe\n",
        "          List[str]: List of numerical features. E.g. ['feat_1', 'feat_3, ...]\n",
        "          List[str]: List of categorical features. E.g. ['feat_2', 'feat_4, ...]\n",
        "        \"\"\"\n",
        "\n",
        "        # Filtering like/dislike engagements\n",
        "        like_data = self.user_data[engagement_data['engagement_type'] == 'Like']\n",
        "\n",
        "        # Grouping by 'user_id' and 'content_id' and getting the latest engagement for each pair\n",
        "        latest_like_data = like_data.sort_values('created_date').groupby(['user_id', 'content_id']).tail(1)\n",
        "\n",
        "        # Getting total likes for each user\n",
        "        like_engagements = latest_like_data[(latest_like_data['engagement_value']==1)].copy()\n",
        "        like_feature_df = like_engagements.groupby('user_id')['engagement_value'].sum().reset_index()\n",
        "        like_feature_df.rename(columns={'engagement_value': 'user_likes'}, inplace=True)\n",
        "        # Fill NaN values with 0 (users with no \"like\" engagements)\n",
        "        like_feature_df['user_likes'].fillna(0, inplace=True)\n",
        "\n",
        "\n",
        "        # Getting total dislikes for each user\n",
        "        dislike_engagements = latest_like_data[(latest_like_data['engagement_value']==-1)].copy()\n",
        "        dislike_feature_df = dislike_engagements.groupby('user_id')['engagement_value'].sum().reset_index()\n",
        "        dislike_feature_df.rename(columns={'engagement_value': 'user_dislikes'}, inplace=True)\n",
        "        # Fill NaN values with 0 (users with no \"dislike\" engagements)\n",
        "        dislike_feature_df['user_dislikes'].fillna(0, inplace=True)\n",
        "\n",
        "        # Getting average engage time for each user\n",
        "        time_engagements = self.user_data[self.user_data['engagement_type'] == 'MillisecondsEngagedWith'].copy()\n",
        "        engage_feature_df = time_engagements.groupby('user_id')['engagement_value'].mean().reset_index()\n",
        "        engage_feature_df.rename(columns={'engagement_value': 'user_engagetime'}, inplace=True)\n",
        "        # Fill NaN values with 0 (users with no engagment time data)\n",
        "        engage_feature_df['user_engagetime'].fillna(0, inplace=True)\n",
        "\n",
        "        feature_df = pd.merge(like_feature_df, dislike_feature_df , on='user_id', how='left')\n",
        "        feature_df = pd.merge(feature_df, engage_feature_df , on='user_id', how='left')\n",
        "\n",
        "        return feature_df, ['user_likes', 'user_dislikes', 'user_engagetime'], []\n",
        "\n",
        "\n",
        "    def feature_generation_content(self) -> Tuple[pd.DataFrame, List[str], List[str]]:\n",
        "        \"\"\"Generates content features. Keep all the categorical variables as is,\n",
        "        since the one-hot encoding will be done by our own pipeline. Along with\n",
        "        the feature dataframe, you'll need to output lists of numberical features\n",
        "        and categorical features as well.\n",
        "\n",
        "        Returns\n",
        "          pd.DataFrame: User feature dataframe\n",
        "          List[str]: List of numerical features. E.g. ['feat_1', 'feat_3, ...]\n",
        "          List[str]: List of categorical features. E.g. ['feat_2', 'feat_4, ...]\n",
        "        \"\"\"\n",
        "\n",
        "        feature_df = self.generated_content_metadata.copy()\n",
        "\n",
        "        # numerical feature 1: (average) guidance scale\n",
        "        mean_engage = feature_df[\"guidance_scale\"].mean()\n",
        "        guide_df = feature_df.groupby('content_id')['guidance_scale'].mean().reset_index()\n",
        "        guide_df = guide_df.rename(columns={'guidance_scale': 'content_guidance_scale'})\n",
        "        feature_df = pd.merge(feature_df, guide_df, on='content_id', how='left')\n",
        "        feature_df['content_guidance_scale'].fillna(mean_engage, inplace=True)\n",
        "\n",
        "        # numerical feature 2: num inference steps\n",
        "        mean_inf = feature_df[\"num_inference_steps\"].mean()\n",
        "        inf_df = feature_df.groupby('content_id')['num_inference_steps'].mean().reset_index()\n",
        "        inf_df = inf_df.rename(columns={'num_inference_steps': 'content_inference_steps'})\n",
        "        feature_df = pd.merge(feature_df, inf_df, on='content_id', how='left')\n",
        "        feature_df['content_inference_steps'].fillna(mean_inf, inplace=True)\n",
        "\n",
        "\n",
        "        # categorical feature 1: source\n",
        "        feature_df['content_source'] = 'other'\n",
        "        feature_df.loc[feature_df['source'] == 'human_prompts', 'content_source'] = 'human_prompts'\n",
        "        feature_df.loc[feature_df['source'] == 'r/Showerthoughts', 'content_source'] = 'r/Showerthoughts'\n",
        "\n",
        "\n",
        "        # categorical feature 2: artist style\n",
        "        style_list = [\n",
        "            'studio',\n",
        "            'medieval',\n",
        "            'anime',\n",
        "            'kerry_james_marshall',\n",
        "            'gta_v',\n",
        "            'scifi',\n",
        "            'van_gogh',\n",
        "            'salvador_dali',\n",
        "            'jean-michel_basquiat',\n",
        "            'face_and_lighting'\n",
        "        ]\n",
        "        style_list = ['movie', 'empty']\n",
        "        feature_df['content_style'] = feature_df['artist_style']\n",
        "        feature_df['content_style'].fillna(\"empty\", inplace=True)\n",
        "        feature_df.loc[feature_df['content_style'].str.startswith('movie:'), 'content_style'] = 'movie'\n",
        "        feature_df.loc[~feature_df['content_style'].isin(style_list), 'content_style'] = 'other'\n",
        "\n",
        "\n",
        "        return feature_df, ['content_inference_steps'], ['content_source', 'content_style']\n",
        "\n",
        "\n",
        "    def get_Ys(self, engagement_data) -> pd.DataFrame:\n",
        "        \"\"\"Engineers taget variable that you are predicting.\n",
        "        Args\n",
        "            engagement_data (pd.DataFrame): Engagement data.\n",
        "        Returns\n",
        "            pd.DataFrame: Dataframe of 5 columns;\n",
        "                'user_id', 'content_id', 'like', 'dislike', 'engage_time'\n",
        "        \"\"\"\n",
        "        # Filtering Like-type engagements\n",
        "        like_data = engagement_data[engagement_data['engagement_type'] == 'Like']\n",
        "\n",
        "        # Grouping by 'user_id' and 'content_id' and getting the latest engagement for each pair\n",
        "        latest_engagements = like_data.sort_values('created_date').groupby(['user_id', 'content_id']).tail(1)\n",
        "\n",
        "        # Creating the target DataFrame with unique pairs of user_id and content_id\n",
        "        target_df = engagement_data[['user_id', 'content_id']].drop_duplicates()\n",
        "\n",
        "        # Merging latest engagements to update 'like' and 'dislike' columns\n",
        "        target_df = pd.merge(target_df, latest_engagements[['user_id', 'content_id', 'engagement_value']],\n",
        "                            on=['user_id', 'content_id'], how='left')\n",
        "\n",
        "        # Updating 'like' and 'dislike' columns based on the latest engagement values\n",
        "        target_df['like'] = (target_df['engagement_value'] == 1).astype(int)\n",
        "        target_df['dislike'] = (target_df['engagement_value'] == -1).astype(int)\n",
        "\n",
        "        # Filling NaN values with 0 for pairs without like/dislike\n",
        "        target_df.fillna(0, inplace=True)\n",
        "\n",
        "\n",
        "        # Set \"engage_time\" based on engagement_type and engagement_value\n",
        "        # assign existing engagement time if doesn't have that data, assign zero\n",
        "        engage_times = engagement_data[engagement_data['engagement_type'] == 'MillisecondsEngagedWith']\n",
        "\n",
        "        engage_times = engage_times.groupby(['user_id', 'content_id'])['engagement_value'].mean().reset_index()\n",
        "        engage_times.rename(columns={'engagement_value': 'engage_time'}, inplace=True)\n",
        "\n",
        "        target_df = pd.merge(target_df, engage_times[['user_id', 'content_id', 'engage_time']],\n",
        "                            on=['user_id', 'content_id'], how='left')\n",
        "\n",
        "        \"\"\"\n",
        "        # Grouping by 'user_id' and 'content_id' to get the earliest 'created_date' for each pair\n",
        "        engage_times = engage_times.sort_values('created_date').groupby(['user_id', 'content_id']).head(1)\n",
        "        \"\"\"\n",
        "        # Filling NaN values with 0 for pairs without engage_time\n",
        "        target_df['engage_time'].fillna(0, inplace=True)\n",
        "\n",
        "        # Select and rename the required columns\n",
        "        target_df = target_df[['user_id', 'content_id', 'like', 'dislike', 'engage_time']].copy()\n",
        "\n",
        "        return target_df\n",
        "\n",
        "\n",
        "    def predict(self, X: pd.DataFrame) -> Tuple[list, list, list]:\n",
        "        \"\"\"Predicts the 3 target variables by using the model that you trained.\n",
        "        Make sure you load the model properly.\n",
        "\n",
        "        Args:\n",
        "            X (pd.DataFrame): Feature dataframe with 2-level index of (user_id, content_id)\n",
        "\n",
        "        Returns:\n",
        "            (list, list, list): (predicted prbability of like,\n",
        "                                 predicted probability of dislike,\n",
        "                                 predicted engagement time)\n",
        "        \"\"\"\n",
        "\n",
        "        model = self.load_model()\n",
        "\n",
        "        pred_like = model['like'].predict(X)\n",
        "        pred_dislike = model['dislike'].predict(X)\n",
        "        pred_engtime = model['engage_time'].predict(X)\n",
        "\n",
        "        return pred_like, pred_dislike, pred_engtime\n",
        "\n",
        "    def rank(self,\n",
        "             score_df: pd.DataFrame,\n",
        "             user_id: int,\n",
        "             content_ids: Optional[list] = None) -> list:\n",
        "\n",
        "        \"\"\"Ranks the items for a given user based on your own criteria.\n",
        "\n",
        "        Args:\n",
        "            score_df (pd.DataFrame): Predicted-score Dataframe of columns;\n",
        "                'user_id', 'content_id', 'like', 'dislike', 'engage_time', and\n",
        "                also columns for content metadata.\n",
        "            user_id (int): User ID to rank the items for.\n",
        "            content_ids (Optional[list]): List of content ids to be considered for ranking.\n",
        "        \"\"\"\n",
        "\n",
        "        score_df = score_df[score_df['user_id'] == user_id]\n",
        "        ranked_pred = score_df.sort_values('like', ascending=False)\n",
        "\n",
        "        return ranked_pred['content_id'].tolist()\n",
        "\n",
        "    def load_model(self) -> object:\n",
        "        \"\"\"Loads your model. Since different ML frameworks requires different\n",
        "        ways to load the model. Change this to reflect your choice of framework.\n",
        "\n",
        "        Returns:\n",
        "            object: Model object\n",
        "        \"\"\"\n",
        "\n",
        "        with open(f'{self.objects_dir}/model.pkl', 'rb') as f:\n",
        "            return pickle.load(f)"
      ],
      "metadata": {
        "id": "BjvfWTSAqnju"
      },
      "execution_count": null,
      "outputs": []
    },
    {
      "cell_type": "code",
      "source": [
        "content_df = pd.read_csv('sample_data/generated_content_metadata.csv', sep=\"\\t\")\n",
        "content_df"
      ],
      "metadata": {
        "colab": {
          "base_uri": "https://localhost:8080/",
          "height": 424
        },
        "id": "TcB6C-nhUbFH",
        "outputId": "d26e5924-29e8-46b8-9363-15365bb77a8c"
      },
      "execution_count": null,
      "outputs": [
        {
          "output_type": "execute_result",
          "data": {
            "text/plain": [
              "        content_id  guidance_scale  num_inference_steps         artist_style  \\\n",
              "0            28598               8                   75  movie: Prestige-The   \n",
              "1            28599               7                   75  movie: Prestige-The   \n",
              "2            28600               9                   75  movie: Prestige-The   \n",
              "3            28601               8                   75  movie: Prestige-The   \n",
              "4            28602               8                   75  movie: Prestige-The   \n",
              "...            ...             ...                  ...                  ...   \n",
              "107700      136300               4                   20                  NaN   \n",
              "107701      136301               4                   20                  NaN   \n",
              "107702      136302               4                   20                  NaN   \n",
              "107703      136303               4                   20                  NaN   \n",
              "107704      136304               4                   20                  NaN   \n",
              "\n",
              "                                                   source  \n",
              "0                                            Prestige-The  \n",
              "1                                            Prestige-The  \n",
              "2                                            Prestige-The  \n",
              "3                                            Prestige-The  \n",
              "4                                            Prestige-The  \n",
              "...                                                   ...  \n",
              "107700                         A Dream by Edgar Allan Poe  \n",
              "107701                         Romance by Edgar Allan Poe  \n",
              "107702                        The Lake by Edgar Allan Poe  \n",
              "107703  Hymn To Aristogeiton And Harmodius by Edgar Al...  \n",
              "107704                          A Pæan by Edgar Allan Poe  \n",
              "\n",
              "[107705 rows x 5 columns]"
            ],
            "text/html": [
              "\n",
              "  <div id=\"df-74e1a5cb-11cc-446b-8ffe-89397fa5d9bf\" class=\"colab-df-container\">\n",
              "    <div>\n",
              "<style scoped>\n",
              "    .dataframe tbody tr th:only-of-type {\n",
              "        vertical-align: middle;\n",
              "    }\n",
              "\n",
              "    .dataframe tbody tr th {\n",
              "        vertical-align: top;\n",
              "    }\n",
              "\n",
              "    .dataframe thead th {\n",
              "        text-align: right;\n",
              "    }\n",
              "</style>\n",
              "<table border=\"1\" class=\"dataframe\">\n",
              "  <thead>\n",
              "    <tr style=\"text-align: right;\">\n",
              "      <th></th>\n",
              "      <th>content_id</th>\n",
              "      <th>guidance_scale</th>\n",
              "      <th>num_inference_steps</th>\n",
              "      <th>artist_style</th>\n",
              "      <th>source</th>\n",
              "    </tr>\n",
              "  </thead>\n",
              "  <tbody>\n",
              "    <tr>\n",
              "      <th>0</th>\n",
              "      <td>28598</td>\n",
              "      <td>8</td>\n",
              "      <td>75</td>\n",
              "      <td>movie: Prestige-The</td>\n",
              "      <td>Prestige-The</td>\n",
              "    </tr>\n",
              "    <tr>\n",
              "      <th>1</th>\n",
              "      <td>28599</td>\n",
              "      <td>7</td>\n",
              "      <td>75</td>\n",
              "      <td>movie: Prestige-The</td>\n",
              "      <td>Prestige-The</td>\n",
              "    </tr>\n",
              "    <tr>\n",
              "      <th>2</th>\n",
              "      <td>28600</td>\n",
              "      <td>9</td>\n",
              "      <td>75</td>\n",
              "      <td>movie: Prestige-The</td>\n",
              "      <td>Prestige-The</td>\n",
              "    </tr>\n",
              "    <tr>\n",
              "      <th>3</th>\n",
              "      <td>28601</td>\n",
              "      <td>8</td>\n",
              "      <td>75</td>\n",
              "      <td>movie: Prestige-The</td>\n",
              "      <td>Prestige-The</td>\n",
              "    </tr>\n",
              "    <tr>\n",
              "      <th>4</th>\n",
              "      <td>28602</td>\n",
              "      <td>8</td>\n",
              "      <td>75</td>\n",
              "      <td>movie: Prestige-The</td>\n",
              "      <td>Prestige-The</td>\n",
              "    </tr>\n",
              "    <tr>\n",
              "      <th>...</th>\n",
              "      <td>...</td>\n",
              "      <td>...</td>\n",
              "      <td>...</td>\n",
              "      <td>...</td>\n",
              "      <td>...</td>\n",
              "    </tr>\n",
              "    <tr>\n",
              "      <th>107700</th>\n",
              "      <td>136300</td>\n",
              "      <td>4</td>\n",
              "      <td>20</td>\n",
              "      <td>NaN</td>\n",
              "      <td>A Dream by Edgar Allan Poe</td>\n",
              "    </tr>\n",
              "    <tr>\n",
              "      <th>107701</th>\n",
              "      <td>136301</td>\n",
              "      <td>4</td>\n",
              "      <td>20</td>\n",
              "      <td>NaN</td>\n",
              "      <td>Romance by Edgar Allan Poe</td>\n",
              "    </tr>\n",
              "    <tr>\n",
              "      <th>107702</th>\n",
              "      <td>136302</td>\n",
              "      <td>4</td>\n",
              "      <td>20</td>\n",
              "      <td>NaN</td>\n",
              "      <td>The Lake by Edgar Allan Poe</td>\n",
              "    </tr>\n",
              "    <tr>\n",
              "      <th>107703</th>\n",
              "      <td>136303</td>\n",
              "      <td>4</td>\n",
              "      <td>20</td>\n",
              "      <td>NaN</td>\n",
              "      <td>Hymn To Aristogeiton And Harmodius by Edgar Al...</td>\n",
              "    </tr>\n",
              "    <tr>\n",
              "      <th>107704</th>\n",
              "      <td>136304</td>\n",
              "      <td>4</td>\n",
              "      <td>20</td>\n",
              "      <td>NaN</td>\n",
              "      <td>A Pæan by Edgar Allan Poe</td>\n",
              "    </tr>\n",
              "  </tbody>\n",
              "</table>\n",
              "<p>107705 rows × 5 columns</p>\n",
              "</div>\n",
              "    <div class=\"colab-df-buttons\">\n",
              "\n",
              "  <div class=\"colab-df-container\">\n",
              "    <button class=\"colab-df-convert\" onclick=\"convertToInteractive('df-74e1a5cb-11cc-446b-8ffe-89397fa5d9bf')\"\n",
              "            title=\"Convert this dataframe to an interactive table.\"\n",
              "            style=\"display:none;\">\n",
              "\n",
              "  <svg xmlns=\"http://www.w3.org/2000/svg\" height=\"24px\" viewBox=\"0 -960 960 960\">\n",
              "    <path d=\"M120-120v-720h720v720H120Zm60-500h600v-160H180v160Zm220 220h160v-160H400v160Zm0 220h160v-160H400v160ZM180-400h160v-160H180v160Zm440 0h160v-160H620v160ZM180-180h160v-160H180v160Zm440 0h160v-160H620v160Z\"/>\n",
              "  </svg>\n",
              "    </button>\n",
              "\n",
              "  <style>\n",
              "    .colab-df-container {\n",
              "      display:flex;\n",
              "      gap: 12px;\n",
              "    }\n",
              "\n",
              "    .colab-df-convert {\n",
              "      background-color: #E8F0FE;\n",
              "      border: none;\n",
              "      border-radius: 50%;\n",
              "      cursor: pointer;\n",
              "      display: none;\n",
              "      fill: #1967D2;\n",
              "      height: 32px;\n",
              "      padding: 0 0 0 0;\n",
              "      width: 32px;\n",
              "    }\n",
              "\n",
              "    .colab-df-convert:hover {\n",
              "      background-color: #E2EBFA;\n",
              "      box-shadow: 0px 1px 2px rgba(60, 64, 67, 0.3), 0px 1px 3px 1px rgba(60, 64, 67, 0.15);\n",
              "      fill: #174EA6;\n",
              "    }\n",
              "\n",
              "    .colab-df-buttons div {\n",
              "      margin-bottom: 4px;\n",
              "    }\n",
              "\n",
              "    [theme=dark] .colab-df-convert {\n",
              "      background-color: #3B4455;\n",
              "      fill: #D2E3FC;\n",
              "    }\n",
              "\n",
              "    [theme=dark] .colab-df-convert:hover {\n",
              "      background-color: #434B5C;\n",
              "      box-shadow: 0px 1px 3px 1px rgba(0, 0, 0, 0.15);\n",
              "      filter: drop-shadow(0px 1px 2px rgba(0, 0, 0, 0.3));\n",
              "      fill: #FFFFFF;\n",
              "    }\n",
              "  </style>\n",
              "\n",
              "    <script>\n",
              "      const buttonEl =\n",
              "        document.querySelector('#df-74e1a5cb-11cc-446b-8ffe-89397fa5d9bf button.colab-df-convert');\n",
              "      buttonEl.style.display =\n",
              "        google.colab.kernel.accessAllowed ? 'block' : 'none';\n",
              "\n",
              "      async function convertToInteractive(key) {\n",
              "        const element = document.querySelector('#df-74e1a5cb-11cc-446b-8ffe-89397fa5d9bf');\n",
              "        const dataTable =\n",
              "          await google.colab.kernel.invokeFunction('convertToInteractive',\n",
              "                                                    [key], {});\n",
              "        if (!dataTable) return;\n",
              "\n",
              "        const docLinkHtml = 'Like what you see? Visit the ' +\n",
              "          '<a target=\"_blank\" href=https://colab.research.google.com/notebooks/data_table.ipynb>data table notebook</a>'\n",
              "          + ' to learn more about interactive tables.';\n",
              "        element.innerHTML = '';\n",
              "        dataTable['output_type'] = 'display_data';\n",
              "        await google.colab.output.renderOutput(dataTable, element);\n",
              "        const docLink = document.createElement('div');\n",
              "        docLink.innerHTML = docLinkHtml;\n",
              "        element.appendChild(docLink);\n",
              "      }\n",
              "    </script>\n",
              "  </div>\n",
              "\n",
              "\n",
              "<div id=\"df-c114e1b5-e5d4-4752-a5c1-555d36b9fd16\">\n",
              "  <button class=\"colab-df-quickchart\" onclick=\"quickchart('df-c114e1b5-e5d4-4752-a5c1-555d36b9fd16')\"\n",
              "            title=\"Suggest charts\"\n",
              "            style=\"display:none;\">\n",
              "\n",
              "<svg xmlns=\"http://www.w3.org/2000/svg\" height=\"24px\"viewBox=\"0 0 24 24\"\n",
              "     width=\"24px\">\n",
              "    <g>\n",
              "        <path d=\"M19 3H5c-1.1 0-2 .9-2 2v14c0 1.1.9 2 2 2h14c1.1 0 2-.9 2-2V5c0-1.1-.9-2-2-2zM9 17H7v-7h2v7zm4 0h-2V7h2v10zm4 0h-2v-4h2v4z\"/>\n",
              "    </g>\n",
              "</svg>\n",
              "  </button>\n",
              "\n",
              "<style>\n",
              "  .colab-df-quickchart {\n",
              "      --bg-color: #E8F0FE;\n",
              "      --fill-color: #1967D2;\n",
              "      --hover-bg-color: #E2EBFA;\n",
              "      --hover-fill-color: #174EA6;\n",
              "      --disabled-fill-color: #AAA;\n",
              "      --disabled-bg-color: #DDD;\n",
              "  }\n",
              "\n",
              "  [theme=dark] .colab-df-quickchart {\n",
              "      --bg-color: #3B4455;\n",
              "      --fill-color: #D2E3FC;\n",
              "      --hover-bg-color: #434B5C;\n",
              "      --hover-fill-color: #FFFFFF;\n",
              "      --disabled-bg-color: #3B4455;\n",
              "      --disabled-fill-color: #666;\n",
              "  }\n",
              "\n",
              "  .colab-df-quickchart {\n",
              "    background-color: var(--bg-color);\n",
              "    border: none;\n",
              "    border-radius: 50%;\n",
              "    cursor: pointer;\n",
              "    display: none;\n",
              "    fill: var(--fill-color);\n",
              "    height: 32px;\n",
              "    padding: 0;\n",
              "    width: 32px;\n",
              "  }\n",
              "\n",
              "  .colab-df-quickchart:hover {\n",
              "    background-color: var(--hover-bg-color);\n",
              "    box-shadow: 0 1px 2px rgba(60, 64, 67, 0.3), 0 1px 3px 1px rgba(60, 64, 67, 0.15);\n",
              "    fill: var(--button-hover-fill-color);\n",
              "  }\n",
              "\n",
              "  .colab-df-quickchart-complete:disabled,\n",
              "  .colab-df-quickchart-complete:disabled:hover {\n",
              "    background-color: var(--disabled-bg-color);\n",
              "    fill: var(--disabled-fill-color);\n",
              "    box-shadow: none;\n",
              "  }\n",
              "\n",
              "  .colab-df-spinner {\n",
              "    border: 2px solid var(--fill-color);\n",
              "    border-color: transparent;\n",
              "    border-bottom-color: var(--fill-color);\n",
              "    animation:\n",
              "      spin 1s steps(1) infinite;\n",
              "  }\n",
              "\n",
              "  @keyframes spin {\n",
              "    0% {\n",
              "      border-color: transparent;\n",
              "      border-bottom-color: var(--fill-color);\n",
              "      border-left-color: var(--fill-color);\n",
              "    }\n",
              "    20% {\n",
              "      border-color: transparent;\n",
              "      border-left-color: var(--fill-color);\n",
              "      border-top-color: var(--fill-color);\n",
              "    }\n",
              "    30% {\n",
              "      border-color: transparent;\n",
              "      border-left-color: var(--fill-color);\n",
              "      border-top-color: var(--fill-color);\n",
              "      border-right-color: var(--fill-color);\n",
              "    }\n",
              "    40% {\n",
              "      border-color: transparent;\n",
              "      border-right-color: var(--fill-color);\n",
              "      border-top-color: var(--fill-color);\n",
              "    }\n",
              "    60% {\n",
              "      border-color: transparent;\n",
              "      border-right-color: var(--fill-color);\n",
              "    }\n",
              "    80% {\n",
              "      border-color: transparent;\n",
              "      border-right-color: var(--fill-color);\n",
              "      border-bottom-color: var(--fill-color);\n",
              "    }\n",
              "    90% {\n",
              "      border-color: transparent;\n",
              "      border-bottom-color: var(--fill-color);\n",
              "    }\n",
              "  }\n",
              "</style>\n",
              "\n",
              "  <script>\n",
              "    async function quickchart(key) {\n",
              "      const quickchartButtonEl =\n",
              "        document.querySelector('#' + key + ' button');\n",
              "      quickchartButtonEl.disabled = true;  // To prevent multiple clicks.\n",
              "      quickchartButtonEl.classList.add('colab-df-spinner');\n",
              "      try {\n",
              "        const charts = await google.colab.kernel.invokeFunction(\n",
              "            'suggestCharts', [key], {});\n",
              "      } catch (error) {\n",
              "        console.error('Error during call to suggestCharts:', error);\n",
              "      }\n",
              "      quickchartButtonEl.classList.remove('colab-df-spinner');\n",
              "      quickchartButtonEl.classList.add('colab-df-quickchart-complete');\n",
              "    }\n",
              "    (() => {\n",
              "      let quickchartButtonEl =\n",
              "        document.querySelector('#df-c114e1b5-e5d4-4752-a5c1-555d36b9fd16 button');\n",
              "      quickchartButtonEl.style.display =\n",
              "        google.colab.kernel.accessAllowed ? 'block' : 'none';\n",
              "    })();\n",
              "  </script>\n",
              "</div>\n",
              "    </div>\n",
              "  </div>\n"
            ]
          },
          "metadata": {},
          "execution_count": 136
        }
      ]
    },
    {
      "cell_type": "code",
      "source": [
        "content_df['artist_style'].isna().sum()"
      ],
      "metadata": {
        "colab": {
          "base_uri": "https://localhost:8080/"
        },
        "id": "laidCdqMfVdA",
        "outputId": "f908ee2b-08f9-49c6-ebe1-527a0919b059"
      },
      "execution_count": null,
      "outputs": [
        {
          "output_type": "execute_result",
          "data": {
            "text/plain": [
              "31093"
            ]
          },
          "metadata": {},
          "execution_count": 120
        }
      ]
    },
    {
      "cell_type": "code",
      "source": [
        "content_df['source'].isna().sum()"
      ],
      "metadata": {
        "colab": {
          "base_uri": "https://localhost:8080/"
        },
        "id": "y8cPeLu4fARP",
        "outputId": "dd310235-0fff-4595-e1c3-73c666048941"
      },
      "execution_count": null,
      "outputs": [
        {
          "output_type": "execute_result",
          "data": {
            "text/plain": [
              "0"
            ]
          },
          "metadata": {},
          "execution_count": 119
        }
      ]
    },
    {
      "cell_type": "code",
      "source": [
        "len(content_df['content_id'].unique())"
      ],
      "metadata": {
        "colab": {
          "base_uri": "https://localhost:8080/"
        },
        "id": "KtYQ3iMSUuAi",
        "outputId": "d103d3a1-2097-49c9-c2b5-969e540784b3"
      },
      "execution_count": null,
      "outputs": [
        {
          "output_type": "execute_result",
          "data": {
            "text/plain": [
              "107705"
            ]
          },
          "metadata": {},
          "execution_count": 114
        }
      ]
    },
    {
      "cell_type": "code",
      "source": [
        "content_df['guidance_scale'].unique()"
      ],
      "metadata": {
        "colab": {
          "base_uri": "https://localhost:8080/"
        },
        "id": "6jBDn-fnUyfm",
        "outputId": "3f1bc2db-472d-44b7-a3ad-2ca55bfcd772"
      },
      "execution_count": null,
      "outputs": [
        {
          "output_type": "execute_result",
          "data": {
            "text/plain": [
              "array([ 8,  7,  9,  4, 10, 17,  6, 20, 15, 12, 16, 11, 14, 19, 13, 18, 40,\n",
              "        1, 22,  5, 24, 28, 25,  3, 21, 30, 45,  0, 23, 34, 44, 50, 29, 35,\n",
              "       27, 42, 60, 38,  2, 36, 33, 41, 55, 39])"
            ]
          },
          "metadata": {},
          "execution_count": 115
        }
      ]
    },
    {
      "cell_type": "code",
      "source": [
        "content_df['num_inference_steps'].unique()"
      ],
      "metadata": {
        "colab": {
          "base_uri": "https://localhost:8080/"
        },
        "id": "rx3YrQRBcCap",
        "outputId": "7385f6b0-39f9-4d16-8727-f9c316ca0a00"
      },
      "execution_count": null,
      "outputs": [
        {
          "output_type": "execute_result",
          "data": {
            "text/plain": [
              "array([ 75,  50, 100,  20])"
            ]
          },
          "metadata": {},
          "execution_count": 116
        }
      ]
    },
    {
      "cell_type": "code",
      "source": [
        "X_train = data_practice.gen_model_input(is_train=True)"
      ],
      "metadata": {
        "id": "O4xVALC5Keej"
      },
      "execution_count": null,
      "outputs": []
    },
    {
      "cell_type": "code",
      "source": [
        "X_train"
      ],
      "metadata": {
        "colab": {
          "base_uri": "https://localhost:8080/",
          "height": 492
        },
        "id": "aJD1LTZGmgnZ",
        "outputId": "f4ca30ec-42fc-45b0-d465-541a8fdd5289"
      },
      "execution_count": null,
      "outputs": [
        {
          "output_type": "execute_result",
          "data": {
            "text/plain": [
              "                    user_likes  user_dislikes  user_engagetime  \\\n",
              "user_id content_id                                               \n",
              "1       38318        -1.191375       0.991836        -0.355709   \n",
              "        74487        -1.191375       0.991836        -0.355709   \n",
              "        78133        -1.191375       0.991836        -0.355709   \n",
              "        80916        -1.191375       0.991836        -0.355709   \n",
              "        89403        -1.191375       0.991836        -0.355709   \n",
              "...                        ...            ...              ...   \n",
              "79      31775        -0.346505       0.271210         1.182456   \n",
              "101     31616        -0.437372       0.340645         0.484672   \n",
              "        90990        -0.437372       0.340645         0.484672   \n",
              "        91758        -0.437372       0.340645         0.484672   \n",
              "        92390        -0.437372       0.340645         0.484672   \n",
              "\n",
              "                    content_guidance_scale  content_inference_steps  \\\n",
              "user_id content_id                                                    \n",
              "1       38318                     0.667778                 0.406514   \n",
              "        74487                    -1.502674                 0.406514   \n",
              "        78133                    -1.502674                 0.406514   \n",
              "        80916                    -1.502674                 0.406514   \n",
              "        89403                    -0.417448                 0.406514   \n",
              "...                                    ...                      ...   \n",
              "79      31775                    -0.055706                 0.406514   \n",
              "101     31616                    -1.502674                 0.406514   \n",
              "        90990                    -0.417448                 0.406514   \n",
              "        91758                    -0.417448                 0.406514   \n",
              "        92390                     1.753004                 0.406514   \n",
              "\n",
              "                    content_source_human_prompts  content_source_other  \\\n",
              "user_id content_id                                                       \n",
              "1       38318                                0.0                   1.0   \n",
              "        74487                                0.0                   1.0   \n",
              "        78133                                0.0                   1.0   \n",
              "        80916                                0.0                   0.0   \n",
              "        89403                                1.0                   0.0   \n",
              "...                                          ...                   ...   \n",
              "79      31775                                0.0                   1.0   \n",
              "101     31616                                0.0                   1.0   \n",
              "        90990                                1.0                   0.0   \n",
              "        91758                                1.0                   0.0   \n",
              "        92390                                1.0                   0.0   \n",
              "\n",
              "                    content_source_r/Showerthoughts  content_style_anime  \\\n",
              "user_id content_id                                                         \n",
              "1       38318                                   0.0                  0.0   \n",
              "        74487                                   0.0                  0.0   \n",
              "        78133                                   0.0                  0.0   \n",
              "        80916                                   1.0                  0.0   \n",
              "        89403                                   0.0                  0.0   \n",
              "...                                             ...                  ...   \n",
              "79      31775                                   0.0                  0.0   \n",
              "101     31616                                   0.0                  0.0   \n",
              "        90990                                   0.0                  0.0   \n",
              "        91758                                   0.0                  0.0   \n",
              "        92390                                   0.0                  0.0   \n",
              "\n",
              "                    content_style_face_and_lighting  content_style_gta_v  \\\n",
              "user_id content_id                                                         \n",
              "1       38318                                   0.0                  0.0   \n",
              "        74487                                   0.0                  0.0   \n",
              "        78133                                   0.0                  0.0   \n",
              "        80916                                   0.0                  0.0   \n",
              "        89403                                   0.0                  0.0   \n",
              "...                                             ...                  ...   \n",
              "79      31775                                   0.0                  0.0   \n",
              "101     31616                                   0.0                  0.0   \n",
              "        90990                                   0.0                  0.0   \n",
              "        91758                                   0.0                  0.0   \n",
              "        92390                                   0.0                  0.0   \n",
              "\n",
              "                    content_style_jean-michel_basquiat  \\\n",
              "user_id content_id                                       \n",
              "1       38318                                      0.0   \n",
              "        74487                                      0.0   \n",
              "        78133                                      0.0   \n",
              "        80916                                      0.0   \n",
              "        89403                                      0.0   \n",
              "...                                                ...   \n",
              "79      31775                                      0.0   \n",
              "101     31616                                      0.0   \n",
              "        90990                                      0.0   \n",
              "        91758                                      0.0   \n",
              "        92390                                      0.0   \n",
              "\n",
              "                    content_style_kerry_james_marshall  \\\n",
              "user_id content_id                                       \n",
              "1       38318                                      0.0   \n",
              "        74487                                      0.0   \n",
              "        78133                                      0.0   \n",
              "        80916                                      0.0   \n",
              "        89403                                      0.0   \n",
              "...                                                ...   \n",
              "79      31775                                      0.0   \n",
              "101     31616                                      0.0   \n",
              "        90990                                      0.0   \n",
              "        91758                                      0.0   \n",
              "        92390                                      0.0   \n",
              "\n",
              "                    content_style_medieval  content_style_other  \\\n",
              "user_id content_id                                                \n",
              "1       38318                          0.0                  1.0   \n",
              "        74487                          0.0                  1.0   \n",
              "        78133                          0.0                  1.0   \n",
              "        80916                          0.0                  1.0   \n",
              "        89403                          0.0                  1.0   \n",
              "...                                    ...                  ...   \n",
              "79      31775                          0.0                  1.0   \n",
              "101     31616                          0.0                  1.0   \n",
              "        90990                          0.0                  1.0   \n",
              "        91758                          0.0                  1.0   \n",
              "        92390                          0.0                  1.0   \n",
              "\n",
              "                    content_style_salvador_dali  content_style_scifi  \\\n",
              "user_id content_id                                                     \n",
              "1       38318                               0.0                  0.0   \n",
              "        74487                               0.0                  0.0   \n",
              "        78133                               0.0                  0.0   \n",
              "        80916                               0.0                  0.0   \n",
              "        89403                               0.0                  0.0   \n",
              "...                                         ...                  ...   \n",
              "79      31775                               0.0                  0.0   \n",
              "101     31616                               0.0                  0.0   \n",
              "        90990                               0.0                  0.0   \n",
              "        91758                               0.0                  0.0   \n",
              "        92390                               0.0                  0.0   \n",
              "\n",
              "                    content_style_studio  content_style_van_gogh  \n",
              "user_id content_id                                                \n",
              "1       38318                        0.0                     0.0  \n",
              "        74487                        0.0                     0.0  \n",
              "        78133                        0.0                     0.0  \n",
              "        80916                        0.0                     0.0  \n",
              "        89403                        0.0                     0.0  \n",
              "...                                  ...                     ...  \n",
              "79      31775                        0.0                     0.0  \n",
              "101     31616                        0.0                     0.0  \n",
              "        90990                        0.0                     0.0  \n",
              "        91758                        0.0                     0.0  \n",
              "        92390                        0.0                     0.0  \n",
              "\n",
              "[183339 rows x 19 columns]"
            ],
            "text/html": [
              "\n",
              "  <div id=\"df-5be37895-10f7-49a3-a6d6-cb04cc681bc7\" class=\"colab-df-container\">\n",
              "    <div>\n",
              "<style scoped>\n",
              "    .dataframe tbody tr th:only-of-type {\n",
              "        vertical-align: middle;\n",
              "    }\n",
              "\n",
              "    .dataframe tbody tr th {\n",
              "        vertical-align: top;\n",
              "    }\n",
              "\n",
              "    .dataframe thead th {\n",
              "        text-align: right;\n",
              "    }\n",
              "</style>\n",
              "<table border=\"1\" class=\"dataframe\">\n",
              "  <thead>\n",
              "    <tr style=\"text-align: right;\">\n",
              "      <th></th>\n",
              "      <th></th>\n",
              "      <th>user_likes</th>\n",
              "      <th>user_dislikes</th>\n",
              "      <th>user_engagetime</th>\n",
              "      <th>content_guidance_scale</th>\n",
              "      <th>content_inference_steps</th>\n",
              "      <th>content_source_human_prompts</th>\n",
              "      <th>content_source_other</th>\n",
              "      <th>content_source_r/Showerthoughts</th>\n",
              "      <th>content_style_anime</th>\n",
              "      <th>content_style_face_and_lighting</th>\n",
              "      <th>content_style_gta_v</th>\n",
              "      <th>content_style_jean-michel_basquiat</th>\n",
              "      <th>content_style_kerry_james_marshall</th>\n",
              "      <th>content_style_medieval</th>\n",
              "      <th>content_style_other</th>\n",
              "      <th>content_style_salvador_dali</th>\n",
              "      <th>content_style_scifi</th>\n",
              "      <th>content_style_studio</th>\n",
              "      <th>content_style_van_gogh</th>\n",
              "    </tr>\n",
              "    <tr>\n",
              "      <th>user_id</th>\n",
              "      <th>content_id</th>\n",
              "      <th></th>\n",
              "      <th></th>\n",
              "      <th></th>\n",
              "      <th></th>\n",
              "      <th></th>\n",
              "      <th></th>\n",
              "      <th></th>\n",
              "      <th></th>\n",
              "      <th></th>\n",
              "      <th></th>\n",
              "      <th></th>\n",
              "      <th></th>\n",
              "      <th></th>\n",
              "      <th></th>\n",
              "      <th></th>\n",
              "      <th></th>\n",
              "      <th></th>\n",
              "      <th></th>\n",
              "      <th></th>\n",
              "    </tr>\n",
              "  </thead>\n",
              "  <tbody>\n",
              "    <tr>\n",
              "      <th rowspan=\"5\" valign=\"top\">1</th>\n",
              "      <th>38318</th>\n",
              "      <td>-1.191375</td>\n",
              "      <td>0.991836</td>\n",
              "      <td>-0.355709</td>\n",
              "      <td>0.667778</td>\n",
              "      <td>0.406514</td>\n",
              "      <td>0.0</td>\n",
              "      <td>1.0</td>\n",
              "      <td>0.0</td>\n",
              "      <td>0.0</td>\n",
              "      <td>0.0</td>\n",
              "      <td>0.0</td>\n",
              "      <td>0.0</td>\n",
              "      <td>0.0</td>\n",
              "      <td>0.0</td>\n",
              "      <td>1.0</td>\n",
              "      <td>0.0</td>\n",
              "      <td>0.0</td>\n",
              "      <td>0.0</td>\n",
              "      <td>0.0</td>\n",
              "    </tr>\n",
              "    <tr>\n",
              "      <th>74487</th>\n",
              "      <td>-1.191375</td>\n",
              "      <td>0.991836</td>\n",
              "      <td>-0.355709</td>\n",
              "      <td>-1.502674</td>\n",
              "      <td>0.406514</td>\n",
              "      <td>0.0</td>\n",
              "      <td>1.0</td>\n",
              "      <td>0.0</td>\n",
              "      <td>0.0</td>\n",
              "      <td>0.0</td>\n",
              "      <td>0.0</td>\n",
              "      <td>0.0</td>\n",
              "      <td>0.0</td>\n",
              "      <td>0.0</td>\n",
              "      <td>1.0</td>\n",
              "      <td>0.0</td>\n",
              "      <td>0.0</td>\n",
              "      <td>0.0</td>\n",
              "      <td>0.0</td>\n",
              "    </tr>\n",
              "    <tr>\n",
              "      <th>78133</th>\n",
              "      <td>-1.191375</td>\n",
              "      <td>0.991836</td>\n",
              "      <td>-0.355709</td>\n",
              "      <td>-1.502674</td>\n",
              "      <td>0.406514</td>\n",
              "      <td>0.0</td>\n",
              "      <td>1.0</td>\n",
              "      <td>0.0</td>\n",
              "      <td>0.0</td>\n",
              "      <td>0.0</td>\n",
              "      <td>0.0</td>\n",
              "      <td>0.0</td>\n",
              "      <td>0.0</td>\n",
              "      <td>0.0</td>\n",
              "      <td>1.0</td>\n",
              "      <td>0.0</td>\n",
              "      <td>0.0</td>\n",
              "      <td>0.0</td>\n",
              "      <td>0.0</td>\n",
              "    </tr>\n",
              "    <tr>\n",
              "      <th>80916</th>\n",
              "      <td>-1.191375</td>\n",
              "      <td>0.991836</td>\n",
              "      <td>-0.355709</td>\n",
              "      <td>-1.502674</td>\n",
              "      <td>0.406514</td>\n",
              "      <td>0.0</td>\n",
              "      <td>0.0</td>\n",
              "      <td>1.0</td>\n",
              "      <td>0.0</td>\n",
              "      <td>0.0</td>\n",
              "      <td>0.0</td>\n",
              "      <td>0.0</td>\n",
              "      <td>0.0</td>\n",
              "      <td>0.0</td>\n",
              "      <td>1.0</td>\n",
              "      <td>0.0</td>\n",
              "      <td>0.0</td>\n",
              "      <td>0.0</td>\n",
              "      <td>0.0</td>\n",
              "    </tr>\n",
              "    <tr>\n",
              "      <th>89403</th>\n",
              "      <td>-1.191375</td>\n",
              "      <td>0.991836</td>\n",
              "      <td>-0.355709</td>\n",
              "      <td>-0.417448</td>\n",
              "      <td>0.406514</td>\n",
              "      <td>1.0</td>\n",
              "      <td>0.0</td>\n",
              "      <td>0.0</td>\n",
              "      <td>0.0</td>\n",
              "      <td>0.0</td>\n",
              "      <td>0.0</td>\n",
              "      <td>0.0</td>\n",
              "      <td>0.0</td>\n",
              "      <td>0.0</td>\n",
              "      <td>1.0</td>\n",
              "      <td>0.0</td>\n",
              "      <td>0.0</td>\n",
              "      <td>0.0</td>\n",
              "      <td>0.0</td>\n",
              "    </tr>\n",
              "    <tr>\n",
              "      <th>...</th>\n",
              "      <th>...</th>\n",
              "      <td>...</td>\n",
              "      <td>...</td>\n",
              "      <td>...</td>\n",
              "      <td>...</td>\n",
              "      <td>...</td>\n",
              "      <td>...</td>\n",
              "      <td>...</td>\n",
              "      <td>...</td>\n",
              "      <td>...</td>\n",
              "      <td>...</td>\n",
              "      <td>...</td>\n",
              "      <td>...</td>\n",
              "      <td>...</td>\n",
              "      <td>...</td>\n",
              "      <td>...</td>\n",
              "      <td>...</td>\n",
              "      <td>...</td>\n",
              "      <td>...</td>\n",
              "      <td>...</td>\n",
              "    </tr>\n",
              "    <tr>\n",
              "      <th>79</th>\n",
              "      <th>31775</th>\n",
              "      <td>-0.346505</td>\n",
              "      <td>0.271210</td>\n",
              "      <td>1.182456</td>\n",
              "      <td>-0.055706</td>\n",
              "      <td>0.406514</td>\n",
              "      <td>0.0</td>\n",
              "      <td>1.0</td>\n",
              "      <td>0.0</td>\n",
              "      <td>0.0</td>\n",
              "      <td>0.0</td>\n",
              "      <td>0.0</td>\n",
              "      <td>0.0</td>\n",
              "      <td>0.0</td>\n",
              "      <td>0.0</td>\n",
              "      <td>1.0</td>\n",
              "      <td>0.0</td>\n",
              "      <td>0.0</td>\n",
              "      <td>0.0</td>\n",
              "      <td>0.0</td>\n",
              "    </tr>\n",
              "    <tr>\n",
              "      <th rowspan=\"4\" valign=\"top\">101</th>\n",
              "      <th>31616</th>\n",
              "      <td>-0.437372</td>\n",
              "      <td>0.340645</td>\n",
              "      <td>0.484672</td>\n",
              "      <td>-1.502674</td>\n",
              "      <td>0.406514</td>\n",
              "      <td>0.0</td>\n",
              "      <td>1.0</td>\n",
              "      <td>0.0</td>\n",
              "      <td>0.0</td>\n",
              "      <td>0.0</td>\n",
              "      <td>0.0</td>\n",
              "      <td>0.0</td>\n",
              "      <td>0.0</td>\n",
              "      <td>0.0</td>\n",
              "      <td>1.0</td>\n",
              "      <td>0.0</td>\n",
              "      <td>0.0</td>\n",
              "      <td>0.0</td>\n",
              "      <td>0.0</td>\n",
              "    </tr>\n",
              "    <tr>\n",
              "      <th>90990</th>\n",
              "      <td>-0.437372</td>\n",
              "      <td>0.340645</td>\n",
              "      <td>0.484672</td>\n",
              "      <td>-0.417448</td>\n",
              "      <td>0.406514</td>\n",
              "      <td>1.0</td>\n",
              "      <td>0.0</td>\n",
              "      <td>0.0</td>\n",
              "      <td>0.0</td>\n",
              "      <td>0.0</td>\n",
              "      <td>0.0</td>\n",
              "      <td>0.0</td>\n",
              "      <td>0.0</td>\n",
              "      <td>0.0</td>\n",
              "      <td>1.0</td>\n",
              "      <td>0.0</td>\n",
              "      <td>0.0</td>\n",
              "      <td>0.0</td>\n",
              "      <td>0.0</td>\n",
              "    </tr>\n",
              "    <tr>\n",
              "      <th>91758</th>\n",
              "      <td>-0.437372</td>\n",
              "      <td>0.340645</td>\n",
              "      <td>0.484672</td>\n",
              "      <td>-0.417448</td>\n",
              "      <td>0.406514</td>\n",
              "      <td>1.0</td>\n",
              "      <td>0.0</td>\n",
              "      <td>0.0</td>\n",
              "      <td>0.0</td>\n",
              "      <td>0.0</td>\n",
              "      <td>0.0</td>\n",
              "      <td>0.0</td>\n",
              "      <td>0.0</td>\n",
              "      <td>0.0</td>\n",
              "      <td>1.0</td>\n",
              "      <td>0.0</td>\n",
              "      <td>0.0</td>\n",
              "      <td>0.0</td>\n",
              "      <td>0.0</td>\n",
              "    </tr>\n",
              "    <tr>\n",
              "      <th>92390</th>\n",
              "      <td>-0.437372</td>\n",
              "      <td>0.340645</td>\n",
              "      <td>0.484672</td>\n",
              "      <td>1.753004</td>\n",
              "      <td>0.406514</td>\n",
              "      <td>1.0</td>\n",
              "      <td>0.0</td>\n",
              "      <td>0.0</td>\n",
              "      <td>0.0</td>\n",
              "      <td>0.0</td>\n",
              "      <td>0.0</td>\n",
              "      <td>0.0</td>\n",
              "      <td>0.0</td>\n",
              "      <td>0.0</td>\n",
              "      <td>1.0</td>\n",
              "      <td>0.0</td>\n",
              "      <td>0.0</td>\n",
              "      <td>0.0</td>\n",
              "      <td>0.0</td>\n",
              "    </tr>\n",
              "  </tbody>\n",
              "</table>\n",
              "<p>183339 rows × 19 columns</p>\n",
              "</div>\n",
              "    <div class=\"colab-df-buttons\">\n",
              "\n",
              "  <div class=\"colab-df-container\">\n",
              "    <button class=\"colab-df-convert\" onclick=\"convertToInteractive('df-5be37895-10f7-49a3-a6d6-cb04cc681bc7')\"\n",
              "            title=\"Convert this dataframe to an interactive table.\"\n",
              "            style=\"display:none;\">\n",
              "\n",
              "  <svg xmlns=\"http://www.w3.org/2000/svg\" height=\"24px\" viewBox=\"0 -960 960 960\">\n",
              "    <path d=\"M120-120v-720h720v720H120Zm60-500h600v-160H180v160Zm220 220h160v-160H400v160Zm0 220h160v-160H400v160ZM180-400h160v-160H180v160Zm440 0h160v-160H620v160ZM180-180h160v-160H180v160Zm440 0h160v-160H620v160Z\"/>\n",
              "  </svg>\n",
              "    </button>\n",
              "\n",
              "  <style>\n",
              "    .colab-df-container {\n",
              "      display:flex;\n",
              "      gap: 12px;\n",
              "    }\n",
              "\n",
              "    .colab-df-convert {\n",
              "      background-color: #E8F0FE;\n",
              "      border: none;\n",
              "      border-radius: 50%;\n",
              "      cursor: pointer;\n",
              "      display: none;\n",
              "      fill: #1967D2;\n",
              "      height: 32px;\n",
              "      padding: 0 0 0 0;\n",
              "      width: 32px;\n",
              "    }\n",
              "\n",
              "    .colab-df-convert:hover {\n",
              "      background-color: #E2EBFA;\n",
              "      box-shadow: 0px 1px 2px rgba(60, 64, 67, 0.3), 0px 1px 3px 1px rgba(60, 64, 67, 0.15);\n",
              "      fill: #174EA6;\n",
              "    }\n",
              "\n",
              "    .colab-df-buttons div {\n",
              "      margin-bottom: 4px;\n",
              "    }\n",
              "\n",
              "    [theme=dark] .colab-df-convert {\n",
              "      background-color: #3B4455;\n",
              "      fill: #D2E3FC;\n",
              "    }\n",
              "\n",
              "    [theme=dark] .colab-df-convert:hover {\n",
              "      background-color: #434B5C;\n",
              "      box-shadow: 0px 1px 3px 1px rgba(0, 0, 0, 0.15);\n",
              "      filter: drop-shadow(0px 1px 2px rgba(0, 0, 0, 0.3));\n",
              "      fill: #FFFFFF;\n",
              "    }\n",
              "  </style>\n",
              "\n",
              "    <script>\n",
              "      const buttonEl =\n",
              "        document.querySelector('#df-5be37895-10f7-49a3-a6d6-cb04cc681bc7 button.colab-df-convert');\n",
              "      buttonEl.style.display =\n",
              "        google.colab.kernel.accessAllowed ? 'block' : 'none';\n",
              "\n",
              "      async function convertToInteractive(key) {\n",
              "        const element = document.querySelector('#df-5be37895-10f7-49a3-a6d6-cb04cc681bc7');\n",
              "        const dataTable =\n",
              "          await google.colab.kernel.invokeFunction('convertToInteractive',\n",
              "                                                    [key], {});\n",
              "        if (!dataTable) return;\n",
              "\n",
              "        const docLinkHtml = 'Like what you see? Visit the ' +\n",
              "          '<a target=\"_blank\" href=https://colab.research.google.com/notebooks/data_table.ipynb>data table notebook</a>'\n",
              "          + ' to learn more about interactive tables.';\n",
              "        element.innerHTML = '';\n",
              "        dataTable['output_type'] = 'display_data';\n",
              "        await google.colab.output.renderOutput(dataTable, element);\n",
              "        const docLink = document.createElement('div');\n",
              "        docLink.innerHTML = docLinkHtml;\n",
              "        element.appendChild(docLink);\n",
              "      }\n",
              "    </script>\n",
              "  </div>\n",
              "\n",
              "\n",
              "<div id=\"df-c12cf425-0b6f-4739-83bc-d9c1819bf1b5\">\n",
              "  <button class=\"colab-df-quickchart\" onclick=\"quickchart('df-c12cf425-0b6f-4739-83bc-d9c1819bf1b5')\"\n",
              "            title=\"Suggest charts\"\n",
              "            style=\"display:none;\">\n",
              "\n",
              "<svg xmlns=\"http://www.w3.org/2000/svg\" height=\"24px\"viewBox=\"0 0 24 24\"\n",
              "     width=\"24px\">\n",
              "    <g>\n",
              "        <path d=\"M19 3H5c-1.1 0-2 .9-2 2v14c0 1.1.9 2 2 2h14c1.1 0 2-.9 2-2V5c0-1.1-.9-2-2-2zM9 17H7v-7h2v7zm4 0h-2V7h2v10zm4 0h-2v-4h2v4z\"/>\n",
              "    </g>\n",
              "</svg>\n",
              "  </button>\n",
              "\n",
              "<style>\n",
              "  .colab-df-quickchart {\n",
              "      --bg-color: #E8F0FE;\n",
              "      --fill-color: #1967D2;\n",
              "      --hover-bg-color: #E2EBFA;\n",
              "      --hover-fill-color: #174EA6;\n",
              "      --disabled-fill-color: #AAA;\n",
              "      --disabled-bg-color: #DDD;\n",
              "  }\n",
              "\n",
              "  [theme=dark] .colab-df-quickchart {\n",
              "      --bg-color: #3B4455;\n",
              "      --fill-color: #D2E3FC;\n",
              "      --hover-bg-color: #434B5C;\n",
              "      --hover-fill-color: #FFFFFF;\n",
              "      --disabled-bg-color: #3B4455;\n",
              "      --disabled-fill-color: #666;\n",
              "  }\n",
              "\n",
              "  .colab-df-quickchart {\n",
              "    background-color: var(--bg-color);\n",
              "    border: none;\n",
              "    border-radius: 50%;\n",
              "    cursor: pointer;\n",
              "    display: none;\n",
              "    fill: var(--fill-color);\n",
              "    height: 32px;\n",
              "    padding: 0;\n",
              "    width: 32px;\n",
              "  }\n",
              "\n",
              "  .colab-df-quickchart:hover {\n",
              "    background-color: var(--hover-bg-color);\n",
              "    box-shadow: 0 1px 2px rgba(60, 64, 67, 0.3), 0 1px 3px 1px rgba(60, 64, 67, 0.15);\n",
              "    fill: var(--button-hover-fill-color);\n",
              "  }\n",
              "\n",
              "  .colab-df-quickchart-complete:disabled,\n",
              "  .colab-df-quickchart-complete:disabled:hover {\n",
              "    background-color: var(--disabled-bg-color);\n",
              "    fill: var(--disabled-fill-color);\n",
              "    box-shadow: none;\n",
              "  }\n",
              "\n",
              "  .colab-df-spinner {\n",
              "    border: 2px solid var(--fill-color);\n",
              "    border-color: transparent;\n",
              "    border-bottom-color: var(--fill-color);\n",
              "    animation:\n",
              "      spin 1s steps(1) infinite;\n",
              "  }\n",
              "\n",
              "  @keyframes spin {\n",
              "    0% {\n",
              "      border-color: transparent;\n",
              "      border-bottom-color: var(--fill-color);\n",
              "      border-left-color: var(--fill-color);\n",
              "    }\n",
              "    20% {\n",
              "      border-color: transparent;\n",
              "      border-left-color: var(--fill-color);\n",
              "      border-top-color: var(--fill-color);\n",
              "    }\n",
              "    30% {\n",
              "      border-color: transparent;\n",
              "      border-left-color: var(--fill-color);\n",
              "      border-top-color: var(--fill-color);\n",
              "      border-right-color: var(--fill-color);\n",
              "    }\n",
              "    40% {\n",
              "      border-color: transparent;\n",
              "      border-right-color: var(--fill-color);\n",
              "      border-top-color: var(--fill-color);\n",
              "    }\n",
              "    60% {\n",
              "      border-color: transparent;\n",
              "      border-right-color: var(--fill-color);\n",
              "    }\n",
              "    80% {\n",
              "      border-color: transparent;\n",
              "      border-right-color: var(--fill-color);\n",
              "      border-bottom-color: var(--fill-color);\n",
              "    }\n",
              "    90% {\n",
              "      border-color: transparent;\n",
              "      border-bottom-color: var(--fill-color);\n",
              "    }\n",
              "  }\n",
              "</style>\n",
              "\n",
              "  <script>\n",
              "    async function quickchart(key) {\n",
              "      const quickchartButtonEl =\n",
              "        document.querySelector('#' + key + ' button');\n",
              "      quickchartButtonEl.disabled = true;  // To prevent multiple clicks.\n",
              "      quickchartButtonEl.classList.add('colab-df-spinner');\n",
              "      try {\n",
              "        const charts = await google.colab.kernel.invokeFunction(\n",
              "            'suggestCharts', [key], {});\n",
              "      } catch (error) {\n",
              "        console.error('Error during call to suggestCharts:', error);\n",
              "      }\n",
              "      quickchartButtonEl.classList.remove('colab-df-spinner');\n",
              "      quickchartButtonEl.classList.add('colab-df-quickchart-complete');\n",
              "    }\n",
              "    (() => {\n",
              "      let quickchartButtonEl =\n",
              "        document.querySelector('#df-c12cf425-0b6f-4739-83bc-d9c1819bf1b5 button');\n",
              "      quickchartButtonEl.style.display =\n",
              "        google.colab.kernel.accessAllowed ? 'block' : 'none';\n",
              "    })();\n",
              "  </script>\n",
              "</div>\n",
              "    </div>\n",
              "  </div>\n"
            ]
          },
          "metadata": {},
          "execution_count": 154
        }
      ]
    },
    {
      "cell_type": "code",
      "source": [
        "data_practice.feature_generation_content()"
      ],
      "metadata": {
        "colab": {
          "base_uri": "https://localhost:8080/"
        },
        "id": "Lg-u7CIumLKp",
        "outputId": "2e8f6014-ef83-4052-9a48-07d58ad10596"
      },
      "execution_count": null,
      "outputs": [
        {
          "output_type": "execute_result",
          "data": {
            "text/plain": [
              "(        content_id  guidance_scale  num_inference_steps         artist_style  \\\n",
              " 0            28598               8                   75  movie: Prestige-The   \n",
              " 1            28599               7                   75  movie: Prestige-The   \n",
              " 2            28600               9                   75  movie: Prestige-The   \n",
              " 3            28601               8                   75  movie: Prestige-The   \n",
              " 4            28602               8                   75  movie: Prestige-The   \n",
              " ...            ...             ...                  ...                  ...   \n",
              " 107700      136300               4                   20                  NaN   \n",
              " 107701      136301               4                   20                  NaN   \n",
              " 107702      136302               4                   20                  NaN   \n",
              " 107703      136303               4                   20                  NaN   \n",
              " 107704      136304               4                   20                  NaN   \n",
              " \n",
              "                                                    source  \\\n",
              " 0                                            Prestige-The   \n",
              " 1                                            Prestige-The   \n",
              " 2                                            Prestige-The   \n",
              " 3                                            Prestige-The   \n",
              " 4                                            Prestige-The   \n",
              " ...                                                   ...   \n",
              " 107700                         A Dream by Edgar Allan Poe   \n",
              " 107701                         Romance by Edgar Allan Poe   \n",
              " 107702                        The Lake by Edgar Allan Poe   \n",
              " 107703  Hymn To Aristogeiton And Harmodius by Edgar Al...   \n",
              " 107704                          A Pæan by Edgar Allan Poe   \n",
              " \n",
              "         content_guidance_scale  content_inference_steps content_source  \\\n",
              " 0                          8.0                     75.0          other   \n",
              " 1                          7.0                     75.0          other   \n",
              " 2                          9.0                     75.0          other   \n",
              " 3                          8.0                     75.0          other   \n",
              " 4                          8.0                     75.0          other   \n",
              " ...                        ...                      ...            ...   \n",
              " 107700                     4.0                     20.0          other   \n",
              " 107701                     4.0                     20.0          other   \n",
              " 107702                     4.0                     20.0          other   \n",
              " 107703                     4.0                     20.0          other   \n",
              " 107704                     4.0                     20.0          other   \n",
              " \n",
              "        content_style  \n",
              " 0              other  \n",
              " 1              other  \n",
              " 2              other  \n",
              " 3              other  \n",
              " 4              other  \n",
              " ...              ...  \n",
              " 107700         other  \n",
              " 107701         other  \n",
              " 107702         other  \n",
              " 107703         other  \n",
              " 107704         other  \n",
              " \n",
              " [107705 rows x 9 columns],\n",
              " ['content_guidance_scale', 'content_inference_steps'],\n",
              " ['content_source', 'content_style'])"
            ]
          },
          "metadata": {},
          "execution_count": 153
        }
      ]
    },
    {
      "cell_type": "code",
      "source": [
        "data_practice.feature_generation_user()"
      ],
      "metadata": {
        "colab": {
          "base_uri": "https://localhost:8080/"
        },
        "id": "j9y55u7wKp_h",
        "outputId": "afe72226-ad17-46ce-c105-10e974021fb6"
      },
      "execution_count": null,
      "outputs": [
        {
          "output_type": "execute_result",
          "data": {
            "text/plain": [
              "(     user_id  user_likes  user_dislikes  user_engagetime\n",
              " 0          1          12           -5.0      8252.100228\n",
              " 1          4         788         -400.0      8994.178166\n",
              " 2          5         123          -68.0    803651.618492\n",
              " 3          6         247         -332.0     58446.510204\n",
              " 4          7         116         -123.0     28379.503856\n",
              " ..       ...         ...            ...              ...\n",
              " 99       110         194         -211.0      2971.729535\n",
              " 100      111         154         -105.0     58186.126283\n",
              " 101      112         604         -866.0      4550.324905\n",
              " 102      113          13          -10.0      3050.506173\n",
              " 103      115          10           -4.0       726.035714\n",
              " \n",
              " [104 rows x 4 columns],\n",
              " ['user_likes', 'user_dislikes', 'user_engagetime'],\n",
              " [])"
            ]
          },
          "metadata": {},
          "execution_count": 108
        }
      ]
    },
    {
      "cell_type": "code",
      "source": [],
      "metadata": {
        "id": "E2qzE3tsx4sC"
      },
      "execution_count": null,
      "outputs": []
    },
    {
      "cell_type": "code",
      "source": [
        "# Set \"engage_time\" based on engagement_type and engagement_value\n",
        "# assign existing engagement time if doesn't have that data, assign zero\n",
        "engage_times = engagement_data[engagement_data['engagement_type'] == 'MillisecondsEngagedWith']\n",
        "engage_times = engage_times.groupby(['user_id', 'content_id'])['engagement_value'].mean().reset_index()\n",
        "engage_times.rename(columns={'engagement_value': 'engage_time'}, inplace=True)\n",
        "\n",
        "target_df = pd.merge(target_df, engage_times[['user_id', 'content_id', 'engage_time']],\n",
        "                    on=['user_id', 'content_id'], how='right')\n",
        "\n",
        "# Filling NaN values with 0 for pairs without engage_time\n",
        "target_df['engage_time'].fillna(0, inplace=True)\n",
        "\n",
        "# Select and rename the required columns\n",
        "target_df = target_df[['user_id', 'content_id', 'like', 'dislike', 'engage_time']].copy()"
      ],
      "metadata": {
        "id": "X9104I3eun-g"
      },
      "execution_count": null,
      "outputs": []
    },
    {
      "cell_type": "code",
      "source": [
        "target_df['engage_time'].describe()"
      ],
      "metadata": {
        "colab": {
          "base_uri": "https://localhost:8080/"
        },
        "id": "ogv3-aGwzAll",
        "outputId": "5a38af6f-56bd-4d4f-ebdc-be3ab614b1d9"
      },
      "execution_count": null,
      "outputs": [
        {
          "output_type": "execute_result",
          "data": {
            "text/plain": [
              "count    1.689180e+05\n",
              "mean     3.808310e+04\n",
              "std      2.449900e+06\n",
              "min      2.510000e+02\n",
              "25%      8.160000e+02\n",
              "50%      1.483000e+03\n",
              "75%      2.610000e+03\n",
              "max      5.136718e+08\n",
              "Name: engage_time, dtype: float64"
            ]
          },
          "metadata": {},
          "execution_count": 48
        }
      ]
    },
    {
      "cell_type": "code",
      "source": [
        "target_df['dislike'].describe()"
      ],
      "metadata": {
        "colab": {
          "base_uri": "https://localhost:8080/"
        },
        "id": "vPD3EXBuy7Na",
        "outputId": "9facaa36-392c-49a5-ba85-224c04c1488b"
      },
      "execution_count": null,
      "outputs": [
        {
          "output_type": "execute_result",
          "data": {
            "text/plain": [
              "count    168918.000000\n",
              "mean          0.205242\n",
              "std           0.403879\n",
              "min           0.000000\n",
              "25%           0.000000\n",
              "50%           0.000000\n",
              "75%           0.000000\n",
              "max           1.000000\n",
              "Name: dislike, dtype: float64"
            ]
          },
          "metadata": {},
          "execution_count": 47
        }
      ]
    },
    {
      "cell_type": "code",
      "source": [
        "target_df['like'].describe()"
      ],
      "metadata": {
        "colab": {
          "base_uri": "https://localhost:8080/"
        },
        "id": "WJjRG9lsv-xO",
        "outputId": "d80b3f44-8e34-4996-fb5f-109520eb3855"
      },
      "execution_count": null,
      "outputs": [
        {
          "output_type": "execute_result",
          "data": {
            "text/plain": [
              "count    168918.000000\n",
              "mean          0.252057\n",
              "std           0.434195\n",
              "min           0.000000\n",
              "25%           0.000000\n",
              "50%           0.000000\n",
              "75%           1.000000\n",
              "max           1.000000\n",
              "Name: like, dtype: float64"
            ]
          },
          "metadata": {},
          "execution_count": 46
        }
      ]
    },
    {
      "cell_type": "code",
      "source": [
        "target_df['like'].unique()"
      ],
      "metadata": {
        "colab": {
          "base_uri": "https://localhost:8080/"
        },
        "id": "LbnnbnYqr8pO",
        "outputId": "77d61f3f-45d4-40dd-c834-38743107095c"
      },
      "execution_count": null,
      "outputs": [
        {
          "output_type": "execute_result",
          "data": {
            "text/plain": [
              "array([0, 1])"
            ]
          },
          "metadata": {},
          "execution_count": 24
        }
      ]
    },
    {
      "cell_type": "markdown",
      "metadata": {
        "id": "gMIWAEZAWtwU"
      },
      "source": [
        "### 2. Predict"
      ]
    },
    {
      "cell_type": "markdown",
      "source": [
        "1. Experimented with various models (Random Forest, KNN, Neural Network, Linear Regression, XGBoost, Decision Trees, SVR, and Gradient Boosting)\n",
        "2. Tuned Neural Network and Random Forest Regressor and Classifier (learning rate, batch size, number of training epochs, weight initialization, model architecture)\n",
        "3. Implemented and tuned oversampling the minority class for neural network and random forests"
      ],
      "metadata": {
        "id": "0j9SeUPhP9K8"
      }
    },
    {
      "cell_type": "code",
      "source": [
        "class DataCollectorExample(DataCollector):\n",
        "\n",
        "    def feature_generation_user(self) -> Tuple[pd.DataFrame, List[str], List[str]]:\n",
        "        \"\"\"Generates user features. Keep all the categorical variables as is,\n",
        "        since the one-hot encoding will be done by our own pipeline. Along with\n",
        "        the feature dataframe, you'll need to output lists of numberical features\n",
        "        and categorical features as well.\n",
        "\n",
        "        Returns\n",
        "          pd.DataFrame: User feature dataframe\n",
        "          List[str]: List of numerical features. E.g. ['feat_1', 'feat_3, ...]\n",
        "          List[str]: List of categorical features. E.g. ['feat_2', 'feat_4, ...]\n",
        "        \"\"\"\n",
        "\n",
        "        # Filtering like/dislike engagements\n",
        "        like_data = self.user_data[engagement_data['engagement_type'] == 'Like']\n",
        "\n",
        "        # Grouping by 'user_id' and 'content_id' and getting the latest engagement for each pair\n",
        "        latest_like_data = like_data.sort_values('created_date').groupby(['user_id', 'content_id']).tail(1)\n",
        "\n",
        "        # Getting total likes for each user\n",
        "        like_engagements = latest_like_data[(latest_like_data['engagement_value']==1)].copy()\n",
        "        like_feature_df = like_engagements.groupby('user_id')['engagement_value'].sum().reset_index()\n",
        "        like_feature_df.rename(columns={'engagement_value': 'user_likes'}, inplace=True)\n",
        "        # Fill NaN values with 0 (users with no \"like\" engagements)\n",
        "        like_feature_df['user_likes'].fillna(0, inplace=True)\n",
        "\n",
        "\n",
        "        # Getting total dislikes for each user\n",
        "        dislike_engagements = latest_like_data[(latest_like_data['engagement_value']==-1)].copy()\n",
        "        dislike_feature_df = dislike_engagements.groupby('user_id')['engagement_value'].sum().reset_index()\n",
        "        dislike_feature_df.rename(columns={'engagement_value': 'user_dislikes'}, inplace=True)\n",
        "        # Fill NaN values with 0 (users with no \"dislike\" engagements)\n",
        "        dislike_feature_df['user_dislikes'].fillna(0, inplace=True)\n",
        "\n",
        "        # Getting average engage time for each user\n",
        "        time_engagements = self.user_data[self.user_data['engagement_type'] == 'MillisecondsEngagedWith'].copy()\n",
        "        engage_feature_df = time_engagements.groupby('user_id')['engagement_value'].mean().reset_index()\n",
        "        engage_feature_df.rename(columns={'engagement_value': 'user_engagetime'}, inplace=True)\n",
        "        # Fill NaN values with 0 (users with no engagment time data)\n",
        "        engage_feature_df['user_engagetime'].fillna(0, inplace=True)\n",
        "\n",
        "        feature_df = pd.merge(like_feature_df, dislike_feature_df , on='user_id', how='left')\n",
        "        feature_df = pd.merge(feature_df, engage_feature_df , on='user_id', how='left')\n",
        "\n",
        "        return feature_df, ['user_likes', 'user_dislikes', 'user_engagetime'], []\n",
        "\n",
        "\n",
        "    def feature_generation_content(self) -> Tuple[pd.DataFrame, List[str], List[str]]:\n",
        "        \"\"\"Generates content features. Keep all the categorical variables as is,\n",
        "        since the one-hot encoding will be done by our own pipeline. Along with\n",
        "        the feature dataframe, you'll need to output lists of numberical features\n",
        "        and categorical features as well.\n",
        "\n",
        "        Returns\n",
        "          pd.DataFrame: User feature dataframe\n",
        "          List[str]: List of numerical features. E.g. ['feat_1', 'feat_3, ...]\n",
        "          List[str]: List of categorical features. E.g. ['feat_2', 'feat_4, ...]\n",
        "        \"\"\"\n",
        "\n",
        "        feature_df = self.generated_content_metadata.copy()\n",
        "\n",
        "        # numerical feature 1: (average) guidance scale\n",
        "        mean_engage = feature_df[\"guidance_scale\"].mean()\n",
        "        guide_df = feature_df.groupby('content_id')['guidance_scale'].mean().reset_index()\n",
        "        guide_df = guide_df.rename(columns={'guidance_scale': 'content_guidance_scale'})\n",
        "        feature_df = pd.merge(feature_df, guide_df, on='content_id', how='left')\n",
        "        feature_df['content_guidance_scale'].fillna(mean_engage, inplace=True)\n",
        "\n",
        "        # numerical feature 2: num inference steps\n",
        "        mean_inf = feature_df[\"num_inference_steps\"].mean()\n",
        "        inf_df = feature_df.groupby('content_id')['num_inference_steps'].mean().reset_index()\n",
        "        inf_df = inf_df.rename(columns={'num_inference_steps': 'content_inference_steps'})\n",
        "        feature_df = pd.merge(feature_df, inf_df, on='content_id', how='left')\n",
        "        feature_df['content_inference_steps'].fillna(mean_inf, inplace=True)\n",
        "\n",
        "\n",
        "        # categorical feature 1: source\n",
        "        feature_df['content_source'] = 'other'\n",
        "        feature_df.loc[feature_df['source'] == 'human_prompts', 'content_source'] = 'human_prompts'\n",
        "        feature_df.loc[feature_df['source'] == 'r/Showerthoughts', 'content_source'] = 'r/Showerthoughts'\n",
        "\n",
        "\n",
        "        # categorical feature 2: artist style\n",
        "        style_list = [\n",
        "            'studio',\n",
        "            'medieval',\n",
        "            'anime',\n",
        "            'kerry_james_marshall',\n",
        "            'gta_v',\n",
        "            'scifi',\n",
        "            'van_gogh',\n",
        "            'salvador_dali',\n",
        "            'jean-michel_basquiat',\n",
        "            'face_and_lighting'\n",
        "        ]\n",
        "        #style_list = ['movie', 'empty']\n",
        "        feature_df['content_style'] = feature_df['artist_style']\n",
        "        feature_df['content_style'].fillna(\"empty\", inplace=True)\n",
        "        feature_df.loc[feature_df['content_style'].str.startswith('movie:'), 'content_style'] = 'movie'\n",
        "        feature_df.loc[~feature_df['content_style'].isin(style_list), 'content_style'] = 'other'\n",
        "\n",
        "\n",
        "        return feature_df, ['content_inference_steps'], ['content_source', 'content_style']\n",
        "\n",
        "\n",
        "    def get_Ys(self, engagement_data) -> pd.DataFrame:\n",
        "        \"\"\"Engineers taget variable that you are predicting.\n",
        "        Args\n",
        "            engagement_data (pd.DataFrame): Engagement data.\n",
        "        Returns\n",
        "            pd.DataFrame: Dataframe of 5 columns;\n",
        "                'user_id', 'content_id', 'like', 'dislike', 'engage_time'\n",
        "        \"\"\"\n",
        "        # Filtering Like-type engagements\n",
        "        like_data = engagement_data[engagement_data['engagement_type'] == 'Like']\n",
        "\n",
        "        # Grouping by 'user_id' and 'content_id' and getting the latest engagement for each pair\n",
        "        latest_engagements = like_data.sort_values('created_date').groupby(['user_id', 'content_id']).tail(1)\n",
        "\n",
        "        # Creating the target DataFrame with unique pairs of user_id and content_id\n",
        "        target_df = engagement_data[['user_id', 'content_id']].drop_duplicates()\n",
        "\n",
        "        # Merging latest engagements to update 'like' and 'dislike' columns\n",
        "        target_df = pd.merge(target_df, latest_engagements[['user_id', 'content_id', 'engagement_value']],\n",
        "                            on=['user_id', 'content_id'], how='left')\n",
        "\n",
        "        # Updating 'like' and 'dislike' columns based on the latest engagement values\n",
        "        target_df['like'] = (target_df['engagement_value'] == 1).astype(int)\n",
        "        target_df['dislike'] = (target_df['engagement_value'] == -1).astype(int)\n",
        "\n",
        "        # Filling NaN values with 0 for pairs without like/dislike\n",
        "        target_df.fillna(0, inplace=True)\n",
        "\n",
        "\n",
        "        # Set \"engage_time\" based on engagement_type and engagement_value\n",
        "        # assign existing engagement time if doesn't have that data, assign zero\n",
        "        engage_times = engagement_data[engagement_data['engagement_type'] == 'MillisecondsEngagedWith']\n",
        "\n",
        "        #engage_times = engage_times.groupby(['user_id', 'content_id'])['engagement_value'].mean().reset_index()\n",
        "        engage_times = engage_times.groupby(['user_id', 'content_id'])['engagement_value'].max().reset_index()\n",
        "\n",
        "        engage_times.rename(columns={'engagement_value': 'engage_time'}, inplace=True)\n",
        "\n",
        "        target_df = pd.merge(target_df, engage_times[['user_id', 'content_id', 'engage_time']],\n",
        "                            on=['user_id', 'content_id'], how='left')\n",
        "\n",
        "        \"\"\"\n",
        "        # Grouping by 'user_id' and 'content_id' to get the earliest 'created_date' for each pair\n",
        "        engage_times = engage_times.sort_values('created_date').groupby(['user_id', 'content_id']).head(1)\n",
        "        \"\"\"\n",
        "        # Filling NaN values with 0 for pairs without engage_time\n",
        "        target_df['engage_time'].fillna(0, inplace=True)\n",
        "\n",
        "        # Select and rename the required columns\n",
        "        target_df = target_df[['user_id', 'content_id', 'like', 'dislike', 'engage_time']].copy()\n",
        "\n",
        "        return target_df\n",
        "\n",
        "\n",
        "    def predict(self, X: pd.DataFrame) -> Tuple[list, list, list]:\n",
        "        \"\"\"Predicts the 3 target variables by using the model that you trained.\n",
        "        Make sure you load the model properly.\n",
        "\n",
        "        Args:\n",
        "            X (pd.DataFrame): Feature dataframe with 2-level index of (user_id, content_id)\n",
        "\n",
        "        Returns:\n",
        "            (list, list, list): (predicted prbability of like,\n",
        "                                 predicted probability of dislike,\n",
        "                                 predicted engagement time)\n",
        "        \"\"\"\n",
        "\n",
        "        model = self.load_model()\n",
        "\n",
        "        pred_like = model['like'].predict(X).flatten()\n",
        "        pred_dislike = model['dislike'].predict(X).flatten()\n",
        "        pred_engtime = model['engage_time'].predict(X).flatten()\n",
        "\n",
        "        return pred_like, pred_dislike, pred_engtime\n",
        "\n",
        "    def rank(self,\n",
        "             score_df: pd.DataFrame,\n",
        "             user_id: int,\n",
        "             content_ids: Optional[list] = None) -> list:\n",
        "\n",
        "        \"\"\"Ranks the items for a given user based on your own criteria.\n",
        "\n",
        "        Args:\n",
        "            score_df (pd.DataFrame): Predicted-score Dataframe of columns;\n",
        "                'user_id', 'content_id', 'like', 'dislike', 'engage_time', and\n",
        "                also columns for content metadata.\n",
        "            user_id (int): User ID to rank the items for.\n",
        "            content_ids (Optional[list]): List of content ids to be considered for ranking.\n",
        "        \"\"\"\n",
        "\n",
        "        user_df = score_df[score_df['user_id'] == user_id]\n",
        "\n",
        "        def select_artist_style(style):\n",
        "            if pd.isna(style) or str(style).startswith('movie:'):\n",
        "                return 'other'\n",
        "            else:\n",
        "                return style\n",
        "\n",
        "        user_df['selected_artiststyle'] = user_df['artist_style'].apply(select_artist_style)\n",
        "\n",
        "        user_df['value'] = user_df['like'] - user_df['dislike'] + np.minimum(user_df['engage_time'], 10000)\n",
        "        # engage_time no longer than 10s\n",
        "        user_df_sorted = user_df.sort_values(by='value', ascending=False)\n",
        "\n",
        "        sorted_content_ids = []\n",
        "        last_artist_style = 1\n",
        "        keep_styles = {'other', 'gta_v', 'medieval', 'detailed_portrait', 'van_gogh', 'unreal_engine', 'face_and_lighting', 'scifi', 'oil_on_canvas', 'anime', 'studio'}\n",
        "\n",
        "        while not user_df_sorted.empty:\n",
        "            selected_rows = user_df_sorted.loc[(user_df_sorted['selected_artiststyle'] != last_artist_style) | (user_df_sorted['selected_artiststyle'].isin(keep_styles))]\n",
        "            if selected_rows.empty:\n",
        "                break\n",
        "            selected_row = selected_rows.iloc[0]\n",
        "            sorted_content_ids.append(selected_row['content_id'])\n",
        "            last_artist_style = selected_row['selected_artiststyle']\n",
        "            user_df_sorted = user_df_sorted.drop(selected_row.name)\n",
        "\n",
        "        return sorted_content_ids\n",
        "\n",
        "    def load_model(self) -> object:\n",
        "        \"\"\"Loads your model. Since different ML frameworks requires different\n",
        "        ways to load the model. Change this to reflect your choice of framework.\n",
        "\n",
        "        Returns:\n",
        "            object: Model object\n",
        "        \"\"\"\n",
        "\n",
        "        with open(f'{self.objects_dir}/model.pkl', 'rb') as f:\n",
        "            return pickle.load(f)"
      ],
      "metadata": {
        "id": "kjXqcs1ZzLY9"
      },
      "execution_count": null,
      "outputs": []
    },
    {
      "cell_type": "markdown",
      "source": [
        "###Neural Networks + Oversampling + Tuning"
      ],
      "metadata": {
        "id": "2vW-DKcjUNg5"
      }
    },
    {
      "cell_type": "code",
      "source": [
        "#@title get training data\n",
        "data_collector = DataCollectorExample(\n",
        "    engagement_path='sample_data/engagement_train.csv',\n",
        "    content_meta_path='sample_data/generated_content_metadata.csv'\n",
        "    )\n",
        "\n",
        "X_train = data_collector.gen_model_input(is_train=True)\n",
        "y_train = data_collector.gen_target_vars()\n",
        "\n",
        "# ensure that each row of y_train corresponds to the correct user-content in X_train\n",
        "y_train = y_train.reindex(index=X_train.index)"
      ],
      "metadata": {
        "colab": {
          "base_uri": "https://localhost:8080/"
        },
        "id": "MuDNDNeLdImE",
        "outputId": "69ba2a54-4332-4111-a2ab-f951279149f3"
      },
      "execution_count": null,
      "outputs": [
        {
          "output_type": "stream",
          "name": "stderr",
          "text": [
            "<ipython-input-177-c58ed791d976>:16: UserWarning: Boolean Series key will be reindexed to match DataFrame index.\n",
            "  like_data = self.user_data[engagement_data['engagement_type'] == 'Like']\n"
          ]
        }
      ]
    },
    {
      "cell_type": "code",
      "source": [
        "from sklearn.ensemble import RandomForestClassifier, RandomForestRegressor\n",
        "from sklearn.model_selection import train_test_split\n",
        "from sklearn.metrics import accuracy_score, mean_squared_error\n",
        "import pandas as pd\n",
        "import numpy as np\n",
        "import pickle\n",
        "import tensorflow as tf\n",
        "from tensorflow.keras.models import Sequential\n",
        "from tensorflow.keras.layers import Dense, Dropout\n",
        "from sklearn.model_selection import train_test_split\n",
        "from sklearn.preprocessing import StandardScaler\n",
        "\n",
        "# Assuming X_train and y_train are your feature and target variables\n",
        "# Split the data into training and testing sets\n",
        "X_train, X_test, y_train, y_test = train_test_split(X_train, y_train, test_size=0.2, random_state=42)\n",
        "\n",
        "\n",
        "# Model for 'like'\n",
        "# Model for 'dislike' (assuming binary classification)\n",
        "\n",
        "# Creating a Sequential model\n",
        "model_like = Sequential([\n",
        "    Dense(128, activation='relu'),\n",
        "    Dropout(0.2),  # Adding dropout for regularization\n",
        "    Dense(64, activation='relu'),\n",
        "    Dense(32, activation='relu'),\n",
        "    Dense(1, activation='sigmoid')  # Output layer with 1 neuron for regression\n",
        "])\n",
        "model_like.compile(optimizer='adam', loss='binary_crossentropy', metrics=['accuracy'])\n",
        "model_like.fit(X_train, y_train['like'], epochs=20)\n",
        "like_probs = model_like.predict(X_test)\n",
        "like_predictions = np.array([0 if prob < 0.5 else 1 for prob in like_probs])\n",
        "like_accuracy = accuracy_score(y_test['like'], like_predictions)\n",
        "print(f\"Accuracy for 'like': {like_accuracy}\")\n",
        "\n",
        "\n",
        "# Model for 'dislike' (assuming binary classification)\n",
        "\n",
        "# Creating a Sequential model\n",
        "model_dislike = Sequential([\n",
        "    Dense(128, activation='relu', input_shape=(X_train.shape[1],)),\n",
        "    Dropout(0.2),  # Adding dropout for regularization\n",
        "    Dense(64, activation='relu'),\n",
        "    Dense(32, activation='relu'),\n",
        "    Dense(1, activation='sigmoid')  # Output layer with 1 neuron for regression\n",
        "])\n",
        "model_dislike.compile(optimizer='adam', loss='binary_crossentropy', metrics=['accuracy'])\n",
        "model_dislike.fit(X_train, y_train['dislike'], epochs=20)\n",
        "dislike_probs = model_dislike.predict(X_test)\n",
        "dislike_predictions = np.array([0 if prob < 0.5 else 1 for prob in dislike_probs])\n",
        "dislike_accuracy = accuracy_score(y_test['dislike'], dislike_predictions)\n",
        "print(f\"Accuracy for 'dislike': {dislike_accuracy}\")\n",
        "\n",
        "\n",
        "# Creating a Sequential model\n",
        "model_engtime = Sequential([\n",
        "    Dense(128, activation='relu', input_shape=(X_train.shape[1],)),\n",
        "    Dropout(0.2),  # Adding dropout for regularization\n",
        "    Dense(64, activation='relu'),\n",
        "    Dense(32, activation='relu'),\n",
        "    Dense(1)  # Output layer with 1 neuron for regression\n",
        "])\n",
        "model_engtime.compile(optimizer='adam', loss='mean_squared_error', metrics=['mae'])\n",
        "model_engtime.fit(X_train, y_train['engage_time'], epochs=20)\n",
        "engtime_predictions = model_engtime.predict(X_test)\n",
        "engtime_mse = mean_squared_error(y_test['engage_time'], engtime_predictions)\n",
        "print(f\"Root Mean Squared Error for 'engage_time': {engtime_mse ** 0.5}\")\n",
        "\n",
        "\n",
        "# Save the models to a file\n",
        "model = {\n",
        "    'like': model_like,\n",
        "    'dislike': model_dislike,\n",
        "    'engage_time': model_engtime\n",
        "}\n",
        "\n",
        "with open('sample_data/model.pkl', 'wb') as f:\n",
        "    pickle.dump(model, f)"
      ],
      "metadata": {
        "colab": {
          "base_uri": "https://localhost:8080/"
        },
        "id": "CmKeUBA0VnW4",
        "outputId": "7646d96b-7749-4dcd-bdb0-834b04990460"
      },
      "execution_count": null,
      "outputs": [
        {
          "output_type": "stream",
          "name": "stdout",
          "text": [
            "Epoch 1/20\n",
            "3667/3667 [==============================] - 13s 3ms/step - loss: 0.5083 - accuracy: 0.7572\n",
            "Epoch 2/20\n",
            "3667/3667 [==============================] - 10s 3ms/step - loss: 0.5018 - accuracy: 0.7625\n",
            "Epoch 3/20\n",
            "3667/3667 [==============================] - 8s 2ms/step - loss: 0.4990 - accuracy: 0.7653\n",
            "Epoch 4/20\n",
            "3667/3667 [==============================] - 9s 3ms/step - loss: 0.4974 - accuracy: 0.7665\n",
            "Epoch 5/20\n",
            "3667/3667 [==============================] - 10s 3ms/step - loss: 0.4953 - accuracy: 0.7683\n",
            "Epoch 6/20\n",
            "3667/3667 [==============================] - 8s 2ms/step - loss: 0.4938 - accuracy: 0.7690\n",
            "Epoch 7/20\n",
            "3667/3667 [==============================] - 10s 3ms/step - loss: 0.4923 - accuracy: 0.7715\n",
            "Epoch 8/20\n",
            "3667/3667 [==============================] - 9s 2ms/step - loss: 0.4911 - accuracy: 0.7706\n",
            "Epoch 9/20\n",
            "3667/3667 [==============================] - 9s 2ms/step - loss: 0.4901 - accuracy: 0.7715\n",
            "Epoch 10/20\n",
            "3667/3667 [==============================] - 9s 3ms/step - loss: 0.4895 - accuracy: 0.7715\n",
            "Epoch 11/20\n",
            "3667/3667 [==============================] - 8s 2ms/step - loss: 0.4891 - accuracy: 0.7720\n",
            "Epoch 12/20\n",
            "3667/3667 [==============================] - 9s 3ms/step - loss: 0.4880 - accuracy: 0.7718\n",
            "Epoch 13/20\n",
            "3667/3667 [==============================] - 9s 2ms/step - loss: 0.4875 - accuracy: 0.7721\n",
            "Epoch 14/20\n",
            "3667/3667 [==============================] - 9s 2ms/step - loss: 0.4872 - accuracy: 0.7724\n",
            "Epoch 15/20\n",
            "3667/3667 [==============================] - 9s 3ms/step - loss: 0.4867 - accuracy: 0.7720\n",
            "Epoch 16/20\n",
            "3667/3667 [==============================] - 8s 2ms/step - loss: 0.4862 - accuracy: 0.7720\n",
            "Epoch 17/20\n",
            "3667/3667 [==============================] - 10s 3ms/step - loss: 0.4861 - accuracy: 0.7726\n",
            "Epoch 18/20\n",
            "3667/3667 [==============================] - 9s 2ms/step - loss: 0.4853 - accuracy: 0.7735\n",
            "Epoch 19/20\n",
            "3667/3667 [==============================] - 9s 2ms/step - loss: 0.4854 - accuracy: 0.7730\n",
            "Epoch 20/20\n",
            "3667/3667 [==============================] - 10s 3ms/step - loss: 0.4848 - accuracy: 0.7735\n",
            "917/917 [==============================] - 1s 2ms/step\n",
            "Accuracy for 'like': 0.7668996079768196\n",
            "Epoch 1/20\n",
            "3667/3667 [==============================] - 10s 3ms/step - loss: 0.4611 - accuracy: 0.7958\n",
            "Epoch 2/20\n",
            "3667/3667 [==============================] - 8s 2ms/step - loss: 0.4543 - accuracy: 0.7976\n",
            "Epoch 3/20\n",
            "3667/3667 [==============================] - 10s 3ms/step - loss: 0.4520 - accuracy: 0.7996\n",
            "Epoch 4/20\n",
            "3667/3667 [==============================] - 9s 2ms/step - loss: 0.4500 - accuracy: 0.7998\n",
            "Epoch 5/20\n",
            "3667/3667 [==============================] - 9s 2ms/step - loss: 0.4486 - accuracy: 0.8002\n",
            "Epoch 6/20\n",
            "3667/3667 [==============================] - 10s 3ms/step - loss: 0.4484 - accuracy: 0.8000\n",
            "Epoch 7/20\n",
            "3667/3667 [==============================] - 8s 2ms/step - loss: 0.4472 - accuracy: 0.8006\n",
            "Epoch 8/20\n",
            "3667/3667 [==============================] - 10s 3ms/step - loss: 0.4468 - accuracy: 0.8004\n",
            "Epoch 9/20\n",
            "3667/3667 [==============================] - 9s 3ms/step - loss: 0.4460 - accuracy: 0.8006\n",
            "Epoch 10/20\n",
            "3667/3667 [==============================] - 8s 2ms/step - loss: 0.4451 - accuracy: 0.8009\n",
            "Epoch 11/20\n",
            "3667/3667 [==============================] - 10s 3ms/step - loss: 0.4449 - accuracy: 0.8006\n",
            "Epoch 12/20\n",
            "3667/3667 [==============================] - 8s 2ms/step - loss: 0.4438 - accuracy: 0.8014\n",
            "Epoch 13/20\n",
            "3667/3667 [==============================] - 10s 3ms/step - loss: 0.4438 - accuracy: 0.8010\n",
            "Epoch 14/20\n",
            "3667/3667 [==============================] - 10s 3ms/step - loss: 0.4436 - accuracy: 0.8015\n",
            "Epoch 15/20\n",
            "3667/3667 [==============================] - 8s 2ms/step - loss: 0.4430 - accuracy: 0.8015\n",
            "Epoch 16/20\n",
            "3667/3667 [==============================] - 10s 3ms/step - loss: 0.4427 - accuracy: 0.8012\n",
            "Epoch 17/20\n",
            "3667/3667 [==============================] - 9s 2ms/step - loss: 0.4425 - accuracy: 0.8007\n",
            "Epoch 18/20\n",
            "3667/3667 [==============================] - 9s 2ms/step - loss: 0.4424 - accuracy: 0.8016\n",
            "Epoch 19/20\n",
            "3667/3667 [==============================] - 10s 3ms/step - loss: 0.4421 - accuracy: 0.8015\n",
            "Epoch 20/20\n",
            "3667/3667 [==============================] - 8s 2ms/step - loss: 0.4419 - accuracy: 0.8016\n",
            "917/917 [==============================] - 1s 2ms/step\n",
            "Accuracy for 'dislike': 0.802863473666269\n",
            "Epoch 1/20\n",
            "3667/3667 [==============================] - 10s 3ms/step - loss: 5043307151360.0000 - mae: 42883.5352\n",
            "Epoch 2/20\n",
            "3667/3667 [==============================] - 9s 2ms/step - loss: 5041520902144.0000 - mae: 60931.8789\n",
            "Epoch 3/20\n",
            "3667/3667 [==============================] - 9s 2ms/step - loss: 5040130490368.0000 - mae: 65906.7578\n",
            "Epoch 4/20\n",
            "3667/3667 [==============================] - 9s 3ms/step - loss: 5038871674880.0000 - mae: 71954.9531\n",
            "Epoch 5/20\n",
            "3667/3667 [==============================] - 8s 2ms/step - loss: 5037569343488.0000 - mae: 74651.8672\n",
            "Epoch 6/20\n",
            "3667/3667 [==============================] - 9s 3ms/step - loss: 5036446842880.0000 - mae: 74749.9688\n",
            "Epoch 7/20\n",
            "3667/3667 [==============================] - 9s 2ms/step - loss: 5035404034048.0000 - mae: 66492.0547\n",
            "Epoch 8/20\n",
            "3667/3667 [==============================] - 9s 2ms/step - loss: 5034501734400.0000 - mae: 67187.1562\n",
            "Epoch 9/20\n",
            "3667/3667 [==============================] - 9s 3ms/step - loss: 5033437954048.0000 - mae: 67190.4688\n",
            "Epoch 10/20\n",
            "3667/3667 [==============================] - 8s 2ms/step - loss: 5032955084800.0000 - mae: 67204.1641\n",
            "Epoch 11/20\n",
            "3667/3667 [==============================] - 10s 3ms/step - loss: 5032166555648.0000 - mae: 66810.8438\n",
            "Epoch 12/20\n",
            "3667/3667 [==============================] - 10s 3ms/step - loss: 5032060125184.0000 - mae: 65972.6875\n",
            "Epoch 13/20\n",
            "3667/3667 [==============================] - 9s 3ms/step - loss: 5031315636224.0000 - mae: 64612.3320\n",
            "Epoch 14/20\n",
            "3667/3667 [==============================] - 9s 3ms/step - loss: 5030779289600.0000 - mae: 67620.1250\n",
            "Epoch 15/20\n",
            "3667/3667 [==============================] - 8s 2ms/step - loss: 5030547030016.0000 - mae: 67458.8203\n",
            "Epoch 16/20\n",
            "3667/3667 [==============================] - 9s 3ms/step - loss: 5030475726848.0000 - mae: 62768.8359\n",
            "Epoch 17/20\n",
            "3667/3667 [==============================] - 9s 2ms/step - loss: 5030943391744.0000 - mae: 63589.1406\n",
            "Epoch 18/20\n",
            "3667/3667 [==============================] - 8s 2ms/step - loss: 5030049480704.0000 - mae: 67315.1641\n",
            "Epoch 19/20\n",
            "3667/3667 [==============================] - 9s 3ms/step - loss: 5029562417152.0000 - mae: 67472.6406\n",
            "Epoch 20/20\n",
            "3667/3667 [==============================] - 8s 2ms/step - loss: 5030964887552.0000 - mae: 63185.6406\n",
            "917/917 [==============================] - 2s 2ms/step\n",
            "Root Mean Squared Error for 'engage_time': 3898109.7364842338\n"
          ]
        }
      ]
    },
    {
      "cell_type": "code",
      "source": [
        "# Get true target variables\n",
        "y_true = data_collector.gen_target_vars(engagement_test)\n",
        "\n",
        "# Make predictions\n",
        "y_pred = data_collector.score(content_ids = sample_contents)"
      ],
      "metadata": {
        "colab": {
          "base_uri": "https://localhost:8080/"
        },
        "id": "4ntgwi3dVnZt",
        "outputId": "04f36c10-a52b-4549-f7e5-e430915a9a99"
      },
      "execution_count": null,
      "outputs": [
        {
          "output_type": "stream",
          "name": "stderr",
          "text": [
            "<ipython-input-125-8d20a6a4de4a>:16: UserWarning: Boolean Series key will be reindexed to match DataFrame index.\n",
            "  like_data = self.user_data[engagement_data['engagement_type'] == 'Like']\n"
          ]
        },
        {
          "output_type": "stream",
          "name": "stdout",
          "text": [
            "3332/3332 [==============================] - 5s 1ms/step\n",
            "3332/3332 [==============================] - 6s 2ms/step\n",
            "3332/3332 [==============================] - 5s 1ms/step\n"
          ]
        }
      ]
    },
    {
      "cell_type": "code",
      "source": [
        "thres_like = 0.5\n",
        "thres_dislike = 0.5\n",
        "evaluate(y_true, y_pred, thres_like, thres_dislike)"
      ],
      "metadata": {
        "colab": {
          "base_uri": "https://localhost:8080/"
        },
        "id": "RPMZ_K7ZWkvL",
        "outputId": "1ac3d5b6-35c8-4cc7-bc3e-6e36a2102604"
      },
      "execution_count": null,
      "outputs": [
        {
          "output_type": "execute_result",
          "data": {
            "text/plain": [
              "{'like': {'precision': 0.5945945945945946, 'recall': 0.27848101265822783},\n",
              " 'dislike': {'precision': 0.72, 'recall': 0.2571428571428571},\n",
              " 'engage_time': {'rmse': 91198.75894471485}}"
            ]
          },
          "metadata": {},
          "execution_count": 132
        }
      ]
    },
    {
      "cell_type": "code",
      "source": [
        "thres_like = 0.4\n",
        "thres_dislike = 0.4\n",
        "evaluate(y_true, y_pred, thres_like, thres_dislike)"
      ],
      "metadata": {
        "colab": {
          "base_uri": "https://localhost:8080/"
        },
        "id": "8ZO-xMdkWmsJ",
        "outputId": "ad2093b7-d756-430f-a1b4-fd9f3a0b3575"
      },
      "execution_count": null,
      "outputs": [
        {
          "output_type": "execute_result",
          "data": {
            "text/plain": [
              "{'like': {'precision': 0.5538461538461539, 'recall': 0.45569620253164556},\n",
              " 'dislike': {'precision': 0.625, 'recall': 0.42857142857142855},\n",
              " 'engage_time': {'rmse': 91198.75894471485}}"
            ]
          },
          "metadata": {},
          "execution_count": 134
        }
      ]
    },
    {
      "cell_type": "code",
      "source": [],
      "metadata": {
        "id": "7_2_rV9ViwOQ"
      },
      "execution_count": null,
      "outputs": []
    },
    {
      "cell_type": "code",
      "source": [],
      "metadata": {
        "id": "hhY4mjRbiwfK"
      },
      "execution_count": null,
      "outputs": []
    },
    {
      "cell_type": "markdown",
      "source": [
        "oversampling minority class to increase recall (like = 1) ==> precision 40%, recall=60%, train accuracy=70%\n",
        "\n",
        "oversampling minority class to 40% of majority to increase recall (like = 1) ==> {'like': {'precision': 0.5909090909090909, 'recall': 0.3291139240506329}, train accuracy=77%\n",
        "\n",
        "oversampling minority class to 66% of majority to increase recall (like = 1) ==> {'like': {'precision': 0.5616438356164384, 'recall': 0.5189873417721519}, train accuracy=76%\n",
        "\n",
        "\n",
        "normally:\n",
        "\n",
        "train accuracies: like:76%, dislike:80%\n",
        "\n",
        "'like': {'precision': 0.5945945945945946, 'recall': 0.27848101265822783},\n",
        "\n",
        " 'dislike': {'precision': 0.72, 'recall': 0.2571428571428571},\n",
        "\n",
        " 'engage_time': {'rmse': 91198.75894471485}}"
      ],
      "metadata": {
        "id": "W2ggdl1pk3L9"
      }
    },
    {
      "cell_type": "markdown",
      "source": [
        "oversampling both like and dislike to 66% of majority:\n",
        "\n",
        "\n",
        "'like': {'precision': 0.5616438356164384, 'recall': 0.5189873417721519}, train acc: 76\n",
        "\n",
        "'dislike': {'precision': 0.5512820512820513, 'recall': 0.6142857142857143},\n",
        "train acc:77\n",
        "\n",
        "'engage_time': {'rmse': 91198.75894471485}\n",
        "\n",
        "\n",
        "\n",
        "\n",
        "oversampling dislike to 56% of majority:\n",
        "\n",
        "{'like': {'precision': 0.5616438356164384, 'recall': 0.5189873417721519},\n",
        "\n",
        " 'dislike': {'precision': 0.5737704918032787, 'recall': 0.5},\n",
        "train acc: 79\n",
        " 'engage_time': {'rmse': 91198.75894471485}}\n"
      ],
      "metadata": {
        "id": "xspVDpSW3J1l"
      }
    },
    {
      "cell_type": "code",
      "source": [],
      "metadata": {
        "id": "EjpUH6RO3I2x"
      },
      "execution_count": null,
      "outputs": []
    },
    {
      "cell_type": "code",
      "source": [
        "train_data = pd.concat([pd.DataFrame(X_train), pd.Series(y_train['like'], name='target_variable')], axis=1)\n",
        "# Separate the majority and minority classes\n",
        "majority_class = train_data[train_data['target_variable'] == 0]\n",
        "minority_class = train_data[train_data['target_variable'] == 1]"
      ],
      "metadata": {
        "id": "yPYFOUG3gIPf"
      },
      "execution_count": null,
      "outputs": []
    },
    {
      "cell_type": "code",
      "source": [
        "from imblearn.over_sampling import SMOTE\n",
        "\n",
        "# Assuming X_train and y_train are your feature and target variables\n",
        "smote = SMOTE(random_state=42)\n",
        "X_resampled, y_resampled = smote.fit_resample(X_train, y_train['like'])"
      ],
      "metadata": {
        "id": "h-CeXXY0h5-7"
      },
      "execution_count": null,
      "outputs": []
    },
    {
      "cell_type": "code",
      "source": [
        "from imblearn.over_sampling import SMOTE\n",
        "\n",
        "# Assuming X_train and y_train are your feature and target variables\n",
        "smote = SMOTE(random_state=42, sampling_strategy=0.4)\n",
        "X_resampled, y_resampled = smote.fit_resample(X_train, y_train['like'])"
      ],
      "metadata": {
        "id": "fJbP3DzsmyC3"
      },
      "execution_count": null,
      "outputs": []
    },
    {
      "cell_type": "code",
      "source": [
        "from imblearn.over_sampling import SMOTE\n",
        "\n",
        "# Assuming X_train and y_train are your feature and target variables\n",
        "smote = SMOTE(random_state=42, sampling_strategy=0.66)\n",
        "X_resampled, y_resampled = smote.fit_resample(X_train, y_train['like'])"
      ],
      "metadata": {
        "id": "10_OEOGusy85"
      },
      "execution_count": null,
      "outputs": []
    },
    {
      "cell_type": "code",
      "source": [
        "# Creating a Sequential model\n",
        "model_like_resampled = Sequential([\n",
        "    Dense(128, activation='relu'),\n",
        "    Dropout(0.2),  # Adding dropout for regularization\n",
        "    Dense(64, activation='relu'),\n",
        "    Dense(32, activation='relu'),\n",
        "    Dense(1, activation='sigmoid')  # Output layer with 1 neuron for regression\n",
        "])\n",
        "model_like_resampled.compile(optimizer='adam', loss='binary_crossentropy', metrics=['accuracy'])\n",
        "model_like_resampled.fit(X_resampled, y_resampled, epochs=20)\n",
        "like_probs = model_like_resampled.predict(X_test)\n",
        "like_predictions = np.array([0 if prob < 0.5 else 1 for prob in like_probs])\n",
        "like_accuracy = accuracy_score(y_test['like'], like_predictions)\n",
        "print(f\"Accuracy for 'like': {like_accuracy}\")"
      ],
      "metadata": {
        "colab": {
          "base_uri": "https://localhost:8080/"
        },
        "id": "6TGpiY9kiZ3M",
        "outputId": "65efc401-59c4-44bc-e308-c3e245485201"
      },
      "execution_count": null,
      "outputs": [
        {
          "output_type": "stream",
          "name": "stdout",
          "text": [
            "Epoch 1/20\n",
            "5339/5339 [==============================] - 34s 6ms/step - loss: 0.5932 - accuracy: 0.6798\n",
            "Epoch 2/20\n",
            "5339/5339 [==============================] - 31s 6ms/step - loss: 0.5853 - accuracy: 0.6855\n",
            "Epoch 3/20\n",
            "5339/5339 [==============================] - 19s 3ms/step - loss: 0.5814 - accuracy: 0.6884\n",
            "Epoch 4/20\n",
            "5339/5339 [==============================] - 14s 3ms/step - loss: 0.5782 - accuracy: 0.6914\n",
            "Epoch 5/20\n",
            "5339/5339 [==============================] - 14s 3ms/step - loss: 0.5756 - accuracy: 0.6931\n",
            "Epoch 6/20\n",
            "5339/5339 [==============================] - 14s 3ms/step - loss: 0.5743 - accuracy: 0.6956\n",
            "Epoch 7/20\n",
            "5339/5339 [==============================] - 14s 3ms/step - loss: 0.5723 - accuracy: 0.6980\n",
            "Epoch 8/20\n",
            "5339/5339 [==============================] - 15s 3ms/step - loss: 0.5717 - accuracy: 0.6988\n",
            "Epoch 9/20\n",
            "5339/5339 [==============================] - 14s 3ms/step - loss: 0.5704 - accuracy: 0.6986\n",
            "Epoch 10/20\n",
            "5339/5339 [==============================] - 14s 3ms/step - loss: 0.5690 - accuracy: 0.7007\n",
            "Epoch 11/20\n",
            "5339/5339 [==============================] - 14s 3ms/step - loss: 0.5687 - accuracy: 0.7019\n",
            "Epoch 12/20\n",
            "5339/5339 [==============================] - 14s 3ms/step - loss: 0.5678 - accuracy: 0.7032\n",
            "Epoch 13/20\n",
            "5339/5339 [==============================] - 17s 3ms/step - loss: 0.5675 - accuracy: 0.7021\n",
            "Epoch 14/20\n",
            "5339/5339 [==============================] - 21s 4ms/step - loss: 0.5671 - accuracy: 0.7029\n",
            "Epoch 15/20\n",
            "5339/5339 [==============================] - 14s 3ms/step - loss: 0.5664 - accuracy: 0.7038\n",
            "Epoch 16/20\n",
            "5339/5339 [==============================] - 14s 3ms/step - loss: 0.5658 - accuracy: 0.7038\n",
            "Epoch 17/20\n",
            "5339/5339 [==============================] - 14s 3ms/step - loss: 0.5654 - accuracy: 0.7044\n",
            "Epoch 18/20\n",
            "5339/5339 [==============================] - 14s 3ms/step - loss: 0.5650 - accuracy: 0.7057\n",
            "Epoch 19/20\n",
            "5339/5339 [==============================] - 14s 3ms/step - loss: 0.5645 - accuracy: 0.7060\n",
            "Epoch 20/20\n",
            "5339/5339 [==============================] - 14s 3ms/step - loss: 0.5640 - accuracy: 0.7060\n",
            "917/917 [==============================] - 1s 2ms/step\n",
            "Accuracy for 'like': 0.6962331685699676\n"
          ]
        }
      ]
    },
    {
      "cell_type": "code",
      "source": [
        "# Creating a Sequential model\n",
        "model_like_resampled = Sequential([\n",
        "    Dense(128, activation='relu'),\n",
        "    Dropout(0.2),  # Adding dropout for regularization\n",
        "    Dense(64, activation='relu'),\n",
        "    Dense(32, activation='relu'),\n",
        "    Dense(1, activation='sigmoid')  # Output layer with 1 neuron for regression\n",
        "])\n",
        "model_like_resampled.compile(optimizer='adam', loss='binary_crossentropy', metrics=['accuracy'])\n",
        "model_like_resampled.fit(X_resampled, y_resampled, epochs=20)\n",
        "like_probs = model_like_resampled.predict(X_test)\n",
        "like_predictions = np.array([0 if prob < 0.5 else 1 for prob in like_probs])\n",
        "like_accuracy = accuracy_score(y_test['like'], like_predictions)\n",
        "print(f\"Accuracy for 'like': {like_accuracy}\")"
      ],
      "metadata": {
        "colab": {
          "base_uri": "https://localhost:8080/"
        },
        "id": "F5G7c-Hfm7jr",
        "outputId": "e08881e4-63eb-4a8a-8bf5-f95d7e11f9b0"
      },
      "execution_count": null,
      "outputs": [
        {
          "output_type": "stream",
          "name": "stdout",
          "text": [
            "Epoch 1/20\n",
            "3737/3737 [==============================] - 22s 5ms/step - loss: 0.5184 - accuracy: 0.7498\n",
            "Epoch 2/20\n",
            "3737/3737 [==============================] - 15s 4ms/step - loss: 0.5113 - accuracy: 0.7558\n",
            "Epoch 3/20\n",
            "3737/3737 [==============================] - 10s 3ms/step - loss: 0.5087 - accuracy: 0.7587\n",
            "Epoch 4/20\n",
            "3737/3737 [==============================] - 9s 2ms/step - loss: 0.5063 - accuracy: 0.7599\n",
            "Epoch 5/20\n",
            "3737/3737 [==============================] - 10s 3ms/step - loss: 0.5041 - accuracy: 0.7607\n",
            "Epoch 6/20\n",
            "3737/3737 [==============================] - 13s 3ms/step - loss: 0.5025 - accuracy: 0.7614\n",
            "Epoch 7/20\n",
            "3737/3737 [==============================] - 14s 4ms/step - loss: 0.5017 - accuracy: 0.7617\n",
            "Epoch 8/20\n",
            "3737/3737 [==============================] - 17s 5ms/step - loss: 0.5005 - accuracy: 0.7619\n",
            "Epoch 9/20\n",
            "3737/3737 [==============================] - 17s 5ms/step - loss: 0.4999 - accuracy: 0.7627\n",
            "Epoch 10/20\n",
            "3737/3737 [==============================] - 10s 3ms/step - loss: 0.4989 - accuracy: 0.7632\n",
            "Epoch 11/20\n",
            "3737/3737 [==============================] - 9s 3ms/step - loss: 0.4985 - accuracy: 0.7632\n",
            "Epoch 12/20\n",
            "3737/3737 [==============================] - 9s 2ms/step - loss: 0.4973 - accuracy: 0.7634\n",
            "Epoch 13/20\n",
            "3737/3737 [==============================] - 10s 3ms/step - loss: 0.4972 - accuracy: 0.7635\n",
            "Epoch 14/20\n",
            "3737/3737 [==============================] - 9s 3ms/step - loss: 0.4964 - accuracy: 0.7640\n",
            "Epoch 15/20\n",
            "3737/3737 [==============================] - 9s 3ms/step - loss: 0.4961 - accuracy: 0.7649\n",
            "Epoch 16/20\n",
            "3737/3737 [==============================] - 10s 3ms/step - loss: 0.4951 - accuracy: 0.7661\n",
            "Epoch 17/20\n",
            "3737/3737 [==============================] - 9s 2ms/step - loss: 0.4951 - accuracy: 0.7656\n",
            "Epoch 18/20\n",
            "3737/3737 [==============================] - 10s 3ms/step - loss: 0.4945 - accuracy: 0.7657\n",
            "Epoch 19/20\n",
            "3737/3737 [==============================] - 11s 3ms/step - loss: 0.4946 - accuracy: 0.7656\n",
            "Epoch 20/20\n",
            "3737/3737 [==============================] - 9s 2ms/step - loss: 0.4946 - accuracy: 0.7665\n",
            "917/917 [==============================] - 1s 2ms/step\n",
            "Accuracy for 'like': 0.7672745866712118\n"
          ]
        }
      ]
    },
    {
      "cell_type": "code",
      "source": [
        "# Creating a Sequential model\n",
        "model_like_resampled = Sequential([\n",
        "    Dense(128, activation='relu'),\n",
        "    Dropout(0.2),  # Adding dropout for regularization\n",
        "    Dense(64, activation='relu'),\n",
        "    Dense(32, activation='relu'),\n",
        "    Dense(1, activation='sigmoid')  # Output layer with 1 neuron for regression\n",
        "])\n",
        "model_like_resampled.compile(optimizer='adam', loss='binary_crossentropy', metrics=['accuracy'])\n",
        "model_like_resampled.fit(X_resampled, y_resampled, epochs=20)\n",
        "like_probs = model_like_resampled.predict(X_test)\n",
        "like_predictions = np.array([0 if prob < 0.5 else 1 for prob in like_probs])\n",
        "like_accuracy = accuracy_score(y_test['like'], like_predictions)\n",
        "print(f\"Accuracy for 'like': {like_accuracy}\")"
      ],
      "metadata": {
        "colab": {
          "base_uri": "https://localhost:8080/"
        },
        "id": "2eILYyvss17H",
        "outputId": "ba1c4cda-8f02-4ad6-d12a-a2702c6955f1"
      },
      "execution_count": null,
      "outputs": [
        {
          "output_type": "stream",
          "name": "stdout",
          "text": [
            "Epoch 1/20\n",
            "5526/5526 [==============================] - 18s 3ms/step - loss: 0.5772 - accuracy: 0.6977\n",
            "Epoch 2/20\n",
            "5526/5526 [==============================] - 24s 4ms/step - loss: 0.5683 - accuracy: 0.7037\n",
            "Epoch 3/20\n",
            "5526/5526 [==============================] - 18s 3ms/step - loss: 0.5640 - accuracy: 0.7073\n",
            "Epoch 4/20\n",
            "5526/5526 [==============================] - 15s 3ms/step - loss: 0.5612 - accuracy: 0.7097\n",
            "Epoch 5/20\n",
            "5526/5526 [==============================] - 15s 3ms/step - loss: 0.5589 - accuracy: 0.7118\n",
            "Epoch 6/20\n",
            "5526/5526 [==============================] - 14s 2ms/step - loss: 0.5575 - accuracy: 0.7132\n",
            "Epoch 7/20\n",
            "5526/5526 [==============================] - 14s 3ms/step - loss: 0.5564 - accuracy: 0.7143\n",
            "Epoch 8/20\n",
            "5526/5526 [==============================] - 14s 2ms/step - loss: 0.5552 - accuracy: 0.7145\n",
            "Epoch 9/20\n",
            "5526/5526 [==============================] - 14s 2ms/step - loss: 0.5541 - accuracy: 0.7165\n",
            "Epoch 10/20\n",
            "5526/5526 [==============================] - 14s 2ms/step - loss: 0.5534 - accuracy: 0.7166\n",
            "Epoch 11/20\n",
            "5526/5526 [==============================] - 14s 3ms/step - loss: 0.5530 - accuracy: 0.7172\n",
            "Epoch 12/20\n",
            "5526/5526 [==============================] - 14s 3ms/step - loss: 0.5520 - accuracy: 0.7176\n",
            "Epoch 13/20\n",
            "5526/5526 [==============================] - 14s 2ms/step - loss: 0.5515 - accuracy: 0.7187\n",
            "Epoch 14/20\n",
            "5526/5526 [==============================] - 14s 2ms/step - loss: 0.5509 - accuracy: 0.7183\n",
            "Epoch 15/20\n",
            "5526/5526 [==============================] - 13s 2ms/step - loss: 0.5507 - accuracy: 0.7188\n",
            "Epoch 16/20\n",
            "5526/5526 [==============================] - 13s 2ms/step - loss: 0.5506 - accuracy: 0.7193\n",
            "Epoch 17/20\n",
            "5526/5526 [==============================] - 13s 2ms/step - loss: 0.5501 - accuracy: 0.7194\n",
            "Epoch 18/20\n",
            "5526/5526 [==============================] - 13s 2ms/step - loss: 0.5497 - accuracy: 0.7192\n",
            "Epoch 19/20\n",
            "5526/5526 [==============================] - 14s 3ms/step - loss: 0.5488 - accuracy: 0.7195\n",
            "Epoch 20/20\n",
            "5526/5526 [==============================] - 14s 2ms/step - loss: 0.5488 - accuracy: 0.7197\n",
            "917/917 [==============================] - 2s 2ms/step\n",
            "Accuracy for 'like': 0.7552411794784387\n"
          ]
        }
      ]
    },
    {
      "cell_type": "code",
      "source": [
        "y_train['dislike'].sum() / (len(y_train['dislike']) - y_train['dislike'].sum())"
      ],
      "metadata": {
        "colab": {
          "base_uri": "https://localhost:8080/"
        },
        "id": "3abpaB5TyKZS",
        "outputId": "5c1d5fce-4526-483b-d2ab-8c15ee5f7598"
      },
      "execution_count": null,
      "outputs": [
        {
          "output_type": "execute_result",
          "data": {
            "text/plain": [
              "0.2923579843335595"
            ]
          },
          "metadata": {},
          "execution_count": 194
        }
      ]
    },
    {
      "cell_type": "code",
      "source": [
        "y_train['dislike'].sum() / (len(y_train['dislike']))"
      ],
      "metadata": {
        "colab": {
          "base_uri": "https://localhost:8080/"
        },
        "id": "SrOr4GRWyd5P",
        "outputId": "8a891f53-8640-4ca6-f230-8dd27bb97d37"
      },
      "execution_count": null,
      "outputs": [
        {
          "output_type": "execute_result",
          "data": {
            "text/plain": [
              "0.22622058893714503"
            ]
          },
          "metadata": {},
          "execution_count": 195
        }
      ]
    },
    {
      "cell_type": "code",
      "source": [
        "len(y_train['dislike'])"
      ],
      "metadata": {
        "colab": {
          "base_uri": "https://localhost:8080/"
        },
        "id": "LXVJ_bAEyOf9",
        "outputId": "c4f182a6-963b-41be-dee8-fc03818064f7"
      },
      "execution_count": null,
      "outputs": [
        {
          "output_type": "execute_result",
          "data": {
            "text/plain": [
              "146671"
            ]
          },
          "metadata": {},
          "execution_count": 192
        }
      ]
    },
    {
      "cell_type": "code",
      "source": [
        "from imblearn.over_sampling import SMOTE\n",
        "\n",
        "# Assuming X_train and y_train are your feature and target variables\n",
        "smote = SMOTE(random_state=42, sampling_strategy=0.56)\n",
        "X_resampled, y_resampled = smote.fit_resample(X_train, y_train['dislike'])"
      ],
      "metadata": {
        "id": "L3rjtmw234Hg"
      },
      "execution_count": null,
      "outputs": []
    },
    {
      "cell_type": "code",
      "source": [
        "# dislike: Creating a Sequential model with minority 56% of majority\n",
        "model_dislike = Sequential([\n",
        "    Dense(128, activation='relu', input_shape=(X_train.shape[1],)),\n",
        "    Dropout(0.2),  # Adding dropout for regularization\n",
        "    Dense(64, activation='relu'),\n",
        "    Dense(32, activation='relu'),\n",
        "    Dense(1, activation='sigmoid')  # Output layer with 1 neuron for regression\n",
        "])\n",
        "model_dislike.compile(optimizer='adam', loss='binary_crossentropy', metrics=['accuracy'])\n",
        "model_dislike.fit(X_resampled, y_resampled, epochs=20)\n",
        "dislike_probs = model_dislike.predict(X_test)\n",
        "dislike_predictions = np.array([0 if prob < 0.5 else 1 for prob in dislike_probs])\n",
        "dislike_accuracy = accuracy_score(y_test['dislike'], dislike_predictions)\n",
        "print(f\"Accuracy for 'dislike': {dislike_accuracy}\")"
      ],
      "metadata": {
        "colab": {
          "base_uri": "https://localhost:8080/"
        },
        "id": "tP_Y3QhR37aS",
        "outputId": "ac483453-6646-4d6e-bab3-3462b09418bf"
      },
      "execution_count": null,
      "outputs": [
        {
          "output_type": "stream",
          "name": "stdout",
          "text": [
            "Epoch 1/20\n",
            "5533/5533 [==============================] - 16s 3ms/step - loss: 0.5535 - accuracy: 0.7219\n",
            "Epoch 2/20\n",
            "5533/5533 [==============================] - 13s 2ms/step - loss: 0.5468 - accuracy: 0.7246\n",
            "Epoch 3/20\n",
            "5533/5533 [==============================] - 13s 2ms/step - loss: 0.5432 - accuracy: 0.7262\n",
            "Epoch 4/20\n",
            "5533/5533 [==============================] - 13s 2ms/step - loss: 0.5408 - accuracy: 0.7276\n",
            "Epoch 5/20\n",
            "5533/5533 [==============================] - 13s 2ms/step - loss: 0.5384 - accuracy: 0.7291\n",
            "Epoch 6/20\n",
            "5533/5533 [==============================] - 14s 3ms/step - loss: 0.5370 - accuracy: 0.7313\n",
            "Epoch 7/20\n",
            "5533/5533 [==============================] - 14s 2ms/step - loss: 0.5361 - accuracy: 0.7306\n",
            "Epoch 8/20\n",
            "5533/5533 [==============================] - 14s 2ms/step - loss: 0.5349 - accuracy: 0.7324\n",
            "Epoch 9/20\n",
            "5533/5533 [==============================] - 14s 3ms/step - loss: 0.5340 - accuracy: 0.7328\n",
            "Epoch 10/20\n",
            "5533/5533 [==============================] - 14s 3ms/step - loss: 0.5332 - accuracy: 0.7335\n",
            "Epoch 11/20\n",
            "5533/5533 [==============================] - 14s 2ms/step - loss: 0.5325 - accuracy: 0.7345\n",
            "Epoch 12/20\n",
            "5533/5533 [==============================] - 14s 2ms/step - loss: 0.5321 - accuracy: 0.7353\n",
            "Epoch 13/20\n",
            "5533/5533 [==============================] - 17s 3ms/step - loss: 0.5311 - accuracy: 0.7358\n",
            "Epoch 14/20\n",
            "5533/5533 [==============================] - 17s 3ms/step - loss: 0.5312 - accuracy: 0.7363\n",
            "Epoch 15/20\n",
            "5533/5533 [==============================] - 23s 4ms/step - loss: 0.5307 - accuracy: 0.7359\n",
            "Epoch 16/20\n",
            "5533/5533 [==============================] - 23s 4ms/step - loss: 0.5300 - accuracy: 0.7358\n",
            "Epoch 17/20\n",
            "5533/5533 [==============================] - 16s 3ms/step - loss: 0.5297 - accuracy: 0.7367\n",
            "Epoch 18/20\n",
            "5533/5533 [==============================] - 14s 2ms/step - loss: 0.5293 - accuracy: 0.7365\n",
            "Epoch 19/20\n",
            "5533/5533 [==============================] - 14s 2ms/step - loss: 0.5290 - accuracy: 0.7374\n",
            "Epoch 20/20\n",
            "5533/5533 [==============================] - 14s 2ms/step - loss: 0.5289 - accuracy: 0.7377\n",
            "917/917 [==============================] - 1s 1ms/step\n",
            "Accuracy for 'dislike': 0.791955002556673\n"
          ]
        }
      ]
    },
    {
      "cell_type": "code",
      "source": [
        "from imblearn.over_sampling import SMOTE\n",
        "\n",
        "smote = SMOTE(random_state=42, sampling_strategy=0.66)\n",
        "X_resampled, y_resampled = smote.fit_resample(X_train, y_train['dislike'])"
      ],
      "metadata": {
        "id": "ChAD4sz5yIUL"
      },
      "execution_count": null,
      "outputs": []
    },
    {
      "cell_type": "code",
      "source": [
        "# dislike: Creating a Sequential model with minority 66%\n",
        "model_dislike = Sequential([\n",
        "    Dense(128, activation='relu', input_shape=(X_train.shape[1],)),\n",
        "    Dropout(0.2),  # Adding dropout for regularization\n",
        "    Dense(64, activation='relu'),\n",
        "    Dense(32, activation='relu'),\n",
        "    Dense(1, activation='sigmoid')  # Output layer with 1 neuron for regression\n",
        "])\n",
        "model_dislike.compile(optimizer='adam', loss='binary_crossentropy', metrics=['accuracy'])\n",
        "model_dislike.fit(X_resampled, y_resampled, epochs=20)\n",
        "dislike_probs = model_dislike.predict(X_test)\n",
        "dislike_predictions = np.array([0 if prob < 0.5 else 1 for prob in dislike_probs])\n",
        "dislike_accuracy = accuracy_score(y_test['dislike'], dislike_predictions)\n",
        "print(f\"Accuracy for 'dislike': {dislike_accuracy}\")"
      ],
      "metadata": {
        "colab": {
          "base_uri": "https://localhost:8080/"
        },
        "id": "JPpslFjOw9IW",
        "outputId": "ea1049aa-4cce-48e1-9ab9-3eae6658c038"
      },
      "execution_count": null,
      "outputs": [
        {
          "output_type": "stream",
          "name": "stdout",
          "text": [
            "Epoch 1/20\n",
            "5888/5888 [==============================] - 16s 2ms/step - loss: 0.5685 - accuracy: 0.7080\n",
            "Epoch 2/20\n",
            "5888/5888 [==============================] - 15s 2ms/step - loss: 0.5602 - accuracy: 0.7129\n",
            "Epoch 3/20\n",
            "5888/5888 [==============================] - 22s 4ms/step - loss: 0.5565 - accuracy: 0.7146\n",
            "Epoch 4/20\n",
            "5888/5888 [==============================] - 15s 2ms/step - loss: 0.5546 - accuracy: 0.7165\n",
            "Epoch 5/20\n",
            "5888/5888 [==============================] - 15s 3ms/step - loss: 0.5521 - accuracy: 0.7177\n",
            "Epoch 6/20\n",
            "5888/5888 [==============================] - 15s 2ms/step - loss: 0.5506 - accuracy: 0.7196\n",
            "Epoch 7/20\n",
            "5888/5888 [==============================] - 15s 3ms/step - loss: 0.5494 - accuracy: 0.7209\n",
            "Epoch 8/20\n",
            "5888/5888 [==============================] - 15s 2ms/step - loss: 0.5480 - accuracy: 0.7228\n",
            "Epoch 9/20\n",
            "5888/5888 [==============================] - 15s 2ms/step - loss: 0.5473 - accuracy: 0.7228\n",
            "Epoch 10/20\n",
            "5888/5888 [==============================] - 15s 2ms/step - loss: 0.5466 - accuracy: 0.7226\n",
            "Epoch 11/20\n",
            "5888/5888 [==============================] - 15s 3ms/step - loss: 0.5462 - accuracy: 0.7233\n",
            "Epoch 12/20\n",
            "5888/5888 [==============================] - 16s 3ms/step - loss: 0.5453 - accuracy: 0.7239\n",
            "Epoch 13/20\n",
            "5888/5888 [==============================] - 15s 2ms/step - loss: 0.5449 - accuracy: 0.7241\n",
            "Epoch 14/20\n",
            "5888/5888 [==============================] - 14s 2ms/step - loss: 0.5445 - accuracy: 0.7247\n",
            "Epoch 15/20\n",
            "5888/5888 [==============================] - 15s 2ms/step - loss: 0.5445 - accuracy: 0.7242\n",
            "Epoch 16/20\n",
            "5888/5888 [==============================] - 14s 2ms/step - loss: 0.5437 - accuracy: 0.7241\n",
            "Epoch 17/20\n",
            "5888/5888 [==============================] - 14s 2ms/step - loss: 0.5432 - accuracy: 0.7253\n",
            "Epoch 18/20\n",
            "5888/5888 [==============================] - 14s 2ms/step - loss: 0.5433 - accuracy: 0.7253\n",
            "Epoch 19/20\n",
            "5888/5888 [==============================] - 14s 2ms/step - loss: 0.5431 - accuracy: 0.7253\n",
            "Epoch 20/20\n",
            "5888/5888 [==============================] - 14s 2ms/step - loss: 0.5427 - accuracy: 0.7251\n",
            "917/917 [==============================] - 1s 1ms/step\n",
            "Accuracy for 'dislike': 0.7673768535878643\n"
          ]
        }
      ]
    },
    {
      "cell_type": "code",
      "source": [
        "# Save the models to a file\n",
        "model = {\n",
        "    'like': model_like_resampled,\n",
        "    'dislike': model_dislike,\n",
        "    'engage_time': model_engtime\n",
        "}\n",
        "\n",
        "with open('sample_data/model.pkl', 'wb') as f:\n",
        "    pickle.dump(model, f)"
      ],
      "metadata": {
        "id": "ZAYzivUpiZ-R"
      },
      "execution_count": null,
      "outputs": []
    },
    {
      "cell_type": "code",
      "source": [
        "# Get true target variables\n",
        "y_true = data_collector.gen_target_vars(engagement_test)\n",
        "\n",
        "# Make predictions\n",
        "y_pred = data_collector.score(content_ids = sample_contents)"
      ],
      "metadata": {
        "colab": {
          "base_uri": "https://localhost:8080/"
        },
        "id": "spqvWvDoiaE_",
        "outputId": "019dbbb9-af27-4996-d691-c018ae4387b6"
      },
      "execution_count": null,
      "outputs": [
        {
          "output_type": "stream",
          "name": "stderr",
          "text": [
            "<ipython-input-177-c58ed791d976>:16: UserWarning: Boolean Series key will be reindexed to match DataFrame index.\n",
            "  like_data = self.user_data[engagement_data['engagement_type'] == 'Like']\n"
          ]
        },
        {
          "output_type": "stream",
          "name": "stdout",
          "text": [
            "3332/3332 [==============================] - 5s 2ms/step\n",
            "3332/3332 [==============================] - 5s 1ms/step\n",
            "3332/3332 [==============================] - 5s 1ms/step\n"
          ]
        }
      ]
    },
    {
      "cell_type": "code",
      "source": [
        "thres_like = 0.5\n",
        "thres_dislike = 0.5\n",
        "evaluate(y_true, y_pred, thres_like, thres_dislike)"
      ],
      "metadata": {
        "colab": {
          "base_uri": "https://localhost:8080/"
        },
        "id": "PqQK-y4h46u3",
        "outputId": "6e957fbd-ea1d-4716-a8ee-8c2ba73d10ab"
      },
      "execution_count": null,
      "outputs": [
        {
          "output_type": "execute_result",
          "data": {
            "text/plain": [
              "{'like': {'precision': 0.5616438356164384, 'recall': 0.5189873417721519},\n",
              " 'dislike': {'precision': 0.5737704918032787, 'recall': 0.5},\n",
              " 'engage_time': {'rmse': 91198.75894471485}}"
            ]
          },
          "metadata": {},
          "execution_count": 206
        }
      ]
    },
    {
      "cell_type": "code",
      "source": [
        "1/ (1/0.5737704918032787 + 1/0.5)  * 2"
      ],
      "metadata": {
        "colab": {
          "base_uri": "https://localhost:8080/"
        },
        "id": "pazr2Rx_52r6",
        "outputId": "7e932e1c-6705-4d4e-cc9e-cee65cb060b0"
      },
      "execution_count": null,
      "outputs": [
        {
          "output_type": "execute_result",
          "data": {
            "text/plain": [
              "0.5343511450381679"
            ]
          },
          "metadata": {},
          "execution_count": 209
        }
      ]
    },
    {
      "cell_type": "code",
      "source": [
        "thres_like = 0.5\n",
        "thres_dislike = 0.5\n",
        "evaluate(y_true, y_pred, thres_like, thres_dislike)"
      ],
      "metadata": {
        "colab": {
          "base_uri": "https://localhost:8080/"
        },
        "id": "Do6TyQyUy9Mq",
        "outputId": "e00190c7-3937-4fed-d83b-3e3956da2236"
      },
      "execution_count": null,
      "outputs": [
        {
          "output_type": "execute_result",
          "data": {
            "text/plain": [
              "{'like': {'precision': 0.5616438356164384, 'recall': 0.5189873417721519},\n",
              " 'dislike': {'precision': 0.5512820512820513, 'recall': 0.6142857142857143},\n",
              " 'engage_time': {'rmse': 91198.75894471485}}"
            ]
          },
          "metadata": {},
          "execution_count": 200
        }
      ]
    },
    {
      "cell_type": "code",
      "source": [
        "1/ (1/0.5512820512820513 + 1/0.6142857142857143) * 2"
      ],
      "metadata": {
        "colab": {
          "base_uri": "https://localhost:8080/"
        },
        "id": "RiP4Zxu-57lt",
        "outputId": "acf6b3b6-093c-4ea4-c086-bc12819792b1"
      },
      "execution_count": null,
      "outputs": [
        {
          "output_type": "execute_result",
          "data": {
            "text/plain": [
              "0.5810810810810811"
            ]
          },
          "metadata": {},
          "execution_count": 210
        }
      ]
    },
    {
      "cell_type": "code",
      "source": [
        "thres_like = 0.5\n",
        "thres_dislike = 0.5\n",
        "evaluate(y_true, y_pred, thres_like, thres_dislike)"
      ],
      "metadata": {
        "colab": {
          "base_uri": "https://localhost:8080/"
        },
        "id": "Yb59GQAawOGX",
        "outputId": "b5885584-ca27-47f5-f966-14731a39106f"
      },
      "execution_count": null,
      "outputs": [
        {
          "output_type": "execute_result",
          "data": {
            "text/plain": [
              "{'like': {'precision': 0.5616438356164384, 'recall': 0.5189873417721519},\n",
              " 'dislike': {'precision': 0.72, 'recall': 0.2571428571428571},\n",
              " 'engage_time': {'rmse': 91198.75894471485}}"
            ]
          },
          "metadata": {},
          "execution_count": 189
        }
      ]
    },
    {
      "cell_type": "code",
      "source": [
        "thres_like = 0.5\n",
        "thres_dislike = 0.5\n",
        "evaluate(y_true, y_pred, thres_like, thres_dislike)"
      ],
      "metadata": {
        "colab": {
          "base_uri": "https://localhost:8080/"
        },
        "id": "PxSyc9pJitRR",
        "outputId": "b98f92db-8996-41e4-83e2-c613e3048c57"
      },
      "execution_count": null,
      "outputs": [
        {
          "output_type": "execute_result",
          "data": {
            "text/plain": [
              "{'like': {'precision': 0.44715447154471544, 'recall': 0.6962025316455697},\n",
              " 'dislike': {'precision': 0.72, 'recall': 0.2571428571428571},\n",
              " 'engage_time': {'rmse': 91198.75894471485}}"
            ]
          },
          "metadata": {},
          "execution_count": 156
        }
      ]
    },
    {
      "cell_type": "code",
      "source": [
        "thres_like = 0.5\n",
        "thres_dislike = 0.5\n",
        "evaluate(y_true, y_pred, thres_like, thres_dislike)"
      ],
      "metadata": {
        "colab": {
          "base_uri": "https://localhost:8080/"
        },
        "id": "_kZtTRVJpuaX",
        "outputId": "ee6d8285-c0ba-4fd3-b9ac-83d267ac5dfb"
      },
      "execution_count": null,
      "outputs": [
        {
          "output_type": "execute_result",
          "data": {
            "text/plain": [
              "{'like': {'precision': 0.5909090909090909, 'recall': 0.3291139240506329},\n",
              " 'dislike': {'precision': 0.72, 'recall': 0.2571428571428571},\n",
              " 'engage_time': {'rmse': 91198.75894471485}}"
            ]
          },
          "metadata": {},
          "execution_count": 166
        }
      ]
    },
    {
      "cell_type": "code",
      "source": [
        "y_resampled.sum() / (len(y_resampled) - y_resampled.sum())"
      ],
      "metadata": {
        "colab": {
          "base_uri": "https://localhost:8080/"
        },
        "id": "wHWTAwH_qXqR",
        "outputId": "f53b344f-57b6-43cc-c805-16f2a559cb33"
      },
      "execution_count": null,
      "outputs": [
        {
          "output_type": "execute_result",
          "data": {
            "text/plain": [
              "0.39999063363461806"
            ]
          },
          "metadata": {},
          "execution_count": 168
        }
      ]
    },
    {
      "cell_type": "code",
      "source": [
        "y_resampled.sum() / (len(y_resampled))"
      ],
      "metadata": {
        "colab": {
          "base_uri": "https://localhost:8080/"
        },
        "id": "IZaRrQC5q3Fa",
        "outputId": "59c6eac3-364a-48b2-c492-d6922365cabe"
      },
      "execution_count": null,
      "outputs": [
        {
          "output_type": "execute_result",
          "data": {
            "text/plain": [
              "0.28570950692446645"
            ]
          },
          "metadata": {},
          "execution_count": 172
        }
      ]
    },
    {
      "cell_type": "code",
      "source": [
        "y_train['like'].sum() / (len(y_train) - y_train['like'].sum())"
      ],
      "metadata": {
        "colab": {
          "base_uri": "https://localhost:8080/"
        },
        "id": "7yuHOvS1qjTE",
        "outputId": "5eb791f1-dbbd-475d-e0bb-1829bbff6b9e"
      },
      "execution_count": null,
      "outputs": [
        {
          "output_type": "execute_result",
          "data": {
            "text/plain": [
              "0.3737648105652602"
            ]
          },
          "metadata": {},
          "execution_count": 170
        }
      ]
    },
    {
      "cell_type": "code",
      "source": [
        "y_train['like'].sum() / (len(y_train))"
      ],
      "metadata": {
        "colab": {
          "base_uri": "https://localhost:8080/"
        },
        "id": "WWcrDs3nqzGc",
        "outputId": "7803d1cf-4895-45bd-bf16-bc6bd9f3e7c4"
      },
      "execution_count": null,
      "outputs": [
        {
          "output_type": "execute_result",
          "data": {
            "text/plain": [
              "0.27207336196904613"
            ]
          },
          "metadata": {},
          "execution_count": 171
        }
      ]
    },
    {
      "cell_type": "code",
      "source": [
        "y_resampled.sum()"
      ],
      "metadata": {
        "colab": {
          "base_uri": "https://localhost:8080/"
        },
        "id": "OrKdvYbLmBHW",
        "outputId": "0482c95b-6af6-4125-8a69-418b9cb7c4bc"
      },
      "execution_count": null,
      "outputs": [
        {
          "output_type": "execute_result",
          "data": {
            "text/plain": [
              "85412"
            ]
          },
          "metadata": {},
          "execution_count": 158
        }
      ]
    },
    {
      "cell_type": "code",
      "source": [
        "y_resampled"
      ],
      "metadata": {
        "colab": {
          "base_uri": "https://localhost:8080/"
        },
        "id": "ZDOV6kwbmHjR",
        "outputId": "7457c141-67ac-4284-c24b-0edb9005de5d"
      },
      "execution_count": null,
      "outputs": [
        {
          "output_type": "execute_result",
          "data": {
            "text/plain": [
              "0         0\n",
              "1         0\n",
              "2         1\n",
              "3         0\n",
              "4         0\n",
              "         ..\n",
              "170819    1\n",
              "170820    1\n",
              "170821    1\n",
              "170822    1\n",
              "170823    1\n",
              "Name: like, Length: 170824, dtype: int64"
            ]
          },
          "metadata": {},
          "execution_count": 159
        }
      ]
    },
    {
      "cell_type": "code",
      "source": [
        "recs = data_collector.recommend(user_id=8, content_ids=sample_contents, top_k=20)"
      ],
      "metadata": {
        "colab": {
          "base_uri": "https://localhost:8080/"
        },
        "id": "DVeLoIAgg9JP",
        "outputId": "486490ae-9db0-41b1-de9a-85b888dbde96"
      },
      "execution_count": null,
      "outputs": [
        {
          "output_type": "stream",
          "name": "stderr",
          "text": [
            "<ipython-input-177-c58ed791d976>:16: UserWarning: Boolean Series key will be reindexed to match DataFrame index.\n",
            "  like_data = self.user_data[engagement_data['engagement_type'] == 'Like']\n"
          ]
        },
        {
          "output_type": "stream",
          "name": "stdout",
          "text": [
            "34/34 [==============================] - 0s 2ms/step\n",
            "34/34 [==============================] - 0s 2ms/step\n",
            "34/34 [==============================] - 0s 3ms/step\n"
          ]
        }
      ]
    },
    {
      "cell_type": "code",
      "source": [],
      "metadata": {
        "id": "WOBidpNdg9jk"
      },
      "execution_count": null,
      "outputs": []
    },
    {
      "cell_type": "code",
      "source": [
        "from sklearn.ensemble import RandomForestClassifier, RandomForestRegressor\n",
        "from sklearn.model_selection import train_test_split\n",
        "from sklearn.metrics import accuracy_score, mean_squared_error\n",
        "import pandas as pd\n",
        "import numpy as np\n",
        "import pickle\n",
        "import tensorflow as tf\n",
        "from tensorflow.keras.models import Sequential\n",
        "from tensorflow.keras.layers import Dense, Dropout\n",
        "from sklearn.model_selection import train_test_split\n",
        "from sklearn.preprocessing import StandardScaler\n",
        "from imblearn.over_sampling import SMOTE\n",
        "\n",
        "\n",
        "\n",
        "# Model for 'like'\n",
        "\n",
        "# Oversample minority class to 66% of majority class\n",
        "smote = SMOTE(random_state=42, sampling_strategy=0.66)\n",
        "X_like, y_like = smote.fit_resample(X_train, y_train['like'])\n",
        "\n",
        "# Creating a Sequential model\n",
        "model_like = Sequential([\n",
        "    Dense(128, activation='relu'),\n",
        "    Dropout(0.2),  # Adding dropout for regularization\n",
        "    Dense(64, activation='relu'),\n",
        "    Dense(32, activation='relu'),\n",
        "    Dense(1, activation='sigmoid')  # Output layer with 1 neuron for regression\n",
        "])\n",
        "model_like.compile(optimizer='adam', loss='binary_crossentropy', metrics=['accuracy'])\n",
        "model_like.fit(X_like, y_like, epochs=50)\n",
        "\n",
        "\n",
        "# Model for 'dislike'\n",
        "\n",
        "# Oversample minority class to 66% of majority class\n",
        "smote = SMOTE(random_state=42, sampling_strategy=0.66)\n",
        "X_dislike, y_dislike = smote.fit_resample(X_train, y_train['dislike'])\n",
        "\n",
        "# Creating a Sequential model\n",
        "model_dislike = Sequential([\n",
        "    Dense(128, activation='relu', input_shape=(X_train.shape[1],)),\n",
        "    Dropout(0.2),  # Adding dropout for regularization\n",
        "    Dense(64, activation='relu'),\n",
        "    Dense(32, activation='relu'),\n",
        "    Dense(1, activation='sigmoid')\n",
        "])\n",
        "model_dislike.compile(optimizer='adam', loss='binary_crossentropy', metrics=['accuracy'])\n",
        "model_dislike.fit(X_dislike, y_dislike, epochs=50)\n",
        "\n",
        "\n",
        "# Creating a Sequential model\n",
        "model_engtime = Sequential([\n",
        "    Dense(128, activation='relu', input_shape=(X_train.shape[1],)),\n",
        "    Dropout(0.2),  # Adding dropout for regularization\n",
        "    Dense(64, activation='relu'),\n",
        "    Dense(32, activation='relu'),\n",
        "    Dense(1)\n",
        "])\n",
        "model_engtime.compile(optimizer='adam', loss='mean_squared_error', metrics=['mae'])\n",
        "model_engtime.fit(X_train, y_train['engage_time'], epochs=50)\n",
        "\n",
        "\n",
        "\n",
        "# Save the models to a file\n",
        "model = {\n",
        "    'like': model_like,\n",
        "    'dislike': model_dislike,\n",
        "    'engage_time': model_engtime\n",
        "}\n",
        "\n",
        "with open('sample_data/model.pkl', 'wb') as f:\n",
        "    pickle.dump(model, f)"
      ],
      "metadata": {
        "colab": {
          "base_uri": "https://localhost:8080/"
        },
        "outputId": "11f2681f-601d-472f-ae10-4956f5aad31d",
        "id": "zuKgnuj7M-dn"
      },
      "execution_count": null,
      "outputs": [
        {
          "output_type": "stream",
          "name": "stdout",
          "text": [
            "Epoch 1/50\n",
            "5526/5526 [==============================] - 15s 3ms/step - loss: 0.5765 - accuracy: 0.6982\n",
            "Epoch 2/50\n",
            "5526/5526 [==============================] - 14s 3ms/step - loss: 0.5687 - accuracy: 0.7037\n",
            "Epoch 3/50\n",
            "5526/5526 [==============================] - 14s 3ms/step - loss: 0.5648 - accuracy: 0.7080\n",
            "Epoch 4/50\n",
            "5526/5526 [==============================] - 14s 3ms/step - loss: 0.5617 - accuracy: 0.7100\n",
            "Epoch 5/50\n",
            "5526/5526 [==============================] - 14s 2ms/step - loss: 0.5600 - accuracy: 0.7120\n",
            "Epoch 6/50\n",
            "5526/5526 [==============================] - 14s 3ms/step - loss: 0.5581 - accuracy: 0.7139\n",
            "Epoch 7/50\n",
            "5526/5526 [==============================] - 14s 3ms/step - loss: 0.5570 - accuracy: 0.7146\n",
            "Epoch 8/50\n",
            "5526/5526 [==============================] - 14s 3ms/step - loss: 0.5561 - accuracy: 0.7153\n",
            "Epoch 9/50\n",
            "5526/5526 [==============================] - 15s 3ms/step - loss: 0.5549 - accuracy: 0.7158\n",
            "Epoch 10/50\n",
            "5526/5526 [==============================] - 16s 3ms/step - loss: 0.5542 - accuracy: 0.7170\n",
            "Epoch 11/50\n",
            "5526/5526 [==============================] - 14s 3ms/step - loss: 0.5535 - accuracy: 0.7167\n",
            "Epoch 12/50\n",
            "5526/5526 [==============================] - 14s 3ms/step - loss: 0.5526 - accuracy: 0.7178\n",
            "Epoch 13/50\n",
            "5526/5526 [==============================] - 14s 3ms/step - loss: 0.5525 - accuracy: 0.7174\n",
            "Epoch 14/50\n",
            "5526/5526 [==============================] - 13s 2ms/step - loss: 0.5519 - accuracy: 0.7179\n",
            "Epoch 15/50\n",
            "5526/5526 [==============================] - 14s 2ms/step - loss: 0.5516 - accuracy: 0.7182\n",
            "Epoch 16/50\n",
            "5526/5526 [==============================] - 14s 3ms/step - loss: 0.5513 - accuracy: 0.7181\n",
            "Epoch 17/50\n",
            "5526/5526 [==============================] - 14s 3ms/step - loss: 0.5503 - accuracy: 0.7189\n",
            "Epoch 18/50\n",
            "5526/5526 [==============================] - 14s 3ms/step - loss: 0.5501 - accuracy: 0.7185\n",
            "Epoch 19/50\n",
            "5526/5526 [==============================] - 14s 3ms/step - loss: 0.5497 - accuracy: 0.7191\n",
            "Epoch 20/50\n",
            "5526/5526 [==============================] - 14s 3ms/step - loss: 0.5497 - accuracy: 0.7190\n",
            "Epoch 21/50\n",
            "5526/5526 [==============================] - 14s 3ms/step - loss: 0.5495 - accuracy: 0.7195\n",
            "Epoch 22/50\n",
            "5526/5526 [==============================] - 14s 3ms/step - loss: 0.5491 - accuracy: 0.7193\n",
            "Epoch 23/50\n",
            "5526/5526 [==============================] - 14s 3ms/step - loss: 0.5491 - accuracy: 0.7195\n",
            "Epoch 24/50\n",
            "5526/5526 [==============================] - 14s 3ms/step - loss: 0.5482 - accuracy: 0.7201\n",
            "Epoch 25/50\n",
            "5526/5526 [==============================] - 14s 3ms/step - loss: 0.5483 - accuracy: 0.7202\n",
            "Epoch 26/50\n",
            "5526/5526 [==============================] - 14s 2ms/step - loss: 0.5481 - accuracy: 0.7203\n",
            "Epoch 27/50\n",
            "5526/5526 [==============================] - 14s 2ms/step - loss: 0.5477 - accuracy: 0.7200\n",
            "Epoch 28/50\n",
            "5526/5526 [==============================] - 13s 2ms/step - loss: 0.5473 - accuracy: 0.7201\n",
            "Epoch 29/50\n",
            "5526/5526 [==============================] - 13s 2ms/step - loss: 0.5474 - accuracy: 0.7208\n",
            "Epoch 30/50\n",
            "5526/5526 [==============================] - 13s 2ms/step - loss: 0.5472 - accuracy: 0.7214\n",
            "Epoch 31/50\n",
            "5526/5526 [==============================] - 14s 2ms/step - loss: 0.5469 - accuracy: 0.7208\n",
            "Epoch 32/50\n",
            "5526/5526 [==============================] - 14s 2ms/step - loss: 0.5469 - accuracy: 0.7210\n",
            "Epoch 33/50\n",
            "5526/5526 [==============================] - 13s 2ms/step - loss: 0.5469 - accuracy: 0.7207\n",
            "Epoch 34/50\n",
            "5526/5526 [==============================] - 14s 3ms/step - loss: 0.5463 - accuracy: 0.7204\n",
            "Epoch 35/50\n",
            "5526/5526 [==============================] - 14s 2ms/step - loss: 0.5463 - accuracy: 0.7210\n",
            "Epoch 36/50\n",
            "5526/5526 [==============================] - 14s 2ms/step - loss: 0.5460 - accuracy: 0.7214\n",
            "Epoch 37/50\n",
            "5526/5526 [==============================] - 13s 2ms/step - loss: 0.5458 - accuracy: 0.7217\n",
            "Epoch 38/50\n",
            "5526/5526 [==============================] - 13s 2ms/step - loss: 0.5457 - accuracy: 0.7218\n",
            "Epoch 39/50\n",
            "5526/5526 [==============================] - 13s 2ms/step - loss: 0.5460 - accuracy: 0.7215\n",
            "Epoch 40/50\n",
            "5526/5526 [==============================] - 13s 2ms/step - loss: 0.5456 - accuracy: 0.7212\n",
            "Epoch 41/50\n",
            "5526/5526 [==============================] - 14s 2ms/step - loss: 0.5452 - accuracy: 0.7218\n",
            "Epoch 42/50\n",
            "5526/5526 [==============================] - 13s 2ms/step - loss: 0.5453 - accuracy: 0.7211\n",
            "Epoch 43/50\n",
            "5526/5526 [==============================] - 14s 2ms/step - loss: 0.5450 - accuracy: 0.7219\n",
            "Epoch 44/50\n",
            "5526/5526 [==============================] - 14s 2ms/step - loss: 0.5450 - accuracy: 0.7222\n",
            "Epoch 45/50\n",
            "5526/5526 [==============================] - 14s 2ms/step - loss: 0.5447 - accuracy: 0.7218\n",
            "Epoch 46/50\n",
            "5526/5526 [==============================] - 14s 3ms/step - loss: 0.5449 - accuracy: 0.7226\n",
            "Epoch 47/50\n",
            "5526/5526 [==============================] - 14s 2ms/step - loss: 0.5445 - accuracy: 0.7223\n",
            "Epoch 48/50\n",
            "5526/5526 [==============================] - 14s 3ms/step - loss: 0.5444 - accuracy: 0.7228\n",
            "Epoch 49/50\n",
            "5526/5526 [==============================] - 14s 2ms/step - loss: 0.5443 - accuracy: 0.7224\n",
            "Epoch 50/50\n",
            "5526/5526 [==============================] - 13s 2ms/step - loss: 0.5439 - accuracy: 0.7227\n",
            "Epoch 1/50\n",
            "5888/5888 [==============================] - 16s 2ms/step - loss: 0.5695 - accuracy: 0.7074\n",
            "Epoch 2/50\n",
            "5888/5888 [==============================] - 15s 3ms/step - loss: 0.5614 - accuracy: 0.7112\n",
            "Epoch 3/50\n",
            "5888/5888 [==============================] - 15s 2ms/step - loss: 0.5578 - accuracy: 0.7133\n",
            "Epoch 4/50\n",
            "5888/5888 [==============================] - 14s 2ms/step - loss: 0.5554 - accuracy: 0.7149\n",
            "Epoch 5/50\n",
            "5888/5888 [==============================] - 15s 2ms/step - loss: 0.5539 - accuracy: 0.7161\n",
            "Epoch 6/50\n",
            "5888/5888 [==============================] - 14s 2ms/step - loss: 0.5522 - accuracy: 0.7180\n",
            "Epoch 7/50\n",
            "5888/5888 [==============================] - 15s 3ms/step - loss: 0.5509 - accuracy: 0.7199\n",
            "Epoch 8/50\n",
            "5888/5888 [==============================] - 15s 3ms/step - loss: 0.5494 - accuracy: 0.7210\n",
            "Epoch 9/50\n",
            "5888/5888 [==============================] - 14s 2ms/step - loss: 0.5484 - accuracy: 0.7216\n",
            "Epoch 10/50\n",
            "5888/5888 [==============================] - 15s 2ms/step - loss: 0.5478 - accuracy: 0.7218\n",
            "Epoch 11/50\n",
            "5888/5888 [==============================] - 14s 2ms/step - loss: 0.5471 - accuracy: 0.7228\n",
            "Epoch 12/50\n",
            "5888/5888 [==============================] - 14s 2ms/step - loss: 0.5461 - accuracy: 0.7227\n",
            "Epoch 13/50\n",
            "5888/5888 [==============================] - 15s 2ms/step - loss: 0.5458 - accuracy: 0.7239\n",
            "Epoch 14/50\n",
            "5888/5888 [==============================] - 15s 2ms/step - loss: 0.5455 - accuracy: 0.7229\n",
            "Epoch 15/50\n",
            "5888/5888 [==============================] - 15s 2ms/step - loss: 0.5448 - accuracy: 0.7240\n",
            "Epoch 16/50\n",
            "5888/5888 [==============================] - 15s 3ms/step - loss: 0.5446 - accuracy: 0.7235\n",
            "Epoch 17/50\n",
            "5888/5888 [==============================] - 15s 3ms/step - loss: 0.5442 - accuracy: 0.7230\n",
            "Epoch 18/50\n",
            "5888/5888 [==============================] - 15s 3ms/step - loss: 0.5437 - accuracy: 0.7244\n",
            "Epoch 19/50\n",
            "5888/5888 [==============================] - 15s 3ms/step - loss: 0.5435 - accuracy: 0.7245\n",
            "Epoch 20/50\n",
            "5888/5888 [==============================] - 15s 3ms/step - loss: 0.5430 - accuracy: 0.7250\n",
            "Epoch 21/50\n",
            "5888/5888 [==============================] - 15s 3ms/step - loss: 0.5427 - accuracy: 0.7254\n",
            "Epoch 22/50\n",
            "5888/5888 [==============================] - 15s 3ms/step - loss: 0.5424 - accuracy: 0.7253\n",
            "Epoch 23/50\n",
            "5888/5888 [==============================] - 15s 3ms/step - loss: 0.5421 - accuracy: 0.7257\n",
            "Epoch 24/50\n",
            "5888/5888 [==============================] - 15s 3ms/step - loss: 0.5420 - accuracy: 0.7268\n",
            "Epoch 25/50\n",
            "5888/5888 [==============================] - 15s 3ms/step - loss: 0.5421 - accuracy: 0.7257\n",
            "Epoch 26/50\n",
            "5888/5888 [==============================] - 15s 2ms/step - loss: 0.5419 - accuracy: 0.7264\n",
            "Epoch 27/50\n",
            "5888/5888 [==============================] - 15s 3ms/step - loss: 0.5413 - accuracy: 0.7267\n",
            "Epoch 28/50\n",
            "5888/5888 [==============================] - 15s 3ms/step - loss: 0.5416 - accuracy: 0.7273\n",
            "Epoch 29/50\n",
            "5888/5888 [==============================] - 16s 3ms/step - loss: 0.5411 - accuracy: 0.7266\n",
            "Epoch 30/50\n",
            "5888/5888 [==============================] - 15s 3ms/step - loss: 0.5410 - accuracy: 0.7270\n",
            "Epoch 31/50\n",
            "5888/5888 [==============================] - 16s 3ms/step - loss: 0.5407 - accuracy: 0.7275\n",
            "Epoch 32/50\n",
            "5888/5888 [==============================] - 15s 3ms/step - loss: 0.5407 - accuracy: 0.7271\n",
            "Epoch 33/50\n",
            "5888/5888 [==============================] - 15s 3ms/step - loss: 0.5405 - accuracy: 0.7279\n",
            "Epoch 34/50\n",
            "5888/5888 [==============================] - 15s 3ms/step - loss: 0.5404 - accuracy: 0.7271\n",
            "Epoch 35/50\n",
            "5888/5888 [==============================] - 16s 3ms/step - loss: 0.5404 - accuracy: 0.7278\n",
            "Epoch 36/50\n",
            "5888/5888 [==============================] - 16s 3ms/step - loss: 0.5401 - accuracy: 0.7279\n",
            "Epoch 37/50\n",
            "5888/5888 [==============================] - 15s 3ms/step - loss: 0.5397 - accuracy: 0.7286\n",
            "Epoch 38/50\n",
            "5888/5888 [==============================] - 15s 3ms/step - loss: 0.5396 - accuracy: 0.7280\n",
            "Epoch 39/50\n",
            "5888/5888 [==============================] - 15s 3ms/step - loss: 0.5395 - accuracy: 0.7280\n",
            "Epoch 40/50\n",
            "5888/5888 [==============================] - 15s 2ms/step - loss: 0.5393 - accuracy: 0.7285\n",
            "Epoch 41/50\n",
            "5888/5888 [==============================] - 14s 2ms/step - loss: 0.5391 - accuracy: 0.7289\n",
            "Epoch 42/50\n",
            "5888/5888 [==============================] - 15s 3ms/step - loss: 0.5394 - accuracy: 0.7286\n",
            "Epoch 43/50\n",
            "5888/5888 [==============================] - 16s 3ms/step - loss: 0.5392 - accuracy: 0.7287\n",
            "Epoch 44/50\n",
            "5888/5888 [==============================] - 16s 3ms/step - loss: 0.5389 - accuracy: 0.7287\n",
            "Epoch 45/50\n",
            "5888/5888 [==============================] - 18s 3ms/step - loss: 0.5388 - accuracy: 0.7288\n",
            "Epoch 46/50\n",
            "5888/5888 [==============================] - 15s 3ms/step - loss: 0.5386 - accuracy: 0.7289\n",
            "Epoch 47/50\n",
            "5888/5888 [==============================] - 15s 3ms/step - loss: 0.5386 - accuracy: 0.7287\n",
            "Epoch 48/50\n",
            "5888/5888 [==============================] - 15s 3ms/step - loss: 0.5388 - accuracy: 0.7281\n",
            "Epoch 49/50\n",
            "5888/5888 [==============================] - 15s 3ms/step - loss: 0.5383 - accuracy: 0.7290\n",
            "Epoch 50/50\n",
            "5888/5888 [==============================] - 15s 3ms/step - loss: 0.5382 - accuracy: 0.7295\n",
            "Epoch 1/50\n",
            "4584/4584 [==============================] - 12s 2ms/step - loss: 7073502855168.0000 - mae: 56350.0859\n",
            "Epoch 2/50\n",
            "4584/4584 [==============================] - 12s 3ms/step - loss: 7070819024896.0000 - mae: 85201.8125\n",
            "Epoch 3/50\n",
            "4584/4584 [==============================] - 12s 3ms/step - loss: 7068787933184.0000 - mae: 88107.3203\n",
            "Epoch 4/50\n",
            "4584/4584 [==============================] - 12s 3ms/step - loss: 7066973372416.0000 - mae: 87796.5703\n",
            "Epoch 5/50\n",
            "4584/4584 [==============================] - 11s 2ms/step - loss: 7064628232192.0000 - mae: 82911.3672\n",
            "Epoch 6/50\n",
            "4584/4584 [==============================] - 11s 2ms/step - loss: 7063440195584.0000 - mae: 89671.1484\n",
            "Epoch 7/50\n",
            "4584/4584 [==============================] - 12s 3ms/step - loss: 7062677356544.0000 - mae: 85004.6328\n",
            "Epoch 8/50\n",
            "4584/4584 [==============================] - 12s 3ms/step - loss: 7062755475456.0000 - mae: 76322.5391\n",
            "Epoch 9/50\n",
            "4584/4584 [==============================] - 11s 2ms/step - loss: 7061939683328.0000 - mae: 82631.9922\n",
            "Epoch 10/50\n",
            "4584/4584 [==============================] - 10s 2ms/step - loss: 7063285006336.0000 - mae: 76297.9453\n",
            "Epoch 11/50\n",
            "4584/4584 [==============================] - 12s 3ms/step - loss: 7062113746944.0000 - mae: 82473.0234\n",
            "Epoch 12/50\n",
            "4584/4584 [==============================] - 12s 3ms/step - loss: 7061973237760.0000 - mae: 81428.3203\n",
            "Epoch 13/50\n",
            "4584/4584 [==============================] - 11s 2ms/step - loss: 7062504341504.0000 - mae: 78323.2578\n",
            "Epoch 14/50\n",
            "4584/4584 [==============================] - 10s 2ms/step - loss: 7062244294656.0000 - mae: 80860.0078\n",
            "Epoch 15/50\n",
            "4584/4584 [==============================] - 11s 2ms/step - loss: 7062763864064.0000 - mae: 76478.0391\n",
            "Epoch 16/50\n",
            "4584/4584 [==============================] - 12s 3ms/step - loss: 7061867855872.0000 - mae: 77276.2969\n",
            "Epoch 17/50\n",
            "4584/4584 [==============================] - 11s 2ms/step - loss: 7062178234368.0000 - mae: 80292.2969\n",
            "Epoch 18/50\n",
            "4584/4584 [==============================] - 10s 2ms/step - loss: 7062131048448.0000 - mae: 80914.4062\n",
            "Epoch 19/50\n",
            "4584/4584 [==============================] - 12s 3ms/step - loss: 7061521825792.0000 - mae: 83672.6562\n",
            "Epoch 20/50\n",
            "4584/4584 [==============================] - 11s 3ms/step - loss: 7061727346688.0000 - mae: 77965.4922\n",
            "Epoch 21/50\n",
            "4584/4584 [==============================] - 11s 3ms/step - loss: 7061200437248.0000 - mae: 81161.9531\n",
            "Epoch 22/50\n",
            "4584/4584 [==============================] - 10s 2ms/step - loss: 7062272606208.0000 - mae: 78647.7500\n",
            "Epoch 23/50\n",
            "4584/4584 [==============================] - 12s 3ms/step - loss: 7062348627968.0000 - mae: 77757.7969\n",
            "Epoch 24/50\n",
            "4584/4584 [==============================] - 12s 3ms/step - loss: 7061267021824.0000 - mae: 84451.8125\n",
            "Epoch 25/50\n",
            "4584/4584 [==============================] - 12s 3ms/step - loss: 7062322413568.0000 - mae: 77046.9922\n",
            "Epoch 26/50\n",
            "4584/4584 [==============================] - 10s 2ms/step - loss: 7061674917888.0000 - mae: 80777.2109\n",
            "Epoch 27/50\n",
            "4584/4584 [==============================] - 11s 3ms/step - loss: 7061556428800.0000 - mae: 78738.1406\n",
            "Epoch 28/50\n",
            "4584/4584 [==============================] - 12s 3ms/step - loss: 7061747793920.0000 - mae: 78272.2891\n",
            "Epoch 29/50\n",
            "4584/4584 [==============================] - 11s 2ms/step - loss: 7061917663232.0000 - mae: 81732.0156\n",
            "Epoch 30/50\n",
            "4584/4584 [==============================] - 11s 2ms/step - loss: 7061495611392.0000 - mae: 77663.2031\n",
            "Epoch 31/50\n",
            "4584/4584 [==============================] - 11s 2ms/step - loss: 7061867855872.0000 - mae: 79666.0625\n",
            "Epoch 32/50\n",
            "4584/4584 [==============================] - 12s 3ms/step - loss: 7061278556160.0000 - mae: 83481.5547\n",
            "Epoch 33/50\n",
            "4584/4584 [==============================] - 12s 3ms/step - loss: 7061883584512.0000 - mae: 74761.8281\n",
            "Epoch 34/50\n",
            "4584/4584 [==============================] - 11s 2ms/step - loss: 7061289566208.0000 - mae: 84592.4219\n",
            "Epoch 35/50\n",
            "4584/4584 [==============================] - 11s 2ms/step - loss: 7062862954496.0000 - mae: 77055.9844\n",
            "Epoch 36/50\n",
            "4584/4584 [==============================] - 12s 3ms/step - loss: 7061803892736.0000 - mae: 82577.9297\n",
            "Epoch 37/50\n",
            "4584/4584 [==============================] - 13s 3ms/step - loss: 7060828717056.0000 - mae: 84241.8984\n",
            "Epoch 38/50\n",
            "4584/4584 [==============================] - 12s 3ms/step - loss: 7062850895872.0000 - mae: 75360.3984\n",
            "Epoch 39/50\n",
            "4584/4584 [==============================] - 10s 2ms/step - loss: 7061490892800.0000 - mae: 83549.5703\n",
            "Epoch 40/50\n",
            "4584/4584 [==============================] - 12s 3ms/step - loss: 7062346530816.0000 - mae: 75505.9609\n",
            "Epoch 41/50\n",
            "4584/4584 [==============================] - 12s 3ms/step - loss: 7062134194176.0000 - mae: 81892.0469\n",
            "Epoch 42/50\n",
            "4584/4584 [==============================] - 12s 3ms/step - loss: 7062423076864.0000 - mae: 77424.6719\n",
            "Epoch 43/50\n",
            "4584/4584 [==============================] - 11s 2ms/step - loss: 7062218080256.0000 - mae: 78968.3438\n",
            "Epoch 44/50\n",
            "4584/4584 [==============================] - 10s 2ms/step - loss: 7061272264704.0000 - mae: 78826.7734\n",
            "Epoch 45/50\n",
            "4584/4584 [==============================] - 12s 3ms/step - loss: 7062241148928.0000 - mae: 79073.5000\n",
            "Epoch 46/50\n",
            "4584/4584 [==============================] - 12s 3ms/step - loss: 7062171942912.0000 - mae: 77509.9766\n",
            "Epoch 47/50\n",
            "4584/4584 [==============================] - 12s 3ms/step - loss: 7062542614528.0000 - mae: 76995.7422\n",
            "Epoch 48/50\n",
            "4584/4584 [==============================] - 11s 2ms/step - loss: 7060698169344.0000 - mae: 86560.9609\n",
            "Epoch 49/50\n",
            "4584/4584 [==============================] - 12s 3ms/step - loss: 7062063939584.0000 - mae: 77945.9062\n",
            "Epoch 50/50\n",
            "4584/4584 [==============================] - 13s 3ms/step - loss: 7062293053440.0000 - mae: 78569.5859\n"
          ]
        }
      ]
    },
    {
      "cell_type": "code",
      "source": [],
      "metadata": {
        "id": "mJ_tCNPQM-GH"
      },
      "execution_count": null,
      "outputs": []
    },
    {
      "cell_type": "code",
      "source": [
        "# Simulates contents filtered from previous stage.\n",
        "# Feel free to change this to reflect your previous stage.\n",
        "\n",
        "sample_contents = content_meta['content_id'].sample(frac=0.01)"
      ],
      "metadata": {
        "id": "XmZtVBzdNIGr"
      },
      "execution_count": null,
      "outputs": []
    },
    {
      "cell_type": "code",
      "source": [
        "# Get true target variables\n",
        "y_true = data_collector.gen_target_vars(engagement_test)\n",
        "\n",
        "# Make predictions\n",
        "y_pred = data_collector.score(content_ids = sample_contents)"
      ],
      "metadata": {
        "colab": {
          "base_uri": "https://localhost:8080/"
        },
        "outputId": "01472976-ba49-4241-d50c-f3fa4aabf25b",
        "id": "Wm3gk466NIHB"
      },
      "execution_count": null,
      "outputs": [
        {
          "output_type": "stream",
          "name": "stderr",
          "text": [
            "<ipython-input-4-77cbc621e2f1>:16: UserWarning: Boolean Series key will be reindexed to match DataFrame index.\n",
            "  like_data = self.user_data[engagement_data['engagement_type'] == 'Like']\n"
          ]
        },
        {
          "output_type": "stream",
          "name": "stdout",
          "text": [
            "3366/3366 [==============================] - 6s 2ms/step\n",
            "3366/3366 [==============================] - 5s 1ms/step\n",
            "3366/3366 [==============================] - 6s 2ms/step\n"
          ]
        }
      ]
    },
    {
      "cell_type": "code",
      "source": [
        "thres_like = 0.5\n",
        "thres_dislike = 0.5\n",
        "evaluate(y_true, y_pred, thres_like, thres_dislike)"
      ],
      "metadata": {
        "colab": {
          "base_uri": "https://localhost:8080/"
        },
        "outputId": "6d77af40-25e3-4cc6-8aab-68ebd53800b9",
        "id": "ER8j2acENIHB"
      },
      "execution_count": null,
      "outputs": [
        {
          "output_type": "execute_result",
          "data": {
            "text/plain": [
              "{'like': {'precision': 0.5353535353535354, 'recall': 0.5196078431372549},\n",
              " 'dislike': {'precision': 0.43137254901960786, 'recall': 0.5},\n",
              " 'engage_time': {'rmse': 102165.67322659433}}"
            ]
          },
          "metadata": {},
          "execution_count": 12
        }
      ]
    },
    {
      "cell_type": "code",
      "source": [
        "dislike_probs = model['dislike'].predict(X_train)\n",
        "dislike_preds = np.where(dislike_probs > 0.5, 1, 0)\n",
        "dislike_accuracy = accuracy_score(y_train['dislike'], dislike_preds)"
      ],
      "metadata": {
        "colab": {
          "base_uri": "https://localhost:8080/"
        },
        "id": "TAHIPZbHJbxu",
        "outputId": "3ccb8a6a-9af4-4f42-a5cb-7761d7c06868"
      },
      "execution_count": null,
      "outputs": [
        {
          "output_type": "stream",
          "name": "stdout",
          "text": [
            "4584/4584 [==============================] - 9s 2ms/step\n"
          ]
        }
      ]
    },
    {
      "cell_type": "code",
      "source": [
        "dislike_accuracy"
      ],
      "metadata": {
        "colab": {
          "base_uri": "https://localhost:8080/"
        },
        "id": "cKbtbfMKJkdP",
        "outputId": "b1e2e52d-f087-45a8-d1e2-7533b56bdd3c"
      },
      "execution_count": null,
      "outputs": [
        {
          "output_type": "execute_result",
          "data": {
            "text/plain": [
              "0.7782247342692148"
            ]
          },
          "metadata": {},
          "execution_count": 14
        }
      ]
    },
    {
      "cell_type": "code",
      "source": [
        "like_probs = model['like'].predict(X_train)\n",
        "like_preds = np.where(dislike_probs > 0.5, 1, 0)\n",
        "like_accuracy = accuracy_score(y_train['like'], dislike_preds)\n",
        "like_accuracy"
      ],
      "metadata": {
        "colab": {
          "base_uri": "https://localhost:8080/"
        },
        "id": "whfNMEXyJk4_",
        "outputId": "345b52f1-491e-4f7f-8341-fdd0009ca418"
      },
      "execution_count": null,
      "outputs": [
        {
          "output_type": "stream",
          "name": "stdout",
          "text": [
            "4584/4584 [==============================] - 12s 2ms/step\n"
          ]
        },
        {
          "output_type": "execute_result",
          "data": {
            "text/plain": [
              "0.6240088361025697"
            ]
          },
          "metadata": {},
          "execution_count": 15
        }
      ]
    },
    {
      "cell_type": "code",
      "source": [
        "engtime_predictions = model_engtime.predict(X_train)\n",
        "engtime_mse = mean_squared_error(y_train['engage_time'], engtime_predictions)\n",
        "engtime_mse ** 0.5"
      ],
      "metadata": {
        "colab": {
          "base_uri": "https://localhost:8080/"
        },
        "id": "pPyr6P2RJr3h",
        "outputId": "bdf068ef-ec7e-420a-be57-3df851a965b8"
      },
      "execution_count": null,
      "outputs": [
        {
          "output_type": "stream",
          "name": "stdout",
          "text": [
            "4584/4584 [==============================] - 8s 2ms/step\n"
          ]
        },
        {
          "output_type": "execute_result",
          "data": {
            "text/plain": [
              "2657244.520720369"
            ]
          },
          "metadata": {},
          "execution_count": 17
        }
      ]
    },
    {
      "cell_type": "code",
      "source": [],
      "metadata": {
        "id": "SCoESr-1NA5z"
      },
      "execution_count": null,
      "outputs": []
    },
    {
      "cell_type": "code",
      "source": [],
      "metadata": {
        "id": "Rc4mTVt1NA-q"
      },
      "execution_count": null,
      "outputs": []
    },
    {
      "cell_type": "markdown",
      "source": [
        "###random forest regressor and classifer + oversampling"
      ],
      "metadata": {
        "id": "iCJJ8f0iPbxp"
      }
    },
    {
      "cell_type": "code",
      "source": [
        "from sklearn.ensemble import RandomForestClassifier, RandomForestRegressor\n",
        "from sklearn.model_selection import train_test_split\n",
        "from sklearn.metrics import accuracy_score, mean_squared_error\n",
        "import pandas as pd\n",
        "import numpy as np\n",
        "import pickle\n",
        "\n",
        "from imblearn.over_sampling import SMOTE\n",
        "\n",
        "# Model for 'like'\n",
        "smote = SMOTE(random_state=42, sampling_strategy=0.66)\n",
        "X_like, y_like = smote.fit_resample(X_train, y_train['like'])\n",
        "\n",
        "model_like = RandomForestClassifier(random_state=42)\n",
        "model_like.fit(X_like, y_like)\n",
        "\n",
        "\n",
        "# Model for 'dislike'\n",
        "smote = SMOTE(random_state=42, sampling_strategy=0.66)\n",
        "X_dislike, y_dislike = smote.fit_resample(X_train, y_train['dislike'])\n",
        "\n",
        "model_dislike = RandomForestClassifier(random_state=42)\n",
        "model_dislike.fit(X_dislike, y_dislike)\n",
        "\n",
        "\n",
        "# Model for 'engage_time'\n",
        "model_engtime = RandomForestRegressor(random_state=42)\n",
        "model_engtime.fit(X_train, y_train['engage_time'])\n",
        "\n",
        "\n",
        "# Save the models to a file\n",
        "model = {\n",
        "    'like': model_like,\n",
        "    'dislike': model_dislike,\n",
        "    'engage_time': model_engtime\n",
        "}\n",
        "\n",
        "with open('sample_data/model.pkl', 'wb') as f:\n",
        "    pickle.dump(model, f)"
      ],
      "metadata": {
        "id": "3qzGc_Mb7EOr"
      },
      "execution_count": null,
      "outputs": []
    },
    {
      "cell_type": "code",
      "source": [
        "# Get true target variables\n",
        "y_true = data_collector.gen_target_vars(engagement_test)\n",
        "\n",
        "# Make predictions\n",
        "y_pred = data_collector.score(content_ids = sample_contents)"
      ],
      "metadata": {
        "colab": {
          "base_uri": "https://localhost:8080/"
        },
        "id": "zqv5i97L7nOn",
        "outputId": "f237869e-81e5-42a9-f389-6bb70ffa5471"
      },
      "execution_count": null,
      "outputs": [
        {
          "output_type": "stream",
          "name": "stderr",
          "text": [
            "<ipython-input-177-c58ed791d976>:16: UserWarning: Boolean Series key will be reindexed to match DataFrame index.\n",
            "  like_data = self.user_data[engagement_data['engagement_type'] == 'Like']\n"
          ]
        }
      ]
    },
    {
      "cell_type": "code",
      "source": [
        "thres_like = 0.5\n",
        "thres_dislike = 0.5\n",
        "evaluate(y_true, y_pred, thres_like, thres_dislike)"
      ],
      "metadata": {
        "colab": {
          "base_uri": "https://localhost:8080/"
        },
        "id": "eqZW3SnC7pRr",
        "outputId": "ac2e0aaa-b1a2-4c49-dd3c-5955c9294b01"
      },
      "execution_count": null,
      "outputs": [
        {
          "output_type": "execute_result",
          "data": {
            "text/plain": [
              "{'like': {'precision': 0.5662650602409639, 'recall': 0.5949367088607594},\n",
              " 'dislike': {'precision': 0.5111111111111111, 'recall': 0.6571428571428571},\n",
              " 'engage_time': {'rmse': 151103.34039714394}}"
            ]
          },
          "metadata": {},
          "execution_count": 218
        }
      ]
    },
    {
      "cell_type": "code",
      "source": [],
      "metadata": {
        "id": "MpjcjjHG9UPg"
      },
      "execution_count": null,
      "outputs": []
    },
    {
      "cell_type": "code",
      "source": [
        "from sklearn.metrics import accuracy_score, mean_squared_error"
      ],
      "metadata": {
        "id": "4ov97Hoe8jyD"
      },
      "execution_count": null,
      "outputs": []
    },
    {
      "cell_type": "code",
      "source": [
        "dislike_probs = model['like'].predict(X_train)\n",
        "dislike_preds = np.where(dislike_probs > 0.5, 1, 0)\n",
        "dislike_accuracy = accuracy_score(y_train['dislike'], dislike_preds)"
      ],
      "metadata": {
        "id": "W7-UM7jG7ptr"
      },
      "execution_count": null,
      "outputs": []
    },
    {
      "cell_type": "code",
      "source": [
        "dislike_accuracy"
      ],
      "metadata": {
        "colab": {
          "base_uri": "https://localhost:8080/"
        },
        "id": "FMzvhqC0-Dh6",
        "outputId": "3b80d8bd-d90d-471b-9a2f-e2c1792fbe5f"
      },
      "execution_count": null,
      "outputs": [
        {
          "output_type": "execute_result",
          "data": {
            "text/plain": [
              "0.6219225341069469"
            ]
          },
          "metadata": {},
          "execution_count": 225
        }
      ]
    },
    {
      "cell_type": "code",
      "source": [
        "like_probs = model['dislike'].predict(X_train)\n",
        "like_preds = np.where(like_probs > 0.5, 1, 0)\n",
        "like_accuracy = accuracy_score(y_train['like'], like_preds)\n",
        "like_accuracy"
      ],
      "metadata": {
        "colab": {
          "base_uri": "https://localhost:8080/"
        },
        "id": "B1SrHKLC8HzM",
        "outputId": "22da4569-8cc4-4a86-e569-ecd21b684025"
      },
      "execution_count": null,
      "outputs": [
        {
          "output_type": "execute_result",
          "data": {
            "text/plain": [
              "0.619188523975428"
            ]
          },
          "metadata": {},
          "execution_count": 226
        }
      ]
    },
    {
      "cell_type": "code",
      "source": [
        "engtime_predictions = model_engtime.predict(X_train)\n",
        "engtime_mse = mean_squared_error(y_train['engage_time'], engtime_predictions)\n",
        "engtime_mse"
      ],
      "metadata": {
        "colab": {
          "base_uri": "https://localhost:8080/"
        },
        "id": "oQ20MDNk83Yv",
        "outputId": "e1bf6f2d-1db8-420d-804f-f6ebe24d18aa"
      },
      "execution_count": null,
      "outputs": [
        {
          "output_type": "execute_result",
          "data": {
            "text/plain": [
              "7006509147213.162"
            ]
          },
          "metadata": {},
          "execution_count": 227
        }
      ]
    },
    {
      "cell_type": "code",
      "source": [
        "#with max for engagetime"
      ],
      "metadata": {
        "id": "X_vhyljYVDAs"
      },
      "execution_count": null,
      "outputs": []
    },
    {
      "cell_type": "code",
      "source": [
        "from sklearn.ensemble import RandomForestClassifier, RandomForestRegressor\n",
        "from sklearn.model_selection import train_test_split\n",
        "from sklearn.metrics import accuracy_score, mean_squared_error\n",
        "import pandas as pd\n",
        "import numpy as np\n",
        "import pickle\n",
        "\n",
        "# Assuming X_train and y_train are your feature and target variables\n",
        "# Split the data into training and testing sets\n",
        "X_train, X_test, y_train, y_test = train_test_split(X_train, y_train, test_size=0.2, random_state=42)\n",
        "\n",
        "# Model for 'like'\n",
        "model_like = RandomForestClassifier(random_state=42)\n",
        "model_like.fit(X_train, y_train['like'])\n",
        "like_predictions = model_like.predict(X_test)\n",
        "like_accuracy = accuracy_score(y_test['like'], like_predictions)\n",
        "print(f\"Accuracy for 'like': {like_accuracy}\")\n",
        "\n",
        "# Model for 'dislike' (assuming binary classification)\n",
        "model_dislike = RandomForestClassifier(random_state=42)\n",
        "model_dislike.fit(X_train, y_train['dislike'])\n",
        "dislike_predictions = model_dislike.predict(X_test)\n",
        "dislike_accuracy = accuracy_score(y_test['dislike'], dislike_predictions)\n",
        "print(f\"Accuracy for 'dislike': {dislike_accuracy}\")\n",
        "\n",
        "# Model for 'engage_time'\n",
        "model_engtime = RandomForestRegressor(random_state=42)\n",
        "model_engtime.fit(X_train, y_train['engage_time'])\n",
        "engtime_predictions = model_engtime.predict(X_test)\n",
        "engtime_mse = mean_squared_error(y_test['engage_time'], engtime_predictions)\n",
        "print(f\"Root Mean Squared Error for 'engage_time': {engtime_mse ** 0.5}\")\n",
        "\n",
        "# Save the models to a file\n",
        "model = {\n",
        "    'like': model_like,\n",
        "    'dislike': model_dislike,\n",
        "    'engage_time': model_engtime\n",
        "}\n",
        "\n",
        "with open('sample_data/model.pkl', 'wb') as f:\n",
        "    pickle.dump(model, f)"
      ],
      "metadata": {
        "colab": {
          "base_uri": "https://localhost:8080/"
        },
        "id": "5NQkqwGVVFrx",
        "outputId": "42e4e83c-83e9-461f-996a-9166954647f5"
      },
      "execution_count": null,
      "outputs": [
        {
          "output_type": "stream",
          "name": "stdout",
          "text": [
            "Accuracy for 'like': 0.7707877137953483\n",
            "Accuracy for 'dislike': 0.8017399538379594\n",
            "Root Mean Squared Error for 'engage_time': 2984430.57930276\n"
          ]
        }
      ]
    },
    {
      "cell_type": "code",
      "source": [
        "# Get true target variables\n",
        "y_true = data_collector.gen_target_vars(engagement_test)\n",
        "\n",
        "# Make predictions\n",
        "y_pred = data_collector.score(content_ids = sample_contents)"
      ],
      "metadata": {
        "colab": {
          "base_uri": "https://localhost:8080/"
        },
        "id": "eAi-gtN7VIOt",
        "outputId": "b56090ae-d430-42b8-94dd-bca4bc004602"
      },
      "execution_count": null,
      "outputs": [
        {
          "output_type": "stream",
          "name": "stderr",
          "text": [
            "<ipython-input-6-c8e6a328e850>:16: UserWarning: Boolean Series key will be reindexed to match DataFrame index.\n",
            "  like_data = self.user_data[engagement_data['engagement_type'] == 'Like']\n"
          ]
        }
      ]
    },
    {
      "cell_type": "code",
      "source": [
        "thres_like = 0.5\n",
        "thres_dislike = 0.5\n",
        "evaluate(y_true, y_pred, thres_like, thres_dislike)"
      ],
      "metadata": {
        "colab": {
          "base_uri": "https://localhost:8080/"
        },
        "id": "WwEqTYW8VMYg",
        "outputId": "27284089-2f6c-4447-e799-d1d88a8f13de"
      },
      "execution_count": null,
      "outputs": [
        {
          "output_type": "execute_result",
          "data": {
            "text/plain": [
              "{'like': {'precision': 0.5333333333333333, 'recall': 0.3037974683544304},\n",
              " 'dislike': {'precision': 0.625, 'recall': 0.2857142857142857},\n",
              " 'engage_time': {'rmse': 156037.20978833942}}"
            ]
          },
          "metadata": {},
          "execution_count": 118
        }
      ]
    },
    {
      "cell_type": "code",
      "source": [],
      "metadata": {
        "id": "QO8_oxDJVcSn"
      },
      "execution_count": null,
      "outputs": []
    },
    {
      "cell_type": "code",
      "source": [
        "from sklearn.ensemble import RandomForestClassifier, RandomForestRegressor\n",
        "from sklearn.model_selection import train_test_split\n",
        "from sklearn.metrics import accuracy_score, mean_squared_error\n",
        "import pandas as pd\n",
        "import numpy as np\n",
        "import pickle\n",
        "\n",
        "# Assuming X_train and y_train are your feature and target variables\n",
        "# Split the data into training and testing sets\n",
        "X_train, X_test, y_train, y_test = train_test_split(X_train, y_train, test_size=0.2, random_state=42)\n",
        "\n",
        "# Model for 'like'\n",
        "model_like = RandomForestClassifier(random_state=42)\n",
        "model_like.fit(X_train, y_train['like'])\n",
        "like_predictions = model_like.predict(X_test)\n",
        "like_accuracy = accuracy_score(y_test['like'], like_predictions)\n",
        "print(f\"Accuracy for 'like': {like_accuracy}\")\n",
        "\n",
        "# Model for 'dislike' (assuming binary classification)\n",
        "model_dislike = RandomForestClassifier(random_state=42)\n",
        "model_dislike.fit(X_train, y_train['dislike'])\n",
        "dislike_predictions = model_dislike.predict(X_test)\n",
        "dislike_accuracy = accuracy_score(y_test['dislike'], dislike_predictions)\n",
        "print(f\"Accuracy for 'dislike': {dislike_accuracy}\")\n",
        "\n",
        "# Model for 'engage_time'\n",
        "model_engtime = RandomForestRegressor(random_state=42)\n",
        "model_engtime.fit(X_train, y_train['engage_time'])\n",
        "engtime_predictions = model_engtime.predict(X_test)\n",
        "engtime_mse = mean_squared_error(y_test['engage_time'], engtime_predictions)\n",
        "print(f\"Root Mean Squared Error for 'engage_time': {engtime_mse ** 0.5}\")\n",
        "\n",
        "# Save the models to a file\n",
        "model = {\n",
        "    'like': model_like,\n",
        "    'dislike': model_dislike,\n",
        "    'engage_time': model_engtime\n",
        "}\n",
        "\n",
        "with open('sample_data/model.pkl', 'wb') as f:\n",
        "    pickle.dump(model, f)"
      ],
      "metadata": {
        "colab": {
          "base_uri": "https://localhost:8080/"
        },
        "id": "q-6P-Xf-O77M",
        "outputId": "f0174400-2bc2-4ce5-9eb4-13eb09d019d8"
      },
      "execution_count": null,
      "outputs": [
        {
          "output_type": "stream",
          "name": "stdout",
          "text": [
            "Accuracy for 'like': 0.7703233748402064\n",
            "Accuracy for 'dislike': 0.7972633871502296\n",
            "Root Mean Squared Error for 'engage_time': 3741611.1504308474\n"
          ]
        }
      ]
    },
    {
      "cell_type": "code",
      "source": [],
      "metadata": {
        "id": "rWCyr7LSPfEv"
      },
      "execution_count": null,
      "outputs": []
    },
    {
      "cell_type": "code",
      "source": [
        "sample_contents = content_meta['content_id'].sample(frac=0.01)"
      ],
      "metadata": {
        "id": "S_0dprfFO8HD"
      },
      "execution_count": null,
      "outputs": []
    },
    {
      "cell_type": "code",
      "source": [
        "# Get true target variables\n",
        "y_true = data_collector.gen_target_vars(engagement_test)\n",
        "\n",
        "# Make predictions\n",
        "y_pred = data_collector.score(content_ids = sample_contents)"
      ],
      "metadata": {
        "colab": {
          "base_uri": "https://localhost:8080/"
        },
        "id": "nwWOzFBIPDKM",
        "outputId": "fd77baf9-3dbd-4278-bfb9-03bc7f947c49"
      },
      "execution_count": null,
      "outputs": [
        {
          "output_type": "stream",
          "name": "stderr",
          "text": [
            "<ipython-input-6-c8e6a328e850>:16: UserWarning: Boolean Series key will be reindexed to match DataFrame index.\n",
            "  like_data = self.user_data[engagement_data['engagement_type'] == 'Like']\n"
          ]
        }
      ]
    },
    {
      "cell_type": "code",
      "source": [
        "thres_like = 0.5\n",
        "thres_dislike = 0.5\n",
        "evaluate(y_true, y_pred, thres_like, thres_dislike)"
      ],
      "metadata": {
        "colab": {
          "base_uri": "https://localhost:8080/"
        },
        "id": "6EErhFuIPDOY",
        "outputId": "6095fe7d-d6ec-4278-e25b-ca06f26f5590"
      },
      "execution_count": null,
      "outputs": [
        {
          "output_type": "execute_result",
          "data": {
            "text/plain": [
              "{'like': {'precision': 0.5869565217391305, 'recall': 0.34177215189873417},\n",
              " 'dislike': {'precision': 0.6363636363636364, 'recall': 0.3},\n",
              " 'engage_time': {'rmse': 156490.66564865594}}"
            ]
          },
          "metadata": {},
          "execution_count": 114
        }
      ]
    },
    {
      "cell_type": "code",
      "source": [],
      "metadata": {
        "id": "0DxrP2clPMu1"
      },
      "execution_count": null,
      "outputs": []
    },
    {
      "cell_type": "code",
      "source": [],
      "metadata": {
        "id": "UqgDBItxPM0E"
      },
      "execution_count": null,
      "outputs": []
    },
    {
      "cell_type": "markdown",
      "source": [
        "###KNN Classifier + KNN Regressor"
      ],
      "metadata": {
        "id": "4HJzGRE5DGRM"
      }
    },
    {
      "cell_type": "code",
      "source": [
        "from sklearn.utils import resample\n",
        "\n",
        "train_data = pd.concat([pd.DataFrame(X_train), pd.Series(y_train['like'], name='target_variable')], axis=1)\n",
        "# Separate the majority and minority classes\n",
        "majority_class = train_data[train_data['target_variable'] == 0]\n",
        "minority_class = train_data[train_data['target_variable'] == 1]\n",
        "\n",
        "# Downsample the majority class\n",
        "downsampled_majority = resample(majority_class, replace=False, n_samples=len(minority_class), random_state=42)\n",
        "\n",
        "# Combine the downsampled majority class with the original minority class\n",
        "downsampled_data = pd.concat([downsampled_majority, minority_class])\n",
        "\n",
        "# Split the downsampled data into features and labels\n",
        "X_train_downsampled = downsampled_data.drop('target_variable', axis=1)\n",
        "y_train_downsampled = downsampled_data['target_variable']"
      ],
      "metadata": {
        "id": "tuJhAVALFHw-"
      },
      "execution_count": null,
      "outputs": []
    },
    {
      "cell_type": "code",
      "source": [
        "from sklearn.neighbors import KNeighborsClassifier\n",
        "knn_model = KNeighborsClassifier(n_neighbors=10)\n",
        "knn_model.fit(X_train_downsampled, y_train_downsampled)"
      ],
      "metadata": {
        "colab": {
          "base_uri": "https://localhost:8080/",
          "height": 75
        },
        "id": "gYZ21v-vFH0e",
        "outputId": "b94dcbf9-e0d0-49e5-868f-2d89f8ae0726"
      },
      "execution_count": null,
      "outputs": [
        {
          "output_type": "execute_result",
          "data": {
            "text/plain": [
              "KNeighborsClassifier(n_neighbors=10)"
            ],
            "text/html": [
              "<style>#sk-container-id-10 {color: black;background-color: white;}#sk-container-id-10 pre{padding: 0;}#sk-container-id-10 div.sk-toggleable {background-color: white;}#sk-container-id-10 label.sk-toggleable__label {cursor: pointer;display: block;width: 100%;margin-bottom: 0;padding: 0.3em;box-sizing: border-box;text-align: center;}#sk-container-id-10 label.sk-toggleable__label-arrow:before {content: \"▸\";float: left;margin-right: 0.25em;color: #696969;}#sk-container-id-10 label.sk-toggleable__label-arrow:hover:before {color: black;}#sk-container-id-10 div.sk-estimator:hover label.sk-toggleable__label-arrow:before {color: black;}#sk-container-id-10 div.sk-toggleable__content {max-height: 0;max-width: 0;overflow: hidden;text-align: left;background-color: #f0f8ff;}#sk-container-id-10 div.sk-toggleable__content pre {margin: 0.2em;color: black;border-radius: 0.25em;background-color: #f0f8ff;}#sk-container-id-10 input.sk-toggleable__control:checked~div.sk-toggleable__content {max-height: 200px;max-width: 100%;overflow: auto;}#sk-container-id-10 input.sk-toggleable__control:checked~label.sk-toggleable__label-arrow:before {content: \"▾\";}#sk-container-id-10 div.sk-estimator input.sk-toggleable__control:checked~label.sk-toggleable__label {background-color: #d4ebff;}#sk-container-id-10 div.sk-label input.sk-toggleable__control:checked~label.sk-toggleable__label {background-color: #d4ebff;}#sk-container-id-10 input.sk-hidden--visually {border: 0;clip: rect(1px 1px 1px 1px);clip: rect(1px, 1px, 1px, 1px);height: 1px;margin: -1px;overflow: hidden;padding: 0;position: absolute;width: 1px;}#sk-container-id-10 div.sk-estimator {font-family: monospace;background-color: #f0f8ff;border: 1px dotted black;border-radius: 0.25em;box-sizing: border-box;margin-bottom: 0.5em;}#sk-container-id-10 div.sk-estimator:hover {background-color: #d4ebff;}#sk-container-id-10 div.sk-parallel-item::after {content: \"\";width: 100%;border-bottom: 1px solid gray;flex-grow: 1;}#sk-container-id-10 div.sk-label:hover label.sk-toggleable__label {background-color: #d4ebff;}#sk-container-id-10 div.sk-serial::before {content: \"\";position: absolute;border-left: 1px solid gray;box-sizing: border-box;top: 0;bottom: 0;left: 50%;z-index: 0;}#sk-container-id-10 div.sk-serial {display: flex;flex-direction: column;align-items: center;background-color: white;padding-right: 0.2em;padding-left: 0.2em;position: relative;}#sk-container-id-10 div.sk-item {position: relative;z-index: 1;}#sk-container-id-10 div.sk-parallel {display: flex;align-items: stretch;justify-content: center;background-color: white;position: relative;}#sk-container-id-10 div.sk-item::before, #sk-container-id-10 div.sk-parallel-item::before {content: \"\";position: absolute;border-left: 1px solid gray;box-sizing: border-box;top: 0;bottom: 0;left: 50%;z-index: -1;}#sk-container-id-10 div.sk-parallel-item {display: flex;flex-direction: column;z-index: 1;position: relative;background-color: white;}#sk-container-id-10 div.sk-parallel-item:first-child::after {align-self: flex-end;width: 50%;}#sk-container-id-10 div.sk-parallel-item:last-child::after {align-self: flex-start;width: 50%;}#sk-container-id-10 div.sk-parallel-item:only-child::after {width: 0;}#sk-container-id-10 div.sk-dashed-wrapped {border: 1px dashed gray;margin: 0 0.4em 0.5em 0.4em;box-sizing: border-box;padding-bottom: 0.4em;background-color: white;}#sk-container-id-10 div.sk-label label {font-family: monospace;font-weight: bold;display: inline-block;line-height: 1.2em;}#sk-container-id-10 div.sk-label-container {text-align: center;}#sk-container-id-10 div.sk-container {/* jupyter's `normalize.less` sets `[hidden] { display: none; }` but bootstrap.min.css set `[hidden] { display: none !important; }` so we also need the `!important` here to be able to override the default hidden behavior on the sphinx rendered scikit-learn.org. See: https://github.com/scikit-learn/scikit-learn/issues/21755 */display: inline-block !important;position: relative;}#sk-container-id-10 div.sk-text-repr-fallback {display: none;}</style><div id=\"sk-container-id-10\" class=\"sk-top-container\"><div class=\"sk-text-repr-fallback\"><pre>KNeighborsClassifier(n_neighbors=10)</pre><b>In a Jupyter environment, please rerun this cell to show the HTML representation or trust the notebook. <br />On GitHub, the HTML representation is unable to render, please try loading this page with nbviewer.org.</b></div><div class=\"sk-container\" hidden><div class=\"sk-item\"><div class=\"sk-estimator sk-toggleable\"><input class=\"sk-toggleable__control sk-hidden--visually\" id=\"sk-estimator-id-10\" type=\"checkbox\" checked><label for=\"sk-estimator-id-10\" class=\"sk-toggleable__label sk-toggleable__label-arrow\">KNeighborsClassifier</label><div class=\"sk-toggleable__content\"><pre>KNeighborsClassifier(n_neighbors=10)</pre></div></div></div></div></div>"
            ]
          },
          "metadata": {},
          "execution_count": 106
        }
      ]
    },
    {
      "cell_type": "code",
      "source": [
        "y_proba = knn_model.predict_proba(X_test)[:, 1]\n",
        "y_pred = (y_proba > 0.5).astype(int)"
      ],
      "metadata": {
        "id": "J7_j0J1QFH3n"
      },
      "execution_count": null,
      "outputs": []
    },
    {
      "cell_type": "code",
      "source": [
        "#k=10\n",
        "from sklearn.metrics import accuracy_score, classification_report, confusion_matrix, roc_auc_score\n",
        "\n",
        "# Evaluate the model\n",
        "accuracy = accuracy_score(y_test['like'], y_pred)\n",
        "conf_matrix = confusion_matrix(y_test['like'], y_pred)\n",
        "class_report = classification_report(y_test['like'], y_pred)\n",
        "roc_auc = roc_auc_score(y_test['like'], y_proba)\n",
        "\n",
        "print(f\"Accuracy: {accuracy:.2f}\")\n",
        "print(\"Confusion Matrix:\")\n",
        "print(conf_matrix)\n",
        "print(\"Classification Report:\")\n",
        "print(class_report)\n",
        "print(f\"ROC AUC: {roc_auc:.2f}\")"
      ],
      "metadata": {
        "colab": {
          "base_uri": "https://localhost:8080/"
        },
        "id": "tw9jpOwWFvcO",
        "outputId": "5ab42502-be48-4a22-f2f1-e5f56bea64bc"
      },
      "execution_count": null,
      "outputs": [
        {
          "output_type": "stream",
          "name": "stdout",
          "text": [
            "Accuracy: 0.72\n",
            "Confusion Matrix:\n",
            "[[10121   470]\n",
            " [ 3577   500]]\n",
            "Classification Report:\n",
            "              precision    recall  f1-score   support\n",
            "\n",
            "           0       0.74      0.96      0.83     10591\n",
            "           1       0.52      0.12      0.20      4077\n",
            "\n",
            "    accuracy                           0.72     14668\n",
            "   macro avg       0.63      0.54      0.52     14668\n",
            "weighted avg       0.68      0.72      0.66     14668\n",
            "\n",
            "ROC AUC: 0.54\n"
          ]
        }
      ]
    },
    {
      "cell_type": "code",
      "source": [
        "#k=3\n",
        "from sklearn.metrics import accuracy_score, classification_report, confusion_matrix, roc_auc_score\n",
        "\n",
        "# Evaluate the model\n",
        "accuracy = accuracy_score(y_test['like'], y_pred)\n",
        "conf_matrix = confusion_matrix(y_test['like'], y_pred)\n",
        "class_report = classification_report(y_test['like'], y_pred)\n",
        "roc_auc = roc_auc_score(y_test['like'], y_proba)\n",
        "\n",
        "print(f\"Accuracy: {accuracy:.2f}\")\n",
        "print(\"Confusion Matrix:\")\n",
        "print(conf_matrix)\n",
        "print(\"Classification Report:\")\n",
        "print(class_report)\n",
        "print(f\"ROC AUC: {roc_auc:.2f}\")"
      ],
      "metadata": {
        "colab": {
          "base_uri": "https://localhost:8080/"
        },
        "id": "g7pV36z9FoB9",
        "outputId": "e59b49a4-c4e9-4665-8da7-ddc0bdaf861c"
      },
      "execution_count": null,
      "outputs": [
        {
          "output_type": "stream",
          "name": "stdout",
          "text": [
            "Accuracy: 0.72\n",
            "Confusion Matrix:\n",
            "[[10197   394]\n",
            " [ 3687   390]]\n",
            "Classification Report:\n",
            "              precision    recall  f1-score   support\n",
            "\n",
            "           0       0.73      0.96      0.83     10591\n",
            "           1       0.50      0.10      0.16      4077\n",
            "\n",
            "    accuracy                           0.72     14668\n",
            "   macro avg       0.62      0.53      0.50     14668\n",
            "weighted avg       0.67      0.72      0.65     14668\n",
            "\n",
            "ROC AUC: 0.54\n"
          ]
        }
      ]
    },
    {
      "cell_type": "code",
      "source": [],
      "metadata": {
        "id": "moiLsx0yFqSZ"
      },
      "execution_count": null,
      "outputs": []
    },
    {
      "cell_type": "code",
      "source": [
        "from sklearn.neighbors import KNeighborsClassifier\n",
        "knn_model = KNeighborsClassifier(n_neighbors=3)\n",
        "knn_model.fit(X_train, y_train['like'])"
      ],
      "metadata": {
        "colab": {
          "base_uri": "https://localhost:8080/",
          "height": 75
        },
        "id": "NlQjZAmHDHh9",
        "outputId": "942ebdc7-1ecc-4ba3-846b-284111521683"
      },
      "execution_count": null,
      "outputs": [
        {
          "output_type": "execute_result",
          "data": {
            "text/plain": [
              "KNeighborsClassifier(n_neighbors=3)"
            ],
            "text/html": [
              "<style>#sk-container-id-8 {color: black;background-color: white;}#sk-container-id-8 pre{padding: 0;}#sk-container-id-8 div.sk-toggleable {background-color: white;}#sk-container-id-8 label.sk-toggleable__label {cursor: pointer;display: block;width: 100%;margin-bottom: 0;padding: 0.3em;box-sizing: border-box;text-align: center;}#sk-container-id-8 label.sk-toggleable__label-arrow:before {content: \"▸\";float: left;margin-right: 0.25em;color: #696969;}#sk-container-id-8 label.sk-toggleable__label-arrow:hover:before {color: black;}#sk-container-id-8 div.sk-estimator:hover label.sk-toggleable__label-arrow:before {color: black;}#sk-container-id-8 div.sk-toggleable__content {max-height: 0;max-width: 0;overflow: hidden;text-align: left;background-color: #f0f8ff;}#sk-container-id-8 div.sk-toggleable__content pre {margin: 0.2em;color: black;border-radius: 0.25em;background-color: #f0f8ff;}#sk-container-id-8 input.sk-toggleable__control:checked~div.sk-toggleable__content {max-height: 200px;max-width: 100%;overflow: auto;}#sk-container-id-8 input.sk-toggleable__control:checked~label.sk-toggleable__label-arrow:before {content: \"▾\";}#sk-container-id-8 div.sk-estimator input.sk-toggleable__control:checked~label.sk-toggleable__label {background-color: #d4ebff;}#sk-container-id-8 div.sk-label input.sk-toggleable__control:checked~label.sk-toggleable__label {background-color: #d4ebff;}#sk-container-id-8 input.sk-hidden--visually {border: 0;clip: rect(1px 1px 1px 1px);clip: rect(1px, 1px, 1px, 1px);height: 1px;margin: -1px;overflow: hidden;padding: 0;position: absolute;width: 1px;}#sk-container-id-8 div.sk-estimator {font-family: monospace;background-color: #f0f8ff;border: 1px dotted black;border-radius: 0.25em;box-sizing: border-box;margin-bottom: 0.5em;}#sk-container-id-8 div.sk-estimator:hover {background-color: #d4ebff;}#sk-container-id-8 div.sk-parallel-item::after {content: \"\";width: 100%;border-bottom: 1px solid gray;flex-grow: 1;}#sk-container-id-8 div.sk-label:hover label.sk-toggleable__label {background-color: #d4ebff;}#sk-container-id-8 div.sk-serial::before {content: \"\";position: absolute;border-left: 1px solid gray;box-sizing: border-box;top: 0;bottom: 0;left: 50%;z-index: 0;}#sk-container-id-8 div.sk-serial {display: flex;flex-direction: column;align-items: center;background-color: white;padding-right: 0.2em;padding-left: 0.2em;position: relative;}#sk-container-id-8 div.sk-item {position: relative;z-index: 1;}#sk-container-id-8 div.sk-parallel {display: flex;align-items: stretch;justify-content: center;background-color: white;position: relative;}#sk-container-id-8 div.sk-item::before, #sk-container-id-8 div.sk-parallel-item::before {content: \"\";position: absolute;border-left: 1px solid gray;box-sizing: border-box;top: 0;bottom: 0;left: 50%;z-index: -1;}#sk-container-id-8 div.sk-parallel-item {display: flex;flex-direction: column;z-index: 1;position: relative;background-color: white;}#sk-container-id-8 div.sk-parallel-item:first-child::after {align-self: flex-end;width: 50%;}#sk-container-id-8 div.sk-parallel-item:last-child::after {align-self: flex-start;width: 50%;}#sk-container-id-8 div.sk-parallel-item:only-child::after {width: 0;}#sk-container-id-8 div.sk-dashed-wrapped {border: 1px dashed gray;margin: 0 0.4em 0.5em 0.4em;box-sizing: border-box;padding-bottom: 0.4em;background-color: white;}#sk-container-id-8 div.sk-label label {font-family: monospace;font-weight: bold;display: inline-block;line-height: 1.2em;}#sk-container-id-8 div.sk-label-container {text-align: center;}#sk-container-id-8 div.sk-container {/* jupyter's `normalize.less` sets `[hidden] { display: none; }` but bootstrap.min.css set `[hidden] { display: none !important; }` so we also need the `!important` here to be able to override the default hidden behavior on the sphinx rendered scikit-learn.org. See: https://github.com/scikit-learn/scikit-learn/issues/21755 */display: inline-block !important;position: relative;}#sk-container-id-8 div.sk-text-repr-fallback {display: none;}</style><div id=\"sk-container-id-8\" class=\"sk-top-container\"><div class=\"sk-text-repr-fallback\"><pre>KNeighborsClassifier(n_neighbors=3)</pre><b>In a Jupyter environment, please rerun this cell to show the HTML representation or trust the notebook. <br />On GitHub, the HTML representation is unable to render, please try loading this page with nbviewer.org.</b></div><div class=\"sk-container\" hidden><div class=\"sk-item\"><div class=\"sk-estimator sk-toggleable\"><input class=\"sk-toggleable__control sk-hidden--visually\" id=\"sk-estimator-id-8\" type=\"checkbox\" checked><label for=\"sk-estimator-id-8\" class=\"sk-toggleable__label sk-toggleable__label-arrow\">KNeighborsClassifier</label><div class=\"sk-toggleable__content\"><pre>KNeighborsClassifier(n_neighbors=3)</pre></div></div></div></div></div>"
            ]
          },
          "metadata": {},
          "execution_count": 96
        }
      ]
    },
    {
      "cell_type": "code",
      "source": [
        "y_proba = knn_model.predict_proba(X_test)[:, 1]\n",
        "y_pred = (y_proba > 0.5).astype(int)"
      ],
      "metadata": {
        "id": "Sz_pxPD3DUPh"
      },
      "execution_count": null,
      "outputs": []
    },
    {
      "cell_type": "code",
      "source": [
        "#k=3\n",
        "from sklearn.metrics import accuracy_score, classification_report, confusion_matrix, roc_auc_score\n",
        "\n",
        "# Evaluate the model\n",
        "accuracy = accuracy_score(y_test['like'], y_pred)\n",
        "conf_matrix = confusion_matrix(y_test['like'], y_pred)\n",
        "class_report = classification_report(y_test['like'], y_pred)\n",
        "roc_auc = roc_auc_score(y_test['like'], y_proba)\n",
        "\n",
        "print(f\"Accuracy: {accuracy:.2f}\")\n",
        "print(\"Confusion Matrix:\")\n",
        "print(conf_matrix)\n",
        "print(\"Classification Report:\")\n",
        "print(class_report)\n",
        "print(f\"ROC AUC: {roc_auc:.2f}\")"
      ],
      "metadata": {
        "colab": {
          "base_uri": "https://localhost:8080/"
        },
        "id": "5Wi_F6dYEI6S",
        "outputId": "b596a556-a3bd-4c99-de24-94642a33f63f"
      },
      "execution_count": null,
      "outputs": [
        {
          "output_type": "stream",
          "name": "stdout",
          "text": [
            "Accuracy: 0.71\n",
            "Confusion Matrix:\n",
            "[[8671 1920]\n",
            " [2359 1718]]\n",
            "Classification Report:\n",
            "              precision    recall  f1-score   support\n",
            "\n",
            "           0       0.79      0.82      0.80     10591\n",
            "           1       0.47      0.42      0.45      4077\n",
            "\n",
            "    accuracy                           0.71     14668\n",
            "   macro avg       0.63      0.62      0.62     14668\n",
            "weighted avg       0.70      0.71      0.70     14668\n",
            "\n",
            "ROC AUC: 0.68\n"
          ]
        }
      ]
    },
    {
      "cell_type": "code",
      "source": [
        "#k=20\n",
        "from sklearn.metrics import accuracy_score, classification_report, confusion_matrix, roc_auc_score\n",
        "\n",
        "# Evaluate the model\n",
        "accuracy = accuracy_score(y_test['like'], y_pred)\n",
        "conf_matrix = confusion_matrix(y_test['like'], y_pred)\n",
        "class_report = classification_report(y_test['like'], y_pred)\n",
        "roc_auc = roc_auc_score(y_test['like'], y_proba)\n",
        "\n",
        "print(f\"Accuracy: {accuracy:.2f}\")\n",
        "print(\"Confusion Matrix:\")\n",
        "print(conf_matrix)\n",
        "print(\"Classification Report:\")\n",
        "print(class_report)\n",
        "print(f\"ROC AUC: {roc_auc:.2f}\")"
      ],
      "metadata": {
        "colab": {
          "base_uri": "https://localhost:8080/"
        },
        "id": "0ms3USbRDkGE",
        "outputId": "6397a849-ba0c-4972-d844-430cffcd1762"
      },
      "execution_count": null,
      "outputs": [
        {
          "output_type": "stream",
          "name": "stdout",
          "text": [
            "Accuracy: 0.76\n",
            "Confusion Matrix:\n",
            "[[9651  940]\n",
            " [2642 1435]]\n",
            "Classification Report:\n",
            "              precision    recall  f1-score   support\n",
            "\n",
            "           0       0.79      0.91      0.84     10591\n",
            "           1       0.60      0.35      0.44      4077\n",
            "\n",
            "    accuracy                           0.76     14668\n",
            "   macro avg       0.69      0.63      0.64     14668\n",
            "weighted avg       0.73      0.76      0.73     14668\n",
            "\n",
            "ROC AUC: 0.75\n"
          ]
        }
      ]
    },
    {
      "cell_type": "code",
      "source": [],
      "metadata": {
        "id": "9eK3xaCFDtTM"
      },
      "execution_count": null,
      "outputs": []
    },
    {
      "cell_type": "code",
      "source": [
        "#k=5\n",
        "from sklearn.metrics import accuracy_score, classification_report, confusion_matrix, roc_auc_score\n",
        "\n",
        "# Evaluate the model\n",
        "accuracy = accuracy_score(y_test['like'], y_pred)\n",
        "conf_matrix = confusion_matrix(y_test['like'], y_pred)\n",
        "class_report = classification_report(y_test['like'], y_pred)\n",
        "roc_auc = roc_auc_score(y_test['like'], y_proba)\n",
        "\n",
        "print(f\"Accuracy: {accuracy:.2f}\")\n",
        "print(\"Confusion Matrix:\")\n",
        "print(conf_matrix)\n",
        "print(\"Classification Report:\")\n",
        "print(class_report)\n",
        "print(f\"ROC AUC: {roc_auc:.2f}\")"
      ],
      "metadata": {
        "colab": {
          "base_uri": "https://localhost:8080/"
        },
        "id": "e74ZAQ0wDcUP",
        "outputId": "d5fb4399-6f09-4fb2-ae2a-3ad4ad81eb9f"
      },
      "execution_count": null,
      "outputs": [
        {
          "output_type": "stream",
          "name": "stdout",
          "text": [
            "Accuracy: 0.73\n",
            "Confusion Matrix:\n",
            "[[9022 1569]\n",
            " [2381 1696]]\n",
            "Classification Report:\n",
            "              precision    recall  f1-score   support\n",
            "\n",
            "           0       0.79      0.85      0.82     10591\n",
            "           1       0.52      0.42      0.46      4077\n",
            "\n",
            "    accuracy                           0.73     14668\n",
            "   macro avg       0.66      0.63      0.64     14668\n",
            "weighted avg       0.72      0.73      0.72     14668\n",
            "\n",
            "ROC AUC: 0.70\n"
          ]
        }
      ]
    },
    {
      "cell_type": "markdown",
      "source": [
        "###XGBoost Regressor + XGBoost Classifier"
      ],
      "metadata": {
        "id": "QtfjiIi8zW5V"
      }
    },
    {
      "cell_type": "code",
      "source": [
        "#@title get training data\n",
        "data_collector = DataCollectorExample(\n",
        "    engagement_path='sample_data/engagement_train.csv',\n",
        "    content_meta_path='sample_data/generated_content_metadata.csv'\n",
        "    )\n",
        "\n",
        "X_train = data_collector.gen_model_input(is_train=True)\n",
        "y_train = data_collector.gen_target_vars()\n",
        "\n",
        "# ensure that each row of y_train corresponds to the correct user-content in X_train\n",
        "y_train = y_train.reindex(index=X_train.index)"
      ],
      "metadata": {
        "colab": {
          "base_uri": "https://localhost:8080/"
        },
        "id": "mlTwLA6Jy3yX",
        "outputId": "7bb8213c-5c37-4184-daa8-58fa3bfecf54"
      },
      "execution_count": null,
      "outputs": [
        {
          "output_type": "stream",
          "name": "stderr",
          "text": [
            "<ipython-input-6-c8e6a328e850>:16: UserWarning: Boolean Series key will be reindexed to match DataFrame index.\n",
            "  like_data = self.user_data[engagement_data['engagement_type'] == 'Like']\n"
          ]
        }
      ]
    },
    {
      "cell_type": "code",
      "source": [
        "X_train, X_test, y_train, y_test = train_test_split(X_train, y_train, test_size=0.1, random_state=42)"
      ],
      "metadata": {
        "id": "zPfjs99YzTNZ"
      },
      "execution_count": null,
      "outputs": []
    },
    {
      "cell_type": "code",
      "source": [
        "from xgboost import XGBRegressor\n",
        "\n",
        "model = XGBRegressor(objective ='reg:squarederror', colsample_bytree = 0.3, learning_rate = 0.01,\n",
        "                max_depth = 10, alpha = 10, n_estimators = 10)"
      ],
      "metadata": {
        "id": "TvrhE4Nf2YrO"
      },
      "execution_count": null,
      "outputs": []
    },
    {
      "cell_type": "code",
      "source": [
        "model.fit(X_train, y_train['engage_time'])"
      ],
      "metadata": {
        "colab": {
          "base_uri": "https://localhost:8080/",
          "height": 248
        },
        "id": "_HKrq_ry2a-s",
        "outputId": "5412898c-a33d-44e7-8e06-2f634b46c9bb"
      },
      "execution_count": null,
      "outputs": [
        {
          "output_type": "execute_result",
          "data": {
            "text/plain": [
              "XGBRegressor(alpha=10, base_score=None, booster=None, callbacks=None,\n",
              "             colsample_bylevel=None, colsample_bynode=None,\n",
              "             colsample_bytree=0.3, device=None, early_stopping_rounds=None,\n",
              "             enable_categorical=False, eval_metric=None, feature_types=None,\n",
              "             gamma=None, grow_policy=None, importance_type=None,\n",
              "             interaction_constraints=None, learning_rate=0.01, max_bin=None,\n",
              "             max_cat_threshold=None, max_cat_to_onehot=None,\n",
              "             max_delta_step=None, max_depth=10, max_leaves=None,\n",
              "             min_child_weight=None, missing=nan, monotone_constraints=None,\n",
              "             multi_strategy=None, n_estimators=10, n_jobs=None,\n",
              "             num_parallel_tree=None, ...)"
            ],
            "text/html": [
              "<style>#sk-container-id-5 {color: black;background-color: white;}#sk-container-id-5 pre{padding: 0;}#sk-container-id-5 div.sk-toggleable {background-color: white;}#sk-container-id-5 label.sk-toggleable__label {cursor: pointer;display: block;width: 100%;margin-bottom: 0;padding: 0.3em;box-sizing: border-box;text-align: center;}#sk-container-id-5 label.sk-toggleable__label-arrow:before {content: \"▸\";float: left;margin-right: 0.25em;color: #696969;}#sk-container-id-5 label.sk-toggleable__label-arrow:hover:before {color: black;}#sk-container-id-5 div.sk-estimator:hover label.sk-toggleable__label-arrow:before {color: black;}#sk-container-id-5 div.sk-toggleable__content {max-height: 0;max-width: 0;overflow: hidden;text-align: left;background-color: #f0f8ff;}#sk-container-id-5 div.sk-toggleable__content pre {margin: 0.2em;color: black;border-radius: 0.25em;background-color: #f0f8ff;}#sk-container-id-5 input.sk-toggleable__control:checked~div.sk-toggleable__content {max-height: 200px;max-width: 100%;overflow: auto;}#sk-container-id-5 input.sk-toggleable__control:checked~label.sk-toggleable__label-arrow:before {content: \"▾\";}#sk-container-id-5 div.sk-estimator input.sk-toggleable__control:checked~label.sk-toggleable__label {background-color: #d4ebff;}#sk-container-id-5 div.sk-label input.sk-toggleable__control:checked~label.sk-toggleable__label {background-color: #d4ebff;}#sk-container-id-5 input.sk-hidden--visually {border: 0;clip: rect(1px 1px 1px 1px);clip: rect(1px, 1px, 1px, 1px);height: 1px;margin: -1px;overflow: hidden;padding: 0;position: absolute;width: 1px;}#sk-container-id-5 div.sk-estimator {font-family: monospace;background-color: #f0f8ff;border: 1px dotted black;border-radius: 0.25em;box-sizing: border-box;margin-bottom: 0.5em;}#sk-container-id-5 div.sk-estimator:hover {background-color: #d4ebff;}#sk-container-id-5 div.sk-parallel-item::after {content: \"\";width: 100%;border-bottom: 1px solid gray;flex-grow: 1;}#sk-container-id-5 div.sk-label:hover label.sk-toggleable__label {background-color: #d4ebff;}#sk-container-id-5 div.sk-serial::before {content: \"\";position: absolute;border-left: 1px solid gray;box-sizing: border-box;top: 0;bottom: 0;left: 50%;z-index: 0;}#sk-container-id-5 div.sk-serial {display: flex;flex-direction: column;align-items: center;background-color: white;padding-right: 0.2em;padding-left: 0.2em;position: relative;}#sk-container-id-5 div.sk-item {position: relative;z-index: 1;}#sk-container-id-5 div.sk-parallel {display: flex;align-items: stretch;justify-content: center;background-color: white;position: relative;}#sk-container-id-5 div.sk-item::before, #sk-container-id-5 div.sk-parallel-item::before {content: \"\";position: absolute;border-left: 1px solid gray;box-sizing: border-box;top: 0;bottom: 0;left: 50%;z-index: -1;}#sk-container-id-5 div.sk-parallel-item {display: flex;flex-direction: column;z-index: 1;position: relative;background-color: white;}#sk-container-id-5 div.sk-parallel-item:first-child::after {align-self: flex-end;width: 50%;}#sk-container-id-5 div.sk-parallel-item:last-child::after {align-self: flex-start;width: 50%;}#sk-container-id-5 div.sk-parallel-item:only-child::after {width: 0;}#sk-container-id-5 div.sk-dashed-wrapped {border: 1px dashed gray;margin: 0 0.4em 0.5em 0.4em;box-sizing: border-box;padding-bottom: 0.4em;background-color: white;}#sk-container-id-5 div.sk-label label {font-family: monospace;font-weight: bold;display: inline-block;line-height: 1.2em;}#sk-container-id-5 div.sk-label-container {text-align: center;}#sk-container-id-5 div.sk-container {/* jupyter's `normalize.less` sets `[hidden] { display: none; }` but bootstrap.min.css set `[hidden] { display: none !important; }` so we also need the `!important` here to be able to override the default hidden behavior on the sphinx rendered scikit-learn.org. See: https://github.com/scikit-learn/scikit-learn/issues/21755 */display: inline-block !important;position: relative;}#sk-container-id-5 div.sk-text-repr-fallback {display: none;}</style><div id=\"sk-container-id-5\" class=\"sk-top-container\"><div class=\"sk-text-repr-fallback\"><pre>XGBRegressor(alpha=10, base_score=None, booster=None, callbacks=None,\n",
              "             colsample_bylevel=None, colsample_bynode=None,\n",
              "             colsample_bytree=0.3, device=None, early_stopping_rounds=None,\n",
              "             enable_categorical=False, eval_metric=None, feature_types=None,\n",
              "             gamma=None, grow_policy=None, importance_type=None,\n",
              "             interaction_constraints=None, learning_rate=0.01, max_bin=None,\n",
              "             max_cat_threshold=None, max_cat_to_onehot=None,\n",
              "             max_delta_step=None, max_depth=10, max_leaves=None,\n",
              "             min_child_weight=None, missing=nan, monotone_constraints=None,\n",
              "             multi_strategy=None, n_estimators=10, n_jobs=None,\n",
              "             num_parallel_tree=None, ...)</pre><b>In a Jupyter environment, please rerun this cell to show the HTML representation or trust the notebook. <br />On GitHub, the HTML representation is unable to render, please try loading this page with nbviewer.org.</b></div><div class=\"sk-container\" hidden><div class=\"sk-item\"><div class=\"sk-estimator sk-toggleable\"><input class=\"sk-toggleable__control sk-hidden--visually\" id=\"sk-estimator-id-5\" type=\"checkbox\" checked><label for=\"sk-estimator-id-5\" class=\"sk-toggleable__label sk-toggleable__label-arrow\">XGBRegressor</label><div class=\"sk-toggleable__content\"><pre>XGBRegressor(alpha=10, base_score=None, booster=None, callbacks=None,\n",
              "             colsample_bylevel=None, colsample_bynode=None,\n",
              "             colsample_bytree=0.3, device=None, early_stopping_rounds=None,\n",
              "             enable_categorical=False, eval_metric=None, feature_types=None,\n",
              "             gamma=None, grow_policy=None, importance_type=None,\n",
              "             interaction_constraints=None, learning_rate=0.01, max_bin=None,\n",
              "             max_cat_threshold=None, max_cat_to_onehot=None,\n",
              "             max_delta_step=None, max_depth=10, max_leaves=None,\n",
              "             min_child_weight=None, missing=nan, monotone_constraints=None,\n",
              "             multi_strategy=None, n_estimators=10, n_jobs=None,\n",
              "             num_parallel_tree=None, ...)</pre></div></div></div></div></div>"
            ]
          },
          "metadata": {},
          "execution_count": 36
        }
      ]
    },
    {
      "cell_type": "code",
      "source": [
        "y_pred = model.predict(X_test)"
      ],
      "metadata": {
        "id": "iWKeQNdr2bz4"
      },
      "execution_count": null,
      "outputs": []
    },
    {
      "cell_type": "code",
      "source": [
        "from sklearn.metrics import mean_squared_error\n",
        "\n",
        "rmse = np.sqrt(mean_squared_error(y_test['engage_time'], y_pred))\n",
        "print(\"Root Mean Squared Error: {}\".format(rmse))"
      ],
      "metadata": {
        "colab": {
          "base_uri": "https://localhost:8080/"
        },
        "id": "6zkyP_lp2b9w",
        "outputId": "9fbe938f-eee1-4f0f-fe6e-92fc111a9224"
      },
      "execution_count": null,
      "outputs": [
        {
          "output_type": "stream",
          "name": "stdout",
          "text": [
            "Root Mean Squared Error: 1783167.3329244216\n"
          ]
        }
      ]
    },
    {
      "cell_type": "code",
      "source": [],
      "metadata": {
        "id": "RaxhTWBDAgqG"
      },
      "execution_count": null,
      "outputs": []
    },
    {
      "cell_type": "code",
      "source": [
        "from xgboost import XGBClassifier\n",
        "\n",
        "model = XGBClassifier(\n",
        "    learning_rate=0.1,  # Adjust as needed\n",
        "    n_estimators=300,   # Adjust as needed\n",
        "    max_depth=20,        # Adjust as needed\n",
        "    subsample=0.5,      # Adjust as needed\n",
        "    colsample_bytree=1.0,  # Adjust as needed\n",
        "    random_state=42\n",
        ")"
      ],
      "metadata": {
        "id": "27BY2bUzAgu9"
      },
      "execution_count": null,
      "outputs": []
    },
    {
      "cell_type": "code",
      "source": [
        "model.fit(X_train, y_train['like'])\n",
        "y_proba = model.predict_proba(X_test)[:, 1]\n",
        "y_pred = (y_proba > 0.5).astype(int)"
      ],
      "metadata": {
        "id": "bzGkJkaiAjn8"
      },
      "execution_count": null,
      "outputs": []
    },
    {
      "cell_type": "code",
      "source": [
        "from sklearn.metrics import accuracy_score, classification_report, confusion_matrix, roc_auc_score\n",
        "\n",
        "# Evaluate the model\n",
        "accuracy = accuracy_score(y_test['like'], y_pred)\n",
        "conf_matrix = confusion_matrix(y_test['like'], y_pred)\n",
        "class_report = classification_report(y_test['like'], y_pred)\n",
        "roc_auc = roc_auc_score(y_test['like'], y_proba)\n",
        "\n",
        "print(f\"Accuracy: {accuracy:.2f}\")\n",
        "print(\"Confusion Matrix:\")\n",
        "print(conf_matrix)\n",
        "print(\"Classification Report:\")\n",
        "print(class_report)\n",
        "print(f\"ROC AUC: {roc_auc:.2f}\")"
      ],
      "metadata": {
        "colab": {
          "base_uri": "https://localhost:8080/"
        },
        "id": "m_kCgECqBWG1",
        "outputId": "32df3072-652e-40eb-bc05-50038075a7fa"
      },
      "execution_count": null,
      "outputs": [
        {
          "output_type": "stream",
          "name": "stdout",
          "text": [
            "Accuracy: 0.77\n",
            "Confusion Matrix:\n",
            "[[9758  833]\n",
            " [2580 1497]]\n",
            "Classification Report:\n",
            "              precision    recall  f1-score   support\n",
            "\n",
            "           0       0.79      0.92      0.85     10591\n",
            "           1       0.64      0.37      0.47      4077\n",
            "\n",
            "    accuracy                           0.77     14668\n",
            "   macro avg       0.72      0.64      0.66     14668\n",
            "weighted avg       0.75      0.77      0.74     14668\n",
            "\n",
            "ROC AUC: 0.77\n"
          ]
        }
      ]
    },
    {
      "cell_type": "code",
      "source": [
        "from sklearn.metrics import accuracy_score, classification_report, confusion_matrix, roc_auc_score\n",
        "\n",
        "# Evaluate the model\n",
        "accuracy = accuracy_score(y_test['like'], y_pred)\n",
        "conf_matrix = confusion_matrix(y_test['like'], y_pred)\n",
        "class_report = classification_report(y_test['like'], y_pred)\n",
        "roc_auc = roc_auc_score(y_test['like'], y_proba)\n",
        "\n",
        "print(f\"Accuracy: {accuracy:.2f}\")\n",
        "print(\"Confusion Matrix:\")\n",
        "print(conf_matrix)\n",
        "print(\"Classification Report:\")\n",
        "print(class_report)\n",
        "print(f\"ROC AUC: {roc_auc:.2f}\")"
      ],
      "metadata": {
        "colab": {
          "base_uri": "https://localhost:8080/"
        },
        "id": "4_IEkLZiAlFv",
        "outputId": "87a84e50-ead5-49b2-a717-8253987bbf9f"
      },
      "execution_count": null,
      "outputs": [
        {
          "output_type": "stream",
          "name": "stdout",
          "text": [
            "Accuracy: 0.77\n",
            "Confusion Matrix:\n",
            "[[9852  739]\n",
            " [2613 1464]]\n",
            "Classification Report:\n",
            "              precision    recall  f1-score   support\n",
            "\n",
            "           0       0.79      0.93      0.85     10591\n",
            "           1       0.66      0.36      0.47      4077\n",
            "\n",
            "    accuracy                           0.77     14668\n",
            "   macro avg       0.73      0.64      0.66     14668\n",
            "weighted avg       0.76      0.77      0.75     14668\n",
            "\n",
            "ROC AUC: 0.78\n"
          ]
        }
      ]
    },
    {
      "cell_type": "code",
      "source": [],
      "metadata": {
        "id": "UXeEdP1WAljs"
      },
      "execution_count": null,
      "outputs": []
    },
    {
      "cell_type": "code",
      "source": [
        "from xgboost import XGBClassifier\n",
        "\n",
        "model = XGBClassifier(\n",
        "    learning_rate=0.01,  # Adjust as needed\n",
        "    n_estimators=100,   # Adjust as needed\n",
        "    max_depth=10,        # Adjust as needed\n",
        "    subsample=0.5,      # Adjust as needed\n",
        "    colsample_bytree=0.8,  # Adjust as needed\n",
        "    random_state=42\n",
        ")"
      ],
      "metadata": {
        "id": "b2Ki2jQc2ez6"
      },
      "execution_count": null,
      "outputs": []
    },
    {
      "cell_type": "code",
      "source": [
        "model.fit(X_train, y_train['like'])\n",
        "y_proba = model.predict_proba(X_test)[:, 1]\n",
        "y_pred = (y_proba > 0.5).astype(int)"
      ],
      "metadata": {
        "id": "QOLPref1_5_G"
      },
      "execution_count": null,
      "outputs": []
    },
    {
      "cell_type": "code",
      "source": [
        "from sklearn.metrics import accuracy_score, classification_report, confusion_matrix, roc_auc_score\n",
        "\n",
        "# Evaluate the model\n",
        "accuracy = accuracy_score(y_test['like'], y_pred)\n",
        "conf_matrix = confusion_matrix(y_test['like'], y_pred)\n",
        "class_report = classification_report(y_test['like'], y_pred)\n",
        "roc_auc = roc_auc_score(y_test['like'], y_proba)\n",
        "\n",
        "print(f\"Accuracy: {accuracy:.2f}\")\n",
        "print(\"Confusion Matrix:\")\n",
        "print(conf_matrix)\n",
        "print(\"Classification Report:\")\n",
        "print(class_report)\n",
        "print(f\"ROC AUC: {roc_auc:.2f}\")"
      ],
      "metadata": {
        "colab": {
          "base_uri": "https://localhost:8080/"
        },
        "id": "JT5nl5qV_6eW",
        "outputId": "2e27fe98-69c0-4f8c-b8a3-0d879160b7f9"
      },
      "execution_count": null,
      "outputs": [
        {
          "output_type": "stream",
          "name": "stdout",
          "text": [
            "Accuracy: 0.76\n",
            "Confusion Matrix:\n",
            "[[10314   277]\n",
            " [ 3245   832]]\n",
            "Classification Report:\n",
            "              precision    recall  f1-score   support\n",
            "\n",
            "           0       0.76      0.97      0.85     10591\n",
            "           1       0.75      0.20      0.32      4077\n",
            "\n",
            "    accuracy                           0.76     14668\n",
            "   macro avg       0.76      0.59      0.59     14668\n",
            "weighted avg       0.76      0.76      0.71     14668\n",
            "\n",
            "ROC AUC: 0.78\n"
          ]
        }
      ]
    },
    {
      "cell_type": "code",
      "source": [
        "from xgboost import XGBClassifier\n",
        "model = XGBClassifier(\n",
        "    learning_rate=0.1,  # Adjust as needed\n",
        "    n_estimators=100,   # Adjust as needed\n",
        "    max_depth=3,        # Adjust as needed\n",
        "    subsample=0.8,      # Adjust as needed\n",
        "    colsample_bytree=0.8,  # Adjust as needed\n",
        "    random_state=42\n",
        ")"
      ],
      "metadata": {
        "id": "adBGzCDr_98j"
      },
      "execution_count": null,
      "outputs": []
    },
    {
      "cell_type": "code",
      "source": [
        "model.fit(X_train, y_train['like'])\n",
        "y_proba = model.predict_proba(X_test)[:, 1]\n",
        "y_pred = (y_proba > 0.5).astype(int)"
      ],
      "metadata": {
        "id": "n0yQNaWC966L"
      },
      "execution_count": null,
      "outputs": []
    },
    {
      "cell_type": "code",
      "source": [
        "from sklearn.metrics import accuracy_score, classification_report, confusion_matrix, roc_auc_score\n",
        "\n",
        "# Evaluate the model\n",
        "accuracy = accuracy_score(y_test['like'], y_pred)\n",
        "conf_matrix = confusion_matrix(y_test['like'], y_pred)\n",
        "class_report = classification_report(y_test['like'], y_pred)\n",
        "roc_auc = roc_auc_score(y_test['like'], y_proba)\n",
        "\n",
        "print(f\"Accuracy: {accuracy:.2f}\")\n",
        "print(\"Confusion Matrix:\")\n",
        "print(conf_matrix)\n",
        "print(\"Classification Report:\")\n",
        "print(class_report)\n",
        "print(f\"ROC AUC: {roc_auc:.2f}\")"
      ],
      "metadata": {
        "colab": {
          "base_uri": "https://localhost:8080/"
        },
        "id": "vhZbEV7U-cRV",
        "outputId": "29d3bae1-db41-4226-f9b2-237725506c93"
      },
      "execution_count": null,
      "outputs": [
        {
          "output_type": "stream",
          "name": "stdout",
          "text": [
            "Accuracy: 0.74\n",
            "Confusion Matrix:\n",
            "[[10459   132]\n",
            " [ 3718   359]]\n",
            "Classification Report:\n",
            "              precision    recall  f1-score   support\n",
            "\n",
            "           0       0.74      0.99      0.84     10591\n",
            "           1       0.73      0.09      0.16      4077\n",
            "\n",
            "    accuracy                           0.74     14668\n",
            "   macro avg       0.73      0.54      0.50     14668\n",
            "weighted avg       0.74      0.74      0.65     14668\n",
            "\n",
            "ROC AUC: 0.74\n"
          ]
        }
      ]
    },
    {
      "cell_type": "code",
      "source": [
        "y_proba = model.predict_proba(X_train)[:, 1]\n",
        "y_pred = (y_proba > 0.5).astype(int)"
      ],
      "metadata": {
        "id": "4VZZ1gLL_E5X"
      },
      "execution_count": null,
      "outputs": []
    },
    {
      "cell_type": "code",
      "source": [
        "from sklearn.metrics import accuracy_score, classification_report, confusion_matrix, roc_auc_score\n",
        "\n",
        "# Evaluate the model\n",
        "accuracy = accuracy_score(y_train['like'], y_pred)\n",
        "conf_matrix = confusion_matrix(y_train['like'], y_pred)\n",
        "class_report = classification_report(y_train['like'], y_pred)\n",
        "roc_auc = roc_auc_score(y_train['like'], y_proba)\n",
        "\n",
        "print(f\"Accuracy: {accuracy:.2f}\")\n",
        "print(\"Confusion Matrix:\")\n",
        "print(conf_matrix)\n",
        "print(\"Classification Report:\")\n",
        "print(class_report)\n",
        "print(f\"ROC AUC: {roc_auc:.2f}\")"
      ],
      "metadata": {
        "colab": {
          "base_uri": "https://localhost:8080/"
        },
        "id": "HKdzloPg-caG",
        "outputId": "027134dc-ef0c-41c8-d341-72eaa8a19f1e"
      },
      "execution_count": null,
      "outputs": [
        {
          "output_type": "stream",
          "name": "stdout",
          "text": [
            "Accuracy: 0.74\n",
            "Confusion Matrix:\n",
            "[[94724  1209]\n",
            " [32654  3416]]\n",
            "Classification Report:\n",
            "              precision    recall  f1-score   support\n",
            "\n",
            "           0       0.74      0.99      0.85     95933\n",
            "           1       0.74      0.09      0.17     36070\n",
            "\n",
            "    accuracy                           0.74    132003\n",
            "   macro avg       0.74      0.54      0.51    132003\n",
            "weighted avg       0.74      0.74      0.66    132003\n",
            "\n",
            "ROC AUC: 0.75\n"
          ]
        }
      ]
    },
    {
      "cell_type": "code",
      "source": [],
      "metadata": {
        "id": "fug3_X_b-cfD"
      },
      "execution_count": null,
      "outputs": []
    },
    {
      "cell_type": "code",
      "source": [],
      "metadata": {
        "id": "nxB12Ibe_KM8"
      },
      "execution_count": null,
      "outputs": []
    },
    {
      "cell_type": "code",
      "source": [],
      "metadata": {
        "id": "dEUAaXr8_KRU"
      },
      "execution_count": null,
      "outputs": []
    },
    {
      "cell_type": "code",
      "source": [
        "from xgboost import XGBRegressor\n",
        "\n",
        "xg_reg = XGBRegressor(objective ='reg:squarederror', colsample_bytree = 0.3, learning_rate = 0.1,\n",
        "                max_depth = 5, alpha = 10, n_estimators = 10)"
      ],
      "metadata": {
        "id": "Tkf_RfjlzVHB"
      },
      "execution_count": null,
      "outputs": []
    },
    {
      "cell_type": "code",
      "source": [
        "xg_reg.fit(X_train, y_train['engage_time'])"
      ],
      "metadata": {
        "colab": {
          "base_uri": "https://localhost:8080/",
          "height": 248
        },
        "id": "ZnxwHfZs1Fy1",
        "outputId": "089ae26a-35f0-4c52-e7ad-509ef8e331ee"
      },
      "execution_count": null,
      "outputs": [
        {
          "output_type": "execute_result",
          "data": {
            "text/plain": [
              "XGBRegressor(alpha=10, base_score=None, booster=None, callbacks=None,\n",
              "             colsample_bylevel=None, colsample_bynode=None,\n",
              "             colsample_bytree=0.3, device=None, early_stopping_rounds=None,\n",
              "             enable_categorical=False, eval_metric=None, feature_types=None,\n",
              "             gamma=None, grow_policy=None, importance_type=None,\n",
              "             interaction_constraints=None, learning_rate=0.1, max_bin=None,\n",
              "             max_cat_threshold=None, max_cat_to_onehot=None,\n",
              "             max_delta_step=None, max_depth=5, max_leaves=None,\n",
              "             min_child_weight=None, missing=nan, monotone_constraints=None,\n",
              "             multi_strategy=None, n_estimators=10, n_jobs=None,\n",
              "             num_parallel_tree=None, ...)"
            ],
            "text/html": [
              "<style>#sk-container-id-2 {color: black;background-color: white;}#sk-container-id-2 pre{padding: 0;}#sk-container-id-2 div.sk-toggleable {background-color: white;}#sk-container-id-2 label.sk-toggleable__label {cursor: pointer;display: block;width: 100%;margin-bottom: 0;padding: 0.3em;box-sizing: border-box;text-align: center;}#sk-container-id-2 label.sk-toggleable__label-arrow:before {content: \"▸\";float: left;margin-right: 0.25em;color: #696969;}#sk-container-id-2 label.sk-toggleable__label-arrow:hover:before {color: black;}#sk-container-id-2 div.sk-estimator:hover label.sk-toggleable__label-arrow:before {color: black;}#sk-container-id-2 div.sk-toggleable__content {max-height: 0;max-width: 0;overflow: hidden;text-align: left;background-color: #f0f8ff;}#sk-container-id-2 div.sk-toggleable__content pre {margin: 0.2em;color: black;border-radius: 0.25em;background-color: #f0f8ff;}#sk-container-id-2 input.sk-toggleable__control:checked~div.sk-toggleable__content {max-height: 200px;max-width: 100%;overflow: auto;}#sk-container-id-2 input.sk-toggleable__control:checked~label.sk-toggleable__label-arrow:before {content: \"▾\";}#sk-container-id-2 div.sk-estimator input.sk-toggleable__control:checked~label.sk-toggleable__label {background-color: #d4ebff;}#sk-container-id-2 div.sk-label input.sk-toggleable__control:checked~label.sk-toggleable__label {background-color: #d4ebff;}#sk-container-id-2 input.sk-hidden--visually {border: 0;clip: rect(1px 1px 1px 1px);clip: rect(1px, 1px, 1px, 1px);height: 1px;margin: -1px;overflow: hidden;padding: 0;position: absolute;width: 1px;}#sk-container-id-2 div.sk-estimator {font-family: monospace;background-color: #f0f8ff;border: 1px dotted black;border-radius: 0.25em;box-sizing: border-box;margin-bottom: 0.5em;}#sk-container-id-2 div.sk-estimator:hover {background-color: #d4ebff;}#sk-container-id-2 div.sk-parallel-item::after {content: \"\";width: 100%;border-bottom: 1px solid gray;flex-grow: 1;}#sk-container-id-2 div.sk-label:hover label.sk-toggleable__label {background-color: #d4ebff;}#sk-container-id-2 div.sk-serial::before {content: \"\";position: absolute;border-left: 1px solid gray;box-sizing: border-box;top: 0;bottom: 0;left: 50%;z-index: 0;}#sk-container-id-2 div.sk-serial {display: flex;flex-direction: column;align-items: center;background-color: white;padding-right: 0.2em;padding-left: 0.2em;position: relative;}#sk-container-id-2 div.sk-item {position: relative;z-index: 1;}#sk-container-id-2 div.sk-parallel {display: flex;align-items: stretch;justify-content: center;background-color: white;position: relative;}#sk-container-id-2 div.sk-item::before, #sk-container-id-2 div.sk-parallel-item::before {content: \"\";position: absolute;border-left: 1px solid gray;box-sizing: border-box;top: 0;bottom: 0;left: 50%;z-index: -1;}#sk-container-id-2 div.sk-parallel-item {display: flex;flex-direction: column;z-index: 1;position: relative;background-color: white;}#sk-container-id-2 div.sk-parallel-item:first-child::after {align-self: flex-end;width: 50%;}#sk-container-id-2 div.sk-parallel-item:last-child::after {align-self: flex-start;width: 50%;}#sk-container-id-2 div.sk-parallel-item:only-child::after {width: 0;}#sk-container-id-2 div.sk-dashed-wrapped {border: 1px dashed gray;margin: 0 0.4em 0.5em 0.4em;box-sizing: border-box;padding-bottom: 0.4em;background-color: white;}#sk-container-id-2 div.sk-label label {font-family: monospace;font-weight: bold;display: inline-block;line-height: 1.2em;}#sk-container-id-2 div.sk-label-container {text-align: center;}#sk-container-id-2 div.sk-container {/* jupyter's `normalize.less` sets `[hidden] { display: none; }` but bootstrap.min.css set `[hidden] { display: none !important; }` so we also need the `!important` here to be able to override the default hidden behavior on the sphinx rendered scikit-learn.org. See: https://github.com/scikit-learn/scikit-learn/issues/21755 */display: inline-block !important;position: relative;}#sk-container-id-2 div.sk-text-repr-fallback {display: none;}</style><div id=\"sk-container-id-2\" class=\"sk-top-container\"><div class=\"sk-text-repr-fallback\"><pre>XGBRegressor(alpha=10, base_score=None, booster=None, callbacks=None,\n",
              "             colsample_bylevel=None, colsample_bynode=None,\n",
              "             colsample_bytree=0.3, device=None, early_stopping_rounds=None,\n",
              "             enable_categorical=False, eval_metric=None, feature_types=None,\n",
              "             gamma=None, grow_policy=None, importance_type=None,\n",
              "             interaction_constraints=None, learning_rate=0.1, max_bin=None,\n",
              "             max_cat_threshold=None, max_cat_to_onehot=None,\n",
              "             max_delta_step=None, max_depth=5, max_leaves=None,\n",
              "             min_child_weight=None, missing=nan, monotone_constraints=None,\n",
              "             multi_strategy=None, n_estimators=10, n_jobs=None,\n",
              "             num_parallel_tree=None, ...)</pre><b>In a Jupyter environment, please rerun this cell to show the HTML representation or trust the notebook. <br />On GitHub, the HTML representation is unable to render, please try loading this page with nbviewer.org.</b></div><div class=\"sk-container\" hidden><div class=\"sk-item\"><div class=\"sk-estimator sk-toggleable\"><input class=\"sk-toggleable__control sk-hidden--visually\" id=\"sk-estimator-id-2\" type=\"checkbox\" checked><label for=\"sk-estimator-id-2\" class=\"sk-toggleable__label sk-toggleable__label-arrow\">XGBRegressor</label><div class=\"sk-toggleable__content\"><pre>XGBRegressor(alpha=10, base_score=None, booster=None, callbacks=None,\n",
              "             colsample_bylevel=None, colsample_bynode=None,\n",
              "             colsample_bytree=0.3, device=None, early_stopping_rounds=None,\n",
              "             enable_categorical=False, eval_metric=None, feature_types=None,\n",
              "             gamma=None, grow_policy=None, importance_type=None,\n",
              "             interaction_constraints=None, learning_rate=0.1, max_bin=None,\n",
              "             max_cat_threshold=None, max_cat_to_onehot=None,\n",
              "             max_delta_step=None, max_depth=5, max_leaves=None,\n",
              "             min_child_weight=None, missing=nan, monotone_constraints=None,\n",
              "             multi_strategy=None, n_estimators=10, n_jobs=None,\n",
              "             num_parallel_tree=None, ...)</pre></div></div></div></div></div>"
            ]
          },
          "metadata": {},
          "execution_count": 23
        }
      ]
    },
    {
      "cell_type": "code",
      "source": [
        "y_pred = xg_reg.predict(X_test)"
      ],
      "metadata": {
        "id": "M2da3XVU1F3u"
      },
      "execution_count": null,
      "outputs": []
    },
    {
      "cell_type": "code",
      "source": [
        "from sklearn.metrics import mean_squared_error\n",
        "\n",
        "rmse = np.sqrt(mean_squared_error(y_test['engage_time'], y_pred))\n",
        "print(\"Root Mean Squared Error: {}\".format(rmse))"
      ],
      "metadata": {
        "colab": {
          "base_uri": "https://localhost:8080/"
        },
        "id": "2hmd4IC01F65",
        "outputId": "888ded85-769f-4a92-c7e6-044c3bb2d6cc"
      },
      "execution_count": null,
      "outputs": [
        {
          "output_type": "stream",
          "name": "stdout",
          "text": [
            "Root Mean Squared Error: 1783203.3344699605\n"
          ]
        }
      ]
    },
    {
      "cell_type": "code",
      "source": [],
      "metadata": {
        "id": "lf7xakl0zVOL"
      },
      "execution_count": null,
      "outputs": []
    },
    {
      "cell_type": "markdown",
      "source": [
        "###Initial Neural Networks Experiments"
      ],
      "metadata": {
        "id": "0wD6JpktzZdL"
      }
    },
    {
      "cell_type": "code",
      "source": [
        "#@title get training data\n",
        "data_collector = DataCollectorExample(\n",
        "    engagement_path='sample_data/engagement.csv',\n",
        "    content_meta_path='sample_data/generated_content_metadata.csv'\n",
        "    )\n",
        "\n",
        "X_train = data_collector.gen_model_input(is_train=True)\n",
        "y_train = data_collector.gen_target_vars()\n",
        "\n",
        "# ensure that each row of y_train corresponds to the correct user-content in X_train\n",
        "y_train = y_train.reindex(index=X_train.index)"
      ],
      "metadata": {
        "id": "TY4Iemk-uiLI"
      },
      "execution_count": null,
      "outputs": []
    },
    {
      "cell_type": "code",
      "source": [
        "X_train.isna().sum()"
      ],
      "metadata": {
        "colab": {
          "base_uri": "https://localhost:8080/"
        },
        "id": "p8OqLO-Ku428",
        "outputId": "117cde6f-43f1-4d37-84bf-3ab2b6767208"
      },
      "execution_count": null,
      "outputs": [
        {
          "output_type": "execute_result",
          "data": {
            "text/plain": [
              "user_likes                         0\n",
              "user_dislikes                      0\n",
              "user_engagetime                    0\n",
              "content_guidance_scale             0\n",
              "content_inference_steps            0\n",
              "content_source_human_prompts       0\n",
              "content_source_other               0\n",
              "content_source_r/Showerthoughts    0\n",
              "content_style_movie                0\n",
              "content_style_other                0\n",
              "dtype: int64"
            ]
          },
          "metadata": {},
          "execution_count": 230
        }
      ]
    },
    {
      "cell_type": "code",
      "source": [
        "y_train.isna().sum()"
      ],
      "metadata": {
        "colab": {
          "base_uri": "https://localhost:8080/"
        },
        "id": "Py-JeIspu-U8",
        "outputId": "bf538adf-043a-4394-86b7-724895ed6eb3"
      },
      "execution_count": null,
      "outputs": [
        {
          "output_type": "execute_result",
          "data": {
            "text/plain": [
              "like           0\n",
              "dislike        0\n",
              "engage_time    0\n",
              "dtype: int64"
            ]
          },
          "metadata": {},
          "execution_count": 231
        }
      ]
    },
    {
      "cell_type": "code",
      "source": [
        "X_train, X_test, y_train, y_test = train_test_split(X_train, y_train, test_size=0.2, random_state=42)"
      ],
      "metadata": {
        "id": "sGy-TqVFuVCV"
      },
      "execution_count": null,
      "outputs": []
    },
    {
      "cell_type": "code",
      "source": [
        "import tensorflow as tf\n",
        "from tensorflow.keras.models import Sequential\n",
        "from tensorflow.keras.layers import Dense, Dropout\n",
        "from sklearn.model_selection import train_test_split\n",
        "from sklearn.preprocessing import StandardScaler\n",
        "\n",
        "# Creating a Sequential model\n",
        "model_engtime = Sequential([\n",
        "    Dense(64, activation='relu', input_shape=(X_train.shape[1],)),\n",
        "    Dropout(0.2),  # Adding dropout for regularization\n",
        "    Dense(32, activation='relu'),\n",
        "    Dense(1)  # Output layer with 1 neuron for regression\n",
        "])\n",
        "model_engtime.compile(optimizer='adam', loss='mean_squared_error', metrics=['mae'])\n",
        "model_engtime.fit(X_train, y_train['engage_time'], epochs=20, batch_size=32)\n",
        "engtime_predictions = model_engtime.predict(X_test)\n",
        "engtime_mse = mean_squared_error(y_test['engage_time'], engtime_predictions)\n",
        "print(f\"Mean Squared Error for 'engage_time': {engtime_mse}\")"
      ],
      "metadata": {
        "id": "IVrpTRARtOt7"
      },
      "execution_count": null,
      "outputs": []
    },
    {
      "cell_type": "code",
      "source": [
        "model_engtime.compile(optimizer='adam', loss='mean_squared_error', metrics=['mae'])"
      ],
      "metadata": {
        "id": "hh5F3tfKtxun"
      },
      "execution_count": null,
      "outputs": []
    },
    {
      "cell_type": "code",
      "source": [
        "model_engtime.fit(X_train, y_train['engage_time'], epochs=20, batch_size=32)\n",
        "engtime_predictions = model_engtime.predict(X_test)\n",
        "engtime_mse = mean_squared_error(y_test['engage_time'], engtime_predictions)\n",
        "print(f\"Mean Squared Error for 'engage_time': {engtime_mse}\")"
      ],
      "metadata": {
        "colab": {
          "base_uri": "https://localhost:8080/"
        },
        "id": "TJBZ4mBEuI-o",
        "outputId": "13aad722-586d-4c5a-e099-48198dfcc500"
      },
      "execution_count": null,
      "outputs": [
        {
          "output_type": "stream",
          "name": "stdout",
          "text": [
            "Epoch 1/20\n",
            "4584/4584 [==============================] - 12s 3ms/step - loss: 5752852840448.0000 - mae: 34424.2773\n",
            "Epoch 2/20\n",
            "4584/4584 [==============================] - 10s 2ms/step - loss: 5752520966144.0000 - mae: 36313.4805\n",
            "Epoch 3/20\n",
            "4584/4584 [==============================] - 10s 2ms/step - loss: 5752107302912.0000 - mae: 39920.8438\n",
            "Epoch 4/20\n",
            "4584/4584 [==============================] - 8s 2ms/step - loss: 5751578820608.0000 - mae: 44110.0977\n",
            "Epoch 5/20\n",
            "4584/4584 [==============================] - 10s 2ms/step - loss: 5751085465600.0000 - mae: 48128.6406\n",
            "Epoch 6/20\n",
            "4584/4584 [==============================] - 9s 2ms/step - loss: 5750650830848.0000 - mae: 52037.1602\n",
            "Epoch 7/20\n",
            "4584/4584 [==============================] - 9s 2ms/step - loss: 5750325772288.0000 - mae: 55491.6094\n",
            "Epoch 8/20\n",
            "4584/4584 [==============================] - 10s 2ms/step - loss: 5750288023552.0000 - mae: 58605.8711\n",
            "Epoch 9/20\n",
            "4584/4584 [==============================] - 8s 2ms/step - loss: 5749944614912.0000 - mae: 59619.3828\n",
            "Epoch 10/20\n",
            "4584/4584 [==============================] - 10s 2ms/step - loss: 5749861777408.0000 - mae: 62157.6953\n",
            "Epoch 11/20\n",
            "4584/4584 [==============================] - 10s 2ms/step - loss: 5749351645184.0000 - mae: 61793.7305\n",
            "Epoch 12/20\n",
            "4584/4584 [==============================] - 8s 2ms/step - loss: 5748911767552.0000 - mae: 63768.3750\n",
            "Epoch 13/20\n",
            "4584/4584 [==============================] - 10s 2ms/step - loss: 5748771258368.0000 - mae: 65223.3828\n",
            "Epoch 14/20\n",
            "4584/4584 [==============================] - 10s 2ms/step - loss: 5748623409152.0000 - mae: 65028.5820\n",
            "Epoch 15/20\n",
            "4584/4584 [==============================] - 9s 2ms/step - loss: 5748244348928.0000 - mae: 65731.9375\n",
            "Epoch 16/20\n",
            "4584/4584 [==============================] - 10s 2ms/step - loss: 5747772489728.0000 - mae: 64090.4492\n",
            "Epoch 17/20\n",
            "4584/4584 [==============================] - 9s 2ms/step - loss: 5747532890112.0000 - mae: 65582.6406\n",
            "Epoch 18/20\n",
            "4584/4584 [==============================] - 9s 2ms/step - loss: 5747168509952.0000 - mae: 64884.0859\n",
            "Epoch 19/20\n",
            "4584/4584 [==============================] - 10s 2ms/step - loss: 5746929958912.0000 - mae: 64010.0156\n",
            "Epoch 20/20\n",
            "4584/4584 [==============================] - 8s 2ms/step - loss: 5746774245376.0000 - mae: 64759.5273\n",
            "1146/1146 [==============================] - 2s 2ms/step\n",
            "Mean Squared Error for 'engage_time': 4641587510655.143\n"
          ]
        }
      ]
    },
    {
      "cell_type": "code",
      "source": [
        "4641441474730.845 ** 0.5"
      ],
      "metadata": {
        "colab": {
          "base_uri": "https://localhost:8080/"
        },
        "id": "7LiUjMB91tvZ",
        "outputId": "57bf51d1-d0ae-4294-8c2a-2a5c2002cf1b"
      },
      "execution_count": null,
      "outputs": [
        {
          "output_type": "execute_result",
          "data": {
            "text/plain": [
              "2154400.4907934004"
            ]
          },
          "metadata": {},
          "execution_count": 219
        }
      ]
    },
    {
      "cell_type": "code",
      "source": [
        "import tensorflow as tf\n",
        "from tensorflow.keras.models import Sequential\n",
        "from tensorflow.keras.layers import Dense, Dropout\n",
        "from sklearn.model_selection import train_test_split\n",
        "from sklearn.preprocessing import StandardScaler\n",
        "\n",
        "# Creating a Sequential model\n",
        "model_engtime = Sequential([\n",
        "    Dense(64, activation='relu', input_shape=(X_train.shape[1],)),\n",
        "    Dense(128, activation='relu'),\n",
        "    Dropout(0.2),  # Adding dropout for regularization\n",
        "    Dense(64, activation='relu'),\n",
        "    Dense(32, activation='relu'),\n",
        "    Dense(1)  # Output layer with 1 neuron for regression\n",
        "])"
      ],
      "metadata": {
        "id": "vaDz17WF1ADg"
      },
      "execution_count": null,
      "outputs": []
    },
    {
      "cell_type": "code",
      "source": [
        "model_engtime.compile(optimizer='adam', loss='mean_squared_error', metrics=['mae'])"
      ],
      "metadata": {
        "id": "37CMs6Pb1XOh"
      },
      "execution_count": null,
      "outputs": []
    },
    {
      "cell_type": "code",
      "source": [
        "#more complex model, after droping excess style features\n",
        "model_engtime.fit(X_train, y_train['engage_time'], epochs=20, batch_size=32)\n",
        "engtime_predictions = model_engtime.predict(X_test)\n",
        "engtime_mse = mean_squared_error(y_test['engage_time'], engtime_predictions)\n",
        "print(f\"Mean Squared Error for 'engage_time': {engtime_mse}\")"
      ],
      "metadata": {
        "colab": {
          "base_uri": "https://localhost:8080/"
        },
        "id": "4AMpbGpv1XQ3",
        "outputId": "d66204a7-5d21-40eb-f0ef-456e87b59a54"
      },
      "execution_count": null,
      "outputs": [
        {
          "output_type": "stream",
          "name": "stdout",
          "text": [
            "Epoch 1/20\n",
            "4584/4584 [==============================] - 12s 2ms/step - loss: 5750758834176.0000 - mae: 49853.4102\n",
            "Epoch 2/20\n",
            "4584/4584 [==============================] - 11s 2ms/step - loss: 5746523635712.0000 - mae: 53512.3281\n",
            "Epoch 3/20\n",
            "4584/4584 [==============================] - 13s 3ms/step - loss: 5745136369664.0000 - mae: 59761.1406\n",
            "Epoch 4/20\n",
            "4584/4584 [==============================] - 19s 4ms/step - loss: 5744979607552.0000 - mae: 54783.6992\n",
            "Epoch 5/20\n",
            "4584/4584 [==============================] - 12s 3ms/step - loss: 5743507406848.0000 - mae: 55951.7695\n",
            "Epoch 6/20\n",
            "4584/4584 [==============================] - 14s 3ms/step - loss: 5744126066688.0000 - mae: 60177.4180\n",
            "Epoch 7/20\n",
            "4584/4584 [==============================] - 18s 4ms/step - loss: 5742987313152.0000 - mae: 56813.1445\n",
            "Epoch 8/20\n",
            "4584/4584 [==============================] - 11s 2ms/step - loss: 5744098279424.0000 - mae: 58753.2656\n",
            "Epoch 9/20\n",
            "4584/4584 [==============================] - 10s 2ms/step - loss: 5743744909312.0000 - mae: 55538.2773\n",
            "Epoch 10/20\n",
            "4584/4584 [==============================] - 11s 2ms/step - loss: 5744294887424.0000 - mae: 60347.4062\n",
            "Epoch 11/20\n",
            "4584/4584 [==============================] - 12s 3ms/step - loss: 5742910242816.0000 - mae: 59507.4883\n",
            "Epoch 12/20\n",
            "4584/4584 [==============================] - 11s 3ms/step - loss: 5747346243584.0000 - mae: 54411.6172\n",
            "Epoch 13/20\n",
            "4584/4584 [==============================] - 11s 2ms/step - loss: 5747107692544.0000 - mae: 60207.1172\n",
            "Epoch 14/20\n",
            "4584/4584 [==============================] - 10s 2ms/step - loss: 5746346950656.0000 - mae: 63064.3711\n",
            "Epoch 15/20\n",
            "4584/4584 [==============================] - 11s 2ms/step - loss: 5746012454912.0000 - mae: 60272.8086\n",
            "Epoch 16/20\n",
            "4584/4584 [==============================] - 13s 3ms/step - loss: 5745745068032.0000 - mae: 59471.5703\n",
            "Epoch 17/20\n",
            "4584/4584 [==============================] - 11s 2ms/step - loss: 5746290327552.0000 - mae: 59395.0586\n",
            "Epoch 18/20\n",
            "4584/4584 [==============================] - 10s 2ms/step - loss: 5745663803392.0000 - mae: 59017.9258\n",
            "Epoch 19/20\n",
            "4584/4584 [==============================] - 11s 2ms/step - loss: 5745004249088.0000 - mae: 61226.3984\n",
            "Epoch 20/20\n",
            "4584/4584 [==============================] - 11s 2ms/step - loss: 5746408292352.0000 - mae: 60117.1094\n",
            "1146/1146 [==============================] - 2s 2ms/step\n",
            "Mean Squared Error for 'engage_time': 4643218314273.779\n"
          ]
        }
      ]
    },
    {
      "cell_type": "code",
      "source": [
        "4643218314273.779 ** 0.5"
      ],
      "metadata": {
        "colab": {
          "base_uri": "https://localhost:8080/"
        },
        "id": "ZyfYvAjM1XTN",
        "outputId": "adf0c91c-5afd-4827-9ba7-aa042a1d7e49"
      },
      "execution_count": null,
      "outputs": [
        {
          "output_type": "execute_result",
          "data": {
            "text/plain": [
              "2154812.8258096525"
            ]
          },
          "metadata": {},
          "execution_count": 244
        }
      ]
    },
    {
      "cell_type": "code",
      "source": [
        "#remove dropout\n",
        "import tensorflow as tf\n",
        "from tensorflow.keras.models import Sequential\n",
        "from tensorflow.keras.layers import Dense, Dropout\n",
        "from sklearn.model_selection import train_test_split\n",
        "from sklearn.preprocessing import StandardScaler\n",
        "\n",
        "# Creating a Sequential model\n",
        "model_engtime = Sequential([\n",
        "    Dense(64, activation='relu', input_shape=(X_train.shape[1],)),\n",
        "    Dense(128, activation='relu'),\n",
        "    #Dropout(0.2),  # Adding dropout for regularization\n",
        "    Dense(64, activation='relu'),\n",
        "    Dense(32, activation='relu'),\n",
        "    Dense(1)  # Output layer with 1 neuron for regression\n",
        "])"
      ],
      "metadata": {
        "id": "mmISWSKE82Qb"
      },
      "execution_count": null,
      "outputs": []
    },
    {
      "cell_type": "code",
      "source": [
        "model_engtime.compile(optimizer='adam', loss='mean_squared_error', metrics=['mae'])"
      ],
      "metadata": {
        "id": "PA1Rdfn383RT"
      },
      "execution_count": null,
      "outputs": []
    },
    {
      "cell_type": "code",
      "source": [
        "model_engtime.fit(X_train, y_train['engage_time'], epochs=40, batch_size=32)\n",
        "engtime_predictions = model_engtime.predict(X_test)\n",
        "engtime_mse = mean_squared_error(y_test['engage_time'], engtime_predictions)\n",
        "print(f\"Mean Squared Error for 'engage_time': {engtime_mse}\")"
      ],
      "metadata": {
        "colab": {
          "base_uri": "https://localhost:8080/"
        },
        "id": "0mXnxDS37PaF",
        "outputId": "165e973f-0c67-4ed7-cdef-be0f7bc71c71"
      },
      "execution_count": null,
      "outputs": [
        {
          "output_type": "stream",
          "name": "stdout",
          "text": [
            "Epoch 1/40\n",
            "4584/4584 [==============================] - 14s 3ms/step - loss: 5749292400640.0000 - mae: 56751.8711\n",
            "Epoch 2/40\n",
            "4584/4584 [==============================] - 11s 2ms/step - loss: 5745741398016.0000 - mae: 66651.1719\n",
            "Epoch 3/40\n",
            "4584/4584 [==============================] - 11s 2ms/step - loss: 5743600205824.0000 - mae: 57769.3516\n",
            "Epoch 4/40\n",
            "4584/4584 [==============================] - 10s 2ms/step - loss: 5741819199488.0000 - mae: 63205.4180\n",
            "Epoch 5/40\n",
            "4584/4584 [==============================] - 11s 2ms/step - loss: 5743581331456.0000 - mae: 56050.2227\n",
            "Epoch 6/40\n",
            "4584/4584 [==============================] - 15s 3ms/step - loss: 5742495531008.0000 - mae: 61855.5469\n",
            "Epoch 7/40\n",
            "4584/4584 [==============================] - 18s 4ms/step - loss: 5743073296384.0000 - mae: 58598.3867\n",
            "Epoch 8/40\n",
            "4584/4584 [==============================] - 20s 4ms/step - loss: 5741889454080.0000 - mae: 61233.0938\n",
            "Epoch 9/40\n",
            "4584/4584 [==============================] - 19s 4ms/step - loss: 5743561408512.0000 - mae: 56504.2500\n",
            "Epoch 10/40\n",
            "4584/4584 [==============================] - 15s 3ms/step - loss: 5743298215936.0000 - mae: 59685.9805\n",
            "Epoch 11/40\n",
            "4584/4584 [==============================] - 10s 2ms/step - loss: 5742631845888.0000 - mae: 59778.1758\n",
            "Epoch 12/40\n",
            "4584/4584 [==============================] - 11s 2ms/step - loss: 5741847511040.0000 - mae: 62164.7383\n",
            "Epoch 13/40\n",
            "4584/4584 [==============================] - 16s 3ms/step - loss: 5743636905984.0000 - mae: 54524.7891\n",
            "Epoch 14/40\n",
            "4584/4584 [==============================] - 17s 4ms/step - loss: 5743102656512.0000 - mae: 59448.4688\n",
            "Epoch 15/40\n",
            "4584/4584 [==============================] - 11s 2ms/step - loss: 5742470365184.0000 - mae: 62991.4414\n",
            "Epoch 16/40\n",
            "4584/4584 [==============================] - 11s 2ms/step - loss: 5742114373632.0000 - mae: 54683.4258\n",
            "Epoch 17/40\n",
            "4584/4584 [==============================] - 9s 2ms/step - loss: 5742847328256.0000 - mae: 62697.7227\n",
            "Epoch 18/40\n",
            "4584/4584 [==============================] - 11s 2ms/step - loss: 5742740897792.0000 - mae: 59510.3594\n",
            "Epoch 19/40\n",
            "4584/4584 [==============================] - 11s 2ms/step - loss: 5742935932928.0000 - mae: 56787.3984\n",
            "Epoch 20/40\n",
            "4584/4584 [==============================] - 11s 2ms/step - loss: 5742238629888.0000 - mae: 62132.8125\n",
            "Epoch 21/40\n",
            "4584/4584 [==============================] - 10s 2ms/step - loss: 5742627651584.0000 - mae: 60566.3555\n",
            "Epoch 22/40\n",
            "4584/4584 [==============================] - 11s 2ms/step - loss: 5743561408512.0000 - mae: 56739.5352\n",
            "Epoch 23/40\n",
            "4584/4584 [==============================] - 11s 2ms/step - loss: 5742338244608.0000 - mae: 61602.8828\n",
            "Epoch 24/40\n",
            "4584/4584 [==============================] - 10s 2ms/step - loss: 5743014576128.0000 - mae: 57011.3867\n",
            "Epoch 25/40\n",
            "4584/4584 [==============================] - 11s 2ms/step - loss: 5742770257920.0000 - mae: 59535.3242\n",
            "Epoch 26/40\n",
            "4584/4584 [==============================] - 12s 3ms/step - loss: 5742994653184.0000 - mae: 58971.2109\n",
            "Epoch 27/40\n",
            "4584/4584 [==============================] - 11s 2ms/step - loss: 5742722547712.0000 - mae: 58077.3398\n",
            "Epoch 28/40\n",
            "4584/4584 [==============================] - 15s 3ms/step - loss: 5742438383616.0000 - mae: 58539.6758\n",
            "Epoch 29/40\n",
            "4584/4584 [==============================] - 14s 3ms/step - loss: 5743117860864.0000 - mae: 58695.0195\n",
            "Epoch 30/40\n",
            "4584/4584 [==============================] - 10s 2ms/step - loss: 5742973157376.0000 - mae: 57740.6133\n",
            "Epoch 31/40\n",
            "4584/4584 [==============================] - 11s 2ms/step - loss: 5742584659968.0000 - mae: 60954.9805\n",
            "Epoch 32/40\n",
            "4584/4584 [==============================] - 11s 2ms/step - loss: 5741885259776.0000 - mae: 59823.8750\n",
            "Epoch 33/40\n",
            "4584/4584 [==============================] - 10s 2ms/step - loss: 5743039217664.0000 - mae: 58208.9023\n",
            "Epoch 34/40\n",
            "4584/4584 [==============================] - 10s 2ms/step - loss: 5742065614848.0000 - mae: 52753.0000\n",
            "Epoch 35/40\n",
            "4584/4584 [==============================] - 11s 2ms/step - loss: 5742809055232.0000 - mae: 62783.2344\n",
            "Epoch 36/40\n",
            "4584/4584 [==============================] - 11s 2ms/step - loss: 5743322333184.0000 - mae: 57855.0000\n",
            "Epoch 37/40\n",
            "4584/4584 [==============================] - 11s 2ms/step - loss: 5742981021696.0000 - mae: 58964.8633\n",
            "Epoch 38/40\n",
            "4584/4584 [==============================] - 11s 2ms/step - loss: 5742400634880.0000 - mae: 58547.1875\n",
            "Epoch 39/40\n",
            "4584/4584 [==============================] - 11s 2ms/step - loss: 5742107557888.0000 - mae: 57585.9102\n",
            "Epoch 40/40\n",
            "4584/4584 [==============================] - 10s 2ms/step - loss: 5741378797568.0000 - mae: 65559.4766\n",
            "1146/1146 [==============================] - 2s 2ms/step\n",
            "Mean Squared Error for 'engage_time': 4644100230095.7295\n"
          ]
        }
      ]
    },
    {
      "cell_type": "code",
      "source": [
        "4644100230095.7295 ** 0.5"
      ],
      "metadata": {
        "colab": {
          "base_uri": "https://localhost:8080/"
        },
        "id": "6bVqlHB9-Xnp",
        "outputId": "6a4a2967-4814-4038-b640-8d64cd19ca6b"
      },
      "execution_count": null,
      "outputs": [
        {
          "output_type": "execute_result",
          "data": {
            "text/plain": [
              "2155017.4547079033"
            ]
          },
          "metadata": {},
          "execution_count": 227
        }
      ]
    },
    {
      "cell_type": "code",
      "source": [
        "X_train"
      ],
      "metadata": {
        "colab": {
          "base_uri": "https://localhost:8080/",
          "height": 475
        },
        "id": "ObcdUTEE873i",
        "outputId": "f0a8f22c-1777-48ae-a0b8-004fe81a7d7f"
      },
      "execution_count": null,
      "outputs": [
        {
          "output_type": "execute_result",
          "data": {
            "text/plain": [
              "                    user_likes  user_dislikes  user_engagetime  \\\n",
              "user_id content_id                                               \n",
              "51      124105       -0.648106       0.304989        -0.392457   \n",
              "30      77269        -0.112571      -0.582658        -0.046227   \n",
              "53      106302       -0.553372       0.779777        -0.163153   \n",
              "64      72623        -0.787306       0.740368        -0.255457   \n",
              "89      41445         0.457765       0.226171        -0.407132   \n",
              "...                        ...            ...              ...   \n",
              "59      81683         1.059033      -0.002778         3.162894   \n",
              "62      101336       -0.733173       0.113573        -0.084124   \n",
              "100     92628        -0.000437       0.094806        -0.440601   \n",
              "103     48548        -0.139638       0.353782        -0.437761   \n",
              "82      120005       -0.752506       0.672809        -0.142066   \n",
              "\n",
              "                    content_guidance_scale  content_inference_steps  \\\n",
              "user_id content_id                                                    \n",
              "51      124105                   -1.502674                -2.460551   \n",
              "30      77269                    -0.055706                 0.406514   \n",
              "53      106302                   -0.417448                 0.406514   \n",
              "64      72623                     0.667778                 0.406514   \n",
              "89      41445                    -0.055706                 0.406514   \n",
              "...                                    ...                      ...   \n",
              "59      81683                    -0.055706                 0.406514   \n",
              "62      101336                    0.667778                 0.406514   \n",
              "100     92628                     2.476488                 0.406514   \n",
              "103     48548                     0.667778                 0.406514   \n",
              "82      120005                   -1.864416                -2.460551   \n",
              "\n",
              "                    content_source_human_prompts  content_source_other  \\\n",
              "user_id content_id                                                       \n",
              "51      124105                               0.0                   1.0   \n",
              "30      77269                                0.0                   1.0   \n",
              "53      106302                               1.0                   0.0   \n",
              "64      72623                                0.0                   1.0   \n",
              "89      41445                                0.0                   1.0   \n",
              "...                                          ...                   ...   \n",
              "59      81683                                0.0                   1.0   \n",
              "62      101336                               1.0                   0.0   \n",
              "100     92628                                1.0                   0.0   \n",
              "103     48548                                0.0                   1.0   \n",
              "82      120005                               0.0                   1.0   \n",
              "\n",
              "                    content_source_r/Showerthoughts  content_style_movie  \\\n",
              "user_id content_id                                                         \n",
              "51      124105                                  0.0                  0.0   \n",
              "30      77269                                   0.0                  1.0   \n",
              "53      106302                                  0.0                  0.0   \n",
              "64      72623                                   0.0                  1.0   \n",
              "89      41445                                   0.0                  1.0   \n",
              "...                                             ...                  ...   \n",
              "59      81683                                   0.0                  0.0   \n",
              "62      101336                                  0.0                  0.0   \n",
              "100     92628                                   0.0                  0.0   \n",
              "103     48548                                   0.0                  1.0   \n",
              "82      120005                                  0.0                  0.0   \n",
              "\n",
              "                    content_style_other  \n",
              "user_id content_id                       \n",
              "51      124105                      1.0  \n",
              "30      77269                       0.0  \n",
              "53      106302                      1.0  \n",
              "64      72623                       0.0  \n",
              "89      41445                       0.0  \n",
              "...                                 ...  \n",
              "59      81683                       1.0  \n",
              "62      101336                      1.0  \n",
              "100     92628                       1.0  \n",
              "103     48548                       0.0  \n",
              "82      120005                      1.0  \n",
              "\n",
              "[146671 rows x 10 columns]"
            ],
            "text/html": [
              "\n",
              "  <div id=\"df-fbb8f8b0-e62f-48c6-a96d-28410320bff9\" class=\"colab-df-container\">\n",
              "    <div>\n",
              "<style scoped>\n",
              "    .dataframe tbody tr th:only-of-type {\n",
              "        vertical-align: middle;\n",
              "    }\n",
              "\n",
              "    .dataframe tbody tr th {\n",
              "        vertical-align: top;\n",
              "    }\n",
              "\n",
              "    .dataframe thead th {\n",
              "        text-align: right;\n",
              "    }\n",
              "</style>\n",
              "<table border=\"1\" class=\"dataframe\">\n",
              "  <thead>\n",
              "    <tr style=\"text-align: right;\">\n",
              "      <th></th>\n",
              "      <th></th>\n",
              "      <th>user_likes</th>\n",
              "      <th>user_dislikes</th>\n",
              "      <th>user_engagetime</th>\n",
              "      <th>content_guidance_scale</th>\n",
              "      <th>content_inference_steps</th>\n",
              "      <th>content_source_human_prompts</th>\n",
              "      <th>content_source_other</th>\n",
              "      <th>content_source_r/Showerthoughts</th>\n",
              "      <th>content_style_movie</th>\n",
              "      <th>content_style_other</th>\n",
              "    </tr>\n",
              "    <tr>\n",
              "      <th>user_id</th>\n",
              "      <th>content_id</th>\n",
              "      <th></th>\n",
              "      <th></th>\n",
              "      <th></th>\n",
              "      <th></th>\n",
              "      <th></th>\n",
              "      <th></th>\n",
              "      <th></th>\n",
              "      <th></th>\n",
              "      <th></th>\n",
              "      <th></th>\n",
              "    </tr>\n",
              "  </thead>\n",
              "  <tbody>\n",
              "    <tr>\n",
              "      <th>51</th>\n",
              "      <th>124105</th>\n",
              "      <td>-0.648106</td>\n",
              "      <td>0.304989</td>\n",
              "      <td>-0.392457</td>\n",
              "      <td>-1.502674</td>\n",
              "      <td>-2.460551</td>\n",
              "      <td>0.0</td>\n",
              "      <td>1.0</td>\n",
              "      <td>0.0</td>\n",
              "      <td>0.0</td>\n",
              "      <td>1.0</td>\n",
              "    </tr>\n",
              "    <tr>\n",
              "      <th>30</th>\n",
              "      <th>77269</th>\n",
              "      <td>-0.112571</td>\n",
              "      <td>-0.582658</td>\n",
              "      <td>-0.046227</td>\n",
              "      <td>-0.055706</td>\n",
              "      <td>0.406514</td>\n",
              "      <td>0.0</td>\n",
              "      <td>1.0</td>\n",
              "      <td>0.0</td>\n",
              "      <td>1.0</td>\n",
              "      <td>0.0</td>\n",
              "    </tr>\n",
              "    <tr>\n",
              "      <th>53</th>\n",
              "      <th>106302</th>\n",
              "      <td>-0.553372</td>\n",
              "      <td>0.779777</td>\n",
              "      <td>-0.163153</td>\n",
              "      <td>-0.417448</td>\n",
              "      <td>0.406514</td>\n",
              "      <td>1.0</td>\n",
              "      <td>0.0</td>\n",
              "      <td>0.0</td>\n",
              "      <td>0.0</td>\n",
              "      <td>1.0</td>\n",
              "    </tr>\n",
              "    <tr>\n",
              "      <th>64</th>\n",
              "      <th>72623</th>\n",
              "      <td>-0.787306</td>\n",
              "      <td>0.740368</td>\n",
              "      <td>-0.255457</td>\n",
              "      <td>0.667778</td>\n",
              "      <td>0.406514</td>\n",
              "      <td>0.0</td>\n",
              "      <td>1.0</td>\n",
              "      <td>0.0</td>\n",
              "      <td>1.0</td>\n",
              "      <td>0.0</td>\n",
              "    </tr>\n",
              "    <tr>\n",
              "      <th>89</th>\n",
              "      <th>41445</th>\n",
              "      <td>0.457765</td>\n",
              "      <td>0.226171</td>\n",
              "      <td>-0.407132</td>\n",
              "      <td>-0.055706</td>\n",
              "      <td>0.406514</td>\n",
              "      <td>0.0</td>\n",
              "      <td>1.0</td>\n",
              "      <td>0.0</td>\n",
              "      <td>1.0</td>\n",
              "      <td>0.0</td>\n",
              "    </tr>\n",
              "    <tr>\n",
              "      <th>...</th>\n",
              "      <th>...</th>\n",
              "      <td>...</td>\n",
              "      <td>...</td>\n",
              "      <td>...</td>\n",
              "      <td>...</td>\n",
              "      <td>...</td>\n",
              "      <td>...</td>\n",
              "      <td>...</td>\n",
              "      <td>...</td>\n",
              "      <td>...</td>\n",
              "      <td>...</td>\n",
              "    </tr>\n",
              "    <tr>\n",
              "      <th>59</th>\n",
              "      <th>81683</th>\n",
              "      <td>1.059033</td>\n",
              "      <td>-0.002778</td>\n",
              "      <td>3.162894</td>\n",
              "      <td>-0.055706</td>\n",
              "      <td>0.406514</td>\n",
              "      <td>0.0</td>\n",
              "      <td>1.0</td>\n",
              "      <td>0.0</td>\n",
              "      <td>0.0</td>\n",
              "      <td>1.0</td>\n",
              "    </tr>\n",
              "    <tr>\n",
              "      <th>62</th>\n",
              "      <th>101336</th>\n",
              "      <td>-0.733173</td>\n",
              "      <td>0.113573</td>\n",
              "      <td>-0.084124</td>\n",
              "      <td>0.667778</td>\n",
              "      <td>0.406514</td>\n",
              "      <td>1.0</td>\n",
              "      <td>0.0</td>\n",
              "      <td>0.0</td>\n",
              "      <td>0.0</td>\n",
              "      <td>1.0</td>\n",
              "    </tr>\n",
              "    <tr>\n",
              "      <th>100</th>\n",
              "      <th>92628</th>\n",
              "      <td>-0.000437</td>\n",
              "      <td>0.094806</td>\n",
              "      <td>-0.440601</td>\n",
              "      <td>2.476488</td>\n",
              "      <td>0.406514</td>\n",
              "      <td>1.0</td>\n",
              "      <td>0.0</td>\n",
              "      <td>0.0</td>\n",
              "      <td>0.0</td>\n",
              "      <td>1.0</td>\n",
              "    </tr>\n",
              "    <tr>\n",
              "      <th>103</th>\n",
              "      <th>48548</th>\n",
              "      <td>-0.139638</td>\n",
              "      <td>0.353782</td>\n",
              "      <td>-0.437761</td>\n",
              "      <td>0.667778</td>\n",
              "      <td>0.406514</td>\n",
              "      <td>0.0</td>\n",
              "      <td>1.0</td>\n",
              "      <td>0.0</td>\n",
              "      <td>1.0</td>\n",
              "      <td>0.0</td>\n",
              "    </tr>\n",
              "    <tr>\n",
              "      <th>82</th>\n",
              "      <th>120005</th>\n",
              "      <td>-0.752506</td>\n",
              "      <td>0.672809</td>\n",
              "      <td>-0.142066</td>\n",
              "      <td>-1.864416</td>\n",
              "      <td>-2.460551</td>\n",
              "      <td>0.0</td>\n",
              "      <td>1.0</td>\n",
              "      <td>0.0</td>\n",
              "      <td>0.0</td>\n",
              "      <td>1.0</td>\n",
              "    </tr>\n",
              "  </tbody>\n",
              "</table>\n",
              "<p>146671 rows × 10 columns</p>\n",
              "</div>\n",
              "    <div class=\"colab-df-buttons\">\n",
              "\n",
              "  <div class=\"colab-df-container\">\n",
              "    <button class=\"colab-df-convert\" onclick=\"convertToInteractive('df-fbb8f8b0-e62f-48c6-a96d-28410320bff9')\"\n",
              "            title=\"Convert this dataframe to an interactive table.\"\n",
              "            style=\"display:none;\">\n",
              "\n",
              "  <svg xmlns=\"http://www.w3.org/2000/svg\" height=\"24px\" viewBox=\"0 -960 960 960\">\n",
              "    <path d=\"M120-120v-720h720v720H120Zm60-500h600v-160H180v160Zm220 220h160v-160H400v160Zm0 220h160v-160H400v160ZM180-400h160v-160H180v160Zm440 0h160v-160H620v160ZM180-180h160v-160H180v160Zm440 0h160v-160H620v160Z\"/>\n",
              "  </svg>\n",
              "    </button>\n",
              "\n",
              "  <style>\n",
              "    .colab-df-container {\n",
              "      display:flex;\n",
              "      gap: 12px;\n",
              "    }\n",
              "\n",
              "    .colab-df-convert {\n",
              "      background-color: #E8F0FE;\n",
              "      border: none;\n",
              "      border-radius: 50%;\n",
              "      cursor: pointer;\n",
              "      display: none;\n",
              "      fill: #1967D2;\n",
              "      height: 32px;\n",
              "      padding: 0 0 0 0;\n",
              "      width: 32px;\n",
              "    }\n",
              "\n",
              "    .colab-df-convert:hover {\n",
              "      background-color: #E2EBFA;\n",
              "      box-shadow: 0px 1px 2px rgba(60, 64, 67, 0.3), 0px 1px 3px 1px rgba(60, 64, 67, 0.15);\n",
              "      fill: #174EA6;\n",
              "    }\n",
              "\n",
              "    .colab-df-buttons div {\n",
              "      margin-bottom: 4px;\n",
              "    }\n",
              "\n",
              "    [theme=dark] .colab-df-convert {\n",
              "      background-color: #3B4455;\n",
              "      fill: #D2E3FC;\n",
              "    }\n",
              "\n",
              "    [theme=dark] .colab-df-convert:hover {\n",
              "      background-color: #434B5C;\n",
              "      box-shadow: 0px 1px 3px 1px rgba(0, 0, 0, 0.15);\n",
              "      filter: drop-shadow(0px 1px 2px rgba(0, 0, 0, 0.3));\n",
              "      fill: #FFFFFF;\n",
              "    }\n",
              "  </style>\n",
              "\n",
              "    <script>\n",
              "      const buttonEl =\n",
              "        document.querySelector('#df-fbb8f8b0-e62f-48c6-a96d-28410320bff9 button.colab-df-convert');\n",
              "      buttonEl.style.display =\n",
              "        google.colab.kernel.accessAllowed ? 'block' : 'none';\n",
              "\n",
              "      async function convertToInteractive(key) {\n",
              "        const element = document.querySelector('#df-fbb8f8b0-e62f-48c6-a96d-28410320bff9');\n",
              "        const dataTable =\n",
              "          await google.colab.kernel.invokeFunction('convertToInteractive',\n",
              "                                                    [key], {});\n",
              "        if (!dataTable) return;\n",
              "\n",
              "        const docLinkHtml = 'Like what you see? Visit the ' +\n",
              "          '<a target=\"_blank\" href=https://colab.research.google.com/notebooks/data_table.ipynb>data table notebook</a>'\n",
              "          + ' to learn more about interactive tables.';\n",
              "        element.innerHTML = '';\n",
              "        dataTable['output_type'] = 'display_data';\n",
              "        await google.colab.output.renderOutput(dataTable, element);\n",
              "        const docLink = document.createElement('div');\n",
              "        docLink.innerHTML = docLinkHtml;\n",
              "        element.appendChild(docLink);\n",
              "      }\n",
              "    </script>\n",
              "  </div>\n",
              "\n",
              "\n",
              "<div id=\"df-7787c66f-c489-4f6a-81e0-649246fc7018\">\n",
              "  <button class=\"colab-df-quickchart\" onclick=\"quickchart('df-7787c66f-c489-4f6a-81e0-649246fc7018')\"\n",
              "            title=\"Suggest charts\"\n",
              "            style=\"display:none;\">\n",
              "\n",
              "<svg xmlns=\"http://www.w3.org/2000/svg\" height=\"24px\"viewBox=\"0 0 24 24\"\n",
              "     width=\"24px\">\n",
              "    <g>\n",
              "        <path d=\"M19 3H5c-1.1 0-2 .9-2 2v14c0 1.1.9 2 2 2h14c1.1 0 2-.9 2-2V5c0-1.1-.9-2-2-2zM9 17H7v-7h2v7zm4 0h-2V7h2v10zm4 0h-2v-4h2v4z\"/>\n",
              "    </g>\n",
              "</svg>\n",
              "  </button>\n",
              "\n",
              "<style>\n",
              "  .colab-df-quickchart {\n",
              "      --bg-color: #E8F0FE;\n",
              "      --fill-color: #1967D2;\n",
              "      --hover-bg-color: #E2EBFA;\n",
              "      --hover-fill-color: #174EA6;\n",
              "      --disabled-fill-color: #AAA;\n",
              "      --disabled-bg-color: #DDD;\n",
              "  }\n",
              "\n",
              "  [theme=dark] .colab-df-quickchart {\n",
              "      --bg-color: #3B4455;\n",
              "      --fill-color: #D2E3FC;\n",
              "      --hover-bg-color: #434B5C;\n",
              "      --hover-fill-color: #FFFFFF;\n",
              "      --disabled-bg-color: #3B4455;\n",
              "      --disabled-fill-color: #666;\n",
              "  }\n",
              "\n",
              "  .colab-df-quickchart {\n",
              "    background-color: var(--bg-color);\n",
              "    border: none;\n",
              "    border-radius: 50%;\n",
              "    cursor: pointer;\n",
              "    display: none;\n",
              "    fill: var(--fill-color);\n",
              "    height: 32px;\n",
              "    padding: 0;\n",
              "    width: 32px;\n",
              "  }\n",
              "\n",
              "  .colab-df-quickchart:hover {\n",
              "    background-color: var(--hover-bg-color);\n",
              "    box-shadow: 0 1px 2px rgba(60, 64, 67, 0.3), 0 1px 3px 1px rgba(60, 64, 67, 0.15);\n",
              "    fill: var(--button-hover-fill-color);\n",
              "  }\n",
              "\n",
              "  .colab-df-quickchart-complete:disabled,\n",
              "  .colab-df-quickchart-complete:disabled:hover {\n",
              "    background-color: var(--disabled-bg-color);\n",
              "    fill: var(--disabled-fill-color);\n",
              "    box-shadow: none;\n",
              "  }\n",
              "\n",
              "  .colab-df-spinner {\n",
              "    border: 2px solid var(--fill-color);\n",
              "    border-color: transparent;\n",
              "    border-bottom-color: var(--fill-color);\n",
              "    animation:\n",
              "      spin 1s steps(1) infinite;\n",
              "  }\n",
              "\n",
              "  @keyframes spin {\n",
              "    0% {\n",
              "      border-color: transparent;\n",
              "      border-bottom-color: var(--fill-color);\n",
              "      border-left-color: var(--fill-color);\n",
              "    }\n",
              "    20% {\n",
              "      border-color: transparent;\n",
              "      border-left-color: var(--fill-color);\n",
              "      border-top-color: var(--fill-color);\n",
              "    }\n",
              "    30% {\n",
              "      border-color: transparent;\n",
              "      border-left-color: var(--fill-color);\n",
              "      border-top-color: var(--fill-color);\n",
              "      border-right-color: var(--fill-color);\n",
              "    }\n",
              "    40% {\n",
              "      border-color: transparent;\n",
              "      border-right-color: var(--fill-color);\n",
              "      border-top-color: var(--fill-color);\n",
              "    }\n",
              "    60% {\n",
              "      border-color: transparent;\n",
              "      border-right-color: var(--fill-color);\n",
              "    }\n",
              "    80% {\n",
              "      border-color: transparent;\n",
              "      border-right-color: var(--fill-color);\n",
              "      border-bottom-color: var(--fill-color);\n",
              "    }\n",
              "    90% {\n",
              "      border-color: transparent;\n",
              "      border-bottom-color: var(--fill-color);\n",
              "    }\n",
              "  }\n",
              "</style>\n",
              "\n",
              "  <script>\n",
              "    async function quickchart(key) {\n",
              "      const quickchartButtonEl =\n",
              "        document.querySelector('#' + key + ' button');\n",
              "      quickchartButtonEl.disabled = true;  // To prevent multiple clicks.\n",
              "      quickchartButtonEl.classList.add('colab-df-spinner');\n",
              "      try {\n",
              "        const charts = await google.colab.kernel.invokeFunction(\n",
              "            'suggestCharts', [key], {});\n",
              "      } catch (error) {\n",
              "        console.error('Error during call to suggestCharts:', error);\n",
              "      }\n",
              "      quickchartButtonEl.classList.remove('colab-df-spinner');\n",
              "      quickchartButtonEl.classList.add('colab-df-quickchart-complete');\n",
              "    }\n",
              "    (() => {\n",
              "      let quickchartButtonEl =\n",
              "        document.querySelector('#df-7787c66f-c489-4f6a-81e0-649246fc7018 button');\n",
              "      quickchartButtonEl.style.display =\n",
              "        google.colab.kernel.accessAllowed ? 'block' : 'none';\n",
              "    })();\n",
              "  </script>\n",
              "</div>\n",
              "    </div>\n",
              "  </div>\n"
            ]
          },
          "metadata": {},
          "execution_count": 245
        }
      ]
    },
    {
      "cell_type": "code",
      "source": [
        "#using he_normal for weight initialization and adding one dropout layer"
      ],
      "metadata": {
        "id": "GzJTQEQU_s_N"
      },
      "execution_count": null,
      "outputs": []
    },
    {
      "cell_type": "code",
      "source": [
        "import tensorflow as tf\n",
        "from tensorflow.keras.models import Sequential\n",
        "from tensorflow.keras.layers import Dense, Dropout\n",
        "from sklearn.model_selection import train_test_split\n",
        "from sklearn.preprocessing import StandardScaler\n",
        "\n",
        "# Creating a Sequential model\n",
        "model_engtime = Sequential([\n",
        "    Dense(64, activation='relu', input_shape=(X_train.shape[1],), kernel_initializer='he_normal'),\n",
        "    Dropout(0.2),  # Adding dropout for regularization\n",
        "    Dense(128, activation='relu', kernel_initializer='he_normal'),\n",
        "    Dropout(0.2),  # Adding dropout for regularization\n",
        "    Dense(64, activation='relu', kernel_initializer='he_normal'),\n",
        "    Dense(32, activation='relu', kernel_initializer='he_normal'),\n",
        "    Dense(1)  # Output layer with 1 neuron for regression\n",
        "])"
      ],
      "metadata": {
        "id": "OH5HgKh_8r4E"
      },
      "execution_count": null,
      "outputs": []
    },
    {
      "cell_type": "code",
      "source": [
        "model_engtime.compile(optimizer='adam', loss='mean_squared_error', metrics=['mae'])"
      ],
      "metadata": {
        "id": "taZGQdBaBXk1"
      },
      "execution_count": null,
      "outputs": []
    },
    {
      "cell_type": "code",
      "source": [
        "#using he_normal for weight initialization and adding one dropout layer\n",
        "model_engtime.compile(optimizer='adam', loss='mean_squared_error', metrics=['mae'])\n",
        "model_engtime.fit(X_train, y_train['engage_time'], epochs=20, batch_size=32)\n",
        "engtime_predictions = model_engtime.predict(X_test)\n",
        "engtime_mse = mean_squared_error(y_test['engage_time'], engtime_predictions)\n",
        "print(f\"Mean Squared Error for 'engage_time': {engtime_mse}\")"
      ],
      "metadata": {
        "colab": {
          "base_uri": "https://localhost:8080/"
        },
        "id": "1WAPxp0j8peV",
        "outputId": "496024be-4f58-41c4-8743-fa1a940967e1"
      },
      "execution_count": null,
      "outputs": [
        {
          "output_type": "stream",
          "name": "stdout",
          "text": [
            "Epoch 1/20\n",
            "4584/4584 [==============================] - 13s 3ms/step - loss: 5750030598144.0000 - mae: 47539.6719\n",
            "Epoch 2/20\n",
            "4584/4584 [==============================] - 11s 2ms/step - loss: 5746253103104.0000 - mae: 57937.7734\n",
            "Epoch 3/20\n",
            "4584/4584 [==============================] - 12s 3ms/step - loss: 5746460196864.0000 - mae: 52127.0742\n",
            "Epoch 4/20\n",
            "4584/4584 [==============================] - 11s 2ms/step - loss: 5744191078400.0000 - mae: 61616.4102\n",
            "Epoch 5/20\n",
            "4584/4584 [==============================] - 10s 2ms/step - loss: 5745070309376.0000 - mae: 55406.9961\n",
            "Epoch 6/20\n",
            "4584/4584 [==============================] - 11s 3ms/step - loss: 5745440456704.0000 - mae: 56806.7500\n",
            "Epoch 7/20\n",
            "4584/4584 [==============================] - 11s 2ms/step - loss: 5745762893824.0000 - mae: 58849.8516\n",
            "Epoch 8/20\n",
            "4584/4584 [==============================] - 11s 2ms/step - loss: 5744247177216.0000 - mae: 61363.8242\n",
            "Epoch 9/20\n",
            "4584/4584 [==============================] - 10s 2ms/step - loss: 5745870372864.0000 - mae: 57610.9766\n",
            "Epoch 10/20\n",
            "4584/4584 [==============================] - 11s 3ms/step - loss: 5743391014912.0000 - mae: 58480.8672\n",
            "Epoch 11/20\n",
            "4584/4584 [==============================] - 11s 2ms/step - loss: 5745018929152.0000 - mae: 58030.8750\n",
            "Epoch 12/20\n",
            "4584/4584 [==============================] - 11s 3ms/step - loss: 5743946760192.0000 - mae: 54758.3203\n",
            "Epoch 13/20\n",
            "4584/4584 [==============================] - 10s 2ms/step - loss: 5744798728192.0000 - mae: 60457.2422\n",
            "Epoch 14/20\n",
            "4584/4584 [==============================] - 11s 2ms/step - loss: 5743445540864.0000 - mae: 55497.8281\n",
            "Epoch 15/20\n",
            "4584/4584 [==============================] - 12s 3ms/step - loss: 5742500773888.0000 - mae: 56239.1836\n",
            "Epoch 16/20\n",
            "4584/4584 [==============================] - 12s 3ms/step - loss: 5748239106048.0000 - mae: 49001.8945\n",
            "Epoch 17/20\n",
            "4584/4584 [==============================] - 11s 2ms/step - loss: 5742831599616.0000 - mae: 54149.1445\n",
            "Epoch 18/20\n",
            "4584/4584 [==============================] - 11s 2ms/step - loss: 5745522245632.0000 - mae: 55697.7344\n",
            "Epoch 19/20\n",
            "4584/4584 [==============================] - 11s 3ms/step - loss: 5744960208896.0000 - mae: 51366.1602\n",
            "Epoch 20/20\n",
            "4584/4584 [==============================] - 12s 3ms/step - loss: 5744552312832.0000 - mae: 58500.5977\n",
            "1146/1146 [==============================] - 2s 1ms/step\n",
            "Mean Squared Error for 'engage_time': 4644681374124.586\n"
          ]
        }
      ]
    },
    {
      "cell_type": "code",
      "source": [
        "4644681374124.586 ** 0.5"
      ],
      "metadata": {
        "colab": {
          "base_uri": "https://localhost:8080/"
        },
        "id": "uTaIiZywBTmz",
        "outputId": "083d152e-afbb-470d-dfcb-2debc463681e"
      },
      "execution_count": null,
      "outputs": [
        {
          "output_type": "execute_result",
          "data": {
            "text/plain": [
              "2155152.285599462"
            ]
          },
          "metadata": {},
          "execution_count": 250
        }
      ]
    },
    {
      "cell_type": "code",
      "source": [
        "class DataCollectorExample(DataCollector):\n",
        "\n",
        "    def feature_generation_user(self) -> Tuple[pd.DataFrame, List[str], List[str]]:\n",
        "        \"\"\"Generates user features. Keep all the categorical variables as is,\n",
        "        since the one-hot encoding will be done by our own pipeline. Along with\n",
        "        the feature dataframe, you'll need to output lists of numberical features\n",
        "        and categorical features as well.\n",
        "\n",
        "        Returns\n",
        "          pd.DataFrame: User feature dataframe\n",
        "          List[str]: List of numerical features. E.g. ['feat_1', 'feat_3, ...]\n",
        "          List[str]: List of categorical features. E.g. ['feat_2', 'feat_4, ...]\n",
        "        \"\"\"\n",
        "\n",
        "        # Filtering like/dislike engagements\n",
        "        like_data = self.user_data[engagement_data['engagement_type'] == 'Like']\n",
        "\n",
        "        # Grouping by 'user_id' and 'content_id' and getting the latest engagement for each pair\n",
        "        latest_like_data = like_data.sort_values('created_date').groupby(['user_id', 'content_id']).tail(1)\n",
        "\n",
        "        # Getting total likes for each user\n",
        "        like_engagements = latest_like_data[(latest_like_data['engagement_value']==1)].copy()\n",
        "        like_feature_df = like_engagements.groupby('user_id')['engagement_value'].sum().reset_index()\n",
        "        like_feature_df.rename(columns={'engagement_value': 'user_likes'}, inplace=True)\n",
        "        # Fill NaN values with 0 (users with no \"like\" engagements)\n",
        "        like_feature_df['user_likes'].fillna(0, inplace=True)\n",
        "\n",
        "\n",
        "        # Getting total dislikes for each user\n",
        "        dislike_engagements = latest_like_data[(latest_like_data['engagement_value']==-1)].copy()\n",
        "        dislike_feature_df = dislike_engagements.groupby('user_id')['engagement_value'].sum().reset_index()\n",
        "        dislike_feature_df.rename(columns={'engagement_value': 'user_dislikes'}, inplace=True)\n",
        "        # Fill NaN values with 0 (users with no \"dislike\" engagements)\n",
        "        dislike_feature_df['user_dislikes'].fillna(0, inplace=True)\n",
        "\n",
        "        # Getting average engage time for each user\n",
        "        time_engagements = self.user_data[self.user_data['engagement_type'] == 'MillisecondsEngagedWith'].copy()\n",
        "        engage_feature_df = time_engagements.groupby('user_id')['engagement_value'].mean().reset_index()\n",
        "        engage_feature_df.rename(columns={'engagement_value': 'user_engagetime'}, inplace=True)\n",
        "        # Fill NaN values with 0 (users with no engagment time data)\n",
        "        engage_feature_df['user_engagetime'].fillna(0, inplace=True)\n",
        "\n",
        "        feature_df = pd.merge(like_feature_df, dislike_feature_df , on='user_id', how='left')\n",
        "        feature_df = pd.merge(feature_df, engage_feature_df , on='user_id', how='left')\n",
        "\n",
        "        return feature_df, ['user_likes', 'user_dislikes', 'user_engagetime'], []\n",
        "\n",
        "\n",
        "    def feature_generation_content(self) -> Tuple[pd.DataFrame, List[str], List[str]]:\n",
        "        \"\"\"Generates content features. Keep all the categorical variables as is,\n",
        "        since the one-hot encoding will be done by our own pipeline. Along with\n",
        "        the feature dataframe, you'll need to output lists of numberical features\n",
        "        and categorical features as well.\n",
        "\n",
        "        Returns\n",
        "          pd.DataFrame: User feature dataframe\n",
        "          List[str]: List of numerical features. E.g. ['feat_1', 'feat_3, ...]\n",
        "          List[str]: List of categorical features. E.g. ['feat_2', 'feat_4, ...]\n",
        "        \"\"\"\n",
        "\n",
        "        feature_df = self.generated_content_metadata.copy()\n",
        "\n",
        "        # numerical feature 1: (average) guidance scale\n",
        "        mean_engage = feature_df[\"guidance_scale\"].mean()\n",
        "        guide_df = feature_df.groupby('content_id')['guidance_scale'].mean().reset_index()\n",
        "        guide_df = guide_df.rename(columns={'guidance_scale': 'content_guidance_scale'})\n",
        "        feature_df = pd.merge(feature_df, guide_df, on='content_id', how='left')\n",
        "        feature_df['content_guidance_scale'].fillna(mean_engage, inplace=True)\n",
        "\n",
        "        # numerical feature 2: num inference steps\n",
        "        mean_inf = feature_df[\"num_inference_steps\"].mean()\n",
        "        inf_df = feature_df.groupby('content_id')['num_inference_steps'].mean().reset_index()\n",
        "        inf_df = inf_df.rename(columns={'num_inference_steps': 'content_inference_steps'})\n",
        "        feature_df = pd.merge(feature_df, inf_df, on='content_id', how='left')\n",
        "        feature_df['content_inference_steps'].fillna(mean_inf, inplace=True)\n",
        "\n",
        "\n",
        "        # categorical feature 1: source\n",
        "        feature_df['content_source'] = 'other'\n",
        "        feature_df.loc[feature_df['source'] == 'human_prompts', 'content_source'] = 'human_prompts'\n",
        "        feature_df.loc[feature_df['source'] == 'r/Showerthoughts', 'content_source'] = 'r/Showerthoughts'\n",
        "\n",
        "\n",
        "        # categorical feature 2: artist style\n",
        "        style_list = [\n",
        "            'studio',\n",
        "            'medieval',\n",
        "            'anime',\n",
        "            'kerry_james_marshall',\n",
        "            'gta_v',\n",
        "            'scifi',\n",
        "            'van_gogh',\n",
        "            'salvador_dali',\n",
        "            'jean-michel_basquiat',\n",
        "            'face_and_lighting'\n",
        "        ]\n",
        "        #style_list = ['movie', 'empty']\n",
        "        feature_df['content_style'] = feature_df['artist_style']\n",
        "        feature_df['content_style'].fillna(\"empty\", inplace=True)\n",
        "        feature_df.loc[feature_df['content_style'].str.startswith('movie:'), 'content_style'] = 'movie'\n",
        "        feature_df.loc[~feature_df['content_style'].isin(style_list), 'content_style'] = 'other'\n",
        "\n",
        "\n",
        "        return feature_df, ['content_inference_steps'], ['content_source', 'content_style']\n",
        "\n",
        "\n",
        "    def get_Ys(self, engagement_data) -> pd.DataFrame:\n",
        "        \"\"\"Engineers taget variable that you are predicting.\n",
        "        Args\n",
        "            engagement_data (pd.DataFrame): Engagement data.\n",
        "        Returns\n",
        "            pd.DataFrame: Dataframe of 5 columns;\n",
        "                'user_id', 'content_id', 'like', 'dislike', 'engage_time'\n",
        "        \"\"\"\n",
        "        # Filtering Like-type engagements\n",
        "        like_data = engagement_data[engagement_data['engagement_type'] == 'Like']\n",
        "\n",
        "        # Grouping by 'user_id' and 'content_id' and getting the latest engagement for each pair\n",
        "        latest_engagements = like_data.sort_values('created_date').groupby(['user_id', 'content_id']).tail(1)\n",
        "\n",
        "        # Creating the target DataFrame with unique pairs of user_id and content_id\n",
        "        target_df = engagement_data[['user_id', 'content_id']].drop_duplicates()\n",
        "\n",
        "        # Merging latest engagements to update 'like' and 'dislike' columns\n",
        "        target_df = pd.merge(target_df, latest_engagements[['user_id', 'content_id', 'engagement_value']],\n",
        "                            on=['user_id', 'content_id'], how='left')\n",
        "\n",
        "        # Updating 'like' and 'dislike' columns based on the latest engagement values\n",
        "        target_df['like'] = (target_df['engagement_value'] == 1).astype(int)\n",
        "        target_df['dislike'] = (target_df['engagement_value'] == -1).astype(int)\n",
        "\n",
        "        # Filling NaN values with 0 for pairs without like/dislike\n",
        "        target_df.fillna(0, inplace=True)\n",
        "\n",
        "\n",
        "        # Set \"engage_time\" based on engagement_type and engagement_value\n",
        "        # assign existing engagement time if doesn't have that data, assign zero\n",
        "        engage_times = engagement_data[engagement_data['engagement_type'] == 'MillisecondsEngagedWith']\n",
        "\n",
        "        engage_times = engage_times.groupby(['user_id', 'content_id'])['engagement_value'].mean().reset_index()\n",
        "        engage_times.rename(columns={'engagement_value': 'engage_time'}, inplace=True)\n",
        "\n",
        "        target_df = pd.merge(target_df, engage_times[['user_id', 'content_id', 'engage_time']],\n",
        "                            on=['user_id', 'content_id'], how='left')\n",
        "\n",
        "        \"\"\"\n",
        "        # Grouping by 'user_id' and 'content_id' to get the earliest 'created_date' for each pair\n",
        "        engage_times = engage_times.sort_values('created_date').groupby(['user_id', 'content_id']).head(1)\n",
        "        \"\"\"\n",
        "        # Filling NaN values with 0 for pairs without engage_time\n",
        "        target_df['engage_time'].fillna(0, inplace=True)\n",
        "\n",
        "        # Select and rename the required columns\n",
        "        target_df = target_df[['user_id', 'content_id', 'like', 'dislike', 'engage_time']].copy()\n",
        "\n",
        "        return target_df\n",
        "\n",
        "\n",
        "    def predict(self, X: pd.DataFrame) -> Tuple[list, list, list]:\n",
        "        \"\"\"Predicts the 3 target variables by using the model that you trained.\n",
        "        Make sure you load the model properly.\n",
        "\n",
        "        Args:\n",
        "            X (pd.DataFrame): Feature dataframe with 2-level index of (user_id, content_id)\n",
        "\n",
        "        Returns:\n",
        "            (list, list, list): (predicted prbability of like,\n",
        "                                 predicted probability of dislike,\n",
        "                                 predicted engagement time)\n",
        "        \"\"\"\n",
        "\n",
        "        model = self.load_model()\n",
        "\n",
        "        pred_like = model['like'].predict(X)\n",
        "        pred_dislike = model['dislike'].predict(X)\n",
        "        pred_engtime = model['engage_time'].predict(X)\n",
        "\n",
        "        return pred_like, pred_dislike, pred_engtime\n",
        "\n",
        "    def rank(self,\n",
        "             score_df: pd.DataFrame,\n",
        "             user_id: int,\n",
        "             content_ids: Optional[list] = None) -> list:\n",
        "\n",
        "        \"\"\"Ranks the items for a given user based on your own criteria.\n",
        "\n",
        "        Args:\n",
        "            score_df (pd.DataFrame): Predicted-score Dataframe of columns;\n",
        "                'user_id', 'content_id', 'like', 'dislike', 'engage_time', and\n",
        "                also columns for content metadata.\n",
        "            user_id (int): User ID to rank the items for.\n",
        "            content_ids (Optional[list]): List of content ids to be considered for ranking.\n",
        "        \"\"\"\n",
        "\n",
        "        score_df = score_df[score_df['user_id'] == user_id]\n",
        "        ranked_pred = score_df.sort_values('like', ascending=False)\n",
        "\n",
        "        return ranked_pred['content_id'].tolist()\n",
        "\n",
        "    def load_model(self) -> object:\n",
        "        \"\"\"Loads your model. Since different ML frameworks requires different\n",
        "        ways to load the model. Change this to reflect your choice of framework.\n",
        "\n",
        "        Returns:\n",
        "            object: Model object\n",
        "        \"\"\"\n",
        "\n",
        "        with open(f'{self.objects_dir}/model.pkl', 'rb') as f:\n",
        "            return pickle.load(f)"
      ],
      "metadata": {
        "id": "EG1_xheyGgki"
      },
      "execution_count": null,
      "outputs": []
    },
    {
      "cell_type": "code",
      "source": [],
      "metadata": {
        "id": "uDbeVo6dHKz5"
      },
      "execution_count": null,
      "outputs": []
    },
    {
      "cell_type": "code",
      "source": [
        "#@title get training data\n",
        "data_collector = DataCollectorExample(\n",
        "    engagement_path='sample_data/engagement.csv',\n",
        "    content_meta_path='sample_data/generated_content_metadata.csv'\n",
        "    )\n",
        "\n",
        "X_train = data_collector.gen_model_input(is_train=True)\n",
        "y_train = data_collector.gen_target_vars()\n",
        "\n",
        "# ensure that each row of y_train corresponds to the correct user-content in X_train\n",
        "y_train = y_train.reindex(index=X_train.index)"
      ],
      "metadata": {
        "id": "hdzU5PJhDtOQ"
      },
      "execution_count": null,
      "outputs": []
    },
    {
      "cell_type": "code",
      "source": [
        "X_train, X_test, y_train, y_test = train_test_split(X_train, y_train, test_size=0.2, random_state=42)"
      ],
      "metadata": {
        "id": "ZXbfPXHYcBMH"
      },
      "execution_count": null,
      "outputs": []
    },
    {
      "cell_type": "code",
      "source": [
        "import tensorflow as tf\n",
        "from tensorflow.keras.models import Sequential\n",
        "from tensorflow.keras.layers import Dense, Dropout\n",
        "from sklearn.model_selection import train_test_split\n",
        "from sklearn.preprocessing import StandardScaler\n",
        "\n",
        "# Creating a Sequential model\n",
        "model_engtime = Sequential([\n",
        "    Dense(128, activation='relu', input_shape=(X_train.shape[1],)),\n",
        "    Dense(128, activation='relu'),\n",
        "    Dense(64, activation='relu'),\n",
        "    Dense(32, activation='relu'),\n",
        "    Dense(1)  # Output layer with 1 neuron for regression\n",
        "])"
      ],
      "metadata": {
        "id": "rkFx7DNBkiT8"
      },
      "execution_count": null,
      "outputs": []
    },
    {
      "cell_type": "code",
      "source": [
        "from tensorflow.keras.optimizers import Adam\n",
        "\n",
        "# Assuming 'model' is your neural network model\n",
        "# Define the optimizer with a custom learning rate\n",
        "custom_optimizer = Adam(learning_rate=0.01)  # increasing from 0.001\n",
        "\n",
        "# Compile the model with the custom optimizer\n",
        "model_engtime.compile(optimizer=custom_optimizer, loss='mean_squared_error', metrics=['mae'])"
      ],
      "metadata": {
        "id": "Kx0-ZZmnkXpD"
      },
      "execution_count": null,
      "outputs": []
    },
    {
      "cell_type": "code",
      "source": [
        "model_engtime.compile(optimizer='adam', loss='mean_squared_error', metrics=['mae'])\n",
        "model_engtime.fit(X_train, y_train['engage_time'], epochs=20)\n",
        "engtime_predictions = model_engtime.predict(X_test)\n",
        "engtime_mse = mean_squared_error(y_test['engage_time'], engtime_predictions)\n",
        "print(f\"Mean Squared Error for 'engage_time': {engtime_mse}\")"
      ],
      "metadata": {
        "colab": {
          "base_uri": "https://localhost:8080/"
        },
        "id": "-n_vMAf_kkBT",
        "outputId": "654852db-4b26-40b0-d46c-8d1d1d1c5325"
      },
      "execution_count": null,
      "outputs": [
        {
          "output_type": "stream",
          "name": "stdout",
          "text": [
            "Epoch 1/20\n",
            "4584/4584 [==============================] - 13s 3ms/step - loss: 5751609229312.0000 - mae: 49728.2500\n",
            "Epoch 2/20\n",
            "4584/4584 [==============================] - 11s 2ms/step - loss: 5747456868352.0000 - mae: 64555.5938\n",
            "Epoch 3/20\n",
            "4584/4584 [==============================] - 12s 3ms/step - loss: 5745665900544.0000 - mae: 60929.5898\n",
            "Epoch 4/20\n",
            "4584/4584 [==============================] - 16s 3ms/step - loss: 5745263247360.0000 - mae: 59941.3359\n",
            "Epoch 5/20\n",
            "4584/4584 [==============================] - 12s 3ms/step - loss: 5744104570880.0000 - mae: 59603.8438\n",
            "Epoch 6/20\n",
            "4584/4584 [==============================] - 16s 4ms/step - loss: 5742909194240.0000 - mae: 66589.5781\n",
            "Epoch 7/20\n",
            "4584/4584 [==============================] - 13s 3ms/step - loss: 5743177105408.0000 - mae: 60913.7539\n",
            "Epoch 8/20\n",
            "4584/4584 [==============================] - 12s 3ms/step - loss: 5743817785344.0000 - mae: 58416.2695\n",
            "Epoch 9/20\n",
            "4584/4584 [==============================] - 12s 3ms/step - loss: 5744473145344.0000 - mae: 58892.5977\n",
            "Epoch 10/20\n",
            "4584/4584 [==============================] - 11s 2ms/step - loss: 5744803446784.0000 - mae: 57054.7070\n",
            "Epoch 11/20\n",
            "4584/4584 [==============================] - 11s 2ms/step - loss: 5743706112000.0000 - mae: 60341.7227\n",
            "Epoch 12/20\n",
            "4584/4584 [==============================] - 12s 3ms/step - loss: 5744382967808.0000 - mae: 60795.1992\n",
            "Epoch 13/20\n",
            "4584/4584 [==============================] - 12s 3ms/step - loss: 5743436103680.0000 - mae: 62074.3828\n",
            "Epoch 14/20\n",
            "4584/4584 [==============================] - 12s 3ms/step - loss: 5744676044800.0000 - mae: 57149.9531\n",
            "Epoch 15/20\n",
            "4584/4584 [==============================] - 12s 3ms/step - loss: 5743050752000.0000 - mae: 62209.8477\n",
            "Epoch 16/20\n",
            "4584/4584 [==============================] - 11s 2ms/step - loss: 5743519465472.0000 - mae: 61337.1953\n",
            "Epoch 17/20\n",
            "4584/4584 [==============================] - 12s 3ms/step - loss: 5744565420032.0000 - mae: 58308.5977\n",
            "Epoch 18/20\n",
            "4584/4584 [==============================] - 12s 3ms/step - loss: 5743551971328.0000 - mae: 60482.1094\n",
            "Epoch 19/20\n",
            "4584/4584 [==============================] - 12s 3ms/step - loss: 5744630956032.0000 - mae: 59571.8828\n",
            "Epoch 20/20\n",
            "4584/4584 [==============================] - 12s 3ms/step - loss: 5743618031616.0000 - mae: 57129.7305\n",
            "1146/1146 [==============================] - 2s 2ms/step\n",
            "Mean Squared Error for 'engage_time': 4651136217153.661\n"
          ]
        }
      ]
    },
    {
      "cell_type": "code",
      "source": [
        "4651136217153.661 ** 0.5"
      ],
      "metadata": {
        "colab": {
          "base_uri": "https://localhost:8080/"
        },
        "id": "URasRCBtkwvm",
        "outputId": "a4c99f2e-5baf-40e2-db67-c594d99dcff8"
      },
      "execution_count": null,
      "outputs": [
        {
          "output_type": "execute_result",
          "data": {
            "text/plain": [
              "2156649.3032372375"
            ]
          },
          "metadata": {},
          "execution_count": 35
        }
      ]
    },
    {
      "cell_type": "code",
      "source": [
        "import tensorflow as tf\n",
        "from tensorflow.keras.models import Sequential\n",
        "from tensorflow.keras.layers import Dense, Dropout\n",
        "from sklearn.model_selection import train_test_split\n",
        "from sklearn.preprocessing import StandardScaler\n",
        "\n",
        "# Creating a Sequential model\n",
        "model_engtime = Sequential([\n",
        "    Dense(128, activation='relu', input_shape=(X_train.shape[1],)),\n",
        "    Dense(128, activation='relu'),\n",
        "    Dense(64, activation='relu'),\n",
        "    Dense(32, activation='relu'),\n",
        "    Dense(1)  # Output layer with 1 neuron for regression\n",
        "])"
      ],
      "metadata": {
        "id": "4PXoyfj2dFH-"
      },
      "execution_count": null,
      "outputs": []
    },
    {
      "cell_type": "code",
      "source": [
        "model_engtime.compile(optimizer='adam', loss='mean_squared_error', metrics=['mae'])\n",
        "model_engtime.fit(X_train, y_train['engage_time'], epochs=20)\n",
        "engtime_predictions = model_engtime.predict(X_test)\n",
        "engtime_mse = mean_squared_error(y_test['engage_time'], engtime_predictions)\n",
        "print(f\"Mean Squared Error for 'engage_time': {engtime_mse}\")"
      ],
      "metadata": {
        "colab": {
          "base_uri": "https://localhost:8080/"
        },
        "id": "UZMmSdbpdw5U",
        "outputId": "a6c14904-ea06-400c-d28e-3b1a9da58df0"
      },
      "execution_count": null,
      "outputs": [
        {
          "output_type": "stream",
          "name": "stdout",
          "text": [
            "Epoch 1/20\n",
            "4584/4584 [==============================] - 18s 3ms/step - loss: 5746913705984.0000 - mae: 55748.1133\n",
            "Epoch 2/20\n",
            "4584/4584 [==============================] - 11s 2ms/step - loss: 5745111728128.0000 - mae: 62162.7773\n",
            "Epoch 3/20\n",
            "4584/4584 [==============================] - 12s 3ms/step - loss: 5744593207296.0000 - mae: 60498.3477\n",
            "Epoch 4/20\n",
            "4584/4584 [==============================] - 12s 3ms/step - loss: 5744744726528.0000 - mae: 58594.8672\n",
            "Epoch 5/20\n",
            "4584/4584 [==============================] - 12s 3ms/step - loss: 5744440115200.0000 - mae: 59442.0938\n",
            "Epoch 6/20\n",
            "4584/4584 [==============================] - 12s 3ms/step - loss: 5744684433408.0000 - mae: 61075.5859\n",
            "Epoch 7/20\n",
            "4584/4584 [==============================] - 11s 2ms/step - loss: 5743754870784.0000 - mae: 62737.9297\n",
            "Epoch 8/20\n",
            "4584/4584 [==============================] - 11s 2ms/step - loss: 5744609984512.0000 - mae: 60041.9531\n",
            "Epoch 9/20\n",
            "4584/4584 [==============================] - 12s 3ms/step - loss: 5744476291072.0000 - mae: 58424.7344\n",
            "Epoch 10/20\n",
            "4584/4584 [==============================] - 12s 3ms/step - loss: 5744630431744.0000 - mae: 57207.9609\n",
            "Epoch 11/20\n",
            "4584/4584 [==============================] - 12s 3ms/step - loss: 5741078904832.0000 - mae: 60514.7695\n",
            "Epoch 12/20\n",
            "4584/4584 [==============================] - 11s 2ms/step - loss: 5745206624256.0000 - mae: 58145.1758\n",
            "Epoch 13/20\n",
            "4584/4584 [==============================] - 12s 3ms/step - loss: 5745126932480.0000 - mae: 60590.7227\n",
            "Epoch 14/20\n",
            "4584/4584 [==============================] - 12s 3ms/step - loss: 5744644063232.0000 - mae: 58991.4805\n",
            "Epoch 15/20\n",
            "4584/4584 [==============================] - 12s 3ms/step - loss: 5744655597568.0000 - mae: 59554.4883\n",
            "Epoch 16/20\n",
            "4584/4584 [==============================] - 12s 3ms/step - loss: 5743767977984.0000 - mae: 62371.5703\n",
            "Epoch 17/20\n",
            "4584/4584 [==============================] - 11s 2ms/step - loss: 5745003200512.0000 - mae: 57828.4531\n",
            "Epoch 18/20\n",
            "4584/4584 [==============================] - 12s 3ms/step - loss: 5743904817152.0000 - mae: 62925.9727\n",
            "Epoch 19/20\n",
            "4584/4584 [==============================] - 12s 3ms/step - loss: 5744345219072.0000 - mae: 60231.5547\n",
            "Epoch 20/20\n",
            "4584/4584 [==============================] - 12s 3ms/step - loss: 5744506175488.0000 - mae: 58017.2695\n",
            "1146/1146 [==============================] - 2s 2ms/step\n",
            "Mean Squared Error for 'engage_time': 4646769610928.456\n"
          ]
        }
      ]
    },
    {
      "cell_type": "code",
      "source": [
        "4646769610928.456 ** 0.5"
      ],
      "metadata": {
        "colab": {
          "base_uri": "https://localhost:8080/"
        },
        "id": "hiR0fASCo8-P",
        "outputId": "c300cd14-b895-45f4-f74d-161ba4456f23"
      },
      "execution_count": null,
      "outputs": [
        {
          "output_type": "execute_result",
          "data": {
            "text/plain": [
              "2155636.7066202173"
            ]
          },
          "metadata": {},
          "execution_count": 41
        }
      ]
    },
    {
      "cell_type": "code",
      "source": [
        "654562078735.6278 ** 0.5"
      ],
      "metadata": {
        "colab": {
          "base_uri": "https://localhost:8080/"
        },
        "id": "0zmcsBBMedcy",
        "outputId": "1a7df010-f3ce-4df8-d5bf-5a1c80336e2f"
      },
      "execution_count": null,
      "outputs": [
        {
          "output_type": "execute_result",
          "data": {
            "text/plain": [
              "809050.1089151573"
            ]
          },
          "metadata": {},
          "execution_count": 19
        }
      ]
    },
    {
      "cell_type": "code",
      "source": [
        "engtime_predictions = model_engtime.predict(X_train)\n",
        "engtime_mse = mean_squared_error(y_train['engage_time'], engtime_predictions)\n",
        "print(f\"Mean Squared Error for 'engage_time': {engtime_mse}\")"
      ],
      "metadata": {
        "colab": {
          "base_uri": "https://localhost:8080/"
        },
        "id": "sresKhAte0mo",
        "outputId": "0c2e982c-c586-4b08-a9dc-bc206da81b4b"
      },
      "execution_count": null,
      "outputs": [
        {
          "output_type": "stream",
          "name": "stdout",
          "text": [
            "2934/2934 [==============================] - 7s 2ms/step\n",
            "Mean Squared Error for 'engage_time': 5424845287818.471\n"
          ]
        }
      ]
    },
    {
      "cell_type": "code",
      "source": [
        "5424845287818.471 ** 0.5"
      ],
      "metadata": {
        "colab": {
          "base_uri": "https://localhost:8080/"
        },
        "id": "RO6BgxNGfAhQ",
        "outputId": "5145ab56-d129-477c-9df9-4cb20a919ca2"
      },
      "execution_count": null,
      "outputs": [
        {
          "output_type": "execute_result",
          "data": {
            "text/plain": [
              "2329129.7275631665"
            ]
          },
          "metadata": {},
          "execution_count": 22
        }
      ]
    },
    {
      "cell_type": "code",
      "source": [
        "def create_model():\n",
        "    model_engtime = Sequential([\n",
        "        Dense(128, activation='relu', input_shape=(X_train.shape[1],)),\n",
        "        Dense(128, activation='relu'),\n",
        "        Dense(64, activation='relu'),\n",
        "        Dense(32, activation='relu'),\n",
        "        Dense(1)  # Output layer with 1 neuron for regression\n",
        "    ])\n",
        "    return model_engtime"
      ],
      "metadata": {
        "id": "GXEa56jmg00a"
      },
      "execution_count": null,
      "outputs": []
    },
    {
      "cell_type": "code",
      "source": [
        "import tensorflow as tf\n",
        "from tensorflow.keras.models import Sequential\n",
        "from tensorflow.keras.layers import Dense, Dropout\n",
        "from sklearn.model_selection import train_test_split\n",
        "from sklearn.preprocessing import StandardScaler\n",
        "\n",
        "# Creating a Sequential model\n",
        "model_engtime = Sequential([\n",
        "    Dense(64, activation='relu', input_shape=(X_train.shape[1],), kernel_initializer='he_normal'),\n",
        "    Dropout(0.2),  # Adding dropout for regularization\n",
        "    Dense(128, activation='relu', kernel_initializer='he_normal'),\n",
        "    Dropout(0.2),  # Adding dropout for regularization\n",
        "    Dense(64, activation='relu', kernel_initializer='he_normal'),\n",
        "    Dense(32, activation='relu', kernel_initializer='he_normal'),\n",
        "    Dense(1)  # Output layer with 1 neuron for regression\n",
        "])"
      ],
      "metadata": {
        "id": "DI36aDdOYkNr"
      },
      "execution_count": null,
      "outputs": []
    },
    {
      "cell_type": "code",
      "source": [],
      "metadata": {
        "id": "tPN13yCgY1Iy"
      },
      "execution_count": null,
      "outputs": []
    },
    {
      "cell_type": "code",
      "source": [],
      "metadata": {
        "id": "jqr2InzwbwgS"
      },
      "execution_count": null,
      "outputs": []
    },
    {
      "cell_type": "markdown",
      "source": [
        "###Linear Regression & Weight Analysis to Experiment with different set of features"
      ],
      "metadata": {
        "id": "Wnb5XUt3TTmm"
      }
    },
    {
      "cell_type": "code",
      "source": [
        "from sklearn.linear_model import LinearRegression\n",
        "model_engtime = LinearRegression()\n",
        "model_engtime.fit(X_train, y_train['engage_time'])"
      ],
      "metadata": {
        "colab": {
          "base_uri": "https://localhost:8080/",
          "height": 75
        },
        "id": "maPZjlFfBTpZ",
        "outputId": "5ebeee57-6671-4935-cf3c-95cb867041ba"
      },
      "execution_count": null,
      "outputs": [
        {
          "output_type": "execute_result",
          "data": {
            "text/plain": [
              "LinearRegression()"
            ],
            "text/html": [
              "<style>#sk-container-id-7 {color: black;background-color: white;}#sk-container-id-7 pre{padding: 0;}#sk-container-id-7 div.sk-toggleable {background-color: white;}#sk-container-id-7 label.sk-toggleable__label {cursor: pointer;display: block;width: 100%;margin-bottom: 0;padding: 0.3em;box-sizing: border-box;text-align: center;}#sk-container-id-7 label.sk-toggleable__label-arrow:before {content: \"▸\";float: left;margin-right: 0.25em;color: #696969;}#sk-container-id-7 label.sk-toggleable__label-arrow:hover:before {color: black;}#sk-container-id-7 div.sk-estimator:hover label.sk-toggleable__label-arrow:before {color: black;}#sk-container-id-7 div.sk-toggleable__content {max-height: 0;max-width: 0;overflow: hidden;text-align: left;background-color: #f0f8ff;}#sk-container-id-7 div.sk-toggleable__content pre {margin: 0.2em;color: black;border-radius: 0.25em;background-color: #f0f8ff;}#sk-container-id-7 input.sk-toggleable__control:checked~div.sk-toggleable__content {max-height: 200px;max-width: 100%;overflow: auto;}#sk-container-id-7 input.sk-toggleable__control:checked~label.sk-toggleable__label-arrow:before {content: \"▾\";}#sk-container-id-7 div.sk-estimator input.sk-toggleable__control:checked~label.sk-toggleable__label {background-color: #d4ebff;}#sk-container-id-7 div.sk-label input.sk-toggleable__control:checked~label.sk-toggleable__label {background-color: #d4ebff;}#sk-container-id-7 input.sk-hidden--visually {border: 0;clip: rect(1px 1px 1px 1px);clip: rect(1px, 1px, 1px, 1px);height: 1px;margin: -1px;overflow: hidden;padding: 0;position: absolute;width: 1px;}#sk-container-id-7 div.sk-estimator {font-family: monospace;background-color: #f0f8ff;border: 1px dotted black;border-radius: 0.25em;box-sizing: border-box;margin-bottom: 0.5em;}#sk-container-id-7 div.sk-estimator:hover {background-color: #d4ebff;}#sk-container-id-7 div.sk-parallel-item::after {content: \"\";width: 100%;border-bottom: 1px solid gray;flex-grow: 1;}#sk-container-id-7 div.sk-label:hover label.sk-toggleable__label {background-color: #d4ebff;}#sk-container-id-7 div.sk-serial::before {content: \"\";position: absolute;border-left: 1px solid gray;box-sizing: border-box;top: 0;bottom: 0;left: 50%;z-index: 0;}#sk-container-id-7 div.sk-serial {display: flex;flex-direction: column;align-items: center;background-color: white;padding-right: 0.2em;padding-left: 0.2em;position: relative;}#sk-container-id-7 div.sk-item {position: relative;z-index: 1;}#sk-container-id-7 div.sk-parallel {display: flex;align-items: stretch;justify-content: center;background-color: white;position: relative;}#sk-container-id-7 div.sk-item::before, #sk-container-id-7 div.sk-parallel-item::before {content: \"\";position: absolute;border-left: 1px solid gray;box-sizing: border-box;top: 0;bottom: 0;left: 50%;z-index: -1;}#sk-container-id-7 div.sk-parallel-item {display: flex;flex-direction: column;z-index: 1;position: relative;background-color: white;}#sk-container-id-7 div.sk-parallel-item:first-child::after {align-self: flex-end;width: 50%;}#sk-container-id-7 div.sk-parallel-item:last-child::after {align-self: flex-start;width: 50%;}#sk-container-id-7 div.sk-parallel-item:only-child::after {width: 0;}#sk-container-id-7 div.sk-dashed-wrapped {border: 1px dashed gray;margin: 0 0.4em 0.5em 0.4em;box-sizing: border-box;padding-bottom: 0.4em;background-color: white;}#sk-container-id-7 div.sk-label label {font-family: monospace;font-weight: bold;display: inline-block;line-height: 1.2em;}#sk-container-id-7 div.sk-label-container {text-align: center;}#sk-container-id-7 div.sk-container {/* jupyter's `normalize.less` sets `[hidden] { display: none; }` but bootstrap.min.css set `[hidden] { display: none !important; }` so we also need the `!important` here to be able to override the default hidden behavior on the sphinx rendered scikit-learn.org. See: https://github.com/scikit-learn/scikit-learn/issues/21755 */display: inline-block !important;position: relative;}#sk-container-id-7 div.sk-text-repr-fallback {display: none;}</style><div id=\"sk-container-id-7\" class=\"sk-top-container\"><div class=\"sk-text-repr-fallback\"><pre>LinearRegression()</pre><b>In a Jupyter environment, please rerun this cell to show the HTML representation or trust the notebook. <br />On GitHub, the HTML representation is unable to render, please try loading this page with nbviewer.org.</b></div><div class=\"sk-container\" hidden><div class=\"sk-item\"><div class=\"sk-estimator sk-toggleable\"><input class=\"sk-toggleable__control sk-hidden--visually\" id=\"sk-estimator-id-7\" type=\"checkbox\" checked><label for=\"sk-estimator-id-7\" class=\"sk-toggleable__label sk-toggleable__label-arrow\">LinearRegression</label><div class=\"sk-toggleable__content\"><pre>LinearRegression()</pre></div></div></div></div></div>"
            ]
          },
          "metadata": {},
          "execution_count": 287
        }
      ]
    },
    {
      "cell_type": "code",
      "source": [
        "#all styles + removed guidance scale\n",
        "engtime_predictions = model_engtime.predict(X_test)\n",
        "engtime_mse = mean_squared_error(y_test['engage_time'], engtime_predictions)\n",
        "print(f\"Mean Squared Error for 'engage_time': {engtime_mse}\")"
      ],
      "metadata": {
        "colab": {
          "base_uri": "https://localhost:8080/"
        },
        "id": "4IHoq4r5D_3x",
        "outputId": "5c6f2fee-2dab-490f-ce20-93e73b257f3e"
      },
      "execution_count": null,
      "outputs": [
        {
          "output_type": "stream",
          "name": "stdout",
          "text": [
            "Mean Squared Error for 'engage_time': 4643915339660.62\n"
          ]
        }
      ]
    },
    {
      "cell_type": "code",
      "source": [
        "4643915339660.62 ** 0.5"
      ],
      "metadata": {
        "colab": {
          "base_uri": "https://localhost:8080/"
        },
        "id": "srEAfH3FG1qi",
        "outputId": "37122d65-a7b4-43a5-bc8e-950602ce928b"
      },
      "execution_count": null,
      "outputs": [
        {
          "output_type": "execute_result",
          "data": {
            "text/plain": [
              "2154974.556615604"
            ]
          },
          "metadata": {},
          "execution_count": 291
        }
      ]
    },
    {
      "cell_type": "code",
      "source": [
        "[(X_train.columns[i], model_engtime.coef_[i]) for i in range(len(X_train.columns))]"
      ],
      "metadata": {
        "colab": {
          "base_uri": "https://localhost:8080/"
        },
        "id": "YtUIPtc9G4D4",
        "outputId": "6d8b065f-7af1-4cf8-cb89-dcc43d2982e9"
      },
      "execution_count": null,
      "outputs": [
        {
          "output_type": "execute_result",
          "data": {
            "text/plain": [
              "[('user_likes', -900.9417808815841),\n",
              " ('user_dislikes', 3264.2796532672055),\n",
              " ('user_engagetime', 80113.46133270074),\n",
              " ('content_inference_steps', 4890.11980082893),\n",
              " ('content_source_human_prompts', -12368.507781687658),\n",
              " ('content_source_other', 10169.872782901075),\n",
              " ('content_source_r/Showerthoughts', 2198.634998786587),\n",
              " ('content_style_anime', -18873.911162572975),\n",
              " ('content_style_face_and_lighting', 24380.03857542192),\n",
              " ('content_style_gta_v', -5393.9347958834915),\n",
              " ('content_style_jean-michel_basquiat', -21768.13053114205),\n",
              " ('content_style_kerry_james_marshall', -21130.875619138496),\n",
              " ('content_style_medieval', -15667.914659514465),\n",
              " ('content_style_other', 12337.891616038129),\n",
              " ('content_style_salvador_dali', 23247.262720825172),\n",
              " ('content_style_scifi', -22841.476578718433),\n",
              " ('content_style_studio', 13471.09843869714),\n",
              " ('content_style_van_gogh', 32239.95199598753)]"
            ]
          },
          "metadata": {},
          "execution_count": 292
        }
      ]
    },
    {
      "cell_type": "code",
      "source": [
        "#limited styles\n",
        "engtime_predictions = model_engtime.predict(X_test)\n",
        "engtime_mse = mean_squared_error(y_test['engage_time'], engtime_predictions)\n",
        "print(f\"Mean Squared Error for 'engage_time': {engtime_mse}\")"
      ],
      "metadata": {
        "colab": {
          "base_uri": "https://localhost:8080/"
        },
        "id": "gUNF5zAJC90b",
        "outputId": "9b306596-0cdf-4162-e384-8788715bf06f"
      },
      "execution_count": null,
      "outputs": [
        {
          "output_type": "stream",
          "name": "stdout",
          "text": [
            "Mean Squared Error for 'engage_time': 10814879893857.01\n"
          ]
        }
      ]
    },
    {
      "cell_type": "code",
      "source": [
        "10814879893857.01 ** 0.5"
      ],
      "metadata": {
        "colab": {
          "base_uri": "https://localhost:8080/"
        },
        "id": "Fo4CJ-C8BTrw",
        "outputId": "9af3a7d2-2df4-4312-b4f3-70b09c754683"
      },
      "execution_count": null,
      "outputs": [
        {
          "output_type": "execute_result",
          "data": {
            "text/plain": [
              "3288598.4695394193"
            ]
          },
          "metadata": {},
          "execution_count": 270
        }
      ]
    },
    {
      "cell_type": "code",
      "source": [
        "[(X_train.columns[i], model_engtime.coef_[i]) for i in range(len(X_train.columns))]"
      ],
      "metadata": {
        "colab": {
          "base_uri": "https://localhost:8080/"
        },
        "id": "YRHbP6uLE500",
        "outputId": "5a304514-30f0-4bd8-c9b4-0b06c524b7ab"
      },
      "execution_count": null,
      "outputs": [
        {
          "output_type": "execute_result",
          "data": {
            "text/plain": [
              "[('user_likes', -1208.5858164150204),\n",
              " ('user_dislikes', 1403.638294720462),\n",
              " ('user_engagetime', 93412.53732233719),\n",
              " ('content_guidance_scale', 281.6310374356142),\n",
              " ('content_inference_steps', -3271.8479810710683),\n",
              " ('content_source_human_prompts', 6990.243688509355),\n",
              " ('content_source_other', -8147.285661574587),\n",
              " ('content_source_r/Showerthoughts', 1157.0419730652204),\n",
              " ('content_style_empty', -16069.359290149534),\n",
              " ('content_style_movie', 28834.68492314835),\n",
              " ('content_style_other', -12765.32563299882)]"
            ]
          },
          "metadata": {},
          "execution_count": 274
        }
      ]
    },
    {
      "cell_type": "code",
      "source": [],
      "metadata": {
        "id": "P5tVf6fibxRM"
      },
      "execution_count": null,
      "outputs": []
    },
    {
      "cell_type": "code",
      "source": [],
      "metadata": {
        "id": "hb2hJxz-Y1Nc"
      },
      "execution_count": null,
      "outputs": []
    },
    {
      "cell_type": "code",
      "source": [],
      "metadata": {
        "id": "0LWy5qotYkSz"
      },
      "execution_count": null,
      "outputs": []
    },
    {
      "cell_type": "code",
      "source": [],
      "metadata": {
        "id": "_I8InR0LE6Xs"
      },
      "execution_count": null,
      "outputs": []
    },
    {
      "cell_type": "code",
      "source": [
        "from tensorflow.keras.optimizers import Adam\n",
        "\n",
        "# Assuming 'model' is your neural network model\n",
        "# Define the optimizer with a custom learning rate\n",
        "custom_optimizer = Adam(learning_rate=0.01)  # increasing from 0.001\n",
        "\n",
        "# Compile the model with the custom optimizer\n",
        "model_engtime.compile(optimizer=custom_optimizer, loss='mean_squared_error', metrics=['mae'])"
      ],
      "metadata": {
        "id": "zuwdblnkz_cJ"
      },
      "execution_count": null,
      "outputs": []
    },
    {
      "cell_type": "code",
      "source": [
        "#using he_normal for weight initialization and adding one dropout layer\n",
        "model_engtime.fit(X_train, y_train['engage_time'], epochs=20, batch_size=32)\n",
        "engtime_predictions = model_engtime.predict(X_test)\n",
        "engtime_mse = mean_squared_error(y_test['engage_time'], engtime_predictions)\n",
        "print(f\"Mean Squared Error for 'engage_time': {engtime_mse}\")"
      ],
      "metadata": {
        "colab": {
          "base_uri": "https://localhost:8080/"
        },
        "id": "kFT6YOI92tye",
        "outputId": "91272eba-3669-498a-92bd-5f274e6e0b7a"
      },
      "execution_count": null,
      "outputs": [
        {
          "output_type": "stream",
          "name": "stdout",
          "text": [
            "Epoch 1/20\n",
            "4584/4584 [==============================] - 14s 3ms/step - loss: 5751039852544.0000 - mae: 48060.7891\n",
            "Epoch 2/20\n",
            "4584/4584 [==============================] - 11s 2ms/step - loss: 5749491630080.0000 - mae: 47081.6641\n",
            "Epoch 3/20\n",
            "4584/4584 [==============================] - 18s 4ms/step - loss: 5749943566336.0000 - mae: 51085.9805\n",
            "Epoch 4/20\n",
            "4584/4584 [==============================] - 11s 2ms/step - loss: 5750342549504.0000 - mae: 47320.1172\n",
            "Epoch 5/20\n",
            "4584/4584 [==============================] - 11s 2ms/step - loss: 5749870166016.0000 - mae: 52123.5742\n",
            "Epoch 6/20\n",
            "4584/4584 [==============================] - 10s 2ms/step - loss: 5747659767808.0000 - mae: 53287.4219\n",
            "Epoch 7/20\n",
            "4584/4584 [==============================] - 11s 2ms/step - loss: 5748310409216.0000 - mae: 45578.5977\n",
            "Epoch 8/20\n",
            "4584/4584 [==============================] - 11s 2ms/step - loss: 5752971853824.0000 - mae: 37273.8906\n",
            "Epoch 9/20\n",
            "4584/4584 [==============================] - 11s 2ms/step - loss: 5752854413312.0000 - mae: 39376.6406\n",
            "Epoch 10/20\n",
            "4584/4584 [==============================] - 10s 2ms/step - loss: 5750313713664.0000 - mae: 48675.1094\n",
            "Epoch 11/20\n",
            "4584/4584 [==============================] - 11s 2ms/step - loss: 5752517296128.0000 - mae: 40422.8594\n",
            "Epoch 12/20\n",
            "4584/4584 [==============================] - 11s 2ms/step - loss: 5752842354688.0000 - mae: 39304.3086\n",
            "Epoch 13/20\n",
            "4584/4584 [==============================] - 11s 2ms/step - loss: 5751379591168.0000 - mae: 41168.3672\n",
            "Epoch 14/20\n",
            "4584/4584 [==============================] - 10s 2ms/step - loss: 5751268966400.0000 - mae: 48280.6211\n",
            "Epoch 15/20\n",
            "4584/4584 [==============================] - 11s 2ms/step - loss: 5749481144320.0000 - mae: 51992.2539\n",
            "Epoch 16/20\n",
            "4584/4584 [==============================] - 11s 2ms/step - loss: 5750281207808.0000 - mae: 38060.4492\n",
            "Epoch 17/20\n",
            "4584/4584 [==============================] - 11s 2ms/step - loss: 5753009078272.0000 - mae: 35839.1641\n",
            "Epoch 18/20\n",
            "4584/4584 [==============================] - 10s 2ms/step - loss: 5752968708096.0000 - mae: 35692.7109\n",
            "Epoch 19/20\n",
            "4584/4584 [==============================] - 11s 2ms/step - loss: 5753034768384.0000 - mae: 35078.8984\n",
            "Epoch 20/20\n",
            "4584/4584 [==============================] - 11s 2ms/step - loss: 5753010651136.0000 - mae: 35070.2422\n",
            "1146/1146 [==============================] - 2s 1ms/step\n",
            "Mean Squared Error for 'engage_time': 4643746094708.583\n"
          ]
        }
      ]
    },
    {
      "cell_type": "code",
      "source": [],
      "metadata": {
        "id": "fYOCxS-U2wsl"
      },
      "execution_count": null,
      "outputs": []
    },
    {
      "cell_type": "code",
      "source": [
        "import tensorflow as tf\n",
        "from tensorflow.keras.models import Sequential\n",
        "from tensorflow.keras.layers import Dense, Dropout\n",
        "from sklearn.model_selection import train_test_split\n",
        "from sklearn.preprocessing import StandardScaler\n",
        "\n",
        "# Creating a Sequential model\n",
        "model_like = Sequential([\n",
        "    Dense(64, activation='relu', input_shape=(X_train.shape[1],)),\n",
        "    Dense(128, activation='relu'),\n",
        "    Dropout(0.2),  # Adding dropout for regularization\n",
        "    Dense(64, activation='relu'),\n",
        "    Dense(32, activation='relu'),\n",
        "    Dense(1, activation='sigmoid')  # Output layer with 1 neuron for regression\n",
        "])\n",
        "model_like.compile(optimizer='adam', loss='binary_crossentropy', metrics=['accuracy'])"
      ],
      "metadata": {
        "id": "94Xxslhs3_vR"
      },
      "execution_count": null,
      "outputs": []
    },
    {
      "cell_type": "code",
      "source": [
        "model_like.compile(optimizer='adam', loss='binary_crossentropy', metrics=['accuracy'])"
      ],
      "metadata": {
        "id": "_fLPLRFr3_yD"
      },
      "execution_count": null,
      "outputs": []
    },
    {
      "cell_type": "code",
      "source": [
        "#more complex model, after droping excess style features\n",
        "model_like.fit(X_train, y_train['like'], epochs=20, batch_size=32)"
      ],
      "metadata": {
        "colab": {
          "base_uri": "https://localhost:8080/"
        },
        "id": "pb6LVVbQ3_1T",
        "outputId": "e79ff486-2e3a-445a-b897-47bc2904dbfb"
      },
      "execution_count": null,
      "outputs": [
        {
          "output_type": "stream",
          "name": "stdout",
          "text": [
            "Epoch 1/20\n",
            "4584/4584 [==============================] - 19s 4ms/step - loss: 0.5000 - accuracy: 0.7653\n",
            "Epoch 2/20\n",
            "4584/4584 [==============================] - 11s 2ms/step - loss: 0.4924 - accuracy: 0.7697\n",
            "Epoch 3/20\n",
            "4584/4584 [==============================] - 10s 2ms/step - loss: 0.4903 - accuracy: 0.7703\n",
            "Epoch 4/20\n",
            "4584/4584 [==============================] - 11s 2ms/step - loss: 0.4890 - accuracy: 0.7708\n",
            "Epoch 5/20\n",
            "4584/4584 [==============================] - 11s 2ms/step - loss: 0.4876 - accuracy: 0.7718\n",
            "Epoch 6/20\n",
            "4584/4584 [==============================] - 12s 3ms/step - loss: 0.4864 - accuracy: 0.7718\n",
            "Epoch 7/20\n",
            "4584/4584 [==============================] - 10s 2ms/step - loss: 0.4856 - accuracy: 0.7720\n",
            "Epoch 8/20\n",
            "4584/4584 [==============================] - 11s 2ms/step - loss: 0.4846 - accuracy: 0.7734\n",
            "Epoch 9/20\n",
            "4584/4584 [==============================] - 11s 2ms/step - loss: 0.4843 - accuracy: 0.7730\n",
            "Epoch 10/20\n",
            "4584/4584 [==============================] - 11s 3ms/step - loss: 0.4835 - accuracy: 0.7737\n",
            "Epoch 11/20\n",
            "4584/4584 [==============================] - 11s 2ms/step - loss: 0.4826 - accuracy: 0.7742\n",
            "Epoch 12/20\n",
            "4584/4584 [==============================] - 11s 2ms/step - loss: 0.4820 - accuracy: 0.7749\n",
            "Epoch 13/20\n",
            "4584/4584 [==============================] - 11s 2ms/step - loss: 0.4814 - accuracy: 0.7749\n",
            "Epoch 14/20\n",
            "4584/4584 [==============================] - 11s 2ms/step - loss: 0.4810 - accuracy: 0.7748\n",
            "Epoch 15/20\n",
            "4584/4584 [==============================] - 12s 3ms/step - loss: 0.4806 - accuracy: 0.7757\n",
            "Epoch 16/20\n",
            "4584/4584 [==============================] - 10s 2ms/step - loss: 0.4798 - accuracy: 0.7759\n",
            "Epoch 17/20\n",
            "4584/4584 [==============================] - 11s 2ms/step - loss: 0.4795 - accuracy: 0.7763\n",
            "Epoch 18/20\n",
            "4584/4584 [==============================] - 11s 2ms/step - loss: 0.4792 - accuracy: 0.7765\n",
            "Epoch 19/20\n",
            "4584/4584 [==============================] - 11s 2ms/step - loss: 0.4787 - accuracy: 0.7768\n",
            "Epoch 20/20\n",
            "4584/4584 [==============================] - 10s 2ms/step - loss: 0.4783 - accuracy: 0.7772\n"
          ]
        },
        {
          "output_type": "execute_result",
          "data": {
            "text/plain": [
              "<keras.src.callbacks.History at 0x7a4aae9912a0>"
            ]
          },
          "metadata": {},
          "execution_count": 217
        }
      ]
    },
    {
      "cell_type": "code",
      "source": [
        "like_predictions = model_like.predict(X_test)\n"
      ],
      "metadata": {
        "id": "njMLXmk75E25"
      },
      "execution_count": null,
      "outputs": []
    },
    {
      "cell_type": "code",
      "source": [],
      "metadata": {
        "id": "DvdnqcFH4XWM"
      },
      "execution_count": null,
      "outputs": []
    },
    {
      "cell_type": "code",
      "source": [],
      "metadata": {
        "id": "nzySv8dn4Xbn"
      },
      "execution_count": null,
      "outputs": []
    },
    {
      "cell_type": "markdown",
      "source": [
        "###RandomForestClassifier + RandomForestRegressor & tuning"
      ],
      "metadata": {
        "id": "Ilx4FplPS6H5"
      }
    },
    {
      "cell_type": "code",
      "source": [
        "from sklearn.ensemble import RandomForestClassifier, RandomForestRegressor\n",
        "from sklearn.model_selection import train_test_split\n",
        "from sklearn.metrics import accuracy_score, mean_squared_error\n",
        "import pandas as pd\n",
        "import numpy as np\n",
        "import pickle\n",
        "\n",
        "# Assuming X_train and y_train are your feature and target variables\n",
        "# Split the data into training and testing sets\n",
        "X_train, X_test, y_train, y_test = train_test_split(X_train, y_train, test_size=0.2, random_state=42)\n",
        "\n",
        "# Model for 'like'\n",
        "model_like = RandomForestClassifier(random_state=42)\n",
        "model_like.fit(X_train, y_train['like'])\n",
        "like_predictions = model_like.predict(X_test)\n",
        "like_accuracy = accuracy_score(y_test['like'], like_predictions)\n",
        "print(f\"Accuracy for 'like': {like_accuracy}\")\n",
        "\n",
        "# Model for 'dislike' (assuming binary classification)\n",
        "model_dislike = RandomForestClassifier(random_state=42)\n",
        "model_dislike.fit(X_train, y_train['dislike'])\n",
        "dislike_predictions = model_dislike.predict(X_test)\n",
        "dislike_accuracy = accuracy_score(y_test['dislike'], dislike_predictions)\n",
        "print(f\"Accuracy for 'dislike': {dislike_accuracy}\")\n",
        "\n",
        "# Model for 'engage_time'\n",
        "model_engtime = RandomForestRegressor(random_state=42)\n",
        "model_engtime.fit(X_train, y_train['engage_time'])\n",
        "engtime_predictions = model_engtime.predict(X_test)\n",
        "engtime_mse = mean_squared_error(y_test['engage_time'], engtime_predictions)\n",
        "print(f\"Mean Squared Error for 'engage_time': {engtime_mse}\")\n",
        "\n",
        "# Save the models to a file\n",
        "model = {\n",
        "    'like': model_like,\n",
        "    'dislike': model_dislike,\n",
        "    'engage_time': model_engtime\n",
        "}\n",
        "\n",
        "with open('sample_data/model.pkl', 'wb') as f:\n",
        "    pickle.dump(model, f)"
      ],
      "metadata": {
        "id": "OlyfGH1As3RZ"
      },
      "execution_count": null,
      "outputs": []
    },
    {
      "cell_type": "code",
      "source": [],
      "metadata": {
        "id": "MM0EXslps4EO"
      },
      "execution_count": null,
      "outputs": []
    },
    {
      "cell_type": "code",
      "execution_count": null,
      "metadata": {
        "colab": {
          "base_uri": "https://localhost:8080/"
        },
        "id": "41fYy61iWtwU",
        "outputId": "49295964-6d35-4e47-9017-35fc8446db4b"
      },
      "outputs": [
        {
          "output_type": "stream",
          "name": "stdout",
          "text": [
            "Accuracy for 'like': 0.7170615305948526\n",
            "Accuracy for 'dislike': 0.7595875234361684\n",
            "Mean Squared Error for 'engage_time': 1194319493893.0874\n"
          ]
        }
      ],
      "source": [
        "from sklearn.ensemble import RandomForestClassifier, RandomForestRegressor\n",
        "from sklearn.model_selection import train_test_split\n",
        "from sklearn.metrics import accuracy_score, mean_squared_error\n",
        "import pandas as pd\n",
        "import numpy as np\n",
        "import pickle\n",
        "\n",
        "# Assuming X_train and y_train are your feature and target variables\n",
        "# Split the data into training and testing sets\n",
        "X_train, X_test, y_train, y_test = train_test_split(X_train, y_train, test_size=0.2, random_state=42)\n",
        "\n",
        "# Model for 'like'\n",
        "model_like = RandomForestClassifier(random_state=42)\n",
        "model_like.fit(X_train, y_train['like'])\n",
        "like_predictions = model_like.predict(X_test)\n",
        "like_accuracy = accuracy_score(y_test['like'], like_predictions)\n",
        "print(f\"Accuracy for 'like': {like_accuracy}\")\n",
        "\n",
        "# Model for 'dislike' (assuming binary classification)\n",
        "model_dislike = RandomForestClassifier(random_state=42)\n",
        "model_dislike.fit(X_train, y_train['dislike'])\n",
        "dislike_predictions = model_dislike.predict(X_test)\n",
        "dislike_accuracy = accuracy_score(y_test['dislike'], dislike_predictions)\n",
        "print(f\"Accuracy for 'dislike': {dislike_accuracy}\")\n",
        "\n",
        "# Model for 'engage_time'\n",
        "model_engtime = RandomForestRegressor(random_state=42)\n",
        "model_engtime.fit(X_train, y_train['engage_time'])\n",
        "engtime_predictions = model_engtime.predict(X_test)\n",
        "engtime_mse = mean_squared_error(y_test['engage_time'], engtime_predictions)\n",
        "print(f\"Mean Squared Error for 'engage_time': {engtime_mse}\")\n",
        "\n",
        "# Save the models to a file\n",
        "model = {\n",
        "    'like': model_like,\n",
        "    'dislike': model_dislike,\n",
        "    'engage_time': model_engtime\n",
        "}\n",
        "\n",
        "with open('sample_data/model.pkl', 'wb') as f:\n",
        "    pickle.dump(model, f)"
      ]
    },
    {
      "cell_type": "code",
      "execution_count": null,
      "metadata": {
        "id": "9JiwqBHfWtwV"
      },
      "outputs": [],
      "source": [
        "data_collector = DataCollectorExample(\n",
        "    engagement_path='sample_data/engagement_train.csv',\n",
        "    content_meta_path='sample_data/generated_content_metadata.csv'\n",
        "    )\n",
        "\n",
        "X_train = data_collector.gen_model_input(is_train=True)\n",
        "y_train = data_collector.gen_target_vars()\n",
        "\n",
        "# ensure that each row of y_train corresponds to the correct user-content in X_train\n",
        "y_train = y_train.reindex(index=X_train.index)"
      ]
    },
    {
      "cell_type": "code",
      "execution_count": null,
      "metadata": {
        "id": "sOFRrHtjWtwV",
        "outputId": "c4b55f19-8ca4-41a8-d797-03738453a369"
      },
      "outputs": [
        {
          "data": {
            "text/plain": [
              "{'like': {'precision': 0.5303030303030303, 'recall': 0.38461538461538464},\n",
              " 'dislike': {'precision': 0.3148148148148148, 'recall': 0.22077922077922077},\n",
              " 'engage_time': {'rmse': 28397.677221999707}}"
            ]
          },
          "execution_count": 175,
          "metadata": {},
          "output_type": "execute_result"
        }
      ],
      "source": [
        "# Simulates contents filtered from previous stage.\n",
        "# Feel free to change this to reflect your previous stage.\n",
        "\n",
        "sample_contents = content_meta['content_id'].sample(frac=0.01)\n",
        "# Get true target variables\n",
        "y_true = data_collector.gen_target_vars(engagement_test)\n",
        "\n",
        "# Make predictions\n",
        "y_pred = data_collector.score(content_ids = sample_contents)\n",
        "\n",
        "thres_like = 0.5\n",
        "thres_dislike = 0.5\n",
        "evaluate(y_true, y_pred, thres_like, thres_dislike)"
      ]
    },
    {
      "cell_type": "code",
      "source": [
        "# Simulates contents filtered from previous stage.\n",
        "# Feel free to change this to reflect your previous stage.\n",
        "\n",
        "sample_contents = content_meta['content_id'].sample(frac=0.01)\n",
        "# Get true target variables\n",
        "y_true = data_collector.gen_target_vars(engagement_test)\n",
        "\n",
        "# Make predictions\n",
        "y_pred = data_collector.score(content_ids = sample_contents)\n",
        "\n",
        "thres_like = 0.5\n",
        "thres_dislike = 0.5\n",
        "evaluate(y_true, y_pred, thres_like, thres_dislike)"
      ],
      "metadata": {
        "colab": {
          "base_uri": "https://localhost:8080/"
        },
        "id": "admA45Qq8ToU",
        "outputId": "3119bfeb-cf54-461a-da13-676582757c2b"
      },
      "execution_count": null,
      "outputs": [
        {
          "output_type": "execute_result",
          "data": {
            "text/plain": [
              "{'like': {'precision': 0.5483870967741935, 'recall': 0.37362637362637363},\n",
              " 'dislike': {'precision': 0.36, 'recall': 0.23376623376623376},\n",
              " 'engage_time': {'rmse': 16554.833079757926}}"
            ]
          },
          "metadata": {},
          "execution_count": 59
        }
      ]
    },
    {
      "cell_type": "code",
      "execution_count": null,
      "metadata": {
        "id": "LPAAAAqUWtwd",
        "outputId": "aaa38083-cbaf-427a-f775-195a3a5559f5"
      },
      "outputs": [
        {
          "data": {
            "text/html": [
              "<div>\n",
              "<style scoped>\n",
              "    .dataframe tbody tr th:only-of-type {\n",
              "        vertical-align: middle;\n",
              "    }\n",
              "\n",
              "    .dataframe tbody tr th {\n",
              "        vertical-align: top;\n",
              "    }\n",
              "\n",
              "    .dataframe thead th {\n",
              "        text-align: right;\n",
              "    }\n",
              "</style>\n",
              "<table border=\"1\" class=\"dataframe\">\n",
              "  <thead>\n",
              "    <tr style=\"text-align: right;\">\n",
              "      <th></th>\n",
              "      <th>user_id</th>\n",
              "      <th>user_feature_1</th>\n",
              "    </tr>\n",
              "  </thead>\n",
              "  <tbody>\n",
              "    <tr>\n",
              "      <th>0</th>\n",
              "      <td>51</td>\n",
              "      <td>-55.0</td>\n",
              "    </tr>\n",
              "    <tr>\n",
              "      <th>1</th>\n",
              "      <td>30</td>\n",
              "      <td>-192.0</td>\n",
              "    </tr>\n",
              "    <tr>\n",
              "      <th>2</th>\n",
              "      <td>53</td>\n",
              "      <td>191.0</td>\n",
              "    </tr>\n",
              "    <tr>\n",
              "      <th>3</th>\n",
              "      <td>64</td>\n",
              "      <td>63.0</td>\n",
              "    </tr>\n",
              "    <tr>\n",
              "      <th>4</th>\n",
              "      <td>89</td>\n",
              "      <td>339.0</td>\n",
              "    </tr>\n",
              "    <tr>\n",
              "      <th>...</th>\n",
              "      <td>...</td>\n",
              "      <td>...</td>\n",
              "    </tr>\n",
              "    <tr>\n",
              "      <th>105</th>\n",
              "      <td>76</td>\n",
              "      <td>1.0</td>\n",
              "    </tr>\n",
              "    <tr>\n",
              "      <th>106</th>\n",
              "      <td>105</td>\n",
              "      <td>0.0</td>\n",
              "    </tr>\n",
              "    <tr>\n",
              "      <th>107</th>\n",
              "      <td>116</td>\n",
              "      <td>1.0</td>\n",
              "    </tr>\n",
              "    <tr>\n",
              "      <th>108</th>\n",
              "      <td>98</td>\n",
              "      <td>1.0</td>\n",
              "    </tr>\n",
              "    <tr>\n",
              "      <th>109</th>\n",
              "      <td>73</td>\n",
              "      <td>1.0</td>\n",
              "    </tr>\n",
              "  </tbody>\n",
              "</table>\n",
              "<p>110 rows × 2 columns</p>\n",
              "</div>"
            ],
            "text/plain": [
              "     user_id  user_feature_1\n",
              "0         51           -55.0\n",
              "1         30          -192.0\n",
              "2         53           191.0\n",
              "3         64            63.0\n",
              "4         89           339.0\n",
              "..       ...             ...\n",
              "105       76             1.0\n",
              "106      105             0.0\n",
              "107      116             1.0\n",
              "108       98             1.0\n",
              "109       73             1.0\n",
              "\n",
              "[110 rows x 2 columns]"
            ]
          },
          "execution_count": 190,
          "metadata": {},
          "output_type": "execute_result"
        }
      ],
      "source": [
        "feature_df = pd.merge(user_data[['user_id']].drop_duplicates(), user_feature_df, on='user_id', how='left')\n",
        "\n",
        "        # Fill NaN values with 0 (users with no \"like\" engagements)\n",
        "feature_df['user_feature_1'].fillna(1, inplace=True)\n",
        "feature_df"
      ]
    },
    {
      "cell_type": "code",
      "execution_count": null,
      "metadata": {
        "id": "85RegVjfWtwe",
        "outputId": "afa4249f-54e4-4b15-ab7f-96a05ff6fa9e"
      },
      "outputs": [
        {
          "data": {
            "text/html": [
              "<div>\n",
              "<style scoped>\n",
              "    .dataframe tbody tr th:only-of-type {\n",
              "        vertical-align: middle;\n",
              "    }\n",
              "\n",
              "    .dataframe tbody tr th {\n",
              "        vertical-align: top;\n",
              "    }\n",
              "\n",
              "    .dataframe thead th {\n",
              "        text-align: right;\n",
              "    }\n",
              "</style>\n",
              "<table border=\"1\" class=\"dataframe\">\n",
              "  <thead>\n",
              "    <tr style=\"text-align: right;\">\n",
              "      <th></th>\n",
              "      <th>user_id</th>\n",
              "      <th>user_feature_1</th>\n",
              "      <th>user_feature_2</th>\n",
              "    </tr>\n",
              "  </thead>\n",
              "  <tbody>\n",
              "    <tr>\n",
              "      <th>0</th>\n",
              "      <td>51</td>\n",
              "      <td>-55.0</td>\n",
              "      <td>5601.212146</td>\n",
              "    </tr>\n",
              "    <tr>\n",
              "      <th>1</th>\n",
              "      <td>30</td>\n",
              "      <td>-192.0</td>\n",
              "      <td>36020.518703</td>\n",
              "    </tr>\n",
              "    <tr>\n",
              "      <th>2</th>\n",
              "      <td>53</td>\n",
              "      <td>191.0</td>\n",
              "      <td>28672.626283</td>\n",
              "    </tr>\n",
              "    <tr>\n",
              "      <th>3</th>\n",
              "      <td>64</td>\n",
              "      <td>63.0</td>\n",
              "      <td>16648.687984</td>\n",
              "    </tr>\n",
              "    <tr>\n",
              "      <th>4</th>\n",
              "      <td>89</td>\n",
              "      <td>339.0</td>\n",
              "      <td>3784.363016</td>\n",
              "    </tr>\n",
              "    <tr>\n",
              "      <th>...</th>\n",
              "      <td>...</td>\n",
              "      <td>...</td>\n",
              "      <td>...</td>\n",
              "    </tr>\n",
              "    <tr>\n",
              "      <th>105</th>\n",
              "      <td>76</td>\n",
              "      <td>1.0</td>\n",
              "      <td>13531.000000</td>\n",
              "    </tr>\n",
              "    <tr>\n",
              "      <th>106</th>\n",
              "      <td>105</td>\n",
              "      <td>0.0</td>\n",
              "      <td>2442.153846</td>\n",
              "    </tr>\n",
              "    <tr>\n",
              "      <th>107</th>\n",
              "      <td>116</td>\n",
              "      <td>1.0</td>\n",
              "      <td>366.000000</td>\n",
              "    </tr>\n",
              "    <tr>\n",
              "      <th>108</th>\n",
              "      <td>98</td>\n",
              "      <td>1.0</td>\n",
              "      <td>822.000000</td>\n",
              "    </tr>\n",
              "    <tr>\n",
              "      <th>109</th>\n",
              "      <td>73</td>\n",
              "      <td>1.0</td>\n",
              "      <td>18513.000000</td>\n",
              "    </tr>\n",
              "  </tbody>\n",
              "</table>\n",
              "<p>110 rows × 3 columns</p>\n",
              "</div>"
            ],
            "text/plain": [
              "     user_id  user_feature_1  user_feature_2\n",
              "0         51           -55.0     5601.212146\n",
              "1         30          -192.0    36020.518703\n",
              "2         53           191.0    28672.626283\n",
              "3         64            63.0    16648.687984\n",
              "4         89           339.0     3784.363016\n",
              "..       ...             ...             ...\n",
              "105       76             1.0    13531.000000\n",
              "106      105             0.0     2442.153846\n",
              "107      116             1.0      366.000000\n",
              "108       98             1.0      822.000000\n",
              "109       73             1.0    18513.000000\n",
              "\n",
              "[110 rows x 3 columns]"
            ]
          },
          "execution_count": 202,
          "metadata": {},
          "output_type": "execute_result"
        }
      ],
      "source": [
        "like_engagements = user_data[user_data['engagement_type'] == 'Like']\n",
        "user_feature_df = like_engagements.groupby('user_id')['engagement_value'].sum().reset_index()\n",
        "user_feature_df.rename(columns={'engagement_value': 'user_feature_1'}, inplace=True)\n",
        "feature_df_1 = pd.merge(user_data[['user_id']].drop_duplicates(), user_feature_df, on='user_id', how='left')\n",
        "\n",
        "# Fill NaN values with 0 (users with no \"like\" engagements)\n",
        "feature_df_1['user_feature_1'].fillna(1, inplace=True)\n",
        "\n",
        "\n",
        "engage_with_engagements = user_data[user_data['engagement_type'] == 'MillisecondsEngagedWith']\n",
        "mean_engage=engage_with_engagements[\"engagement_value\"].mean()\n",
        "engage_feature_df = engage_with_engagements.groupby('user_id')['engagement_value'].mean().reset_index()\n",
        "engage_feature_df.rename(columns={'engagement_value': 'user_feature_2'}, inplace=True)\n",
        "\n",
        "\n",
        "feature_df = pd.merge(feature_df_1,engage_feature_df , on='user_id', how='left')\n",
        "feature_df['user_feature_2'].fillna(mean_engage, inplace=True)\n",
        "feature_df"
      ]
    },
    {
      "cell_type": "code",
      "execution_count": null,
      "metadata": {
        "id": "d9n5POCHWtwe",
        "outputId": "ff594c36-c65e-47da-8aa9-d9af093ecb1f"
      },
      "outputs": [
        {
          "data": {
            "text/plain": [
              "31211.370137232316"
            ]
          },
          "execution_count": 201,
          "metadata": {},
          "output_type": "execute_result"
        }
      ],
      "source": [
        "engage_with_engagements[\"engagement_value\"].mean()"
      ]
    },
    {
      "cell_type": "code",
      "execution_count": null,
      "metadata": {
        "id": "8lTQFq8AWtwe"
      },
      "outputs": [],
      "source": [
        "def feature_generation_user(self) -> Tuple[pd.DataFrame, List[str], List[str]]:\n",
        "        \"\"\"Generates user features. Keep all the categorical variables as is,\n",
        "        since the one-hot encoding will be done by our own pipeline. Along with\n",
        "        the feature dataframe, you'll need to output lists of numberical features\n",
        "        and categorical features as well.\n",
        "\n",
        "        Returns\n",
        "          pd.DataFrame: User feature dataframe\n",
        "          List[str]: List of numerical features. E.g. ['feat_1', 'feat_3, ...]\n",
        "          List[str]: List of categorical features. E.g. ['feat_2', 'feat_4, ...]\n",
        "        \"\"\"\n",
        "        like_engagements = self.user_data[self.user_data['engagement_type'] == 'Like']\n",
        "        user_feature_df = like_engagements.groupby('user_id')['engagement_value'].sum().reset_index()\n",
        "        user_feature_df.rename(columns={'engagement_value': 'user_feature_1'}, inplace=True)\n",
        "        feature_df_1 = pd.merge(user_data[['user_id']].drop_duplicates(), user_feature_df, on='user_id', how='left')\n",
        "\n",
        "        # Fill NaN values with 0 (users with no \"like\" engagements)\n",
        "        feature_df_1['user_feature_1'].fillna(1, inplace=True)\n",
        "\n",
        "\n",
        "        engage_with_engagements = self.user_data[self.user_data['engagement_type'] == 'MillisecondsEngagedWith']\n",
        "        mean_engage=engage_with_engagements[\"engagement_value\"].mean()\n",
        "        engage_feature_df = engage_with_engagements.groupby('user_id')['engagement_value'].mean().reset_index()\n",
        "        engage_feature_df.rename(columns={'engagement_value': 'user_feature_2'}, inplace=True)\n",
        "\n",
        "\n",
        "        feature_df = pd.merge(feature_df_1,engage_feature_df , on='user_id', how='left')\n",
        "        feature_df['user_feature_2'].fillna(mean_engage, inplace=True)\n",
        "\n",
        "\n",
        "        return feature_df, ['user_feature_1', 'user_feature_2'], []"
      ]
    },
    {
      "cell_type": "code",
      "execution_count": null,
      "metadata": {
        "id": "X0OX7GRVWtwf"
      },
      "outputs": [],
      "source": []
    },
    {
      "cell_type": "markdown",
      "source": [
        "###GradientBoostingRegressor"
      ],
      "metadata": {
        "id": "9og5P11fSwru"
      }
    },
    {
      "cell_type": "code",
      "execution_count": null,
      "metadata": {
        "id": "UIeWBmLLej7z",
        "outputId": "808470a6-c4e5-41ab-8b3a-f5ce1d1a0d50"
      },
      "outputs": [
        {
          "name": "stdout",
          "output_type": "stream",
          "text": [
            "Accuracy for 'like': 0.769728992670871\n",
            "Accuracy for 'dislike': 0.8031361854440089\n",
            "Mean Squared Error for 'engage_time': 10851745196166.953\n"
          ]
        }
      ],
      "source": [
        "from sklearn.ensemble import RandomForestClassifier, GradientBoostingRegressor\n",
        "from sklearn.model_selection import train_test_split\n",
        "from sklearn.metrics import accuracy_score, mean_squared_error\n",
        "import pandas as pd\n",
        "import numpy as np\n",
        "import pickle\n",
        "\n",
        "# Assuming X_train and y_train are your feature and target variables\n",
        "# Split the data into training and testing sets\n",
        "X_train, X_test, y_train, y_test = train_test_split(X_train, y_train, test_size=0.2, random_state=42)\n",
        "\n",
        "# Model for 'like'\n",
        "model_like = RandomForestClassifier(random_state=42)\n",
        "model_like.fit(X_train, y_train['like'])\n",
        "like_predictions = model_like.predict(X_test)\n",
        "like_accuracy = accuracy_score(y_test['like'], like_predictions)\n",
        "print(f\"Accuracy for 'like': {like_accuracy}\")\n",
        "\n",
        "# Model for 'dislike' (assuming binary classification)\n",
        "model_dislike = RandomForestClassifier(random_state=42)\n",
        "model_dislike.fit(X_train, y_train['dislike'])\n",
        "dislike_predictions = model_dislike.predict(X_test)\n",
        "dislike_accuracy = accuracy_score(y_test['dislike'], dislike_predictions)\n",
        "print(f\"Accuracy for 'dislike': {dislike_accuracy}\")\n",
        "\n",
        "# Model for 'engage_time'\n",
        "model_engtime = GradientBoostingRegressor(random_state=42)\n",
        "model_engtime.fit(X_train, y_train['engage_time'])\n",
        "engtime_predictions = model_engtime.predict(X_test)\n",
        "engtime_mse = mean_squared_error(y_test['engage_time'], engtime_predictions)\n",
        "print(f\"Mean Squared Error for 'engage_time': {engtime_mse}\")\n",
        "\n",
        "# Save the models to a file\n",
        "model = {\n",
        "    'like': model_like,\n",
        "    'dislike': model_dislike,\n",
        "    'engage_time': model_engtime\n",
        "}\n",
        "\n",
        "with open('sample_data/model.pkl', 'wb') as f:\n",
        "    pickle.dump(model, f)"
      ]
    },
    {
      "cell_type": "code",
      "execution_count": null,
      "metadata": {
        "id": "2HRfuD_5ej7z",
        "outputId": "094fd0bb-10e1-4de6-dd68-7b7d934b282f"
      },
      "outputs": [
        {
          "data": {
            "text/plain": [
              "{'like': {'precision': 0.6779661016949152, 'recall': 0.40404040404040403},\n",
              " 'dislike': {'precision': 0.6764705882352942, 'recall': 0.3026315789473684},\n",
              " 'engage_time': {'rmse': 100246.68841042921}}"
            ]
          },
          "execution_count": 25,
          "metadata": {},
          "output_type": "execute_result"
        }
      ],
      "source": [
        "thres_like = 0.5\n",
        "thres_dislike = 0.5\n",
        "evaluate(y_true, y_pred, thres_like, thres_dislike)"
      ]
    },
    {
      "cell_type": "code",
      "source": [],
      "metadata": {
        "id": "PBJU_078Sf1I"
      },
      "execution_count": null,
      "outputs": []
    },
    {
      "cell_type": "code",
      "source": [],
      "metadata": {
        "id": "wFghsBwrSf4p"
      },
      "execution_count": null,
      "outputs": []
    },
    {
      "cell_type": "markdown",
      "source": [
        "###Decision Tree Regressor"
      ],
      "metadata": {
        "id": "_JDZNGQXSqgs"
      }
    },
    {
      "cell_type": "code",
      "execution_count": null,
      "metadata": {
        "id": "nLdCNoiiej7z",
        "outputId": "d03c4458-6035-4efb-b7df-9f5cab791805"
      },
      "outputs": [
        {
          "name": "stdout",
          "output_type": "stream",
          "text": [
            "Accuracy for 'like': 0.769728992670871\n",
            "Accuracy for 'dislike': 0.8031361854440089\n",
            "Mean Squared Error for 'engage_time': 10891565781167.445\n"
          ]
        }
      ],
      "source": [
        "from sklearn.ensemble import RandomForestClassifier\n",
        "from sklearn.tree import DecisionTreeRegressor\n",
        "from sklearn.model_selection import train_test_split\n",
        "from sklearn.metrics import accuracy_score, mean_squared_error\n",
        "import pandas as pd\n",
        "import numpy as np\n",
        "import pickle\n",
        "\n",
        "# Assuming X_train and y_train are your feature and target variables\n",
        "# Split the data into training and testing sets\n",
        "X_train, X_test, y_train, y_test = train_test_split(X_train, y_train, test_size=0.2, random_state=42)\n",
        "\n",
        "# Model for 'like'\n",
        "model_like = RandomForestClassifier(random_state=42)\n",
        "model_like.fit(X_train, y_train['like'])\n",
        "like_predictions = model_like.predict(X_test)\n",
        "like_accuracy = accuracy_score(y_test['like'], like_predictions)\n",
        "print(f\"Accuracy for 'like': {like_accuracy}\")\n",
        "\n",
        "# Model for 'dislike' (assuming binary classification)\n",
        "model_dislike = RandomForestClassifier(random_state=42)\n",
        "model_dislike.fit(X_train, y_train['dislike'])\n",
        "dislike_predictions = model_dislike.predict(X_test)\n",
        "dislike_accuracy = accuracy_score(y_test['dislike'], dislike_predictions)\n",
        "print(f\"Accuracy for 'dislike': {dislike_accuracy}\")\n",
        "\n",
        "# Model for 'engage_time' using Decision Tree Regressor\n",
        "model_engtime = DecisionTreeRegressor(random_state=42)\n",
        "model_engtime.fit(X_train, y_train['engage_time'])\n",
        "engtime_predictions = model_engtime.predict(X_test)\n",
        "engtime_mse = mean_squared_error(y_test['engage_time'], engtime_predictions)\n",
        "print(f\"Mean Squared Error for 'engage_time': {engtime_mse}\")\n",
        "\n",
        "# Save the models to a file\n",
        "model = {\n",
        "    'like': model_like,\n",
        "    'dislike': model_dislike,\n",
        "    'engage_time': model_engtime\n",
        "}\n",
        "\n",
        "with open('sample_data/model.pkl', 'wb') as f:\n",
        "    pickle.dump(model, f)"
      ]
    },
    {
      "cell_type": "code",
      "execution_count": null,
      "metadata": {
        "id": "q5mhOlh8ej70",
        "outputId": "c915af53-f96e-4c7e-fb7b-73d23aadf04a"
      },
      "outputs": [
        {
          "data": {
            "text/plain": [
              "{'like': {'precision': 0.7741935483870968, 'recall': 0.45714285714285713},\n",
              " 'dislike': {'precision': 0.6136363636363636, 'recall': 0.30337078651685395},\n",
              " 'engage_time': {'rmse': 299971.85326031374}}"
            ]
          },
          "execution_count": 31,
          "metadata": {},
          "output_type": "execute_result"
        }
      ],
      "source": [
        "thres_like = 0.5\n",
        "thres_dislike = 0.5\n",
        "evaluate(y_true, y_pred, thres_like, thres_dislike)"
      ]
    },
    {
      "cell_type": "code",
      "source": [],
      "metadata": {
        "id": "7YRjG1uDgdBS"
      },
      "execution_count": null,
      "outputs": []
    },
    {
      "cell_type": "code",
      "source": [
        "y_train['engage_time'].describe()"
      ],
      "metadata": {
        "colab": {
          "base_uri": "https://localhost:8080/"
        },
        "id": "BpSYygOoeYLv",
        "outputId": "50da0632-3f8e-4c85-842a-74be4dbb262b"
      },
      "execution_count": null,
      "outputs": [
        {
          "output_type": "execute_result",
          "data": {
            "text/plain": [
              "count    1.466710e+05\n",
              "mean     4.547468e+04\n",
              "std      2.659561e+06\n",
              "min      0.000000e+00\n",
              "25%      7.360000e+02\n",
              "50%      1.517000e+03\n",
              "75%      2.814000e+03\n",
              "max      5.136718e+08\n",
              "Name: engage_time, dtype: float64"
            ]
          },
          "metadata": {},
          "execution_count": 73
        }
      ]
    }
  ],
  "metadata": {
    "colab": {
      "provenance": []
    },
    "kernelspec": {
      "display_name": "Python 3 (ipykernel)",
      "language": "python",
      "name": "python3"
    },
    "language_info": {
      "codemirror_mode": {
        "name": "ipython",
        "version": 3
      },
      "file_extension": ".py",
      "mimetype": "text/x-python",
      "name": "python",
      "nbconvert_exporter": "python",
      "pygments_lexer": "ipython3",
      "version": "3.11.4"
    }
  },
  "nbformat": 4,
  "nbformat_minor": 0
}