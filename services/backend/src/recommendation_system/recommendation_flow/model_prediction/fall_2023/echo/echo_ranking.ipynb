{
  "nbformat": 4,
  "nbformat_minor": 0,
  "metadata": {
    "colab": {
      "provenance": []
    },
    "kernelspec": {
      "name": "python3",
      "display_name": "Python 3"
    },
    "language_info": {
      "name": "python"
    }
  },
  "cells": [
    {
      "cell_type": "code",
      "source": [
        "import os\n",
        "from google.colab import drive"
      ],
      "metadata": {
        "id": "H-GleYLClxJb",
        "colab": {
          "base_uri": "https://localhost:8080/"
        },
        "outputId": "b637e020-a716-4b0a-aec8-0ee85a869b8d"
      },
      "execution_count": 2,
      "outputs": [
        {
          "output_type": "stream",
          "name": "stdout",
          "text": [
            "Mounted at /content/drive\n",
            "Collecting ipdb\n",
            "  Downloading ipdb-0.13.13-py3-none-any.whl (12 kB)\n",
            "Requirement already satisfied: ipython>=7.31.1 in /usr/local/lib/python3.10/dist-packages (from ipdb) (7.34.0)\n",
            "Requirement already satisfied: tomli in /usr/local/lib/python3.10/dist-packages (from ipdb) (2.0.1)\n",
            "Requirement already satisfied: decorator in /usr/local/lib/python3.10/dist-packages (from ipdb) (4.4.2)\n",
            "Requirement already satisfied: setuptools>=18.5 in /usr/local/lib/python3.10/dist-packages (from ipython>=7.31.1->ipdb) (67.7.2)\n",
            "Collecting jedi>=0.16 (from ipython>=7.31.1->ipdb)\n",
            "  Downloading jedi-0.19.1-py2.py3-none-any.whl (1.6 MB)\n",
            "\u001b[2K     \u001b[90m━━━━━━━━━━━━━━━━━━━━━━━━━━━━━━━━━━━━━━━━\u001b[0m \u001b[32m1.6/1.6 MB\u001b[0m \u001b[31m9.7 MB/s\u001b[0m eta \u001b[36m0:00:00\u001b[0m\n",
            "\u001b[?25hRequirement already satisfied: pickleshare in /usr/local/lib/python3.10/dist-packages (from ipython>=7.31.1->ipdb) (0.7.5)\n",
            "Requirement already satisfied: traitlets>=4.2 in /usr/local/lib/python3.10/dist-packages (from ipython>=7.31.1->ipdb) (5.7.1)\n",
            "Requirement already satisfied: prompt-toolkit!=3.0.0,!=3.0.1,<3.1.0,>=2.0.0 in /usr/local/lib/python3.10/dist-packages (from ipython>=7.31.1->ipdb) (3.0.41)\n",
            "Requirement already satisfied: pygments in /usr/local/lib/python3.10/dist-packages (from ipython>=7.31.1->ipdb) (2.16.1)\n",
            "Requirement already satisfied: backcall in /usr/local/lib/python3.10/dist-packages (from ipython>=7.31.1->ipdb) (0.2.0)\n",
            "Requirement already satisfied: matplotlib-inline in /usr/local/lib/python3.10/dist-packages (from ipython>=7.31.1->ipdb) (0.1.6)\n",
            "Requirement already satisfied: pexpect>4.3 in /usr/local/lib/python3.10/dist-packages (from ipython>=7.31.1->ipdb) (4.9.0)\n",
            "Requirement already satisfied: parso<0.9.0,>=0.8.3 in /usr/local/lib/python3.10/dist-packages (from jedi>=0.16->ipython>=7.31.1->ipdb) (0.8.3)\n",
            "Requirement already satisfied: ptyprocess>=0.5 in /usr/local/lib/python3.10/dist-packages (from pexpect>4.3->ipython>=7.31.1->ipdb) (0.7.0)\n",
            "Requirement already satisfied: wcwidth in /usr/local/lib/python3.10/dist-packages (from prompt-toolkit!=3.0.0,!=3.0.1,<3.1.0,>=2.0.0->ipython>=7.31.1->ipdb) (0.2.12)\n",
            "Installing collected packages: jedi, ipdb\n",
            "Successfully installed ipdb-0.13.13 jedi-0.19.1\n"
          ]
        }
      ]
    },
    {
      "cell_type": "markdown",
      "source": [
        "# **Guidelines**\n",
        "\n",
        "## Process Overview\n",
        "The ranking step includes 2 sub-processes:\n",
        "1. Scoring: In this step, you will train a scoring model to predict 3 types of score; probability of like, probability of dislike, and engagement time.\n",
        "2. Ranking: In this step, you will create a ranking policy to rank the items based on the output from previous step.\n",
        "\n",
        "\n",
        "## Your Task\n",
        "\n",
        "### 1. Modify `DataCollectorExample()`\n",
        "also rename it to `DataCollector{Team}()` juts like previous assignment. All of the functions in `DataCollectorExample()` need to be modified (They're the ones with `raise NotImplementedError(\"you need to implement this\")` in `DataCollector()`). The explaination of each function includes in their own docstring with example code.\n",
        "\n",
        "Some important points worth noting are:\n",
        "1. for `.feature_generation_user()` and `.feature_generation_content()`, you DO NOT need to apply one-hot encoding or scaler since this process will be done by our pipeline using via `.postprocess_feature()`, which will also save the `Postprocessor()` class as a pickle file to be used for testing and inference step. You will need to output nsames of numberical features and categorical features along with the feature dataframe.\n",
        "2. When engineering target variables with `.get_Ys()`, you'll need to output 3 columns of target variables (`'like'`, `'dislike'`, `'engage_time'`). Be careful of how you create each target variable. What happen if a user like an item then change their mind and dislike it? What if a user see the same content twice, what would be the engagement time?\n",
        "3. Be creative of how you would create your ranking policy in `.rank()`. You have 3 scores that your ranking can be based on. Which score(s) would you optimise your ranking for? How would you trade-off one with others? Can you rank base on all 3 of them, if so, how would you combine them? You can also join the score dataframe with `self.generated_content_metadata` to use the original content features as part of ranking.\n",
        "\n",
        "### 2. Train Model\n",
        "Use the cell `Training: Create your own training` to train your model. Feel free to select any model you like. In the example, I use train 1 model for each target variable, resulting in 3 models. If you can find a model that can produce 3 output values (e.g. Neural Network), feel free to do so.\n",
        "\n",
        "Some important points worth noting are:\n",
        "1. Make sure you save the model to **ONLY 1 file**. Even if you make 3 models, put them into a list or dictionary and save the whole object to 1 file.\n",
        "2. Depending on your modelling approach, you'll need your own way to load the model to make predictions. Thus, modify the `.load_model()` in `DataCollectorExample()` reflect this.\n",
        "3. Once you train your model, you can use the example evaluation cells to evaluate your model. There's no need to change anything about the evaluation except the thresholds variable. These thresholds decide at what probability we'll consider the prediction as like and dislike. **NOTE** that this only test your scoring model, not your ranking policy. Testing for ranking policy is much more complicated since we're not only optimizing the number of likes and thus cannot be done offline.\n",
        "\n",
        "\n",
        "# Test Your Model\n",
        "Once you have the scoring model and ranking policy, you can use the `Inference Example` cell to run your pipeline and see the output of recommended items from your model.\n",
        "\n",
        "# Submit your work\n",
        "\n",
        "1. Put `postprocessor.pkl` and your model file into `Columbia-E4579/services/backend/src/recommendation_system/recommendation_flow/model_prediction` folder on your branch. Make sure to rename them as `{team}_postprocessor.pkl` and `{team}_model.pkl` (E.g. `alpha_postprocessor.pkl` and `alpha_model.pkl`). Both `postprocessor.pkl` and your model file will be saved in `sampled_data` in your COlab work space. Since this workspace is cleared everytime you restart the Colab, please also save the postprocessor and model files on your local machine if you want to keep them.\n",
        "\n",
        "2. Download your Colab as `.ipynb` file, rename it as `{team}_ranking.ipynb` (e.g. `alpha_ranking.ipynb`), and also place it in `Columbia-E4579/services/backend/src/recommendation_system/recommendation_flow/model_prediction` folder on your branch.\n",
        "\n",
        "You'll then merge your branch with these files into Professor's branch.\n"
      ],
      "metadata": {
        "id": "6NC29c_YJNFJ"
      }
    },
    {
      "cell_type": "markdown",
      "source": [
        "# Imports"
      ],
      "metadata": {
        "id": "KBiX1FEG1nXj"
      }
    },
    {
      "cell_type": "code",
      "execution_count": 3,
      "metadata": {
        "id": "NkuqgSAjwlnY"
      },
      "outputs": [],
      "source": [
        "import pandas as pd\n",
        "import numpy as np\n",
        "from tqdm import tqdm\n",
        "\n",
        "from sklearn.linear_model import LogisticRegression\n",
        "from sklearn.model_selection import train_test_split"
      ]
    },
    {
      "cell_type": "markdown",
      "source": [
        "# DataCollector - Do Not Modify"
      ],
      "metadata": {
        "id": "pSXqZ70o1omv"
      }
    },
    {
      "cell_type": "code",
      "source": [
        "from sqlalchemy.sql.schema import ScalarElementColumnDefault\n",
        "import pandas as pd\n",
        "from sklearn.preprocessing import OneHotEncoder\n",
        "from sklearn.preprocessing import StandardScaler, Normalizer\n",
        "import numpy as np\n",
        "from typing import Tuple, List, Optional\n",
        "import pickle\n",
        "\n",
        "\n",
        "class Postprocessor:\n",
        "\n",
        "    def __init__(self,\n",
        "                 numberical_features: List[str],\n",
        "                 categorical_features: List[str]):\n",
        "\n",
        "        self.numberical_features = numberical_features\n",
        "        self.categorical_features = categorical_features\n",
        "\n",
        "        self.scaler = StandardScaler()\n",
        "        self.encoder = OneHotEncoder(sparse_output=False, handle_unknown='ignore')\n",
        "        self.encode_cols = []\n",
        "\n",
        "    def fit(self, features_df: pd.DataFrame):\n",
        "\n",
        "        self.scaler.fit(features_df[self.numberical_features])\n",
        "\n",
        "        if len(self.categorical_features) > 0:\n",
        "            self.encoder.fit(features_df[self.categorical_features])\n",
        "            self.encode_cols = list(self.encoder.get_feature_names_out())\n",
        "\n",
        "    def transform(self, features_df: pd.DataFrame) -> pd.DataFrame:\n",
        "\n",
        "        features_df[self.numberical_features] = self.scaler.transform(features_df[self.numberical_features])\n",
        "\n",
        "        if len(self.categorical_features) > 0:\n",
        "            features_df[self.encode_cols] = self.encoder.transform(features_df[self.categorical_features])\n",
        "\n",
        "        return features_df\n",
        "\n",
        "    def fit_transform(self, features_df: pd.DataFrame) -> pd.DataFrame:\n",
        "\n",
        "        self.fit(features_df)\n",
        "        features_df = self.transform(features_df)\n",
        "\n",
        "        return features_df\n",
        "\n",
        "\n",
        "class DataCollector:\n",
        "\n",
        "    def __init__(self,\n",
        "                 engagement_path=None,\n",
        "                 content_meta_path=None):\n",
        "\n",
        "\n",
        "        self.engagement_path = engagement_path\n",
        "        self.content_meta_path = content_meta_path\n",
        "\n",
        "        self.objects_dir = 'sample_data'  #TODO change this\n",
        "        self.numerical_features = []\n",
        "        self.categorical_features = []\n",
        "\n",
        "        self.postprocessor = None\n",
        "        self.model = None\n",
        "\n",
        "    def feature_generation_user(self) -> Tuple[pd.DataFrame, List[str], List[str]]:\n",
        "        \"\"\"\n",
        "        Returns\n",
        "          pd.DataFrame: User feature dataframe\n",
        "          List[str]: List of numerical features. E.g. ['feat_1', 'feat_3, ...]\n",
        "          List[str]: List of categorical features. E.g. ['feat_2', 'feat_4, ...]\n",
        "        \"\"\"\n",
        "        raise NotImplementedError(\"you need to implement this\")\n",
        "\n",
        "    def feature_generation_content(self) -> Tuple[pd.DataFrame, List[str], List[str]]:\n",
        "        \"\"\"\n",
        "        Returns\n",
        "          pd.DataFrame: Content feature dataframe\n",
        "          List[str]: List of numerical features. E.g. ['feat_1', 'feat_3, ...]\n",
        "          List[str]: List of categorical features. E.g. ['feat_2', 'feat_4, ...]\n",
        "        \"\"\"\n",
        "        raise NotImplementedError(\"you need to implement this\")\n",
        "\n",
        "    def get_Ys(self) -> pd.DataFrame:\n",
        "        \"\"\"Engineers taget variable.\n",
        "        Args\n",
        "            data (pd.DataFrame): Engagement data.\n",
        "        Returns\n",
        "            pd.DataFrame: Dataframe of 5 columns;\n",
        "                'user_id', 'content_id', 'like', 'dislike', 'engage_time'\n",
        "        \"\"\"\n",
        "\n",
        "        raise NotImplementedError(\"you need to implement this\")\n",
        "\n",
        "    def feature_generation(self, is_train=False) -> pd.DataFrame:\n",
        "        \"\"\"Generate features. If is_train, will generate features for user-content pairs\n",
        "        exist in self.engagement_data. Else, will generate features for\n",
        "        all possible user-content pairs.\n",
        "\n",
        "        Args:\n",
        "            is_train (bool): Whether in training mode.\n",
        "\n",
        "        Returns:\n",
        "            pd.DataFrame: Feature dataframe.\n",
        "\n",
        "        \"\"\"\n",
        "        content_feature_df, content_num_feats, content_cat_feats = self.feature_generation_content()\n",
        "        user_feature_df, user_num_feats, user_cat_feats = self.feature_generation_user()\n",
        "        self.user_feature_df = user_feature_df\n",
        "        self.content_feature_df = content_feature_df\n",
        "\n",
        "        self.numerical_features = user_num_feats + content_num_feats\n",
        "        self.categorical_features = user_cat_feats + content_cat_feats\n",
        "\n",
        "        if is_train:\n",
        "            interaction_pairs = self.engagement_data[\n",
        "                ['user_id', 'content_id']].drop_duplicates()\n",
        "\n",
        "        else:\n",
        "            all_users = self.engagement_data['user_id'].drop_duplicates().tolist()\n",
        "            all_contents = self.generated_content_metadata['content_id'].drop_duplicates().tolist()\n",
        "\n",
        "            interaction_pairs = [(u, c) for u in all_users for c in all_contents]\n",
        "            interaction_pairs = pd.DataFrame(interaction_pairs, columns=['user_id', 'content_id'])\n",
        "\n",
        "        features_df = pd.merge(interaction_pairs,\n",
        "                               user_feature_df, on='user_id', how='left')\n",
        "\n",
        "        features_df = pd.merge(features_df,\n",
        "                               content_feature_df, on='content_id', how='left')\n",
        "\n",
        "        return features_df\n",
        "\n",
        "\n",
        "    def get_engagement_data(self, user_id=None, content_ids=None):\n",
        "\n",
        "        if self.engagement_path is None:\n",
        "            #TODO: read from database\n",
        "            pass\n",
        "        else:\n",
        "            df = pd.read_csv(self.engagement_path, sep=\"\\t\")\n",
        "\n",
        "        if content_ids is not None:\n",
        "            df = df[df['content_id'].isin(content_ids)]\n",
        "\n",
        "        if user_id is not None:\n",
        "            df = df[df['user_id'] == user_id]\n",
        "\n",
        "        return df\n",
        "\n",
        "    def get_generated_content_metadata(self, content_ids=None):\n",
        "\n",
        "        if self.content_meta_path is None:\n",
        "            #TODO: read from database\n",
        "            pass\n",
        "        else:\n",
        "            df = pd.read_csv(self.content_meta_path, sep=\"\\t\")\n",
        "\n",
        "        if content_ids is not None:\n",
        "            df = df[df['content_id'].isin(content_ids)]\n",
        "\n",
        "        return df\n",
        "\n",
        "    def get_user_data(self, user_id=None):\n",
        "\n",
        "        if self.engagement_path is None:\n",
        "            #TODO: read from database\n",
        "            pass\n",
        "        else:\n",
        "            df = pd.read_csv(self.engagement_path, sep=\"\\t\")\n",
        "\n",
        "        if user_id is not None:\n",
        "            df = df[df['user_id'] == user_id]\n",
        "\n",
        "        return df\n",
        "\n",
        "    def gather_data(self, user_id, content_ids):\n",
        "        self.engagement_data = self.get_engagement_data(user_id, content_ids)\n",
        "        self.generated_content_metadata = self.get_generated_content_metadata(content_ids)\n",
        "        self.user_data = self.get_user_data(user_id)\n",
        "\n",
        "        if len(self.engagement_data) == 0:\n",
        "            raise Exception(\"either user_id or content_ids leads to empty engagement_data\")\n",
        "\n",
        "        if len(self.generated_content_metadata) == 0:\n",
        "            raise Exception(\"content_ids leads to empty generated_content_metadata\")\n",
        "\n",
        "        if len(self.user_data) == 0:\n",
        "            raise Exception(\"user_id leads to empty user_data\")\n",
        "\n",
        "    def postprocess_feature(self, features_df: pd.DataFrame, is_train=False) -> pd.DataFrame:\n",
        "        \"\"\"Applied postprocessings (one-hot encoding & scaler) to the feature dataframe.\n",
        "\n",
        "        Args:\n",
        "            features_df (pd.DataFrame): Input feature dataframe.\n",
        "            is_train (bool): Whether in training mode. If True, will fit the\n",
        "                Postprocessor() and save to a pickle file. Else, will load the\n",
        "                saved Postprocessor() and use it.\n",
        "\n",
        "        Returns:\n",
        "            pd.DataFrame: Output feature dataframe.\n",
        "        \"\"\"\n",
        "\n",
        "        if is_train:\n",
        "            self.postprocessor = Postprocessor(self.numerical_features, self.categorical_features)\n",
        "            features_df = self.postprocessor.fit_transform(features_df)\n",
        "            self.save_postprocessor()\n",
        "\n",
        "        else:\n",
        "            self.postprocessor = self.load_postprocessor()\n",
        "            features_df = self.postprocessor.transform(features_df)\n",
        "\n",
        "        self.all_numeric_features = self.numerical_features + self.postprocessor.encode_cols\n",
        "\n",
        "\n",
        "        return features_df\n",
        "\n",
        "\n",
        "    def gen_model_input(self,\n",
        "                        user_id: Optional[int] = None,\n",
        "                        content_ids: Optional[list] = None,\n",
        "                        is_train: bool = False) -> pd.DataFrame:\n",
        "        \"\"\"Generates input data (X) for model.\n",
        "\n",
        "        Args:\n",
        "            user_id (Optional[int]): User ID to generate features for.\n",
        "                If None, will generate features for all available users in self.engagement_data.\n",
        "            content_ids (Optional[list]): List of content ID to generate features for.\n",
        "                If None, will generate features for all available contents in self.engagement_data.\n",
        "            is_train (bool): Whether in training mode. If True, will generate\n",
        "                features for user-content pairs exist in self.engagement_data.\n",
        "                Else, will generate features for all possible user-content pairs.\n",
        "\n",
        "        Returns:\n",
        "            pd.DataFrame: Dataframe of features with 2-level index of ('user_id', 'content_id').\n",
        "        \"\"\"\n",
        "\n",
        "        self.gather_data(user_id, content_ids)\n",
        "        features_df = self.feature_generation(is_train)\n",
        "        features_df = self.postprocess_feature(features_df, is_train)\n",
        "\n",
        "        X = features_df.set_index(['user_id', 'content_id'])\n",
        "        X = X[self.all_numeric_features]\n",
        "        X = X.fillna(0)\n",
        "\n",
        "        return X\n",
        "\n",
        "\n",
        "    def gen_target_vars(self,\n",
        "                        engagement_data: Optional[pd.DataFrame] = None\n",
        "                        ) -> pd.DataFrame:\n",
        "        \"\"\"Wrapper to generate target variables.\n",
        "\n",
        "        Args:\n",
        "            engagement_data (Optional[pd.DataFrame]): Engagement data. If None,\n",
        "                will use self.engagement_data which is loaded for training.\n",
        "                For testing, parse in the engagement_data for testing.\n",
        "\n",
        "        Returns:\n",
        "            pd.DataFrame: Dataframe of 3 columns; 'like', 'dislike', 'engage_time'\n",
        "                and 2-level index of ('user_id', 'content_id').\n",
        "        \"\"\"\n",
        "\n",
        "        if engagement_data is None:\n",
        "            engagement_data = self.engagement_data\n",
        "\n",
        "        target_df = self.get_Ys(engagement_data)\n",
        "\n",
        "        return target_df.set_index(['user_id', 'content_id'])\n",
        "\n",
        "\n",
        "    def save_postprocessor(self):\n",
        "\n",
        "        with open(f'{self.objects_dir}/postprocessor.pkl', 'wb') as f:\n",
        "            pickle.dump(self.postprocessor, f)\n",
        "\n",
        "    def load_postprocessor(self):\n",
        "\n",
        "        with open(f'{self.objects_dir}/postprocessor.pkl', 'rb') as f:\n",
        "            return pickle.load(f)\n",
        "\n",
        "    def load_model(self):\n",
        "        raise NotImplementedError(\"you need to implement this\")\n",
        "\n",
        "    def predict(self, X) -> Tuple[list, list, list]:\n",
        "        raise NotImplementedError(\"you need to implement this\")\n",
        "\n",
        "    def rank(self, pred_score):\n",
        "        raise NotImplementedError(\"you need to implement this\")\n",
        "\n",
        "    def score(self,\n",
        "              user_id: Optional[int] = None,\n",
        "              content_ids: Optional[list] = None) -> pd.DataFrame:\n",
        "        \"\"\"Predict the scores.\n",
        "\n",
        "        Args:\n",
        "            user_id (Optional[int]): User ID to generate features for.\n",
        "                If None, will generate features for all available users in self.engagement_data.\n",
        "            content_ids (Optional[list]): List of content ID to generate features for.\n",
        "                If None, will generate features for all available contents in self.engagement_data.\n",
        "\n",
        "        Returns:\n",
        "            pd.DataFrame: Predicted score dataframe with 2-level index of (user_id, content_id).\n",
        "                The dataframe also comes with the original content metadata which also\n",
        "                can be used for ranking.\n",
        "        \"\"\"\n",
        "\n",
        "        X = self.gen_model_input(user_id, content_ids, is_train=False)\n",
        "\n",
        "        pred_like, pred_dislike, pred_engtime = self.predict(X)\n",
        "\n",
        "        pred_df = pd.DataFrame(np.array([pred_like, pred_dislike, pred_engtime]).T,\n",
        "                               index=X.index,\n",
        "                               columns=['like', 'dislike', 'engage_time']).reset_index()\n",
        "\n",
        "        pred_df = pd.merge(self.generated_content_metadata,\n",
        "                           pred_df,\n",
        "                           how='right',\n",
        "                           on='content_id')\n",
        "\n",
        "        return pred_df.set_index(['user_id', 'content_id'])\n",
        "\n",
        "    def recommend(self, user_id, content_ids=None, top_k=20):\n",
        "\n",
        "        score_df = self.score(user_id, content_ids).reset_index()\n",
        "\n",
        "        rank = self.rank(score_df, user_id, content_ids)\n",
        "\n",
        "        return rank[:top_k]\n",
        "\n",
        "\n"
      ],
      "metadata": {
        "id": "4CMmBKnre2Hv"
      },
      "execution_count": 4,
      "outputs": []
    },
    {
      "cell_type": "code",
      "source": [
        "from sklearn.metrics import recall_score\n",
        "from sklearn.metrics import precision_score\n",
        "from sklearn.metrics import mean_squared_error\n",
        "\n",
        "\n",
        "def evaluate(true_df: pd.DataFrame,\n",
        "             pred_df: pd.DataFrame,\n",
        "             thres_like: float = 0.5,\n",
        "             thres_dislike: float = 0.5\n",
        "             ) -> dict:\n",
        "\n",
        "    \"\"\"Compute evaluation metrics.\n",
        "\n",
        "    Args:\n",
        "        true_df (pd.DataFrame): Dataframe of true target variables.\n",
        "        pred_df (pd.DataFrame): Dataframe of predicted target variables.\n",
        "        thres_like (float): Probability threshold to consider a prediction as like.\n",
        "        thres_dislike (float): Probability threshold to consider as a prediction dislike.\n",
        "\n",
        "    Returns:\n",
        "        dict: Dictionary of metrics.\n",
        "    \"\"\"\n",
        "\n",
        "    true_df = true_df.reset_index()\n",
        "    pred_df = pred_df[['like', 'dislike', 'engage_time']].reset_index()\n",
        "\n",
        "    pred_df['like'] = (pred_df['like'] > thres_like).astype(int)\n",
        "    pred_df['dislike'] = (pred_df['dislike'] > thres_dislike).astype(int)\n",
        "\n",
        "    actual_user_content = true_df[['user_id', 'content_id']]\n",
        "    pred_user_content = pred_df[['user_id', 'content_id']]\n",
        "\n",
        "    common_user_content = pd.merge(actual_user_content,\n",
        "                                   pred_user_content,\n",
        "                                   how='inner',\n",
        "                                   on=['user_id', 'content_id'])\n",
        "\n",
        "    true_df = pd.merge(common_user_content,\n",
        "                         true_df,\n",
        "                         how='left',\n",
        "                         on=['user_id', 'content_id'])\n",
        "\n",
        "\n",
        "    pred_df = pd.merge(common_user_content,\n",
        "                       pred_df,\n",
        "                       how='left',\n",
        "                       on=['user_id', 'content_id'])\n",
        "\n",
        "\n",
        "    metrics = {}\n",
        "    for col in ['like', 'dislike', 'engage_time']:\n",
        "        metrics[col] = {}\n",
        "\n",
        "        if col == 'engage_time':\n",
        "            metrics[col]['rmse'] = np.sqrt(mean_squared_error(true_df[col], pred_df[col]))\n",
        "        else:\n",
        "            metrics[col]['precision'] = precision_score(true_df[col], pred_df[col])\n",
        "            metrics[col]['recall'] = recall_score(true_df[col], pred_df[col])\n",
        "\n",
        "    return metrics"
      ],
      "metadata": {
        "id": "hLGG-J71qkzp"
      },
      "execution_count": 5,
      "outputs": []
    },
    {
      "cell_type": "markdown",
      "source": [
        "# Your Implementation - Example Here, Must Modify"
      ],
      "metadata": {
        "id": "DA9SBLao1s4f"
      }
    },
    {
      "cell_type": "code",
      "source": [
        "from collections import defaultdict, deque\n",
        "TOP_ARTIST_STYLES = 30\n",
        "TOP_SOURCES = 30\n",
        "TOP_CONTENT = 100\n",
        "\n",
        "class DataCollectorExample(DataCollector):\n",
        "\n",
        "    def feature_generation_user(self) -> Tuple[pd.DataFrame, List[str], List[str]]:\n",
        "        \"\"\"Generates user features. Keep all the categorical variables as is,\n",
        "        since the one-hot encoding will be done by our own pipeline. Along with\n",
        "        the feature dataframe, you'll need to output lists of numberical features\n",
        "        and categorical features as well.\n",
        "\n",
        "        Returns\n",
        "          pd.DataFrame: User feature dataframe\n",
        "          List[str]: List of numerical features. E.g. ['feat_1', 'feat_3, ...]\n",
        "          List[str]: List of categorical features. E.g. ['feat_2', 'feat_4, ...]\n",
        "        \"\"\"\n",
        "\n",
        "        df = self.user_data.drop_duplicates()\n",
        "        top_n_content = [81576, 112990, 115079, 29667, 116285, 119163, 121340, 98660, 112723, 112718, 100600, 123413, 84509, 124241, 85954, 91035, 96308, 107234, 124197, 129220, 97383, 32858, 101707, 83115, 82523, 91267, 112943, 115042, 85369, 86154, 96136, 113087, 125842, 118824, 115641, 124704, 87170, 124089, 55132, 95154, 92391, 94627, 95448, 96061, 118478, 95420, 90800, 85672, 76810, 79978, 73723, 85261, 112433, 85495, 102788, 121219, 124002, 37896, 31280, 89381, 118564, 132295, 31278, 101773, 130301, 111201, 97499, 97627, 108116, 87998, 62821, 86786, 86593, 118721, 87250, 33369, 91588, 95370, 121439, 124954, 85949, 123170, 124374, 129087, 58001, 79847, 90687, 101576, 90213, 104604, 106588, 115754, 117136, 117157, 127128, 104392, 86289, 91755, 116519, 85093]\n",
        "        user_vector_dict = defaultdict(lambda: {\n",
        "            'millisecond_engaged_vector': np.zeros(len(top_n_content)),\n",
        "            'like_vector': np.zeros(len(top_n_content)),\n",
        "            'dislike_vector': np.zeros(len(top_n_content))\n",
        "        })\n",
        "\n",
        "        def aggregate_engagement(group):\n",
        "            millisecond_engagement_sum = group.loc[group['engagement_type'] != 'Like', 'engagement_value'].sum()\n",
        "            likes_count = group.loc[(group['engagement_type'] == 'Like') & (group['engagement_value'] == 1)].shape[0]\n",
        "            dislikes_count = group.loc[(group['engagement_type'] == 'Like') & (group['engagement_value'] == -1)].shape[0]\n",
        "\n",
        "            return pd.Series({\n",
        "                'millisecond_engagement_sum': millisecond_engagement_sum,\n",
        "                'likes_count': likes_count,\n",
        "                'dislikes_count': dislikes_count\n",
        "            })\n",
        "        for user_id in df['user_id'].unique():\n",
        "          user_vector_dict[user_id]['millisecond_engaged_vector']=np.zeros(len(top_n_content))\n",
        "          user_vector_dict[user_id]['like_vector']=np.zeros(len(top_n_content))\n",
        "          user_vector_dict[user_id]['dislike_vector']=np.zeros(len(top_n_content))\n",
        "        if len(df[df['content_id'].isin(top_n_content)]) != 0:\n",
        "          engagement_aggregate = df[df['content_id'].isin(top_n_content)].groupby(['user_id', 'content_id']).apply(aggregate_engagement).reset_index()\n",
        "          for _, row in engagement_aggregate.iterrows():\n",
        "              user_id = row['user_id']\n",
        "              content_id = row['content_id']\n",
        "              idx = top_n_content.index(content_id)\n",
        "\n",
        "              user_vector_dict[user_id]['millisecond_engaged_vector'][idx] = row['millisecond_engagement_sum']\n",
        "              user_vector_dict[user_id]['like_vector'][idx] = row['likes_count']\n",
        "              user_vector_dict[user_id]['dislike_vector'][idx] = row['dislikes_count']\n",
        "\n",
        "        user_vector_df = pd.DataFrame.from_dict(user_vector_dict, orient='index')\n",
        "        millisecond_columns = [f\"ms_engaged_{i}\" for i in range(TOP_CONTENT)]\n",
        "        like_columns = [f\"like_vector_{i}\" for i in range(TOP_CONTENT)]\n",
        "        dislike_columns = [f\"dislike_vector_{i}\" for i in range(TOP_CONTENT)]\n",
        "\n",
        "        user_vector_df1 = pd.DataFrame(user_vector_df['millisecond_engaged_vector'].tolist(), index=user_vector_df.index, columns=millisecond_columns)\n",
        "        user_vector_df2 = pd.DataFrame(user_vector_df['like_vector'].tolist(), index=user_vector_df.index, columns=like_columns)\n",
        "        user_vector_df3 = pd.DataFrame(user_vector_df['dislike_vector'].tolist(), index=user_vector_df.index, columns=dislike_columns)\n",
        "\n",
        "        feature_df = pd.concat([user_vector_df1, user_vector_df2, user_vector_df3], axis=1)\n",
        "        feature_df = feature_df.reset_index().rename(columns={'index': 'user_id'})\n",
        "\n",
        "        return feature_df, millisecond_columns + like_columns + dislike_columns, []\n",
        "\n",
        "    def feature_generation_content(self) -> Tuple[pd.DataFrame, List[str], List[str]]:\n",
        "        \"\"\"Generates content features. Keep all the categorical variables as is,\n",
        "        since the one-hot encoding will be done by our own pipeline. Along with\n",
        "        the feature dataframe, you'll need to output lists of numberical features\n",
        "        and categorical features as well.\n",
        "\n",
        "        Returns\n",
        "          pd.DataFrame: User feature dataframe\n",
        "          List[str]: List of numerical features. E.g. ['feat_1', 'feat_3, ...]\n",
        "          List[str]: List of categorical features. E.g. ['feat_2', 'feat_4, ...]\n",
        "        \"\"\"\n",
        "\n",
        "        feature_df = self.generated_content_metadata.drop_duplicates(subset='content_id', keep='first')\n",
        "\n",
        "        top_artist_styles = ['medieval', 'anime', 'studio', 'shepard_fairey', 'oil_on_canvas', 'unreal_engine', 'edward_hopper', 'keith_haring', 'detailed_portrait', 'van_gogh', 'jackson_pollock', 'juan_gris', 'scifi', 'ibrahim_el_salahi', 'ma_jir_bo', 'franck_slama', 'jean-michel_basquiat', 'kerry_james_marshall', 'marta_minujín', 'face_and_lighting', 'salvador_dali', 'leonardo_da_vinci', 'takashi_murakami', 'gta_v', 'laura_wheeler_waring', 'louise bourgeois', 'movie: Dances-with-Wolves', 'movie: Interstellar', 'movie: Indiana-Jones-IV', 'movie: Gravity']\n",
        "        top_sources = ['human_prompts', 'r/EarthPorn', 'r/Showerthoughts', 'r/scifi', 'r/pics', 'r/Damnthatsinteresting', 'r/educationalgifs', 'r/MadeMeSmile', 'r/SimplePrompts', 'r/RetroFuturism', 'r/AccidentalArt', 'r/Cyberpunk', 'Dances-with-Wolves', 'Buddha', 'Interstellar', 'Napoleon Hill', 'Abraham Lincoln', 'r/oddlysatisfying', 'Indiana-Jones-IV', 'Gravity', 'Winston Churchill', 'Ralph Waldo Emerson', 'r/whoahdude', 'Confucius', 'Batman', 'Johann Wolfgang von Goethe', 'Tombstone', 'Godfather', 'Legend-of-Darkness', 'Ni-vu-ni-connu']\n",
        "\n",
        "        feature_df['artist_style'] = feature_df['artist_style'].apply(lambda x: x if x in top_artist_styles else 'other')\n",
        "        feature_df['source'] = feature_df['source'].apply(lambda x: x if x in top_sources else 'other')\n",
        "\n",
        "        return feature_df, ['guidance_scale', 'num_inference_steps'], ['artist_style','source']\n",
        "\n",
        "    def get_Ys(self, engagement_data) -> pd.DataFrame:\n",
        "        \"\"\"Engineers taget variable that you are predicting.\n",
        "        Args\n",
        "            engagement_data (pd.DataFrame): Engagement data.\n",
        "        Returns\n",
        "            pd.DataFrame: Dataframe of 5 columns;\n",
        "                'user_id', 'content_id', 'like', 'dislike', 'engage_time'\n",
        "        \"\"\"\n",
        "\n",
        "        target_df = engagement_data[['user_id', 'content_id']].drop_duplicates().copy()\n",
        "        target_df = target_df.sort_values(by = ['user_id', 'content_id'], ascending=[True, True])\n",
        "\n",
        "        engage_time_df = engagement_data[engagement_data['engagement_type']!='Like']\n",
        "        engage_time_df = engage_time_df.sort_values(by=['user_id', 'content_id', 'engagement_value'], ascending=[True, True, False])\n",
        "        engage_time_df = engage_time_df.drop_duplicates(subset=['user_id','content_id'], keep='first')[['user_id','content_id','engagement_value']]\n",
        "        engage_time_df = engage_time_df.rename(columns = {'engagement_value':'engage_time'})\n",
        "\n",
        "        like_dislike = engagement_data[engagement_data['engagement_type']=='Like']\n",
        "        like_dislike_sorted = like_dislike.sort_values(by=['user_id', 'content_id', 'created_date'], ascending=[True, True, False])\n",
        "        like_dislike_recent = like_dislike_sorted.drop_duplicates(subset=['user_id','content_id'], keep='first')[['user_id','content_id','engagement_value']]\n",
        "        like_dislike_recent['like'] = (like_dislike_recent['engagement_value'] > 0).astype(int)\n",
        "        like_dislike_recent['dislike'] = (like_dislike_recent['engagement_value'] < 0).astype(int)\n",
        "        like_dislike_recent.drop(['engagement_value'],axis = 1,inplace = True)\n",
        "\n",
        "        target_df = pd.merge(target_df,engage_time_df,on = ['user_id','content_id'],how='left')\n",
        "        target_df = pd.merge(target_df,like_dislike_recent,on = ['user_id','content_id'],how='left')\n",
        "        target_df.fillna(0,inplace = True)\n",
        "\n",
        "        return target_df[['user_id','content_id','like','dislike','engage_time']]\n",
        "\n",
        "    def predict(self, X: pd.DataFrame) -> Tuple[list, list, list]:\n",
        "        \"\"\"Predicts the 3 target variables by using the model that you trained.\n",
        "        Make sure you load the model properly.\n",
        "\n",
        "        Args:\n",
        "            X (pd.DataFrame): Feature dataframe with 2-level index of (user_id, content_id)\n",
        "\n",
        "        Returns:\n",
        "            (list, list, list): (predicted prbability of like,\n",
        "                                 predicted probability of dislike,\n",
        "                                 predicted engagement time)\n",
        "        \"\"\"\n",
        "\n",
        "        model = self.load_model()\n",
        "\n",
        "        def sigmoid(x):\n",
        "          return torch.exp(x)/(1+torch.exp(x))\n",
        "        model.eval()\n",
        "        with torch.no_grad():\n",
        "            preds = model(torch.Tensor(X.to_numpy()))\n",
        "\n",
        "        return sigmoid(preds[:,0]).flatten().numpy(), sigmoid(preds[:,1]).flatten().numpy(), torch.exp(preds[:,2]).flatten().numpy()\n",
        "\n",
        "    def rank(self,\n",
        "             score_df: pd.DataFrame,\n",
        "             user_id: int,\n",
        "             content_ids: Optional[list] = None) -> list:\n",
        "\n",
        "        \"\"\"Ranks the items for a given user based on your own criteria.\n",
        "\n",
        "        Args:\n",
        "            score_df (pd.DataFrame): Predicted-score Dataframe of columns;\n",
        "                'user_id', 'content_id', 'like', 'dislike', 'engage_time', and\n",
        "                also columns for content metadata.\n",
        "            user_id (int): User ID to rank the items for.\n",
        "            content_ids (Optional[list]): List of content ids to be considered for ranking.\n",
        "        \"\"\"\n",
        "\n",
        "        user_df = score_df[score_df['user_id'] == user_id]\n",
        "\n",
        "        # Standardize the engagement time (z-score normalization)\n",
        "        mean_engage_time = user_df['engage_time'].mean()\n",
        "        std_engage_time = user_df['engage_time'].std()\n",
        "        user_df['standardized_engage_time'] = (user_df['engage_time'] - mean_engage_time) / std_engage_time\n",
        "\n",
        "        # Cap the standardized values at -2 and 2, then normalize to range 0 to 0.5\n",
        "        user_df['standardized_engage_time'] = user_df['standardized_engage_time'].clip(lower=-2, upper=2)\n",
        "        user_df['standardized_engage_time'] = (user_df['standardized_engage_time'] + 2) / 8\n",
        "\n",
        "        # Calculate a composite score considering likes, dislikes, and capped standardized engagement time\n",
        "        user_df['composite_score'] = user_df['like'] - user_df['dislike'] - user_df['standardized_engage_time']\n",
        "\n",
        "        # Sort by composite score in descending order\n",
        "        ranked_pred = user_df.sort_values('composite_score', ascending=False)\n",
        "        duplicate_ids = deque()\n",
        "        pred_content_ids = ranked_pred['content_id'].tolist()\n",
        "\n",
        "        result_ids = [pred_content_ids[0]]\n",
        "\n",
        "        for i in range(1,len(pred_content_ids)):\n",
        "\n",
        "          while duplicate_ids:\n",
        "            current_style = score_df.loc[score_df['content_id'] == duplicate_ids[0], \"artist_style\"].iloc[0]\n",
        "            prev_style = score_df.loc[score_df['content_id'] == result_ids[-1], \"artist_style\"].iloc[0]\n",
        "            if current_style != prev_style:\n",
        "              id = duplicate_ids.popleft()\n",
        "              result_ids.append(id)\n",
        "            else:\n",
        "              break\n",
        "\n",
        "          current_id = pred_content_ids[i]\n",
        "          current_style = score_df.loc[score_df['content_id'] == current_id, \"artist_style\"].iloc[0]\n",
        "          prev_style = score_df.loc[score_df['content_id'] == result_ids[-1], \"artist_style\"].iloc[0]\n",
        "\n",
        "          if current_style == prev_style:\n",
        "            duplicate_ids.append(current_id)\n",
        "            continue\n",
        "          result_ids.append(current_id)\n",
        "        return result_ids\n",
        "\n",
        "    def load_model(self) -> object:\n",
        "        \"\"\"Loads your model. Since different ML frameworks requires different\n",
        "        ways to load the model. Change this to reflect your choice of framework.\n",
        "\n",
        "        Returns:\n",
        "            object: Model object\n",
        "        \"\"\"\n",
        "\n",
        "        with open(f'{self.objects_dir}/model.pkl', 'rb') as f:\n",
        "            return pickle.load(f)"
      ],
      "metadata": {
        "id": "JPKXbKCze2mF"
      },
      "execution_count": 15,
      "outputs": []
    },
    {
      "cell_type": "markdown",
      "source": [
        "# Training"
      ],
      "metadata": {
        "id": "LMev-xwJ11d5"
      }
    },
    {
      "cell_type": "markdown",
      "source": [
        "## Train Test Split"
      ],
      "metadata": {
        "id": "Ep6q_8-fH0Na"
      }
    },
    {
      "cell_type": "code",
      "source": [
        "engagement_data = pd.read_csv('sample_data/engagement.csv', sep=\"\\t\")\n",
        "content_meta = pd.read_csv('sample_data/generated_content_metadata.csv', sep=\"\\t\")\n",
        "\n",
        "interactions = engagement_data[\n",
        "    ['user_id', 'content_id']].drop_duplicates()\n",
        "\n",
        "interactions_train, interactions_test = train_test_split(interactions, test_size=0.2, random_state=42)\n",
        "\n",
        "engagement_train = pd.merge(interactions_train, engagement_data, how='left', on=['user_id', 'content_id'])\n",
        "engagement_test = pd.merge(interactions_test, engagement_data, how='left', on=['user_id', 'content_id'])\n",
        "\n",
        "engagement_train.to_csv('sample_data/engagement_train.csv', sep=\"\\t\")\n",
        "engagement_test.to_csv('sample_data/engagement_test.csv', sep=\"\\t\")"
      ],
      "metadata": {
        "id": "rOIw6gAeDVSp"
      },
      "execution_count": 7,
      "outputs": []
    },
    {
      "cell_type": "code",
      "source": [
        "#@title get training data\n",
        "data_collector = DataCollectorExample(\n",
        "    engagement_path='sample_data/engagement_train.csv',\n",
        "    content_meta_path='sample_data/generated_content_metadata.csv'\n",
        "    )\n",
        "\n",
        "X_train = data_collector.gen_model_input(is_train=True)\n",
        "y_train = data_collector.gen_target_vars()\n",
        "\n",
        "# ensure that each row of y_train corresponds to the correct user-content in X_train\n",
        "y_train = y_train.reindex(index=X_train.index)"
      ],
      "metadata": {
        "id": "yvMO4tMXe9io"
      },
      "execution_count": 16,
      "outputs": []
    },
    {
      "cell_type": "markdown",
      "source": [
        "## Training: Create your own training\n",
        "Make sure you save the model somewhere so you can send the model file to the professor later."
      ],
      "metadata": {
        "id": "Vw2A1Ha_HwbZ"
      }
    },
    {
      "cell_type": "code",
      "source": [
        "import torch\n",
        "import torch.nn as nn\n",
        "class RankingModel(nn.Module):\n",
        "    def __init__(self, input_dim, hidden_dim):\n",
        "        super(RankingModel, self).__init__()\n",
        "        self.output_layer = nn.Sequential(\n",
        "            nn.Linear(input_dim, hidden_dim*2),\n",
        "            nn.ReLU(),\n",
        "            nn.Linear(hidden_dim * 2, hidden_dim),\n",
        "            nn.ReLU(),\n",
        "            nn.Linear(hidden_dim, 3)\n",
        "        )\n",
        "\n",
        "    def forward(self, x):\n",
        "        prediction = self.output_layer(x.float())\n",
        "\n",
        "        return prediction\n",
        "\n",
        "user_dim = TOP_CONTENT*3\n",
        "content_dim = 4+TOP_ARTIST_STYLES+TOP_SOURCES\n",
        "hidden_dim = 256\n",
        "model = RankingModel(user_dim + content_dim, hidden_dim)"
      ],
      "metadata": {
        "id": "G0qdC9f2UhgO"
      },
      "execution_count": 9,
      "outputs": []
    },
    {
      "cell_type": "code",
      "source": [
        "from tqdm import tqdm\n",
        "import matplotlib.pyplot as plt\n",
        "from torch.optim.lr_scheduler import StepLR\n",
        "import torch.optim as optim\n",
        "from torch.utils.data import DataLoader, TensorDataset\n",
        "\n",
        "def loss_function(outputs, targets):\n",
        "    if outputs.shape != targets.shape:\n",
        "        raise ValueError(\"Shape of outputs and targets must be the same\")\n",
        "\n",
        "    time_loss = nn.BCEWithLogitsLoss()(outputs[:,-1:], targets[:,-1:])\n",
        "    like_dislike_loss = nn.BCEWithLogitsLoss()(outputs[:,:-1], targets[:,:-1])\n",
        "\n",
        "    return time_loss + like_dislike_loss\n",
        "\n",
        "\n",
        "train_data, val_data, train_labels, val_labels = train_test_split(\n",
        "    X_train, y_train[['like','dislike','engage_time']], test_size=0.2, random_state=28\n",
        ")\n",
        "\n",
        "train_dataset = TensorDataset(torch.from_numpy(train_data.to_numpy()), torch.from_numpy(train_labels.to_numpy()))\n",
        "val_dataset = TensorDataset(torch.from_numpy(val_data.to_numpy()), torch.from_numpy(val_labels.to_numpy()))\n",
        "\n",
        "batch_size = 256\n",
        "train_loader = DataLoader(train_dataset, batch_size=batch_size, shuffle=True)\n",
        "val_loader = DataLoader(val_dataset, batch_size=batch_size, shuffle=False)\n",
        "\n",
        "# Optimizer\n",
        "optimizer = optim.Adam(model.parameters(), lr=0.001, betas=(0.9, 0.999), eps=1e-08, weight_decay=0, amsgrad=False)\n",
        "scheduler = StepLR(optimizer, step_size=5, gamma=0.8)\n",
        "\n",
        "for epoch in range(10):\n",
        "    model.train()\n",
        "    for batch in tqdm(train_loader, desc=f'Training {epoch + 1}: '):\n",
        "        features_batch, targets_batch = batch\n",
        "        targets_batch = targets_batch.float()\n",
        "        targets_batch[:,-1:] = targets_batch[:,-1:] / (1+targets_batch[:,-1:]) # transform the target\n",
        "        optimizer.zero_grad()\n",
        "        outputs = model(features_batch)\n",
        "        loss = loss_function(outputs, targets_batch)\n",
        "        loss.backward()\n",
        "        optimizer.step()\n",
        "    print(f'Epoch {epoch+1}, Last Batch Single Loss: {loss.item()}')\n",
        "\n",
        "    # Validation\n",
        "    model.eval()\n",
        "    val_loss = 0.0\n",
        "    with torch.no_grad():\n",
        "        for batch in tqdm(val_loader, desc=f'Validation {epoch + 1}: '):\n",
        "            features_batch, targets_batch = batch\n",
        "            targets_batch = targets_batch.float()\n",
        "            targets_batch[:,-1] = targets_batch[:,-1] / (1+targets_batch[:,-1])\n",
        "            outputs = model(features_batch)\n",
        "            val_loss = loss_function(outputs, targets_batch)\n",
        "            val_loss += loss.item()\n",
        "\n",
        "\n",
        "        val_loss /= len(val_loader)\n",
        "        print(f'Validation - Epoch {epoch+1}, Loss: {val_loss}')\n",
        "    print(f'Current Learning Rate: {optimizer.param_groups[0][\"lr\"]}')\n",
        "    scheduler.step()\n",
        "\n",
        "with open('sample_data/model.pkl','wb') as f:\n",
        "    pickle.dump(model,f)"
      ],
      "metadata": {
        "id": "4d2w2uWdg8ch",
        "colab": {
          "base_uri": "https://localhost:8080/"
        },
        "outputId": "d3ea858c-ae4c-436f-dca4-2d76a3af1310"
      },
      "execution_count": 10,
      "outputs": [
        {
          "output_type": "stream",
          "name": "stderr",
          "text": [
            "Training 1: 100%|██████████| 459/459 [00:09<00:00, 47.52it/s]\n"
          ]
        },
        {
          "output_type": "stream",
          "name": "stdout",
          "text": [
            "Epoch 1, Last Batch Single Loss: 0.6099881529808044\n"
          ]
        },
        {
          "output_type": "stream",
          "name": "stderr",
          "text": [
            "Validation 1: 100%|██████████| 115/115 [00:00<00:00, 134.56it/s]\n"
          ]
        },
        {
          "output_type": "stream",
          "name": "stdout",
          "text": [
            "Validation - Epoch 1, Loss: 0.011358970776200294\n",
            "Current Learning Rate: 0.001\n"
          ]
        },
        {
          "output_type": "stream",
          "name": "stderr",
          "text": [
            "Training 2: 100%|██████████| 459/459 [00:08<00:00, 56.93it/s]\n"
          ]
        },
        {
          "output_type": "stream",
          "name": "stdout",
          "text": [
            "Epoch 2, Last Batch Single Loss: 0.6168396472930908\n"
          ]
        },
        {
          "output_type": "stream",
          "name": "stderr",
          "text": [
            "Validation 2: 100%|██████████| 115/115 [00:00<00:00, 144.01it/s]\n"
          ]
        },
        {
          "output_type": "stream",
          "name": "stdout",
          "text": [
            "Validation - Epoch 2, Loss: 0.011394057422876358\n",
            "Current Learning Rate: 0.001\n"
          ]
        },
        {
          "output_type": "stream",
          "name": "stderr",
          "text": [
            "Training 3: 100%|██████████| 459/459 [00:09<00:00, 46.83it/s]\n"
          ]
        },
        {
          "output_type": "stream",
          "name": "stdout",
          "text": [
            "Epoch 3, Last Batch Single Loss: 0.7433809041976929\n"
          ]
        },
        {
          "output_type": "stream",
          "name": "stderr",
          "text": [
            "Validation 3: 100%|██████████| 115/115 [00:00<00:00, 134.02it/s]\n"
          ]
        },
        {
          "output_type": "stream",
          "name": "stdout",
          "text": [
            "Validation - Epoch 3, Loss: 0.012377525679767132\n",
            "Current Learning Rate: 0.001\n"
          ]
        },
        {
          "output_type": "stream",
          "name": "stderr",
          "text": [
            "Training 4: 100%|██████████| 459/459 [00:08<00:00, 55.71it/s]\n"
          ]
        },
        {
          "output_type": "stream",
          "name": "stdout",
          "text": [
            "Epoch 4, Last Batch Single Loss: 0.6205496788024902\n"
          ]
        },
        {
          "output_type": "stream",
          "name": "stderr",
          "text": [
            "Validation 4: 100%|██████████| 115/115 [00:01<00:00, 89.83it/s]\n"
          ]
        },
        {
          "output_type": "stream",
          "name": "stdout",
          "text": [
            "Validation - Epoch 4, Loss: 0.011322316713631153\n",
            "Current Learning Rate: 0.001\n"
          ]
        },
        {
          "output_type": "stream",
          "name": "stderr",
          "text": [
            "Training 5: 100%|██████████| 459/459 [00:11<00:00, 41.55it/s]\n"
          ]
        },
        {
          "output_type": "stream",
          "name": "stdout",
          "text": [
            "Epoch 5, Last Batch Single Loss: 0.6873550415039062\n"
          ]
        },
        {
          "output_type": "stream",
          "name": "stderr",
          "text": [
            "Validation 5: 100%|██████████| 115/115 [00:00<00:00, 141.79it/s]\n"
          ]
        },
        {
          "output_type": "stream",
          "name": "stdout",
          "text": [
            "Validation - Epoch 5, Loss: 0.011904319748282433\n",
            "Current Learning Rate: 0.001\n"
          ]
        },
        {
          "output_type": "stream",
          "name": "stderr",
          "text": [
            "Training 6: 100%|██████████| 459/459 [00:09<00:00, 46.15it/s]\n"
          ]
        },
        {
          "output_type": "stream",
          "name": "stdout",
          "text": [
            "Epoch 6, Last Batch Single Loss: 0.621544599533081\n"
          ]
        },
        {
          "output_type": "stream",
          "name": "stderr",
          "text": [
            "Validation 6: 100%|██████████| 115/115 [00:00<00:00, 139.82it/s]\n"
          ]
        },
        {
          "output_type": "stream",
          "name": "stdout",
          "text": [
            "Validation - Epoch 6, Loss: 0.011197648011147976\n",
            "Current Learning Rate: 0.0008\n"
          ]
        },
        {
          "output_type": "stream",
          "name": "stderr",
          "text": [
            "Training 7: 100%|██████████| 459/459 [00:08<00:00, 55.59it/s]\n"
          ]
        },
        {
          "output_type": "stream",
          "name": "stdout",
          "text": [
            "Epoch 7, Last Batch Single Loss: 0.6065956354141235\n"
          ]
        },
        {
          "output_type": "stream",
          "name": "stderr",
          "text": [
            "Validation 7: 100%|██████████| 115/115 [00:01<00:00, 90.18it/s]\n"
          ]
        },
        {
          "output_type": "stream",
          "name": "stdout",
          "text": [
            "Validation - Epoch 7, Loss: 0.011237352155148983\n",
            "Current Learning Rate: 0.0008\n"
          ]
        },
        {
          "output_type": "stream",
          "name": "stderr",
          "text": [
            "Training 8: 100%|██████████| 459/459 [00:09<00:00, 47.08it/s]\n"
          ]
        },
        {
          "output_type": "stream",
          "name": "stdout",
          "text": [
            "Epoch 8, Last Batch Single Loss: 0.6002206802368164\n"
          ]
        },
        {
          "output_type": "stream",
          "name": "stderr",
          "text": [
            "Validation 8: 100%|██████████| 115/115 [00:01<00:00, 106.67it/s]\n"
          ]
        },
        {
          "output_type": "stream",
          "name": "stdout",
          "text": [
            "Validation - Epoch 8, Loss: 0.01106829009950161\n",
            "Current Learning Rate: 0.0008\n"
          ]
        },
        {
          "output_type": "stream",
          "name": "stderr",
          "text": [
            "Training 9: 100%|██████████| 459/459 [00:12<00:00, 38.13it/s]\n"
          ]
        },
        {
          "output_type": "stream",
          "name": "stdout",
          "text": [
            "Epoch 9, Last Batch Single Loss: 0.6787991523742676\n"
          ]
        },
        {
          "output_type": "stream",
          "name": "stderr",
          "text": [
            "Validation 9: 100%|██████████| 115/115 [00:00<00:00, 149.01it/s]\n"
          ]
        },
        {
          "output_type": "stream",
          "name": "stdout",
          "text": [
            "Validation - Epoch 9, Loss: 0.011730130761861801\n",
            "Current Learning Rate: 0.0008\n"
          ]
        },
        {
          "output_type": "stream",
          "name": "stderr",
          "text": [
            "Training 10: 100%|██████████| 459/459 [00:07<00:00, 57.98it/s]\n"
          ]
        },
        {
          "output_type": "stream",
          "name": "stdout",
          "text": [
            "Epoch 10, Last Batch Single Loss: 0.5917190313339233\n"
          ]
        },
        {
          "output_type": "stream",
          "name": "stderr",
          "text": [
            "Validation 10: 100%|██████████| 115/115 [00:01<00:00, 98.49it/s]\n"
          ]
        },
        {
          "output_type": "stream",
          "name": "stdout",
          "text": [
            "Validation - Epoch 10, Loss: 0.01099639106541872\n",
            "Current Learning Rate: 0.0008\n"
          ]
        }
      ]
    },
    {
      "cell_type": "markdown",
      "source": [
        "# Evaluation"
      ],
      "metadata": {
        "id": "xHQoFOGdIOm_"
      }
    },
    {
      "cell_type": "code",
      "source": [
        "# Simulates contents filtered from previous stage.\n",
        "# Feel free to change this to reflect your previous stage.\n",
        "\n",
        "sample_contents = content_meta['content_id'].sample(frac=0.01)"
      ],
      "metadata": {
        "id": "oxZ6qbDwGXRp"
      },
      "execution_count": 11,
      "outputs": []
    },
    {
      "cell_type": "code",
      "source": [
        "# Get true target variables\n",
        "y_true = data_collector.gen_target_vars(engagement_test)\n",
        "\n",
        "# Make predictions\n",
        "y_pred = data_collector.score(content_ids = sample_contents)"
      ],
      "metadata": {
        "id": "XwBbNw4I08ah"
      },
      "execution_count": 12,
      "outputs": []
    },
    {
      "cell_type": "code",
      "source": [
        "thres_like = 0.5\n",
        "thres_dislike = 0.5\n",
        "evaluate(y_true, y_pred, thres_like, thres_dislike)"
      ],
      "metadata": {
        "colab": {
          "base_uri": "https://localhost:8080/"
        },
        "id": "R7WmMuMc5C_K",
        "outputId": "a511e738-b24d-4831-a37d-1ae5836aeac6"
      },
      "execution_count": 13,
      "outputs": [
        {
          "output_type": "execute_result",
          "data": {
            "text/plain": [
              "{'like': {'precision': 0.6595744680851063, 'recall': 0.34444444444444444},\n",
              " 'dislike': {'precision': 0.6666666666666666, 'recall': 0.3595505617977528},\n",
              " 'engage_time': {'rmse': 204389.4167832767}}"
            ]
          },
          "metadata": {},
          "execution_count": 13
        }
      ]
    },
    {
      "cell_type": "markdown",
      "source": [
        "# Inference Example"
      ],
      "metadata": {
        "id": "IVqi5AsJBBKq"
      }
    },
    {
      "cell_type": "code",
      "source": [
        "sample_contents = content_meta['content_id'].sample(frac=0.01)  # simulated contents filtered from previous stage\n",
        "\n",
        "\n",
        "data_collector = DataCollectorExample(\n",
        "    engagement_path='sample_data/engagement_train.csv',  # will be None in real production\n",
        "    content_meta_path='sample_data/generated_content_metadata.csv'  # will be None in real production\n",
        "    )\n",
        "\n",
        "recs = data_collector.recommend(user_id=8, content_ids=sample_contents, top_k=20)"
      ],
      "metadata": {
        "id": "7Bq4NJDP93om"
      },
      "execution_count": 17,
      "outputs": []
    },
    {
      "cell_type": "code",
      "source": [
        "recs"
      ],
      "metadata": {
        "colab": {
          "base_uri": "https://localhost:8080/"
        },
        "id": "cUZs7nqjBfY1",
        "outputId": "8ada2f2d-d29c-41cc-a407-d0b6b6ea8316"
      },
      "execution_count": 18,
      "outputs": [
        {
          "output_type": "execute_result",
          "data": {
            "text/plain": [
              "[111018,\n",
              " 81834,\n",
              " 120209,\n",
              " 81773,\n",
              " 124867,\n",
              " 112453,\n",
              " 123110,\n",
              " 83543,\n",
              " 79740,\n",
              " 83568,\n",
              " 114831,\n",
              " 124788,\n",
              " 128384,\n",
              " 81627,\n",
              " 126306,\n",
              " 121133,\n",
              " 127912,\n",
              " 111929,\n",
              " 128043,\n",
              " 66015]"
            ]
          },
          "metadata": {},
          "execution_count": 18
        }
      ]
    },
    {
      "cell_type": "code",
      "source": [
        "artist_styles = []\n",
        "for i in range(len(recs)):\n",
        "    artist_styles.append(content_meta[content_meta['content_id'] == recs[i]][\"artist_style\"])\n",
        "print(artist_styles)"
      ],
      "metadata": {
        "id": "CCm2QqrYQINz",
        "colab": {
          "base_uri": "https://localhost:8080/"
        },
        "outputId": "1a395350-4a82-4e38-b587-c1a7f868620b"
      },
      "execution_count": 19,
      "outputs": [
        {
          "output_type": "stream",
          "name": "stdout",
          "text": [
            "[82420    van_gogh\n",
            "Name: artist_style, dtype: object, 53236    franck_slama\n",
            "Name: artist_style, dtype: object, 91611    takashi_murakami\n",
            "Name: artist_style, dtype: object, 53175    franck_slama\n",
            "Name: artist_style, dtype: object, 96269    takashi_murakami\n",
            "Name: artist_style, dtype: object, 83855    leonardo_da_vinci\n",
            "Name: artist_style, dtype: object, 94512    jean-michel_basquiat\n",
            "Name: artist_style, dtype: object, 54945    keith_haring\n",
            "Name: artist_style, dtype: object, 51142    jackson_pollock\n",
            "Name: artist_style, dtype: object, 54970    keith_haring\n",
            "Name: artist_style, dtype: object, 86233    leonardo_da_vinci\n",
            "Name: artist_style, dtype: object, 96190    jean-michel_basquiat\n",
            "Name: artist_style, dtype: object, 99786    van_gogh\n",
            "Name: artist_style, dtype: object, 53029    franck_slama\n",
            "Name: artist_style, dtype: object, 97708    van_gogh\n",
            "Name: artist_style, dtype: object, 92535    jean-michel_basquiat\n",
            "Name: artist_style, dtype: object, 99314    van_gogh\n",
            "Name: artist_style, dtype: object, 83331    ibrahim_el_salahi\n",
            "Name: artist_style, dtype: object, 99445    van_gogh\n",
            "Name: artist_style, dtype: object, 37417    movie: Blade-Runner\n",
            "Name: artist_style, dtype: object]\n"
          ]
        }
      ]
    }
  ]
}